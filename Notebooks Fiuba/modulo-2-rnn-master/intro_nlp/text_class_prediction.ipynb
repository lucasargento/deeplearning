{
 "cells": [
  {
   "cell_type": "markdown",
   "id": "e7e7f0a8-2dae-4777-8216-95e750621a70",
   "metadata": {},
   "source": [
    "## Prediciendo categorías en base a títulos"
   ]
  },
  {
   "cell_type": "markdown",
   "id": "104a18bf-3259-4cc2-bc1e-2558bb085b51",
   "metadata": {},
   "source": [
    "**Objetivo:**\n",
    "    \n",
    "Replicar sistema categorizador de productos de Mercado Libre, utilizando redes neuronales recurrentes.\n",
    "\n",
    "**¿Por qué es importante un sistema así en un e-commerce?**\n",
    "\n",
    "- Mejor sistema de búsqueda.\n",
    "- Mayor confianza del usuario (permite completar mas atributos del producto de manera automática).\n",
    "- Sistemas de recomendación más eficientes.\n",
    "- Tomar acciones sobre una agrupación determinada de productos."
   ]
  },
  {
   "cell_type": "markdown",
   "id": "81a1eb10-cf3a-4583-be6b-0e907dd8f793",
   "metadata": {
    "tags": []
   },
   "source": [
    "<img src=\"images/meli_vender.png\" alt=\"drawing\" width=\"700\"/>"
   ]
  },
  {
   "cell_type": "markdown",
   "id": "40b22a76-6e4f-48bb-bc17-5c130c98adba",
   "metadata": {},
   "source": [
    "### Categorizador de dominios de Mercado Libre"
   ]
  },
  {
   "cell_type": "markdown",
   "id": "c0e299d5-2853-48f9-8f2c-1c74f845171d",
   "metadata": {},
   "source": [
    "**Documentación API Mercado Libre:**\n",
    "    \n",
    "https://developers.mercadolibre.com.ar/es_ar/categorias-y-atributos#Categorias"
   ]
  },
  {
   "cell_type": "code",
   "execution_count": 42,
   "id": "96b6f6ff-74d7-463b-8a05-2cbf5f7d045f",
   "metadata": {},
   "outputs": [],
   "source": [
    "import http.client\n",
    "from urllib.parse import quote_plus"
   ]
  },
  {
   "cell_type": "code",
   "execution_count": 43,
   "id": "f270bc96-ae59-45db-baa1-adfda68cab5c",
   "metadata": {},
   "outputs": [],
   "source": [
    "conn = http.client.HTTPSConnection(\"api.mercadolibre.com\")"
   ]
  },
  {
   "cell_type": "code",
   "execution_count": 45,
   "id": "fadd3f55-95dc-47ab-a393-736cc75ea3a1",
   "metadata": {},
   "outputs": [
    {
     "name": "stdout",
     "output_type": "stream",
     "text": [
      "[{\"domain_id\":\"MLA-CELLPHONES\",\"domain_name\":\"Celulares\",\"category_id\":\"MLA1055\",\"category_name\":\"Celulares y Smartphones\",\"attributes\":[{\"id\":\"BRAND\",\"name\":\"Marca\",\"value_id\":\"206\",\"value_name\":\"Samsung\"},{\"id\":\"LINE\",\"name\":\"Línea\",\"value_id\":\"195973\",\"value_name\":\"Galaxy J\"},{\"id\":\"MODEL\",\"name\":\"Modelo\",\"value_id\":\"389521\",\"value_name\":\"J6\"},{\"id\":\"IS_DUAL_SIM\",\"name\":\"Es Dual SIM\",\"value_id\":\"242084\",\"value_name\":\"No\"}]}]\n"
     ]
    }
   ],
   "source": [
    "title = \"celular samsung j6\"\n",
    "\n",
    "conn.request(\"GET\", f\"/sites/MLA/domain_discovery/search?q=${quote_plus(title)}\")\n",
    "res = conn.getresponse()\n",
    "data = res.read()\n",
    "print(data.decode(\"utf-8\"))"
   ]
  },
  {
   "cell_type": "markdown",
   "id": "82d01813-888d-4d75-88a7-b2735480d113",
   "metadata": {},
   "source": [
    "## Generemos nuestro dataset"
   ]
  },
  {
   "cell_type": "code",
   "execution_count": 46,
   "id": "891da5d5-62e8-48b9-a5fd-58033541b794",
   "metadata": {},
   "outputs": [],
   "source": [
    "import pandas as pd\n",
    "import json"
   ]
  },
  {
   "cell_type": "code",
   "execution_count": 47,
   "id": "886a777e-eb60-4c1c-9ca6-fcf6bba8fb4c",
   "metadata": {},
   "outputs": [
    {
     "name": "stdout",
     "output_type": "stream",
     "text": [
      "[{\"id\":\"MLA5725\",\"name\":\"Accesorios para Vehículos\"},{\"id\":\"MLA1512\",\"name\":\"Agro\"},{\"id\":\"MLA1403\",\"name\":\"Alimentos y Bebidas\"},{\"id\":\"MLA1071\",\"name\":\"Animales y Mascotas\"},{\"id\":\"MLA1367\",\"name\":\"Antigüedades y Colecciones\"},{\"id\":\"MLA1368\",\"name\":\"Arte, Librería y Mercería\"},{\"id\":\"MLA1743\",\"name\":\"Autos, Motos y Otros\"},{\"id\":\"MLA1384\",\"name\":\"Bebés\"},{\"id\":\"MLA1246\",\"name\":\"Belleza y Cuidado Personal\"},{\"id\":\"MLA1039\",\"name\":\"Cámaras y Accesorios\"},{\"id\":\"MLA1051\",\"name\":\"Celulares y Teléfonos\"},{\"id\":\"MLA1648\",\"name\":\"Computación\"},{\"id\":\"MLA1144\",\"name\":\"Consolas y Videojuegos\"},{\"id\":\"MLA1500\",\"name\":\"Construcción\"},{\"id\":\"MLA1276\",\"name\":\"Deportes y Fitness\"},{\"id\":\"MLA5726\",\"name\":\"Electrodomésticos y Aires Ac.\"},{\"id\":\"MLA1000\",\"name\":\"Electrónica, Audio y Video\"},{\"id\":\"MLA2547\",\"name\":\"Entradas para Eventos\"},{\"id\":\"MLA407134\",\"name\":\"Herramientas\"},{\"id\":\"MLA1574\",\"name\":\"Hogar, Muebles y Jardín\"},{\"id\":\"MLA1499\",\"name\":\"Industrias y Oficinas\"},{\"id\":\"MLA1459\",\"name\":\"Inmuebles\"},{\"id\":\"MLA1182\",\"name\":\"Instrumentos Musicales\"},{\"id\":\"MLA3937\",\"name\":\"Joyas y Relojes\"},{\"id\":\"MLA1132\",\"name\":\"Juegos y Juguetes\"},{\"id\":\"MLA3025\",\"name\":\"Libros, Revistas y Comics\"},{\"id\":\"MLA1168\",\"name\":\"Música, Películas y Series\"},{\"id\":\"MLA1430\",\"name\":\"Ropa y Accesorios\"},{\"id\":\"MLA409431\",\"name\":\"Salud y Equipamiento Médico\"},{\"id\":\"MLA1540\",\"name\":\"Servicios\"},{\"id\":\"MLA9304\",\"name\":\"Souvenirs, Cotillón y Fiestas\"},{\"id\":\"MLA1953\",\"name\":\"Otras categorías\"}]\n"
     ]
    }
   ],
   "source": [
    "conn.request(\"GET\", \"/sites/MLA/categories\")\n",
    "res = conn.getresponse()\n",
    "data = res.read()\n",
    "print(data.decode(\"utf-8\"))"
   ]
  },
  {
   "cell_type": "code",
   "execution_count": 48,
   "id": "f93fbc37-cdf0-4c53-bcdc-bcbaa700aa18",
   "metadata": {},
   "outputs": [
    {
     "data": {
      "text/html": [
       "<div>\n",
       "<style scoped>\n",
       "    .dataframe tbody tr th:only-of-type {\n",
       "        vertical-align: middle;\n",
       "    }\n",
       "\n",
       "    .dataframe tbody tr th {\n",
       "        vertical-align: top;\n",
       "    }\n",
       "\n",
       "    .dataframe thead th {\n",
       "        text-align: right;\n",
       "    }\n",
       "</style>\n",
       "<table border=\"1\" class=\"dataframe\">\n",
       "  <thead>\n",
       "    <tr style=\"text-align: right;\">\n",
       "      <th></th>\n",
       "      <th>id</th>\n",
       "      <th>name</th>\n",
       "    </tr>\n",
       "  </thead>\n",
       "  <tbody>\n",
       "    <tr>\n",
       "      <th>0</th>\n",
       "      <td>MLA5725</td>\n",
       "      <td>Accesorios para Vehículos</td>\n",
       "    </tr>\n",
       "    <tr>\n",
       "      <th>1</th>\n",
       "      <td>MLA1512</td>\n",
       "      <td>Agro</td>\n",
       "    </tr>\n",
       "    <tr>\n",
       "      <th>2</th>\n",
       "      <td>MLA1403</td>\n",
       "      <td>Alimentos y Bebidas</td>\n",
       "    </tr>\n",
       "    <tr>\n",
       "      <th>3</th>\n",
       "      <td>MLA1071</td>\n",
       "      <td>Animales y Mascotas</td>\n",
       "    </tr>\n",
       "    <tr>\n",
       "      <th>4</th>\n",
       "      <td>MLA1367</td>\n",
       "      <td>Antigüedades y Colecciones</td>\n",
       "    </tr>\n",
       "    <tr>\n",
       "      <th>5</th>\n",
       "      <td>MLA1368</td>\n",
       "      <td>Arte, Librería y Mercería</td>\n",
       "    </tr>\n",
       "    <tr>\n",
       "      <th>6</th>\n",
       "      <td>MLA1743</td>\n",
       "      <td>Autos, Motos y Otros</td>\n",
       "    </tr>\n",
       "    <tr>\n",
       "      <th>7</th>\n",
       "      <td>MLA1384</td>\n",
       "      <td>Bebés</td>\n",
       "    </tr>\n",
       "    <tr>\n",
       "      <th>8</th>\n",
       "      <td>MLA1246</td>\n",
       "      <td>Belleza y Cuidado Personal</td>\n",
       "    </tr>\n",
       "    <tr>\n",
       "      <th>9</th>\n",
       "      <td>MLA1039</td>\n",
       "      <td>Cámaras y Accesorios</td>\n",
       "    </tr>\n",
       "    <tr>\n",
       "      <th>10</th>\n",
       "      <td>MLA1051</td>\n",
       "      <td>Celulares y Teléfonos</td>\n",
       "    </tr>\n",
       "    <tr>\n",
       "      <th>11</th>\n",
       "      <td>MLA1648</td>\n",
       "      <td>Computación</td>\n",
       "    </tr>\n",
       "    <tr>\n",
       "      <th>12</th>\n",
       "      <td>MLA1144</td>\n",
       "      <td>Consolas y Videojuegos</td>\n",
       "    </tr>\n",
       "    <tr>\n",
       "      <th>13</th>\n",
       "      <td>MLA1500</td>\n",
       "      <td>Construcción</td>\n",
       "    </tr>\n",
       "    <tr>\n",
       "      <th>14</th>\n",
       "      <td>MLA1276</td>\n",
       "      <td>Deportes y Fitness</td>\n",
       "    </tr>\n",
       "    <tr>\n",
       "      <th>15</th>\n",
       "      <td>MLA5726</td>\n",
       "      <td>Electrodomésticos y Aires Ac.</td>\n",
       "    </tr>\n",
       "    <tr>\n",
       "      <th>16</th>\n",
       "      <td>MLA1000</td>\n",
       "      <td>Electrónica, Audio y Video</td>\n",
       "    </tr>\n",
       "    <tr>\n",
       "      <th>17</th>\n",
       "      <td>MLA2547</td>\n",
       "      <td>Entradas para Eventos</td>\n",
       "    </tr>\n",
       "    <tr>\n",
       "      <th>18</th>\n",
       "      <td>MLA407134</td>\n",
       "      <td>Herramientas</td>\n",
       "    </tr>\n",
       "    <tr>\n",
       "      <th>19</th>\n",
       "      <td>MLA1574</td>\n",
       "      <td>Hogar, Muebles y Jardín</td>\n",
       "    </tr>\n",
       "    <tr>\n",
       "      <th>20</th>\n",
       "      <td>MLA1499</td>\n",
       "      <td>Industrias y Oficinas</td>\n",
       "    </tr>\n",
       "    <tr>\n",
       "      <th>21</th>\n",
       "      <td>MLA1459</td>\n",
       "      <td>Inmuebles</td>\n",
       "    </tr>\n",
       "    <tr>\n",
       "      <th>22</th>\n",
       "      <td>MLA1182</td>\n",
       "      <td>Instrumentos Musicales</td>\n",
       "    </tr>\n",
       "    <tr>\n",
       "      <th>23</th>\n",
       "      <td>MLA3937</td>\n",
       "      <td>Joyas y Relojes</td>\n",
       "    </tr>\n",
       "    <tr>\n",
       "      <th>24</th>\n",
       "      <td>MLA1132</td>\n",
       "      <td>Juegos y Juguetes</td>\n",
       "    </tr>\n",
       "    <tr>\n",
       "      <th>25</th>\n",
       "      <td>MLA3025</td>\n",
       "      <td>Libros, Revistas y Comics</td>\n",
       "    </tr>\n",
       "    <tr>\n",
       "      <th>26</th>\n",
       "      <td>MLA1168</td>\n",
       "      <td>Música, Películas y Series</td>\n",
       "    </tr>\n",
       "    <tr>\n",
       "      <th>27</th>\n",
       "      <td>MLA1430</td>\n",
       "      <td>Ropa y Accesorios</td>\n",
       "    </tr>\n",
       "    <tr>\n",
       "      <th>28</th>\n",
       "      <td>MLA409431</td>\n",
       "      <td>Salud y Equipamiento Médico</td>\n",
       "    </tr>\n",
       "    <tr>\n",
       "      <th>29</th>\n",
       "      <td>MLA1540</td>\n",
       "      <td>Servicios</td>\n",
       "    </tr>\n",
       "    <tr>\n",
       "      <th>30</th>\n",
       "      <td>MLA9304</td>\n",
       "      <td>Souvenirs, Cotillón y Fiestas</td>\n",
       "    </tr>\n",
       "    <tr>\n",
       "      <th>31</th>\n",
       "      <td>MLA1953</td>\n",
       "      <td>Otras categorías</td>\n",
       "    </tr>\n",
       "  </tbody>\n",
       "</table>\n",
       "</div>"
      ],
      "text/plain": [
       "           id                           name\n",
       "0     MLA5725      Accesorios para Vehículos\n",
       "1     MLA1512                           Agro\n",
       "2     MLA1403            Alimentos y Bebidas\n",
       "3     MLA1071            Animales y Mascotas\n",
       "4     MLA1367     Antigüedades y Colecciones\n",
       "5     MLA1368      Arte, Librería y Mercería\n",
       "6     MLA1743           Autos, Motos y Otros\n",
       "7     MLA1384                          Bebés\n",
       "8     MLA1246     Belleza y Cuidado Personal\n",
       "9     MLA1039           Cámaras y Accesorios\n",
       "10    MLA1051          Celulares y Teléfonos\n",
       "11    MLA1648                    Computación\n",
       "12    MLA1144         Consolas y Videojuegos\n",
       "13    MLA1500                   Construcción\n",
       "14    MLA1276             Deportes y Fitness\n",
       "15    MLA5726  Electrodomésticos y Aires Ac.\n",
       "16    MLA1000     Electrónica, Audio y Video\n",
       "17    MLA2547          Entradas para Eventos\n",
       "18  MLA407134                   Herramientas\n",
       "19    MLA1574        Hogar, Muebles y Jardín\n",
       "20    MLA1499          Industrias y Oficinas\n",
       "21    MLA1459                      Inmuebles\n",
       "22    MLA1182         Instrumentos Musicales\n",
       "23    MLA3937                Joyas y Relojes\n",
       "24    MLA1132              Juegos y Juguetes\n",
       "25    MLA3025      Libros, Revistas y Comics\n",
       "26    MLA1168     Música, Películas y Series\n",
       "27    MLA1430              Ropa y Accesorios\n",
       "28  MLA409431    Salud y Equipamiento Médico\n",
       "29    MLA1540                      Servicios\n",
       "30    MLA9304  Souvenirs, Cotillón y Fiestas\n",
       "31    MLA1953               Otras categorías"
      ]
     },
     "execution_count": 48,
     "metadata": {},
     "output_type": "execute_result"
    }
   ],
   "source": [
    "pd.DataFrame(json.loads(data.decode(\"utf-8\")))"
   ]
  },
  {
   "cell_type": "code",
   "execution_count": 49,
   "id": "f2202dcc-7aae-4695-a699-64671d13bcb7",
   "metadata": {},
   "outputs": [],
   "source": [
    "from config import AppCfg\n",
    "\n",
    "cfg = AppCfg()\n",
    "\n",
    "class MeliGet:\n",
    "    \"\"\"\n",
    "    Clase basica con fines de demostracion de uso.\n",
    "    No recomendado para fines de obtener performance.\n",
    "    \"\"\"\n",
    "    \n",
    "    def __init__(self, cfg):\n",
    "        self.conn = http.client.HTTPSConnection(\"api.mercadolibre.com\")\n",
    "        self.payload = ''\n",
    "        self.headers = {\n",
    "            'Bearer': cfg.ACCESS_TOKEN\n",
    "        }\n",
    "        \n",
    "    def search_by_category(self, category_id, offset):\n",
    "        try:\n",
    "            self.conn.request(\n",
    "                \"GET\", \n",
    "                f\"/sites/MLA/search?category={category_id}&offset={offset}\", \n",
    "                self.payload, \n",
    "                self.headers\n",
    "            )\n",
    "            res = self.conn.getresponse()\n",
    "            data = res.read()\n",
    "            df = pd.DataFrame(json.loads(data.decode(\"utf-8\"))['results'])\n",
    "        except:\n",
    "            # print(\"DataFrame vacio.\")\n",
    "            df = pd.DataFrame([])\n",
    "        return df\n",
    "        \n",
    "    def append_offset(self, category_id, n_offset):\n",
    "        dfs = [self.search_by_category(category_id, offset) for offset in range(1, n_offset+1)]\n",
    "        dfs = pd.concat(dfs).reset_index(drop=True)\n",
    "        return dfs\n",
    "    \n",
    "    def build_dataset(self, category_list, n_offset):\n",
    "        dfs = [self.append_offset(category_id, n_offset) for category_id in category_list]\n",
    "        dfs = pd.concat(dfs).reset_index(drop=True)\n",
    "        return dfs\n",
    "        "
   ]
  },
  {
   "cell_type": "code",
   "execution_count": 52,
   "id": "524e87d3-7eec-40d8-b07e-bf1906290a0a",
   "metadata": {},
   "outputs": [],
   "source": [
    "meli = MeliGet(cfg)"
   ]
  },
  {
   "cell_type": "code",
   "execution_count": 53,
   "id": "31034390-5ede-4a34-af4f-502d3569aa1d",
   "metadata": {
    "tags": []
   },
   "outputs": [],
   "source": [
    "tmp_df = meli.search_by_category('MLA1055', 1)"
   ]
  },
  {
   "cell_type": "code",
   "execution_count": 54,
   "id": "f0bb9664-289b-4ee8-a163-0c373fd5b4a6",
   "metadata": {},
   "outputs": [
    {
     "data": {
      "text/html": [
       "<div>\n",
       "<style scoped>\n",
       "    .dataframe tbody tr th:only-of-type {\n",
       "        vertical-align: middle;\n",
       "    }\n",
       "\n",
       "    .dataframe tbody tr th {\n",
       "        vertical-align: top;\n",
       "    }\n",
       "\n",
       "    .dataframe thead th {\n",
       "        text-align: right;\n",
       "    }\n",
       "</style>\n",
       "<table border=\"1\" class=\"dataframe\">\n",
       "  <thead>\n",
       "    <tr style=\"text-align: right;\">\n",
       "      <th></th>\n",
       "      <th>id</th>\n",
       "      <th>site_id</th>\n",
       "      <th>title</th>\n",
       "      <th>seller</th>\n",
       "      <th>price</th>\n",
       "      <th>prices</th>\n",
       "      <th>sale_price</th>\n",
       "      <th>currency_id</th>\n",
       "      <th>available_quantity</th>\n",
       "      <th>sold_quantity</th>\n",
       "      <th>...</th>\n",
       "      <th>tags</th>\n",
       "      <th>catalog_listing</th>\n",
       "      <th>use_thumbnail_id</th>\n",
       "      <th>offer_score</th>\n",
       "      <th>offer_share</th>\n",
       "      <th>match_score</th>\n",
       "      <th>winner_item_id</th>\n",
       "      <th>melicoin</th>\n",
       "      <th>discounts</th>\n",
       "      <th>order_backend</th>\n",
       "    </tr>\n",
       "  </thead>\n",
       "  <tbody>\n",
       "    <tr>\n",
       "      <th>0</th>\n",
       "      <td>MLA918474630</td>\n",
       "      <td>MLA</td>\n",
       "      <td>Samsung Galaxy A32 128 Gb  Awesome Black 4 Gb Ram</td>\n",
       "      <td>{'id': 608846165, 'permalink': 'http://perfil....</td>\n",
       "      <td>65999</td>\n",
       "      <td>{'id': 'MLA918474630', 'prices': [{'id': '357'...</td>\n",
       "      <td>None</td>\n",
       "      <td>ARS</td>\n",
       "      <td>182</td>\n",
       "      <td>16701</td>\n",
       "      <td>...</td>\n",
       "      <td>[deal_of_the_day, extended_warranty_eligible, ...</td>\n",
       "      <td>True</td>\n",
       "      <td>True</td>\n",
       "      <td>None</td>\n",
       "      <td>None</td>\n",
       "      <td>None</td>\n",
       "      <td>None</td>\n",
       "      <td>None</td>\n",
       "      <td>None</td>\n",
       "      <td>1</td>\n",
       "    </tr>\n",
       "    <tr>\n",
       "      <th>1</th>\n",
       "      <td>MLA1137712864</td>\n",
       "      <td>MLA</td>\n",
       "      <td>Samsung Galaxy S20 Fe 5g 128 Gb  Cloud Navy 6 ...</td>\n",
       "      <td>{'id': 608846165, 'permalink': 'http://perfil....</td>\n",
       "      <td>127999</td>\n",
       "      <td>{'id': 'MLA1137712864', 'prices': [{'id': '48'...</td>\n",
       "      <td>None</td>\n",
       "      <td>ARS</td>\n",
       "      <td>616</td>\n",
       "      <td>2578</td>\n",
       "      <td>...</td>\n",
       "      <td>[9x_campaign, deal_of_the_day, extended_warran...</td>\n",
       "      <td>True</td>\n",
       "      <td>True</td>\n",
       "      <td>None</td>\n",
       "      <td>None</td>\n",
       "      <td>None</td>\n",
       "      <td>None</td>\n",
       "      <td>None</td>\n",
       "      <td>None</td>\n",
       "      <td>2</td>\n",
       "    </tr>\n",
       "  </tbody>\n",
       "</table>\n",
       "<p>2 rows × 39 columns</p>\n",
       "</div>"
      ],
      "text/plain": [
       "              id site_id                                              title  \\\n",
       "0   MLA918474630     MLA  Samsung Galaxy A32 128 Gb  Awesome Black 4 Gb Ram   \n",
       "1  MLA1137712864     MLA  Samsung Galaxy S20 Fe 5g 128 Gb  Cloud Navy 6 ...   \n",
       "\n",
       "                                              seller   price  \\\n",
       "0  {'id': 608846165, 'permalink': 'http://perfil....   65999   \n",
       "1  {'id': 608846165, 'permalink': 'http://perfil....  127999   \n",
       "\n",
       "                                              prices sale_price currency_id  \\\n",
       "0  {'id': 'MLA918474630', 'prices': [{'id': '357'...       None         ARS   \n",
       "1  {'id': 'MLA1137712864', 'prices': [{'id': '48'...       None         ARS   \n",
       "\n",
       "   available_quantity  sold_quantity  ...  \\\n",
       "0                 182          16701  ...   \n",
       "1                 616           2578  ...   \n",
       "\n",
       "                                                tags catalog_listing  \\\n",
       "0  [deal_of_the_day, extended_warranty_eligible, ...            True   \n",
       "1  [9x_campaign, deal_of_the_day, extended_warran...            True   \n",
       "\n",
       "  use_thumbnail_id offer_score offer_share match_score winner_item_id  \\\n",
       "0             True        None        None        None           None   \n",
       "1             True        None        None        None           None   \n",
       "\n",
       "   melicoin discounts order_backend  \n",
       "0      None      None             1  \n",
       "1      None      None             2  \n",
       "\n",
       "[2 rows x 39 columns]"
      ]
     },
     "execution_count": 54,
     "metadata": {},
     "output_type": "execute_result"
    }
   ],
   "source": [
    "tmp_df.head(2)"
   ]
  },
  {
   "cell_type": "code",
   "execution_count": 14,
   "id": "43206537-02f2-448a-8b95-208f97c98198",
   "metadata": {},
   "outputs": [
    {
     "data": {
      "text/plain": [
       "(50, 39)"
      ]
     },
     "execution_count": 14,
     "metadata": {},
     "output_type": "execute_result"
    }
   ],
   "source": [
    "tmp_df.shape"
   ]
  },
  {
   "cell_type": "code",
   "execution_count": 58,
   "id": "d4df12d2-2d77-44e6-912e-aea2c2a3d436",
   "metadata": {},
   "outputs": [],
   "source": [
    "df = meli.build_dataset(['MLA1055', 'MLA1000', 'MLA1743', ], 50)"
   ]
  },
  {
   "cell_type": "code",
   "execution_count": 59,
   "id": "fed90e71-f239-42ff-9b92-5b7dcab98531",
   "metadata": {},
   "outputs": [
    {
     "data": {
      "text/plain": [
       "(7500, 41)"
      ]
     },
     "execution_count": 59,
     "metadata": {},
     "output_type": "execute_result"
    }
   ],
   "source": [
    "df.shape"
   ]
  },
  {
   "cell_type": "code",
   "execution_count": 60,
   "id": "2ec7c663-f110-4b21-96b6-f8845f6064ab",
   "metadata": {},
   "outputs": [],
   "source": [
    "df = df[['id', 'site_id', 'title', 'category_id', 'domain_id']]"
   ]
  },
  {
   "cell_type": "code",
   "execution_count": 61,
   "id": "7c1386fb-76e2-4e47-b0df-6b53147fb986",
   "metadata": {},
   "outputs": [],
   "source": [
    "df.to_csv('items_meli.csv', sep=\"␗\", index=False)"
   ]
  },
  {
   "cell_type": "code",
   "execution_count": 65,
   "id": "80c98b34-87b7-4ecd-aa95-610af8e8a754",
   "metadata": {},
   "outputs": [],
   "source": [
    "# df.sample(30)"
   ]
  },
  {
   "cell_type": "markdown",
   "id": "0ffc7e44-a652-4669-91fe-1d6af08dc839",
   "metadata": {},
   "source": [
    "### Read & clean data"
   ]
  },
  {
   "cell_type": "code",
   "execution_count": 66,
   "id": "5389116c-0f16-4fd8-836a-50b60c781e69",
   "metadata": {
    "tags": []
   },
   "outputs": [],
   "source": [
    "import pandas as pd\n",
    "import dask.dataframe as dd\n",
    "from preprocessing import dask_proc"
   ]
  },
  {
   "cell_type": "code",
   "execution_count": 67,
   "id": "49d36da6-996d-414d-b31d-abc9624b5e86",
   "metadata": {},
   "outputs": [],
   "source": [
    "# !pip install textacy\n",
    "# !dask_procinstall \"dask[complete]\""
   ]
  },
  {
   "cell_type": "code",
   "execution_count": 68,
   "id": "532269ef-59db-4f62-826b-8e1106bddb8a",
   "metadata": {},
   "outputs": [],
   "source": [
    "df = pd.read_csv('items_meli.csv', sep=\"␗\", engine='python')"
   ]
  },
  {
   "cell_type": "code",
   "execution_count": 69,
   "id": "bd7cf919-e442-49cb-8b14-df0b945f4b24",
   "metadata": {},
   "outputs": [
    {
     "data": {
      "text/html": [
       "<div>\n",
       "<style scoped>\n",
       "    .dataframe tbody tr th:only-of-type {\n",
       "        vertical-align: middle;\n",
       "    }\n",
       "\n",
       "    .dataframe tbody tr th {\n",
       "        vertical-align: top;\n",
       "    }\n",
       "\n",
       "    .dataframe thead th {\n",
       "        text-align: right;\n",
       "    }\n",
       "</style>\n",
       "<table border=\"1\" class=\"dataframe\">\n",
       "  <thead>\n",
       "    <tr style=\"text-align: right;\">\n",
       "      <th></th>\n",
       "      <th>id</th>\n",
       "      <th>site_id</th>\n",
       "      <th>title</th>\n",
       "      <th>category_id</th>\n",
       "      <th>domain_id</th>\n",
       "    </tr>\n",
       "  </thead>\n",
       "  <tbody>\n",
       "    <tr>\n",
       "      <th>0</th>\n",
       "      <td>MLA918474630</td>\n",
       "      <td>MLA</td>\n",
       "      <td>Samsung Galaxy A32 128 Gb  Awesome Black 4 Gb Ram</td>\n",
       "      <td>MLA1055</td>\n",
       "      <td>MLA-CELLPHONES</td>\n",
       "    </tr>\n",
       "    <tr>\n",
       "      <th>1</th>\n",
       "      <td>MLA1137712864</td>\n",
       "      <td>MLA</td>\n",
       "      <td>Samsung Galaxy S20 Fe 5g 128 Gb  Cloud Navy 6 ...</td>\n",
       "      <td>MLA1055</td>\n",
       "      <td>MLA-CELLPHONES</td>\n",
       "    </tr>\n",
       "    <tr>\n",
       "      <th>2</th>\n",
       "      <td>MLA1142662789</td>\n",
       "      <td>MLA</td>\n",
       "      <td>Konka Indus Dual Sim 32 Gb  Negro 3 Gb Ram</td>\n",
       "      <td>MLA1055</td>\n",
       "      <td>MLA-CELLPHONES</td>\n",
       "    </tr>\n",
       "  </tbody>\n",
       "</table>\n",
       "</div>"
      ],
      "text/plain": [
       "              id site_id                                              title  \\\n",
       "0   MLA918474630     MLA  Samsung Galaxy A32 128 Gb  Awesome Black 4 Gb Ram   \n",
       "1  MLA1137712864     MLA  Samsung Galaxy S20 Fe 5g 128 Gb  Cloud Navy 6 ...   \n",
       "2  MLA1142662789     MLA         Konka Indus Dual Sim 32 Gb  Negro 3 Gb Ram   \n",
       "\n",
       "  category_id       domain_id  \n",
       "0     MLA1055  MLA-CELLPHONES  \n",
       "1     MLA1055  MLA-CELLPHONES  \n",
       "2     MLA1055  MLA-CELLPHONES  "
      ]
     },
     "execution_count": 69,
     "metadata": {},
     "output_type": "execute_result"
    }
   ],
   "source": [
    "df.head(3)"
   ]
  },
  {
   "cell_type": "code",
   "execution_count": 70,
   "id": "302073f3-e64c-47da-80df-caae7fb66810",
   "metadata": {},
   "outputs": [],
   "source": [
    "tmp = dd.from_pandas(df, npartitions=5)\n",
    "\n",
    "# Nombre de columna a preprocesar\n",
    "title = 'title'\n",
    "\n",
    "tmp = tmp.assign(title=tmp.map_partitions(dask_proc, title, meta='str')).compute(scheduler='processes')\n",
    "tmp.title = tmp.title.astype('U')"
   ]
  },
  {
   "cell_type": "code",
   "execution_count": 71,
   "id": "30ea8310-7dfd-4197-9189-2019a816634f",
   "metadata": {},
   "outputs": [],
   "source": [
    "df = tmp.copy()\n",
    "del tmp"
   ]
  },
  {
   "cell_type": "code",
   "execution_count": 72,
   "id": "3a580e12-fcea-4e02-9dd6-fb0b9c68f345",
   "metadata": {},
   "outputs": [
    {
     "data": {
      "text/plain": [
       "11"
      ]
     },
     "execution_count": 72,
     "metadata": {},
     "output_type": "execute_result"
    }
   ],
   "source": [
    "df.domain_id.nunique()"
   ]
  },
  {
   "cell_type": "code",
   "execution_count": 74,
   "id": "c3884101-18f3-47c3-8570-718e7e17e827",
   "metadata": {},
   "outputs": [
    {
     "data": {
      "text/html": [
       "<div>\n",
       "<style scoped>\n",
       "    .dataframe tbody tr th:only-of-type {\n",
       "        vertical-align: middle;\n",
       "    }\n",
       "\n",
       "    .dataframe tbody tr th {\n",
       "        vertical-align: top;\n",
       "    }\n",
       "\n",
       "    .dataframe thead th {\n",
       "        text-align: right;\n",
       "    }\n",
       "</style>\n",
       "<table border=\"1\" class=\"dataframe\">\n",
       "  <thead>\n",
       "    <tr style=\"text-align: right;\">\n",
       "      <th></th>\n",
       "      <th>id</th>\n",
       "      <th>site_id</th>\n",
       "      <th>title</th>\n",
       "      <th>category_id</th>\n",
       "      <th>domain_id</th>\n",
       "    </tr>\n",
       "  </thead>\n",
       "  <tbody>\n",
       "    <tr>\n",
       "      <th>377</th>\n",
       "      <td>MLA1137213701</td>\n",
       "      <td>MLA</td>\n",
       "      <td>motorola edge 20 lite 128 gb verde 6 gb ram</td>\n",
       "      <td>MLA1055</td>\n",
       "      <td>MLA-CELLPHONES</td>\n",
       "    </tr>\n",
       "    <tr>\n",
       "      <th>4205</th>\n",
       "      <td>MLA1150461708</td>\n",
       "      <td>MLA</td>\n",
       "      <td>smart tv tcl l40s66e 40 full hd android tv</td>\n",
       "      <td>MLA1002</td>\n",
       "      <td>MLA-TELEVISIONS</td>\n",
       "    </tr>\n",
       "    <tr>\n",
       "      <th>2330</th>\n",
       "      <td>MLA1135207985</td>\n",
       "      <td>MLA</td>\n",
       "      <td>celular samsung galaxy a23 128gb   4gb ram 90h...</td>\n",
       "      <td>MLA1055</td>\n",
       "      <td>MLA-CELLPHONES</td>\n",
       "    </tr>\n",
       "    <tr>\n",
       "      <th>4702</th>\n",
       "      <td>MLA1130555204</td>\n",
       "      <td>MLA</td>\n",
       "      <td>auriculares in ear inalambricos noga twins ng ...</td>\n",
       "      <td>MLA3697</td>\n",
       "      <td>MLA-HEADPHONES</td>\n",
       "    </tr>\n",
       "    <tr>\n",
       "      <th>4962</th>\n",
       "      <td>MLA1146161249</td>\n",
       "      <td>MLA</td>\n",
       "      <td>smart tv tcl l50p615 50 4k uhd android tv</td>\n",
       "      <td>MLA1002</td>\n",
       "      <td>MLA-TELEVISIONS</td>\n",
       "    </tr>\n",
       "    <tr>\n",
       "      <th>5291</th>\n",
       "      <td>MLA1151461314</td>\n",
       "      <td>MLA</td>\n",
       "      <td>fiat pulse 0km 2022 financiado tomo argo mobi ...</td>\n",
       "      <td>MLA1744</td>\n",
       "      <td>MLA-CARS_AND_VANS</td>\n",
       "    </tr>\n",
       "    <tr>\n",
       "      <th>4410</th>\n",
       "      <td>MLA1147914362</td>\n",
       "      <td>MLA</td>\n",
       "      <td>smart tv 32 philips android hd 32phd6917 77 11...</td>\n",
       "      <td>MLA1002</td>\n",
       "      <td>MLA-TELEVISIONS</td>\n",
       "    </tr>\n",
       "    <tr>\n",
       "      <th>5880</th>\n",
       "      <td>MLA1151563737</td>\n",
       "      <td>MLA</td>\n",
       "      <td>fiat pulse 0km 2022 financiado tomo argo mobi ...</td>\n",
       "      <td>MLA1744</td>\n",
       "      <td>MLA-CARS_AND_VANS</td>\n",
       "    </tr>\n",
       "    <tr>\n",
       "      <th>2082</th>\n",
       "      <td>MLA1146206805</td>\n",
       "      <td>MLA</td>\n",
       "      <td>xiaomi mi 11 lite 5g ne dual sim 128 gb azul c...</td>\n",
       "      <td>MLA1055</td>\n",
       "      <td>MLA-CELLPHONES</td>\n",
       "    </tr>\n",
       "    <tr>\n",
       "      <th>250</th>\n",
       "      <td>MLA1138459617</td>\n",
       "      <td>MLA</td>\n",
       "      <td>samsung galaxy a33 5g 128 gb awesome black 6 g...</td>\n",
       "      <td>MLA1055</td>\n",
       "      <td>MLA-CELLPHONES</td>\n",
       "    </tr>\n",
       "    <tr>\n",
       "      <th>5122</th>\n",
       "      <td>MLA1149377195</td>\n",
       "      <td>MLA</td>\n",
       "      <td>mitsubishi 2016 outlander 2 0 glx 2wd l 16</td>\n",
       "      <td>MLA1744</td>\n",
       "      <td>MLA-CARS_AND_VANS</td>\n",
       "    </tr>\n",
       "    <tr>\n",
       "      <th>7399</th>\n",
       "      <td>MLA1151458576</td>\n",
       "      <td>MLA</td>\n",
       "      <td>peugeot 208 allure automatico tip 0km 2022 ent...</td>\n",
       "      <td>MLA1744</td>\n",
       "      <td>MLA-CARS_AND_VANS</td>\n",
       "    </tr>\n",
       "    <tr>\n",
       "      <th>749</th>\n",
       "      <td>MLA1145088043</td>\n",
       "      <td>MLA</td>\n",
       "      <td>noblex a50 dual sim 32 gb negro 1 gb ram</td>\n",
       "      <td>MLA1055</td>\n",
       "      <td>MLA-CELLPHONES</td>\n",
       "    </tr>\n",
       "    <tr>\n",
       "      <th>5806</th>\n",
       "      <td>MLA1150608077</td>\n",
       "      <td>MLA</td>\n",
       "      <td>chevrolet 2018 cruze 1 4 4 ptas ltz</td>\n",
       "      <td>MLA1744</td>\n",
       "      <td>MLA-CARS_AND_VANS</td>\n",
       "    </tr>\n",
       "    <tr>\n",
       "      <th>2184</th>\n",
       "      <td>MLA1149683072</td>\n",
       "      <td>MLA</td>\n",
       "      <td>motorola edge 30 pro 256 gb verde cosmos 12 gb...</td>\n",
       "      <td>MLA1055</td>\n",
       "      <td>MLA-CELLPHONES</td>\n",
       "    </tr>\n",
       "    <tr>\n",
       "      <th>4394</th>\n",
       "      <td>MLA1149185944</td>\n",
       "      <td>MLA</td>\n",
       "      <td>roku se 3930se estandar full hd 32mb blanco y ...</td>\n",
       "      <td>MLA352001</td>\n",
       "      <td>MLA-STREAMING_MEDIA_DEVICES</td>\n",
       "    </tr>\n",
       "    <tr>\n",
       "      <th>2681</th>\n",
       "      <td>MLA1112789911</td>\n",
       "      <td>MLA</td>\n",
       "      <td>soporte shirka sk 481 de pared para tv monitor...</td>\n",
       "      <td>MLA41925</td>\n",
       "      <td>MLA-TV_AND_MONITOR_MOUNTS</td>\n",
       "    </tr>\n",
       "    <tr>\n",
       "      <th>7192</th>\n",
       "      <td>MLA1151593410</td>\n",
       "      <td>MLA</td>\n",
       "      <td>vw taos highline automatica 0km 2022 ugarcia</td>\n",
       "      <td>MLA1744</td>\n",
       "      <td>MLA-CARS_AND_VANS</td>\n",
       "    </tr>\n",
       "    <tr>\n",
       "      <th>3257</th>\n",
       "      <td>MLA919622527</td>\n",
       "      <td>MLA</td>\n",
       "      <td>soporte electroland sop 14 55 de pared para tv...</td>\n",
       "      <td>MLA41925</td>\n",
       "      <td>MLA-TV_AND_MONITOR_MOUNTS</td>\n",
       "    </tr>\n",
       "    <tr>\n",
       "      <th>1313</th>\n",
       "      <td>MLA1120890965</td>\n",
       "      <td>MLA</td>\n",
       "      <td>samsung galaxy a52s 5g 128 gb awesome black 6 ...</td>\n",
       "      <td>MLA1055</td>\n",
       "      <td>MLA-CELLPHONES</td>\n",
       "    </tr>\n",
       "  </tbody>\n",
       "</table>\n",
       "</div>"
      ],
      "text/plain": [
       "                 id site_id  \\\n",
       "377   MLA1137213701     MLA   \n",
       "4205  MLA1150461708     MLA   \n",
       "2330  MLA1135207985     MLA   \n",
       "4702  MLA1130555204     MLA   \n",
       "4962  MLA1146161249     MLA   \n",
       "5291  MLA1151461314     MLA   \n",
       "4410  MLA1147914362     MLA   \n",
       "5880  MLA1151563737     MLA   \n",
       "2082  MLA1146206805     MLA   \n",
       "250   MLA1138459617     MLA   \n",
       "5122  MLA1149377195     MLA   \n",
       "7399  MLA1151458576     MLA   \n",
       "749   MLA1145088043     MLA   \n",
       "5806  MLA1150608077     MLA   \n",
       "2184  MLA1149683072     MLA   \n",
       "4394  MLA1149185944     MLA   \n",
       "2681  MLA1112789911     MLA   \n",
       "7192  MLA1151593410     MLA   \n",
       "3257   MLA919622527     MLA   \n",
       "1313  MLA1120890965     MLA   \n",
       "\n",
       "                                                  title category_id  \\\n",
       "377         motorola edge 20 lite 128 gb verde 6 gb ram     MLA1055   \n",
       "4205         smart tv tcl l40s66e 40 full hd android tv     MLA1002   \n",
       "2330  celular samsung galaxy a23 128gb   4gb ram 90h...     MLA1055   \n",
       "4702  auriculares in ear inalambricos noga twins ng ...     MLA3697   \n",
       "4962          smart tv tcl l50p615 50 4k uhd android tv     MLA1002   \n",
       "5291  fiat pulse 0km 2022 financiado tomo argo mobi ...     MLA1744   \n",
       "4410  smart tv 32 philips android hd 32phd6917 77 11...     MLA1002   \n",
       "5880  fiat pulse 0km 2022 financiado tomo argo mobi ...     MLA1744   \n",
       "2082  xiaomi mi 11 lite 5g ne dual sim 128 gb azul c...     MLA1055   \n",
       "250   samsung galaxy a33 5g 128 gb awesome black 6 g...     MLA1055   \n",
       "5122         mitsubishi 2016 outlander 2 0 glx 2wd l 16     MLA1744   \n",
       "7399  peugeot 208 allure automatico tip 0km 2022 ent...     MLA1744   \n",
       "749            noblex a50 dual sim 32 gb negro 1 gb ram     MLA1055   \n",
       "5806                chevrolet 2018 cruze 1 4 4 ptas ltz     MLA1744   \n",
       "2184  motorola edge 30 pro 256 gb verde cosmos 12 gb...     MLA1055   \n",
       "4394  roku se 3930se estandar full hd 32mb blanco y ...   MLA352001   \n",
       "2681  soporte shirka sk 481 de pared para tv monitor...    MLA41925   \n",
       "7192       vw taos highline automatica 0km 2022 ugarcia     MLA1744   \n",
       "3257  soporte electroland sop 14 55 de pared para tv...    MLA41925   \n",
       "1313  samsung galaxy a52s 5g 128 gb awesome black 6 ...     MLA1055   \n",
       "\n",
       "                        domain_id  \n",
       "377                MLA-CELLPHONES  \n",
       "4205              MLA-TELEVISIONS  \n",
       "2330               MLA-CELLPHONES  \n",
       "4702               MLA-HEADPHONES  \n",
       "4962              MLA-TELEVISIONS  \n",
       "5291            MLA-CARS_AND_VANS  \n",
       "4410              MLA-TELEVISIONS  \n",
       "5880            MLA-CARS_AND_VANS  \n",
       "2082               MLA-CELLPHONES  \n",
       "250                MLA-CELLPHONES  \n",
       "5122            MLA-CARS_AND_VANS  \n",
       "7399            MLA-CARS_AND_VANS  \n",
       "749                MLA-CELLPHONES  \n",
       "5806            MLA-CARS_AND_VANS  \n",
       "2184               MLA-CELLPHONES  \n",
       "4394  MLA-STREAMING_MEDIA_DEVICES  \n",
       "2681    MLA-TV_AND_MONITOR_MOUNTS  \n",
       "7192            MLA-CARS_AND_VANS  \n",
       "3257    MLA-TV_AND_MONITOR_MOUNTS  \n",
       "1313               MLA-CELLPHONES  "
      ]
     },
     "execution_count": 74,
     "metadata": {},
     "output_type": "execute_result"
    }
   ],
   "source": [
    "df.sample(20)"
   ]
  },
  {
   "cell_type": "code",
   "execution_count": 75,
   "id": "b1a891ba-d88e-4263-980c-ad46f2a58908",
   "metadata": {},
   "outputs": [],
   "source": [
    "df.to_csv('items_meli_proc.csv', sep=\"␗\", index=False)"
   ]
  },
  {
   "cell_type": "markdown",
   "id": "74b215e9-7350-4c44-a6bc-3f24bb27b57e",
   "metadata": {},
   "source": [
    "### Labeling functions"
   ]
  },
  {
   "cell_type": "code",
   "execution_count": 76,
   "id": "95fc5b23-f04f-4ecb-8e2e-543bc910a177",
   "metadata": {},
   "outputs": [],
   "source": [
    "import pandas as pd"
   ]
  },
  {
   "cell_type": "code",
   "execution_count": 77,
   "id": "8fa1946c-94e0-4b30-9903-2084ec709d96",
   "metadata": {},
   "outputs": [],
   "source": [
    "# !pip install snorkel\n",
    "# !pip install networkx==2.5.0"
   ]
  },
  {
   "cell_type": "code",
   "execution_count": 78,
   "id": "1a64ded2-4f37-42c3-8352-de5a74814a15",
   "metadata": {},
   "outputs": [],
   "source": [
    "df = pd.read_csv('items_meli_proc.csv', sep=\"␗\", engine='python')"
   ]
  },
  {
   "cell_type": "code",
   "execution_count": 79,
   "id": "886cd9ed-3be4-4921-a696-0549a0ad98d3",
   "metadata": {},
   "outputs": [],
   "source": [
    "df = df[df.domain_id.isin(['MLA-CELLPHONES', 'MLA-CELL_BATTERIES', 'MLA-SPEAKERS', 'MLA-HEADPHONES'])].reset_index(drop=True)"
   ]
  },
  {
   "cell_type": "code",
   "execution_count": 80,
   "id": "5f50ede7-ce82-4efe-a950-42ef9e0cf05c",
   "metadata": {},
   "outputs": [],
   "source": [
    "import re\n",
    "from snorkel.labeling import labeling_function, PandasLFApplier"
   ]
  },
  {
   "cell_type": "code",
   "execution_count": 81,
   "id": "174b0e53-e250-40c9-aab7-f1b083f16e84",
   "metadata": {},
   "outputs": [],
   "source": [
    "CELLPHONES = 0\n",
    "CELL_BATTERIES = 1\n",
    "SPEAKERS = 2\n",
    "ABSTAIN = -1"
   ]
  },
  {
   "cell_type": "code",
   "execution_count": 89,
   "id": "be7db545-5180-4de7-921c-b85e0ab12810",
   "metadata": {},
   "outputs": [
    {
     "data": {
      "text/html": [
       "<div>\n",
       "<style scoped>\n",
       "    .dataframe tbody tr th:only-of-type {\n",
       "        vertical-align: middle;\n",
       "    }\n",
       "\n",
       "    .dataframe tbody tr th {\n",
       "        vertical-align: top;\n",
       "    }\n",
       "\n",
       "    .dataframe thead th {\n",
       "        text-align: right;\n",
       "    }\n",
       "</style>\n",
       "<table border=\"1\" class=\"dataframe\">\n",
       "  <thead>\n",
       "    <tr style=\"text-align: right;\">\n",
       "      <th></th>\n",
       "      <th>id</th>\n",
       "      <th>site_id</th>\n",
       "      <th>title</th>\n",
       "      <th>category_id</th>\n",
       "      <th>domain_id</th>\n",
       "    </tr>\n",
       "  </thead>\n",
       "  <tbody>\n",
       "    <tr>\n",
       "      <th>2486</th>\n",
       "      <td>MLA1151002596</td>\n",
       "      <td>MLA</td>\n",
       "      <td>motorola edge 30 128 gb gris 8 gb ram</td>\n",
       "      <td>MLA1055</td>\n",
       "      <td>MLA-CELLPHONES</td>\n",
       "    </tr>\n",
       "    <tr>\n",
       "      <th>2461</th>\n",
       "      <td>MLA918326691</td>\n",
       "      <td>MLA</td>\n",
       "      <td>sansei s191 dual sim 3 mb negro y rojo 4 mb ram</td>\n",
       "      <td>MLA1055</td>\n",
       "      <td>MLA-CELLPHONES</td>\n",
       "    </tr>\n",
       "    <tr>\n",
       "      <th>3090</th>\n",
       "      <td>MLA1132263997</td>\n",
       "      <td>MLA</td>\n",
       "      <td>pila 9v energizer max 522 rectangular   1 unidad</td>\n",
       "      <td>MLA6384</td>\n",
       "      <td>MLA-CELL_BATTERIES</td>\n",
       "    </tr>\n",
       "    <tr>\n",
       "      <th>666</th>\n",
       "      <td>MLA1132584768</td>\n",
       "      <td>MLA</td>\n",
       "      <td>samsung galaxy s21 fe gris oscuro 5g</td>\n",
       "      <td>MLA1055</td>\n",
       "      <td>MLA-CELLPHONES</td>\n",
       "    </tr>\n",
       "    <tr>\n",
       "      <th>2998</th>\n",
       "      <td>MLA1132263997</td>\n",
       "      <td>MLA</td>\n",
       "      <td>pila 9v energizer max 522 rectangular   1 unidad</td>\n",
       "      <td>MLA6384</td>\n",
       "      <td>MLA-CELL_BATTERIES</td>\n",
       "    </tr>\n",
       "    <tr>\n",
       "      <th>2008</th>\n",
       "      <td>MLA1150922023</td>\n",
       "      <td>MLA</td>\n",
       "      <td>tcl l7  32 gb negro 2 gb ram</td>\n",
       "      <td>MLA1055</td>\n",
       "      <td>MLA-CELLPHONES</td>\n",
       "    </tr>\n",
       "    <tr>\n",
       "      <th>3430</th>\n",
       "      <td>MLA1115022466</td>\n",
       "      <td>MLA</td>\n",
       "      <td>auriculares in ear inalambricos samsung galaxy...</td>\n",
       "      <td>MLA3697</td>\n",
       "      <td>MLA-HEADPHONES</td>\n",
       "    </tr>\n",
       "    <tr>\n",
       "      <th>2013</th>\n",
       "      <td>MLA1130806055</td>\n",
       "      <td>MLA</td>\n",
       "      <td>samsung galaxy a03 4gb   128gb</td>\n",
       "      <td>MLA1055</td>\n",
       "      <td>MLA-CELLPHONES</td>\n",
       "    </tr>\n",
       "    <tr>\n",
       "      <th>2007</th>\n",
       "      <td>MLA925745708</td>\n",
       "      <td>MLA</td>\n",
       "      <td>xiaomi redmi 9a dual sim 32 gb azul celeste 2 ...</td>\n",
       "      <td>MLA1055</td>\n",
       "      <td>MLA-CELLPHONES</td>\n",
       "    </tr>\n",
       "    <tr>\n",
       "      <th>860</th>\n",
       "      <td>MLA1133492016</td>\n",
       "      <td>MLA</td>\n",
       "      <td>tcl 20 se 256 gb nuit black 6 gb ram</td>\n",
       "      <td>MLA1055</td>\n",
       "      <td>MLA-CELLPHONES</td>\n",
       "    </tr>\n",
       "    <tr>\n",
       "      <th>1612</th>\n",
       "      <td>MLA1145733121</td>\n",
       "      <td>MLA</td>\n",
       "      <td>samsung galaxy z flip3 5g 128 gb phantom black...</td>\n",
       "      <td>MLA1055</td>\n",
       "      <td>MLA-CELLPHONES</td>\n",
       "    </tr>\n",
       "    <tr>\n",
       "      <th>1345</th>\n",
       "      <td>MLA1136887304</td>\n",
       "      <td>MLA</td>\n",
       "      <td>celular samsung galaxy s20fe 4g 128gb   6gb ra...</td>\n",
       "      <td>MLA1055</td>\n",
       "      <td>MLA-CELLPHONES</td>\n",
       "    </tr>\n",
       "    <tr>\n",
       "      <th>2655</th>\n",
       "      <td>MLA841085340</td>\n",
       "      <td>MLA</td>\n",
       "      <td>auriculares inalambricos sony wh ch510 negro</td>\n",
       "      <td>MLA3697</td>\n",
       "      <td>MLA-HEADPHONES</td>\n",
       "    </tr>\n",
       "    <tr>\n",
       "      <th>1930</th>\n",
       "      <td>MLA1135129886</td>\n",
       "      <td>MLA</td>\n",
       "      <td>celular samsung galaxy a13 128gb   4gb ram pls...</td>\n",
       "      <td>MLA1055</td>\n",
       "      <td>MLA-CELLPHONES</td>\n",
       "    </tr>\n",
       "    <tr>\n",
       "      <th>2670</th>\n",
       "      <td>MLA1123497729</td>\n",
       "      <td>MLA</td>\n",
       "      <td>auriculares in ear gamer inalambricos haylou g...</td>\n",
       "      <td>MLA3697</td>\n",
       "      <td>MLA-HEADPHONES</td>\n",
       "    </tr>\n",
       "    <tr>\n",
       "      <th>2416</th>\n",
       "      <td>MLA911326928</td>\n",
       "      <td>MLA</td>\n",
       "      <td>xiaomi redmi 9c dual sim 64 gb naranja amanece...</td>\n",
       "      <td>MLA1055</td>\n",
       "      <td>MLA-CELLPHONES</td>\n",
       "    </tr>\n",
       "    <tr>\n",
       "      <th>2710</th>\n",
       "      <td>MLA1123497729</td>\n",
       "      <td>MLA</td>\n",
       "      <td>auriculares in ear gamer inalambricos haylou g...</td>\n",
       "      <td>MLA3697</td>\n",
       "      <td>MLA-HEADPHONES</td>\n",
       "    </tr>\n",
       "    <tr>\n",
       "      <th>3447</th>\n",
       "      <td>MLA1147470283</td>\n",
       "      <td>MLA</td>\n",
       "      <td>auriculares in ear jbl c50hi negro</td>\n",
       "      <td>MLA3697</td>\n",
       "      <td>MLA-HEADPHONES</td>\n",
       "    </tr>\n",
       "    <tr>\n",
       "      <th>1469</th>\n",
       "      <td>MLA1150922023</td>\n",
       "      <td>MLA</td>\n",
       "      <td>tcl l7  32 gb negro 2 gb ram</td>\n",
       "      <td>MLA1055</td>\n",
       "      <td>MLA-CELLPHONES</td>\n",
       "    </tr>\n",
       "    <tr>\n",
       "      <th>3101</th>\n",
       "      <td>MLA1145019721</td>\n",
       "      <td>MLA</td>\n",
       "      <td>auriculares in ear inalambricos f9 5 blanco</td>\n",
       "      <td>MLA3697</td>\n",
       "      <td>MLA-HEADPHONES</td>\n",
       "    </tr>\n",
       "  </tbody>\n",
       "</table>\n",
       "</div>"
      ],
      "text/plain": [
       "                 id site_id  \\\n",
       "2486  MLA1151002596     MLA   \n",
       "2461   MLA918326691     MLA   \n",
       "3090  MLA1132263997     MLA   \n",
       "666   MLA1132584768     MLA   \n",
       "2998  MLA1132263997     MLA   \n",
       "2008  MLA1150922023     MLA   \n",
       "3430  MLA1115022466     MLA   \n",
       "2013  MLA1130806055     MLA   \n",
       "2007   MLA925745708     MLA   \n",
       "860   MLA1133492016     MLA   \n",
       "1612  MLA1145733121     MLA   \n",
       "1345  MLA1136887304     MLA   \n",
       "2655   MLA841085340     MLA   \n",
       "1930  MLA1135129886     MLA   \n",
       "2670  MLA1123497729     MLA   \n",
       "2416   MLA911326928     MLA   \n",
       "2710  MLA1123497729     MLA   \n",
       "3447  MLA1147470283     MLA   \n",
       "1469  MLA1150922023     MLA   \n",
       "3101  MLA1145019721     MLA   \n",
       "\n",
       "                                                  title category_id  \\\n",
       "2486              motorola edge 30 128 gb gris 8 gb ram     MLA1055   \n",
       "2461    sansei s191 dual sim 3 mb negro y rojo 4 mb ram     MLA1055   \n",
       "3090   pila 9v energizer max 522 rectangular   1 unidad     MLA6384   \n",
       "666                samsung galaxy s21 fe gris oscuro 5g     MLA1055   \n",
       "2998   pila 9v energizer max 522 rectangular   1 unidad     MLA6384   \n",
       "2008                       tcl l7  32 gb negro 2 gb ram     MLA1055   \n",
       "3430  auriculares in ear inalambricos samsung galaxy...     MLA3697   \n",
       "2013                     samsung galaxy a03 4gb   128gb     MLA1055   \n",
       "2007  xiaomi redmi 9a dual sim 32 gb azul celeste 2 ...     MLA1055   \n",
       "860                tcl 20 se 256 gb nuit black 6 gb ram     MLA1055   \n",
       "1612  samsung galaxy z flip3 5g 128 gb phantom black...     MLA1055   \n",
       "1345  celular samsung galaxy s20fe 4g 128gb   6gb ra...     MLA1055   \n",
       "2655       auriculares inalambricos sony wh ch510 negro     MLA3697   \n",
       "1930  celular samsung galaxy a13 128gb   4gb ram pls...     MLA1055   \n",
       "2670  auriculares in ear gamer inalambricos haylou g...     MLA3697   \n",
       "2416  xiaomi redmi 9c dual sim 64 gb naranja amanece...     MLA1055   \n",
       "2710  auriculares in ear gamer inalambricos haylou g...     MLA3697   \n",
       "3447                 auriculares in ear jbl c50hi negro     MLA3697   \n",
       "1469                       tcl l7  32 gb negro 2 gb ram     MLA1055   \n",
       "3101        auriculares in ear inalambricos f9 5 blanco     MLA3697   \n",
       "\n",
       "               domain_id  \n",
       "2486      MLA-CELLPHONES  \n",
       "2461      MLA-CELLPHONES  \n",
       "3090  MLA-CELL_BATTERIES  \n",
       "666       MLA-CELLPHONES  \n",
       "2998  MLA-CELL_BATTERIES  \n",
       "2008      MLA-CELLPHONES  \n",
       "3430      MLA-HEADPHONES  \n",
       "2013      MLA-CELLPHONES  \n",
       "2007      MLA-CELLPHONES  \n",
       "860       MLA-CELLPHONES  \n",
       "1612      MLA-CELLPHONES  \n",
       "1345      MLA-CELLPHONES  \n",
       "2655      MLA-HEADPHONES  \n",
       "1930      MLA-CELLPHONES  \n",
       "2670      MLA-HEADPHONES  \n",
       "2416      MLA-CELLPHONES  \n",
       "2710      MLA-HEADPHONES  \n",
       "3447      MLA-HEADPHONES  \n",
       "1469      MLA-CELLPHONES  \n",
       "3101      MLA-HEADPHONES  "
      ]
     },
     "execution_count": 89,
     "metadata": {},
     "output_type": "execute_result"
    }
   ],
   "source": [
    "df.sample(20)"
   ]
  },
  {
   "cell_type": "code",
   "execution_count": 103,
   "id": "08425d9b-e3cb-49dc-a34f-1afe5af9d19e",
   "metadata": {},
   "outputs": [],
   "source": [
    "@labeling_function()\n",
    "def is_cellphone(x):\n",
    "    return CELLPHONES if re.search(r\"samsung|ram|dual sim|celular\", x.title) else ABSTAIN\n",
    "\n",
    "@labeling_function()\n",
    "def is_cell_batteries(x):\n",
    "    return CELL_BATTERIES if re.search(r\"pila\", x.title) else ABSTAIN\n",
    "\n",
    "@labeling_function()\n",
    "def is_speakers(x):\n",
    "    return SPEAKERS if re.search(r\"parlante\", x.title) else ABSTAIN\n",
    "\n"
   ]
  },
  {
   "cell_type": "code",
   "execution_count": 104,
   "id": "fa460f4a-bf38-49a0-9d85-9a10c802704b",
   "metadata": {},
   "outputs": [],
   "source": [
    "lfs = [is_cellphone, is_cell_batteries, is_speakers]"
   ]
  },
  {
   "cell_type": "code",
   "execution_count": 105,
   "id": "0d67813c-3624-424a-9c3e-09567dfec6d6",
   "metadata": {},
   "outputs": [
    {
     "name": "stderr",
     "output_type": "stream",
     "text": [
      "100%|████████████████████████████████████████████████████████| 3568/3568 [00:00<00:00, 12128.67it/s]\n"
     ]
    }
   ],
   "source": [
    "applier = PandasLFApplier(lfs=lfs)\n",
    "L_train = applier.apply(df=df[['title']])"
   ]
  },
  {
   "cell_type": "code",
   "execution_count": 106,
   "id": "fe52f7aa-e056-4875-b2e2-468839585b51",
   "metadata": {},
   "outputs": [],
   "source": [
    "from snorkel.labeling import LFAnalysis\n"
   ]
  },
  {
   "cell_type": "code",
   "execution_count": 107,
   "id": "c84c355b-d2ae-4de1-83fb-9360677470ed",
   "metadata": {},
   "outputs": [
    {
     "data": {
      "text/html": [
       "<div>\n",
       "<style scoped>\n",
       "    .dataframe tbody tr th:only-of-type {\n",
       "        vertical-align: middle;\n",
       "    }\n",
       "\n",
       "    .dataframe tbody tr th {\n",
       "        vertical-align: top;\n",
       "    }\n",
       "\n",
       "    .dataframe thead th {\n",
       "        text-align: right;\n",
       "    }\n",
       "</style>\n",
       "<table border=\"1\" class=\"dataframe\">\n",
       "  <thead>\n",
       "    <tr style=\"text-align: right;\">\n",
       "      <th></th>\n",
       "      <th>j</th>\n",
       "      <th>Polarity</th>\n",
       "      <th>Coverage</th>\n",
       "      <th>Overlaps</th>\n",
       "      <th>Conflicts</th>\n",
       "    </tr>\n",
       "  </thead>\n",
       "  <tbody>\n",
       "    <tr>\n",
       "      <th>is_cellphone</th>\n",
       "      <td>0</td>\n",
       "      <td>[0]</td>\n",
       "      <td>0.674608</td>\n",
       "      <td>0.0</td>\n",
       "      <td>0.0</td>\n",
       "    </tr>\n",
       "    <tr>\n",
       "      <th>is_cell_batteries</th>\n",
       "      <td>1</td>\n",
       "      <td>[1]</td>\n",
       "      <td>0.052130</td>\n",
       "      <td>0.0</td>\n",
       "      <td>0.0</td>\n",
       "    </tr>\n",
       "    <tr>\n",
       "      <th>is_speakers</th>\n",
       "      <td>2</td>\n",
       "      <td>[2]</td>\n",
       "      <td>0.052691</td>\n",
       "      <td>0.0</td>\n",
       "      <td>0.0</td>\n",
       "    </tr>\n",
       "  </tbody>\n",
       "</table>\n",
       "</div>"
      ],
      "text/plain": [
       "                   j Polarity  Coverage  Overlaps  Conflicts\n",
       "is_cellphone       0      [0]  0.674608       0.0        0.0\n",
       "is_cell_batteries  1      [1]  0.052130       0.0        0.0\n",
       "is_speakers        2      [2]  0.052691       0.0        0.0"
      ]
     },
     "execution_count": 107,
     "metadata": {},
     "output_type": "execute_result"
    }
   ],
   "source": [
    "LFAnalysis(L=L_train, lfs=lfs).lf_summary()\n"
   ]
  },
  {
   "cell_type": "code",
   "execution_count": 108,
   "id": "94c9f7e3-de60-4a73-b4db-08da8197ff16",
   "metadata": {},
   "outputs": [],
   "source": [
    "from snorkel.labeling.model import LabelModel"
   ]
  },
  {
   "cell_type": "code",
   "execution_count": 109,
   "id": "e61ef5b3-99d5-4723-b441-e61af2d11c6a",
   "metadata": {},
   "outputs": [],
   "source": [
    "label_model = LabelModel(cardinality=3, verbose=True)\n",
    "label_model.fit(L_train, seed=123, lr=0.01, log_freq=10, n_epochs=100)"
   ]
  },
  {
   "cell_type": "code",
   "execution_count": 110,
   "id": "b5aa1a8d-f835-4575-a713-71a9d4ced716",
   "metadata": {},
   "outputs": [
    {
     "data": {
      "text/plain": [
       "3"
      ]
     },
     "execution_count": 110,
     "metadata": {},
     "output_type": "execute_result"
    }
   ],
   "source": [
    "label_model.cardinality"
   ]
  },
  {
   "cell_type": "code",
   "execution_count": 111,
   "id": "b0a0a5e5-9848-49a0-a4d0-6af5dde2d539",
   "metadata": {},
   "outputs": [],
   "source": [
    "df[\"labels\"] = label_model.predict(L_train)\n"
   ]
  },
  {
   "cell_type": "code",
   "execution_count": 101,
   "id": "36d975d3-8102-40c8-b9a4-a4fd64d5e409",
   "metadata": {},
   "outputs": [
    {
     "data": {
      "text/html": [
       "<div>\n",
       "<style scoped>\n",
       "    .dataframe tbody tr th:only-of-type {\n",
       "        vertical-align: middle;\n",
       "    }\n",
       "\n",
       "    .dataframe tbody tr th {\n",
       "        vertical-align: top;\n",
       "    }\n",
       "\n",
       "    .dataframe thead th {\n",
       "        text-align: right;\n",
       "    }\n",
       "</style>\n",
       "<table border=\"1\" class=\"dataframe\">\n",
       "  <thead>\n",
       "    <tr style=\"text-align: right;\">\n",
       "      <th></th>\n",
       "      <th>id</th>\n",
       "      <th>site_id</th>\n",
       "      <th>title</th>\n",
       "      <th>category_id</th>\n",
       "      <th>domain_id</th>\n",
       "      <th>labels</th>\n",
       "    </tr>\n",
       "  </thead>\n",
       "  <tbody>\n",
       "    <tr>\n",
       "      <th>0</th>\n",
       "      <td>MLA915976815</td>\n",
       "      <td>MLA</td>\n",
       "      <td>samsung galaxy a02 32 gb negro 2 gb ram</td>\n",
       "      <td>MLA1055</td>\n",
       "      <td>MLA-CELLPHONES</td>\n",
       "      <td>0</td>\n",
       "    </tr>\n",
       "    <tr>\n",
       "      <th>1</th>\n",
       "      <td>MLA1105441801</td>\n",
       "      <td>MLA</td>\n",
       "      <td>samsung galaxy a12 64 gb azul 4 gb ram</td>\n",
       "      <td>MLA1055</td>\n",
       "      <td>MLA-CELLPHONES</td>\n",
       "      <td>0</td>\n",
       "    </tr>\n",
       "  </tbody>\n",
       "</table>\n",
       "</div>"
      ],
      "text/plain": [
       "              id site_id                                    title category_id  \\\n",
       "0   MLA915976815     MLA  samsung galaxy a02 32 gb negro 2 gb ram     MLA1055   \n",
       "1  MLA1105441801     MLA   samsung galaxy a12 64 gb azul 4 gb ram     MLA1055   \n",
       "\n",
       "        domain_id  labels  \n",
       "0  MLA-CELLPHONES       0  \n",
       "1  MLA-CELLPHONES       0  "
      ]
     },
     "execution_count": 101,
     "metadata": {},
     "output_type": "execute_result"
    }
   ],
   "source": [
    "df.head(2)"
   ]
  },
  {
   "cell_type": "code",
   "execution_count": null,
   "id": "08cf603b-c6e3-45ab-a38c-46343f6a4be9",
   "metadata": {},
   "outputs": [],
   "source": [
    "df"
   ]
  },
  {
   "cell_type": "markdown",
   "id": "70105f32-f50b-437d-9d82-b917842cb3b7",
   "metadata": {},
   "source": [
    "### Model"
   ]
  },
  {
   "cell_type": "code",
   "execution_count": 102,
   "id": "75a4c0d3-3d75-4bba-a649-94692077067d",
   "metadata": {},
   "outputs": [],
   "source": [
    "import pandas as pd"
   ]
  },
  {
   "cell_type": "code",
   "execution_count": 103,
   "id": "27c034f1-0382-4627-aced-b860c18d37a5",
   "metadata": {},
   "outputs": [],
   "source": [
    "df = pd.read_csv('items_meli_proc.csv', sep=\"␗\", engine='python')"
   ]
  },
  {
   "cell_type": "code",
   "execution_count": 104,
   "id": "d61a4b58-0c3a-4d85-8ccc-3bdf6539496b",
   "metadata": {},
   "outputs": [],
   "source": [
    "df = df[['title', 'domain_id']]"
   ]
  },
  {
   "cell_type": "code",
   "execution_count": 105,
   "id": "8542d8c1-3298-477f-b36d-4a0246df5aab",
   "metadata": {},
   "outputs": [],
   "source": [
    "df = df[df.domain_id.isin(['MLA-CELLPHONES', 'MLA-HEADPHONES'])].reset_index(drop=True)"
   ]
  },
  {
   "cell_type": "code",
   "execution_count": 106,
   "id": "daf8824d-46a3-42b9-90a3-6a8106c8d65a",
   "metadata": {},
   "outputs": [
    {
     "data": {
      "text/plain": [
       "<AxesSubplot:>"
      ]
     },
     "execution_count": 106,
     "metadata": {},
     "output_type": "execute_result"
    },
    {
     "data": {
      "image/png": "[encoded data removed]",
      "text/plain": [
       "<Figure size 432x288 with 1 Axes>"
      ]
     },
     "metadata": {
      "needs_background": "light"
     },
     "output_type": "display_data"
    }
   ],
   "source": [
    "df.domain_id.hist()"
   ]
  },
  {
   "cell_type": "code",
   "execution_count": 107,
   "id": "01c34d45-90ed-4787-b740-cc4bfb62268b",
   "metadata": {},
   "outputs": [],
   "source": [
    "df[\"domain_id\"].replace({\"MLA-CELLPHONES\": 0, \"MLA-HEADPHONES\": 1}, inplace=True)"
   ]
  },
  {
   "cell_type": "code",
   "execution_count": 108,
   "id": "03550db9-49b8-47fb-b92a-cc927d621fb3",
   "metadata": {},
   "outputs": [
    {
     "data": {
      "text/plain": [
       "array([0, 1])"
      ]
     },
     "execution_count": 108,
     "metadata": {},
     "output_type": "execute_result"
    }
   ],
   "source": [
    "df.domain_id.unique()"
   ]
  },
  {
   "cell_type": "code",
   "execution_count": 20,
   "id": "f3dde066-c86e-4c3a-99ae-5a399b50c765",
   "metadata": {},
   "outputs": [],
   "source": [
    "df.to_csv('train.csv', index=False)"
   ]
  },
  {
   "cell_type": "code",
   "execution_count": null,
   "id": "acc62700-a573-4875-85ba-c0f8a2a09e54",
   "metadata": {},
   "outputs": [],
   "source": []
  },
  {
   "cell_type": "code",
   "execution_count": null,
   "id": "f00f5466-1cc6-40f5-b4a6-12e1a0097ca0",
   "metadata": {},
   "outputs": [],
   "source": [
    "\"todos los perros comen carne\""
   ]
  },
  {
   "cell_type": "code",
   "execution_count": null,
   "id": "2ba34dad-5775-4c7b-b318-348cde06f86b",
   "metadata": {},
   "outputs": [],
   "source": [
    "todos, los, perros, "
   ]
  },
  {
   "cell_type": "code",
   "execution_count": null,
   "id": "3c72bfd9-b890-4816-b8c6-eca73e940394",
   "metadata": {},
   "outputs": [],
   "source": [
    "todos los\n",
    "los perros\n",
    "perroos comen\n",
    "comen carne"
   ]
  },
  {
   "cell_type": "code",
   "execution_count": null,
   "id": "09ea8380-fa03-4ff3-b9db-3698aaf2213a",
   "metadata": {},
   "outputs": [],
   "source": [
    "todos los perros\n",
    "los perros comen\n",
    "perros comen carne"
   ]
  }
 ],
 "metadata": {
  "kernelspec": {
   "display_name": "Python 3 (ipykernel)",
   "language": "python",
   "name": "python3"
  },
  "language_info": {
   "codemirror_mode": {
    "name": "ipython",
    "version": 3
   },
   "file_extension": ".py",
   "mimetype": "text/x-python",
   "name": "python",
   "nbconvert_exporter": "python",
   "pygments_lexer": "ipython3",
   "version": "3.9.10"
  }
 },
 "nbformat": 4,
 "nbformat_minor": 5
}
