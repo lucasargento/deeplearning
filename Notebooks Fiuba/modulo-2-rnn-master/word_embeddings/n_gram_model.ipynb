{
 "cells": [
  {
   "cell_type": "markdown",
   "metadata": {},
   "source": [
    "# Word2vec & Word Embeddings"
   ]
  },
  {
   "cell_type": "markdown",
   "metadata": {},
   "source": [
    "Word2vec se basa en la idea de que el significado de una palabra está definido por su contexto. El contexto se representa como palabras circundantes."
   ]
  },
  {
   "cell_type": "markdown",
   "metadata": {
    "id": "ZOyYERzKb3vA",
    "tags": []
   },
   "source": [
    "## One hot encoding \n",
    "\n",
    "<img src=\"images/one_hot_encoding.png\" alt=\"drawing\" width=\"500\"/>"
   ]
  },
  {
   "cell_type": "markdown",
   "metadata": {},
   "source": [
    "## CBOW"
   ]
  },
  {
   "cell_type": "markdown",
   "metadata": {},
   "source": [
    "Un modelo que predice una palabra actual en función de sus palabras de contexto."
   ]
  },
  {
   "cell_type": "markdown",
   "metadata": {},
   "source": [
    "## <img src=\"images/cbow.png\" alt=\"drawing\" width=\"700\"/>"
   ]
  },
  {
   "cell_type": "markdown",
   "metadata": {},
   "source": [
    "## Skip-Gram"
   ]
  },
  {
   "cell_type": "markdown",
   "metadata": {},
   "source": [
    "Un modelo que predice palabras de contexto en función de la palabra actual."
   ]
  },
  {
   "cell_type": "markdown",
   "metadata": {
    "id": "Y1pseyeEcpC_"
   },
   "source": [
    "<img src=\"images/skipgram.png\" alt=\"drawing\" width=\"700\"/>"
   ]
  },
  {
   "cell_type": "code",
   "execution_count": null,
   "metadata": {},
   "outputs": [],
   "source": []
  },
  {
   "cell_type": "markdown",
   "metadata": {
    "id": "YwZUk9Orc8Eq",
    "tags": []
   },
   "source": [
    "## Redes neuronales\n",
    "\n",
    "### Skipgram\n",
    "\n",
    "<img src=\"images/word_embedding_architecture.png\" width=70% style=\"float: center;\"></img>\n"
   ]
  },
  {
   "cell_type": "markdown",
   "metadata": {
    "id": "uCPQShkMf8-H"
   },
   "source": [
    "### CBoW / Skip-gram\n",
    "\n",
    "<img src=\"images/Continuous-Bag-of-words-CBOW-CB-and-Skip-gram-SG-training-model-illustrations.png\" width=50% style=\"float: center;\"></img>"
   ]
  },
  {
   "cell_type": "markdown",
   "metadata": {
    "id": "eIBmbrBbY-O7"
   },
   "source": [
    "## CBoW"
   ]
  },
  {
   "cell_type": "code",
   "execution_count": 1,
   "metadata": {},
   "outputs": [],
   "source": [
    "import torch\n",
    "import torch.nn as nn\n",
    "\n",
    "def make_context_vector(context, word_to_ix):\n",
    "    idxs = [word_to_ix[w] for w in context]\n",
    "    return torch.tensor(idxs, dtype=torch.long)\n",
    "\n",
    "CONTEXT_SIZE = 2  # 2 words to the left, 2 to the right\n",
    "EMDEDDING_DIM = 100\n",
    "\n",
    "raw_text = \"\"\"Elon Musk es un empresario inversor y magnate estadounidense de origen sudafricano. \n",
    "Es el fundador, consejero delegado e ingeniero jefe de SpaceX; inversor ángel, CEO y arquitecto de productos de Tesla, Inc; \n",
    "fundador de The Boring Company; y cofundador de Neuralink y OpenAI. \n",
    "Con un patrimonio neto estimado en unos 252 mil millones de dólares en abril de 2022, Musk es la persona más rica del mundo según \n",
    "el índice de multimillonarios de Bloomberg y la lista de multimillonarios en tiempo real de Forbes.\"\"\".split()\n",
    "\n",
    "vocab = set(raw_text)\n",
    "vocab_size = len(vocab)"
   ]
  },
  {
   "cell_type": "code",
   "execution_count": 2,
   "metadata": {},
   "outputs": [],
   "source": [
    "word_to_ix = {word:ix for ix, word in enumerate(vocab)}\n",
    "ix_to_word = {ix:word for ix, word in enumerate(vocab)}"
   ]
  },
  {
   "cell_type": "code",
   "execution_count": 4,
   "metadata": {
    "collapsed": true,
    "jupyter": {
     "outputs_hidden": true
    },
    "tags": []
   },
   "outputs": [
    {
     "data": {
      "text/plain": [
       "{0: 'ingeniero',\n",
       " 1: 'Tesla,',\n",
       " 2: 'SpaceX;',\n",
       " 3: 'neto',\n",
       " 4: 'ángel,',\n",
       " 5: 'según',\n",
       " 6: 'sudafricano.',\n",
       " 7: 'un',\n",
       " 8: 'jefe',\n",
       " 9: 'Elon',\n",
       " 10: 'Inc;',\n",
       " 11: 'unos',\n",
       " 12: 'del',\n",
       " 13: 'OpenAI.',\n",
       " 14: 'lista',\n",
       " 15: 'estimado',\n",
       " 16: 'fundador,',\n",
       " 17: 'empresario',\n",
       " 18: 'abril',\n",
       " 19: '2022,',\n",
       " 20: 'índice',\n",
       " 21: 'real',\n",
       " 22: 'patrimonio',\n",
       " 23: 'Company;',\n",
       " 24: 'el',\n",
       " 25: 'consejero',\n",
       " 26: '252',\n",
       " 27: 'inversor',\n",
       " 28: 'estadounidense',\n",
       " 29: 'Es',\n",
       " 30: 'es',\n",
       " 31: 'arquitecto',\n",
       " 32: 'rica',\n",
       " 33: 'y',\n",
       " 34: 'delegado',\n",
       " 35: 'CEO',\n",
       " 36: 'fundador',\n",
       " 37: 'la',\n",
       " 38: 'multimillonarios',\n",
       " 39: 'e',\n",
       " 40: 'en',\n",
       " 41: 'productos',\n",
       " 42: 'mundo',\n",
       " 43: 'persona',\n",
       " 44: 'cofundador',\n",
       " 45: 'Bloomberg',\n",
       " 46: 'de',\n",
       " 47: 'millones',\n",
       " 48: 'origen',\n",
       " 49: 'Musk',\n",
       " 50: 'mil',\n",
       " 51: 'dólares',\n",
       " 52: 'más',\n",
       " 53: 'Boring',\n",
       " 54: 'Con',\n",
       " 55: 'tiempo',\n",
       " 56: 'Forbes.',\n",
       " 57: 'magnate',\n",
       " 58: 'Neuralink',\n",
       " 59: 'The'}"
      ]
     },
     "execution_count": 4,
     "metadata": {},
     "output_type": "execute_result"
    }
   ],
   "source": [
    "ix_to_word"
   ]
  },
  {
   "cell_type": "code",
   "execution_count": 3,
   "metadata": {
    "collapsed": true,
    "jupyter": {
     "outputs_hidden": true
    },
    "tags": []
   },
   "outputs": [
    {
     "data": {
      "text/plain": [
       "{'ingeniero': 0,\n",
       " 'Tesla,': 1,\n",
       " 'SpaceX;': 2,\n",
       " 'neto': 3,\n",
       " 'ángel,': 4,\n",
       " 'según': 5,\n",
       " 'sudafricano.': 6,\n",
       " 'un': 7,\n",
       " 'jefe': 8,\n",
       " 'Elon': 9,\n",
       " 'Inc;': 10,\n",
       " 'unos': 11,\n",
       " 'del': 12,\n",
       " 'OpenAI.': 13,\n",
       " 'lista': 14,\n",
       " 'estimado': 15,\n",
       " 'fundador,': 16,\n",
       " 'empresario': 17,\n",
       " 'abril': 18,\n",
       " '2022,': 19,\n",
       " 'índice': 20,\n",
       " 'real': 21,\n",
       " 'patrimonio': 22,\n",
       " 'Company;': 23,\n",
       " 'el': 24,\n",
       " 'consejero': 25,\n",
       " '252': 26,\n",
       " 'inversor': 27,\n",
       " 'estadounidense': 28,\n",
       " 'Es': 29,\n",
       " 'es': 30,\n",
       " 'arquitecto': 31,\n",
       " 'rica': 32,\n",
       " 'y': 33,\n",
       " 'delegado': 34,\n",
       " 'CEO': 35,\n",
       " 'fundador': 36,\n",
       " 'la': 37,\n",
       " 'multimillonarios': 38,\n",
       " 'e': 39,\n",
       " 'en': 40,\n",
       " 'productos': 41,\n",
       " 'mundo': 42,\n",
       " 'persona': 43,\n",
       " 'cofundador': 44,\n",
       " 'Bloomberg': 45,\n",
       " 'de': 46,\n",
       " 'millones': 47,\n",
       " 'origen': 48,\n",
       " 'Musk': 49,\n",
       " 'mil': 50,\n",
       " 'dólares': 51,\n",
       " 'más': 52,\n",
       " 'Boring': 53,\n",
       " 'Con': 54,\n",
       " 'tiempo': 55,\n",
       " 'Forbes.': 56,\n",
       " 'magnate': 57,\n",
       " 'Neuralink': 58,\n",
       " 'The': 59}"
      ]
     },
     "execution_count": 3,
     "metadata": {},
     "output_type": "execute_result"
    }
   ],
   "source": [
    "word_to_ix"
   ]
  },
  {
   "cell_type": "code",
   "execution_count": 5,
   "metadata": {},
   "outputs": [],
   "source": [
    "\n",
    "data = []\n",
    "for i in range(2, len(raw_text) - 2):\n",
    "    context = [raw_text[i - 2], raw_text[i - 1],\n",
    "               raw_text[i + 1], raw_text[i + 2]]\n",
    "    target = raw_text[i]\n",
    "    data.append((context, target))"
   ]
  },
  {
   "cell_type": "code",
   "execution_count": 7,
   "metadata": {
    "id": "gPKNn5HNY9JB"
   },
   "outputs": [
    {
     "name": "stdout",
     "output_type": "stream",
     "text": [
      "Raw text: Elon Musk es un empresario inversor y magnate estadounidense de origen sudafricano. Es el fundador, consejero delegado e ingeniero jefe de SpaceX; inversor ángel, CEO y arquitecto de productos de Tesla, Inc; fundador de The Boring Company; y cofundador de Neuralink y OpenAI. Con un patrimonio neto estimado en unos 252 mil millones de dólares en abril de 2022, Musk es la persona más rica del mundo según el índice de multimillonarios de Bloomberg y la lista de multimillonarios en tiempo real de Forbes.\n",
      "\n",
      "Contexto dado: ['Elon', 'Musk', 'un', 'empresario']\n",
      "\n",
      "Prediccion: es\n"
     ]
    }
   ],
   "source": [
    "\n",
    "class CBOW(torch.nn.Module):\n",
    "    def __init__(self, vocab_size, embedding_dim):\n",
    "        super(CBOW, self).__init__()\n",
    "\n",
    "        self.embeddings = nn.Embedding(vocab_size, embedding_dim)\n",
    "        self.linear1 = nn.Linear(embedding_dim, 128)\n",
    "        self.activation_function1 = nn.ReLU()\n",
    "        \n",
    "        self.linear2 = nn.Linear(128, vocab_size)\n",
    "        self.activation_function2 = nn.LogSoftmax(dim = -1)\n",
    "        \n",
    "\n",
    "    def forward(self, inputs):\n",
    "        embeds = sum(self.embeddings(inputs)).view(1,-1)\n",
    "        out = self.linear1(embeds)\n",
    "        out = self.activation_function1(out)\n",
    "        out = self.linear2(out)\n",
    "        out = self.activation_function2(out)\n",
    "        return out\n",
    "\n",
    "    def get_word_emdedding(self, word):\n",
    "        word = torch.tensor([word_to_ix[word]])\n",
    "        return self.embeddings(word).view(1,-1)\n",
    "\n",
    "\n",
    "model = CBOW(vocab_size, EMDEDDING_DIM)\n",
    "\n",
    "loss_function = nn.NLLLoss()\n",
    "optimizer = torch.optim.SGD(model.parameters(), lr=0.001)\n",
    "\n",
    "# TRAIN\n",
    "for epoch in range(50):\n",
    "    total_loss = 0\n",
    "\n",
    "    for context, target in data:\n",
    "        context_vector = make_context_vector(context, word_to_ix)  \n",
    "\n",
    "        log_probs = model(context_vector)\n",
    "\n",
    "        total_loss += loss_function(log_probs, torch.tensor([word_to_ix[target]]))\n",
    "\n",
    "    #optimize at the end of each epoch\n",
    "    optimizer.zero_grad()\n",
    "    total_loss.backward()\n",
    "    optimizer.step()\n",
    "\n",
    "# TEST\n",
    "context = ['Elon','Musk','un', 'empresario']\n",
    "context_vector = make_context_vector(context, word_to_ix)\n",
    "a = model(context_vector)\n",
    "\n",
    "print(f'Raw text: {\" \".join(raw_text)}\\n')\n",
    "print(f'Contexto dado: {context}\\n')\n",
    "print(f'Prediccion: {ix_to_word[torch.argmax(a[0]).item()]}')"
   ]
  },
  {
   "cell_type": "code",
   "execution_count": null,
   "metadata": {},
   "outputs": [],
   "source": [
    "model"
   ]
  },
  {
   "cell_type": "code",
   "execution_count": 9,
   "metadata": {},
   "outputs": [
    {
     "data": {
      "text/plain": [
       "torch.Size([100])"
      ]
     },
     "execution_count": 9,
     "metadata": {},
     "output_type": "execute_result"
    }
   ],
   "source": [
    "model.embeddings.weight[word_to_ix['Elon']].shape"
   ]
  },
  {
   "cell_type": "code",
   "execution_count": 11,
   "metadata": {},
   "outputs": [
    {
     "data": {
      "text/plain": [
       "{'empresario,': 0,\n",
       " 'origen': 1,\n",
       " 'consejero': 2,\n",
       " 'fundador': 3,\n",
       " 'rica': 4,\n",
       " 'sudafricano.': 5,\n",
       " '252': 6,\n",
       " 'e': 7,\n",
       " 'The': 8,\n",
       " 'dólares': 9,\n",
       " '2022,': 10,\n",
       " 'ingeniero': 11,\n",
       " 'más': 12,\n",
       " 'y': 13,\n",
       " 'Inc;': 14,\n",
       " 'de': 15,\n",
       " 'estadounidense': 16,\n",
       " 'mil': 17,\n",
       " 'millones': 18,\n",
       " 'en': 19,\n",
       " 'multimillonarios': 20,\n",
       " 'un': 21,\n",
       " 'persona': 22,\n",
       " 'tiempo': 23,\n",
       " 'magnate': 24,\n",
       " 'Tesla,': 25,\n",
       " 'Neuralink': 26,\n",
       " 'Forbes.': 27,\n",
       " 'ángel,': 28,\n",
       " 'patrimonio': 29,\n",
       " 'neto': 30,\n",
       " 'fundador,': 31,\n",
       " 'CEO': 32,\n",
       " 'Con': 33,\n",
       " 'según': 34,\n",
       " 'Elon': 35,\n",
       " 'Es': 36,\n",
       " 'Company;': 37,\n",
       " 'lista': 38,\n",
       " 'cofundador': 39,\n",
       " 'abril': 40,\n",
       " 'el': 41,\n",
       " 'Boring': 42,\n",
       " 'la': 43,\n",
       " 'OpenAI.': 44,\n",
       " 'es': 45,\n",
       " 'Musk': 46,\n",
       " 'jefe': 47,\n",
       " 'mundo': 48,\n",
       " 'arquitecto': 49,\n",
       " 'inversor': 50,\n",
       " 'Bloomberg': 51,\n",
       " 'índice': 52,\n",
       " 'delegado': 53,\n",
       " 'unos': 54,\n",
       " 'del': 55,\n",
       " 'real': 56,\n",
       " 'estimado': 57,\n",
       " 'SpaceX;': 58,\n",
       " 'productos': 59}"
      ]
     },
     "execution_count": 11,
     "metadata": {},
     "output_type": "execute_result"
    }
   ],
   "source": [
    "word_to_ix"
   ]
  },
  {
   "cell_type": "code",
   "execution_count": null,
   "metadata": {},
   "outputs": [],
   "source": []
  }
 ],
 "metadata": {
  "colab": {
   "name": "n_gram_model.ipynb",
   "provenance": []
  },
  "kernelspec": {
   "display_name": "Python 3 (ipykernel)",
   "language": "python",
   "name": "python3"
  },
  "language_info": {
   "codemirror_mode": {
    "name": "ipython",
    "version": 3
   },
   "file_extension": ".py",
   "mimetype": "text/x-python",
   "name": "python",
   "nbconvert_exporter": "python",
   "pygments_lexer": "ipython3",
   "version": "3.9.10"
  }
 },
 "nbformat": 4,
 "nbformat_minor": 4
}
