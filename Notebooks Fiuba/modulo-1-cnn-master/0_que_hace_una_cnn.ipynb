{
 "cells": [
  {
   "cell_type": "markdown",
   "id": "25202a08-0d64-4eb6-ab7c-cd34772f67d2",
   "metadata": {},
   "source": [
    "# ¿Qué puede hacer una CNN?"
   ]
  },
  {
   "cell_type": "markdown",
   "id": "80d40842-3aa7-46f0-97eb-30d2df90dc33",
   "metadata": {
    "tags": []
   },
   "source": [
    "## 1. Detección de objetos (Object detection)"
   ]
  },
  {
   "cell_type": "markdown",
   "id": "4d060907-a29e-46d7-b416-9f927efe6e00",
   "metadata": {},
   "source": [
    "<img src=\"images/object_detection.jpeg\" alt=\"Drawing\" style=\"width: 700px;\"/>"
   ]
  },
  {
   "cell_type": "markdown",
   "id": "c2df9a44-5392-4f16-8953-377d1a2be00d",
   "metadata": {},
   "source": [
    "## 2. Segmentación de objetos (Object segmentation)"
   ]
  },
  {
   "cell_type": "markdown",
   "id": "8391b5b9-e3aa-4b0b-855b-096172c9d60a",
   "metadata": {},
   "source": [
    "<img src=\"images/object_segmentation.jpeg\" alt=\"Drawing\" style=\"width: 700px;\"/>\n"
   ]
  },
  {
   "cell_type": "markdown",
   "id": "82955482-d3e8-48d9-ab3d-d2f944771c91",
   "metadata": {
    "tags": []
   },
   "source": [
    "## 3. Regresión"
   ]
  },
  {
   "cell_type": "markdown",
   "id": "dcb052ae-ad85-485a-a32e-5a17ad53da22",
   "metadata": {},
   "source": [
    "<img src=\"images/cnn_regression.png\" alt=\"Drawing\" style=\"width: 700px;\"/>\n",
    "\n",
    "\n"
   ]
  },
  {
   "cell_type": "markdown",
   "id": "065bcee0-5587-45ba-b31c-e20a41b6d922",
   "metadata": {},
   "source": [
    "## 4. Detección de rostros (face recognition)"
   ]
  },
  {
   "cell_type": "markdown",
   "id": "293c85fa-d5f1-411d-8c00-2464e4ac0399",
   "metadata": {},
   "source": [
    "![SegmentLocal](images/face-recognition.gif \"segment\")\n"
   ]
  },
  {
   "cell_type": "markdown",
   "id": "640915e2-7e7e-4c0f-ab57-039a4d4265d9",
   "metadata": {},
   "source": [
    "# ¿Por qué son tareas difíciles?"
   ]
  },
  {
   "cell_type": "markdown",
   "id": "f5241393-c1c4-4655-8191-70d848d496de",
   "metadata": {
    "tags": []
   },
   "source": [
    "### 1 - Diferente luz"
   ]
  },
  {
   "cell_type": "markdown",
   "id": "236c89d6-41fc-48fc-9f3a-c711d7c5e351",
   "metadata": {},
   "source": [
    "<img src=\"images/cats_luz.png\" alt=\"Drawing\" style=\"width: 700px;\"/>"
   ]
  },
  {
   "cell_type": "markdown",
   "id": "7349fb33-9b9c-4fc7-bd2e-a29c8c66e7dd",
   "metadata": {},
   "source": [
    "### 2 - Oclusión"
   ]
  },
  {
   "cell_type": "markdown",
   "id": "c1de66d0-8af7-47c3-a881-8ef3c00ef968",
   "metadata": {},
   "source": [
    "<img src=\"images/dog_bed.jpeg\" alt=\"Drawing\" style=\"width: 700px;\"/>"
   ]
  },
  {
   "cell_type": "markdown",
   "id": "4ca3b77a-4746-4ac3-a39c-629332309ba5",
   "metadata": {
    "tags": []
   },
   "source": [
    "### 3 - Posición de la camara"
   ]
  },
  {
   "cell_type": "markdown",
   "id": "868e1b19-3236-428e-83c7-99c8cb1ab8dc",
   "metadata": {},
   "source": [
    "<img src=\"images/punto_de_cama.jpeg\" alt=\"Drawing\" style=\"width: 700px;\"/>"
   ]
  },
  {
   "cell_type": "markdown",
   "id": "c430316a-adcf-41c5-b4ef-c6a4d0a344d8",
   "metadata": {},
   "source": [
    "### 4 - Variación intraclase"
   ]
  },
  {
   "cell_type": "markdown",
   "id": "a4f019a4-02dc-427e-b154-5394ae96d792",
   "metadata": {},
   "source": [
    "<img src=\"images/razasperro.jpeg\" alt=\"Drawing\" style=\"width: 700px;\"/>"
   ]
  },
  {
   "cell_type": "markdown",
   "id": "8e87bfd2-1a14-44d4-8bba-0a229ce9717e",
   "metadata": {},
   "source": [
    "### 5 - Traslación"
   ]
  },
  {
   "cell_type": "markdown",
   "id": "8111dc9b-dc74-459c-ab67-29f12c3b0c5e",
   "metadata": {},
   "source": [
    "<img src=\"images/traslacion.png\" alt=\"Drawing\" style=\"width: 700px;\"/>"
   ]
  },
  {
   "cell_type": "markdown",
   "id": "630a0148-e15f-49be-be44-f8e46e289e91",
   "metadata": {
    "tags": []
   },
   "source": [
    "### 6 - Problema típico"
   ]
  },
  {
   "cell_type": "markdown",
   "id": "c1d37cb3-bf5b-4af1-833f-356e801cd86f",
   "metadata": {},
   "source": [
    "<img src=\"images/dog_muffin.jpeg\" alt=\"Drawing\" style=\"width: 700px;\"/>"
   ]
  },
  {
   "cell_type": "code",
   "execution_count": null,
   "id": "2a59fcd2-4901-470f-96ef-29f925627cce",
   "metadata": {},
   "outputs": [],
   "source": []
  }
 ],
 "metadata": {
  "kernelspec": {
   "display_name": "Python 3 (ipykernel)",
   "language": "python",
   "name": "python3"
  },
  "language_info": {
   "codemirror_mode": {
    "name": "ipython",
    "version": 3
   },
   "file_extension": ".py",
   "mimetype": "text/x-python",
   "name": "python",
   "nbconvert_exporter": "python",
   "pygments_lexer": "ipython3",
   "version": "3.9.10"
  }
 },
 "nbformat": 4,
 "nbformat_minor": 5
}
