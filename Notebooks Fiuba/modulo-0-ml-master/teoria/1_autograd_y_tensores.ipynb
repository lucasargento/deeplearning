{
 "cells": [
  {
   "cell_type": "markdown",
   "id": "12dc8e16-bb35-43c1-9119-dd1da1065e75",
   "metadata": {},
   "source": [
    "# PyTorch"
   ]
  },
  {
   "cell_type": "markdown",
   "id": "4979685a-58a6-4681-9e78-57091231f618",
   "metadata": {},
   "source": [
    "PyTorch es un *framework open source* de aprendizaje automático basado en la librería Torch."
   ]
  },
  {
   "cell_type": "markdown",
   "id": "b839ed76-7857-4575-85a0-60ad8292a195",
   "metadata": {},
   "source": [
    "Usado por compañías como:\n",
    "* Facebook\n",
    "* OpenAI\n",
    "* Tesla (autopilot)\n",
    "* Microsoft\n",
    "* Toyota\n",
    "* Airbnb"
   ]
  },
  {
   "cell_type": "markdown",
   "id": "a9b3d9c7-b2f0-49b0-bf4e-7b63cbe58eff",
   "metadata": {},
   "source": [
    "### Principales módulos"
   ]
  },
  {
   "cell_type": "markdown",
   "id": "a530e768-87b9-42c6-8344-27c3d3f7a2d8",
   "metadata": {},
   "source": [
    "* **torch**: módulo para cálculo tensorial (como NumPy), con soporte para GPU.\n",
    "\n",
    "* **torch.autograd**: proporciona clases y funciones que implementan la diferenciación automática de funciones arbitrarias con valores escalares.\n",
    "\n",
    "* **torch.nn**: módulo para creación de redes neuronales integrado con autograd. Proporciona funcionalidades de alto nivel para la creación de las redes (cnn, rnn, etc) y entrenamiento.\n",
    "\n"
   ]
  },
  {
   "cell_type": "markdown",
   "id": "3699644c-e8c7-4a15-8c20-93b23287dce6",
   "metadata": {},
   "source": [
    "<img src=\"images/pytorch_api.png\" alt=\"Drawing\" style=\"width: 500px;\"/>"
   ]
  },
  {
   "cell_type": "markdown",
   "id": "9caa4aab",
   "metadata": {},
   "source": [
    "## Autograd"
   ]
  },
  {
   "cell_type": "markdown",
   "id": "d5850115",
   "metadata": {},
   "source": [
    "Autograd es un paquete de diferenciación automática dentro de PyTorch. Para poder utilizarla solo se debe inicializar el tensor con el parámetro **requires_grad=True**. Si lo establece en **False**, el gradiente no se calculará automáticamente"
   ]
  },
  {
   "cell_type": "markdown",
   "id": "eb03af24",
   "metadata": {},
   "source": [
    "Veamos un ejemplo y verifiquemosló utilizando **Autograd**"
   ]
  },
  {
   "cell_type": "markdown",
   "id": "8a687691-f572-4ed5-96ce-08f5f2025e85",
   "metadata": {},
   "source": [
    "<img src=\"images/derivada_parcial.png\" alt=\"Drawing\" style=\"width: 120px;\"/>"
   ]
  },
  {
   "cell_type": "code",
   "execution_count": null,
   "id": "0872a337",
   "metadata": {},
   "outputs": [],
   "source": [
    "import torch\n",
    "\n",
    "x = torch.tensor([5.], requires_grad=True)\n",
    "y = 3 * x * x\n",
    "z = 2 * y\n",
    "\n",
    "z.backward()  # calcula el gradiente de manera automática\n",
    "\n",
    "x.grad"
   ]
  },
  {
   "cell_type": "markdown",
   "id": "6056968f-8f81-476f-a6d2-0d0fceea27fc",
   "metadata": {},
   "source": [
    "#### Verificación"
   ]
  },
  {
   "cell_type": "markdown",
   "id": "b01b03b9-d00b-4b39-a0f2-f02687c1da16",
   "metadata": {},
   "source": [
    "<img src=\"images/verificacion.png\" alt=\"Drawing\" style=\"width: 200px;\"/>"
   ]
  },
  {
   "cell_type": "markdown",
   "id": "f2304225-a928-44cf-a6ee-2e29df21838a",
   "metadata": {
    "tags": []
   },
   "source": [
    "# Tensores"
   ]
  },
  {
   "cell_type": "markdown",
   "id": "ace7c268-4163-45e6-8761-9b1408f1ccea",
   "metadata": {},
   "source": [
    "<img src=\"images/algebratensor.png\" alt=\"Drawing\" style=\"width: 400px;\"/>"
   ]
  },
  {
   "cell_type": "code",
   "execution_count": null,
   "id": "a81415d3-f5b0-471f-97e1-a5cd5df052a4",
   "metadata": {},
   "outputs": [],
   "source": [
    "import torch\n",
    "import numpy as np"
   ]
  },
  {
   "cell_type": "code",
   "execution_count": null,
   "id": "4fee3f7b-06c1-4fa4-b715-9b53b8a6476f",
   "metadata": {},
   "outputs": [],
   "source": [
    "a = torch.tensor([1.])"
   ]
  },
  {
   "cell_type": "code",
   "execution_count": null,
   "id": "fbaf640f-93fd-4a35-93b4-5e105ec048f8",
   "metadata": {},
   "outputs": [],
   "source": [
    "a.dtype"
   ]
  },
  {
   "cell_type": "code",
   "execution_count": null,
   "id": "c4b30411-d6a6-4dcc-873b-c61f1f491f5e",
   "metadata": {},
   "outputs": [],
   "source": [
    "torch.tensor([[1., 2., 3.], [3,  5, 6]]) * 3"
   ]
  },
  {
   "cell_type": "code",
   "execution_count": null,
   "id": "a7175627-156b-4144-ae68-41d64a4de9b3",
   "metadata": {},
   "outputs": [],
   "source": [
    "b.dtype"
   ]
  },
  {
   "cell_type": "code",
   "execution_count": null,
   "id": "f52fe339-19ee-4d25-baf1-025fc8094570",
   "metadata": {},
   "outputs": [],
   "source": [
    "b.shape"
   ]
  },
  {
   "cell_type": "code",
   "execution_count": null,
   "id": "411bcbf8-8e9e-4cca-83cb-afcd8e7eb0b7",
   "metadata": {},
   "outputs": [],
   "source": [
    "n_np = np.array([1., 2., 3.])"
   ]
  },
  {
   "cell_type": "code",
   "execution_count": null,
   "id": "ecd2056a-7de2-4da6-9642-7986835453a0",
   "metadata": {},
   "outputs": [],
   "source": [
    "b.shape"
   ]
  },
  {
   "cell_type": "code",
   "execution_count": null,
   "id": "8aa2fa05-0c9f-4bfe-ba17-296f4b9d543d",
   "metadata": {},
   "outputs": [],
   "source": [
    "n_np.shape"
   ]
  },
  {
   "cell_type": "markdown",
   "id": "5429b07a-598f-4d74-8912-b46a6c27bfc7",
   "metadata": {},
   "source": [
    "#### Multiplicar un vector por un escalar."
   ]
  },
  {
   "cell_type": "code",
   "execution_count": null,
   "id": "d42755b0-2138-4307-bdb8-0a5d3c48f996",
   "metadata": {},
   "outputs": [],
   "source": [
    "escalar_b = 2.0\n",
    "v = np.array([8, 0, 3, 1, 5])\n",
    "print(escalar_b * v)"
   ]
  },
  {
   "cell_type": "markdown",
   "id": "e559f2e0-1cee-4b92-8bab-ec73b75b674c",
   "metadata": {
    "tags": []
   },
   "source": [
    "#### Crear y sumar tres vectores"
   ]
  },
  {
   "cell_type": "code",
   "execution_count": null,
   "id": "84c5c2a8-510d-48e5-b724-6a4170a0ae78",
   "metadata": {},
   "outputs": [],
   "source": [
    "v1 = np.array([6, 0, -3, 7])\n",
    "v2 = np.array([2, 3, 7, -5])\n",
    "v3 = np.array([0.1, 5, 0.89, 5])\n",
    "print(v1 + v2 + v3)"
   ]
  },
  {
   "cell_type": "markdown",
   "id": "371dc365-760d-4045-87dd-169ae84b3c46",
   "metadata": {},
   "source": [
    "#### Producto escalar"
   ]
  },
  {
   "cell_type": "code",
   "execution_count": null,
   "id": "64fc759f-5376-491f-ad71-9ed3128c84db",
   "metadata": {},
   "outputs": [],
   "source": [
    "v1 = np.array([1, 5, -2, 7, 3])\n",
    "v2 = np.array([3, 1, 1, -5, -1])\n",
    "print(np.dot(v1, v2))"
   ]
  },
  {
   "cell_type": "markdown",
   "id": "c22d39b3-2457-4b6d-86d2-71a419be5fd1",
   "metadata": {},
   "source": [
    "#### Crear 2 matrices y multiplicarlas"
   ]
  },
  {
   "cell_type": "code",
   "execution_count": null,
   "id": "50c320b0-97ff-49c9-a82e-184bb70e5dd5",
   "metadata": {},
   "outputs": [],
   "source": [
    "A = np.array([[5, 4, 7],\n",
    "              [3, 6, 1]])\n",
    "B = np.array([[1, 0],\n",
    "              [4, 3],\n",
    "              [9, 2]])\n",
    "print(np.matmul(A, B)) #También se puede usar la función dot"
   ]
  },
  {
   "cell_type": "markdown",
   "id": "cfc1f5ed-7eac-4421-ba28-63e6a12610d3",
   "metadata": {},
   "source": [
    "#### En este ejemplo crearemos un tensor de 10x10x3 de valores aleatorios enteros en un rango de 0 a 255 (niveles de intensidad de un pixel) y lo mostraremos como si fuera una imagen."
   ]
  },
  {
   "cell_type": "code",
   "execution_count": null,
   "id": "1b950fd1-fc61-4bd0-b5c5-72b2c906199e",
   "metadata": {},
   "outputs": [],
   "source": [
    "\n",
    "import matplotlib.pyplot as plt\n",
    "#Fijamos la semilla del generador de valores aleatorios\n",
    "\n",
    "np.random.seed(123)\n",
    "\n",
    "#256 indica que se crean valores entre 0 y 255\n",
    "A = np.random.randint(256, size=(10,10,3))\n",
    "#Visualizamos el tensor A\n",
    "plt.imshow(A)"
   ]
  },
  {
   "cell_type": "code",
   "execution_count": null,
   "id": "9986d922-b44c-4cdc-8457-442abdcfdd10",
   "metadata": {},
   "outputs": [],
   "source": []
  }
 ],
 "metadata": {
  "kernelspec": {
   "display_name": "Python 3 (ipykernel)",
   "language": "python",
   "name": "python3"
  },
  "language_info": {
   "codemirror_mode": {
    "name": "ipython",
    "version": 3
   },
   "file_extension": ".py",
   "mimetype": "text/x-python",
   "name": "python",
   "nbconvert_exporter": "python",
   "pygments_lexer": "ipython3",
   "version": "3.9.10"
  }
 },
 "nbformat": 4,
 "nbformat_minor": 5
}
