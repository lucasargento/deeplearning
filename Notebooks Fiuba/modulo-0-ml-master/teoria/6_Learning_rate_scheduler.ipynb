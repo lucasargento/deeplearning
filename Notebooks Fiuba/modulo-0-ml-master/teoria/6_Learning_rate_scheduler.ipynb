{
 "cells": [
  {
   "cell_type": "markdown",
   "id": "04496721-13cc-4c85-af66-5980856008ad",
   "metadata": {},
   "source": [
    "# Ajuste de la tasa de aprendizaje"
   ]
  },
  {
   "cell_type": "markdown",
   "id": "5bd5b8fd-989a-42ba-8dd4-3614106a025e",
   "metadata": {},
   "source": [
    "https://pytorch.org/docs/stable/optim.html"
   ]
  },
  {
   "cell_type": "markdown",
   "id": "401fb067-fc6a-475c-8091-11a490bda3ed",
   "metadata": {},
   "source": [
    "torch.optim.lr_scheduler proporciona varios métodos para ajustar la tasa de aprendizaje en función del número de épocas."
   ]
  },
  {
   "cell_type": "raw",
   "id": "844518e2-b263-4929-8524-8bde6b723381",
   "metadata": {},
   "source": [
    "optimizer = SGD(model, 0.1)\n",
    "scheduler = ExponentialLR(optimizer, gamma=0.9)\n",
    "\n",
    "for epoch in range(20):\n",
    "    for input, target in dataset:\n",
    "        optimizer.zero_grad()\n",
    "        output = model(input)\n",
    "        loss = loss_fn(output, target)\n",
    "        loss.backward()\n",
    "        optimizer.step()\n",
    "    scheduler.step()"
   ]
  },
  {
   "cell_type": "markdown",
   "id": "6e45e650-0ab8-4d70-96ff-7aa484fc532b",
   "metadata": {},
   "source": [
    "### Ejemplo 1: LambdaLR"
   ]
  },
  {
   "cell_type": "markdown",
   "id": "469c3a4e-6597-411f-968b-8929e5a87e02",
   "metadata": {},
   "source": [
    "Se establece la tasa de aprendizaje de cada grupo de parametros en el learning rate inicial multiplicado por una funcion dada."
   ]
  },
  {
   "cell_type": "code",
   "execution_count": 2,
   "id": "b4c7bbde-5060-4b87-973e-aee56518f351",
   "metadata": {},
   "outputs": [],
   "source": [
    "import torch\n",
    "import numpy as np\n",
    "import pandas as pd\n",
    "import matplotlib.pyplot as plt"
   ]
  },
  {
   "cell_type": "code",
   "execution_count": 4,
   "id": "31c10e78-7b4d-412a-bff7-980a0d874cc8",
   "metadata": {},
   "outputs": [
    {
     "data": {
      "text/plain": [
       "[<matplotlib.lines.Line2D at 0x1690cf460>]"
      ]
     },
     "execution_count": 4,
     "metadata": {},
     "output_type": "execute_result"
    },
    {
     "data": {
      "image/png": "[encoded data removed]",
      "text/plain": [
       "<Figure size 432x288 with 1 Axes>"
      ]
     },
     "metadata": {
      "needs_background": "light"
     },
     "output_type": "display_data"
    }
   ],
   "source": [
    "model = torch.nn.Linear(2, 1)\n",
    "\n",
    "optimizer = torch.optim.SGD(model.parameters(), lr=100)\n",
    "\n",
    "lambda1 = lambda epoch: \n",
    "scheduler = torch.optim.lr_scheduler.LambdaLR(optimizer, lr_lambda=lambda1)\n",
    "\n",
    "\n",
    "lrs = []\n",
    "\n",
    "for i in range(10):\n",
    "    optimizer.step()\n",
    "    lrs.append(optimizer.param_groups[0][\"lr\"])\n",
    "    scheduler.step()\n",
    "\n",
    "plt.plot(range(10),lrs)"
   ]
  },
  {
   "cell_type": "markdown",
   "id": "574f87af-7a3d-401b-9b50-2788ea027449",
   "metadata": {},
   "source": [
    "### Ejemplo 2: StepLR"
   ]
  },
  {
   "cell_type": "markdown",
   "id": "89e46365-97a5-47a8-b2ff-778a214f6ec3",
   "metadata": {},
   "source": [
    "Decaimiento de la tasa de aprendizaje de cada grupo de parámetros por *gamma* cada cierto paso de epocas dado."
   ]
  },
  {
   "cell_type": "code",
   "execution_count": 10,
   "id": "940c3282-172a-4617-9031-5ee822e1fd09",
   "metadata": {},
   "outputs": [
    {
     "data": {
      "text/plain": [
       "[<matplotlib.lines.Line2D at 0x1691ff6a0>]"
      ]
     },
     "execution_count": 10,
     "metadata": {},
     "output_type": "execute_result"
    },
    {
     "data": {
      "image/png": "[encoded data removed]",
      "text/plain": [
       "<Figure size 432x288 with 1 Axes>"
      ]
     },
     "metadata": {
      "needs_background": "light"
     },
     "output_type": "display_data"
    }
   ],
   "source": [
    "model = torch.nn.Linear(2, 1)\n",
    "optimizer = torch.optim.SGD(model.parameters(), lr=100)\n",
    "scheduler = torch.optim.lr_scheduler.StepLR(optimizer, step_size=5, gamma=0.2)\n",
    "lrs = []\n",
    "\n",
    "for i in range(10):\n",
    "    optimizer.step()\n",
    "    lrs.append(optimizer.param_groups[0][\"lr\"])\n",
    "    scheduler.step()\n",
    "\n",
    "plt.plot(range(10),lrs)"
   ]
  },
  {
   "cell_type": "code",
   "execution_count": null,
   "id": "e6a6ca57-6a70-4a28-9547-cbcb4144095b",
   "metadata": {},
   "outputs": [],
   "source": []
  }
 ],
 "metadata": {
  "kernelspec": {
   "display_name": "Python 3 (ipykernel)",
   "language": "python",
   "name": "python3"
  },
  "language_info": {
   "codemirror_mode": {
    "name": "ipython",
    "version": 3
   },
   "file_extension": ".py",
   "mimetype": "text/x-python",
   "name": "python",
   "nbconvert_exporter": "python",
   "pygments_lexer": "ipython3",
   "version": "3.9.10"
  }
 },
 "nbformat": 4,
 "nbformat_minor": 5
}
