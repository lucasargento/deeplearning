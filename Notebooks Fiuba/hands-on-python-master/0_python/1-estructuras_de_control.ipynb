{
 "cells": [
  {
   "cell_type": "markdown",
   "id": "0bed6e8f-678b-4aca-89b7-63862b83b441",
   "metadata": {},
   "source": [
    "# Estructuras de control"
   ]
  },
  {
   "cell_type": "markdown",
   "id": "d9b8ce9f-b61f-4989-a56a-4e9805ea59b5",
   "metadata": {},
   "source": [
    "## Sentencias condicionales"
   ]
  },
  {
   "cell_type": "markdown",
   "id": "6a568a29-2855-4404-bf3c-b7a9c1808cc1",
   "metadata": {},
   "source": [
    "A menudo tenemos que tomar decisiones en nuestras vidas. Por ejemplo cuando digo «si llueve tomo el paraguas», la acción de que tomo el paraguas se producirá en caso de que se cumpla la condición de que está lloviendo. Esto traducido a la programación significa que cierta parte del código sólo se ejecutará en caso de que se cumplan ciertas condiciones. Las sentencias condicionales cumplen con dicha función. Nos ayudan a controlar el flujo de nuestro programa, decidiendo si unas líneas de código se tienen que ejecutar en función de si se cumplen unas condiciones preestablecidas. En concreto, comprueban si una condición es verdadera o falsa para tomar o no cierta acción."
   ]
  },
  {
   "cell_type": "markdown",
   "id": "4b8fa938-5f22-475f-b7aa-60b4f36bfe56",
   "metadata": {},
   "source": [
    "#### Sentencia if"
   ]
  },
  {
   "cell_type": "raw",
   "id": "0247c0f7-c8e9-4f31-806b-5ab3effa52d2",
   "metadata": {},
   "source": [
    "if condicion:\n",
    "    # ejecutar un código"
   ]
  },
  {
   "cell_type": "markdown",
   "id": "2da782ff-a539-4346-84fb-52f1f34db86e",
   "metadata": {},
   "source": [
    "En la expresión previa:\n",
    "\n",
    "* La condición es una expresión booleana que se evalúa como verdadera (**True**) o falsa (**False**).\n",
    "* Se requiere el uso de dos puntos (:) al final de la condición.\n",
    "* Todas las líneas de código a ejecutar si se cumple la condición tienen que estar indentadas respecto la sentencia **if**.\n",
    "\n",
    "La **indentación es una característica que diferencia Python de otros lenguajes de programación**, dónde el código a ejecutar de cumplirse la condición se encierra entre llaves. Esta característica tiene el propósito de mejorar la legibilidad de los programas."
   ]
  },
  {
   "cell_type": "markdown",
   "id": "f08483a6-5732-49e1-a102-2fc415f06042",
   "metadata": {},
   "source": [
    "**Ejemplo** "
   ]
  },
  {
   "cell_type": "markdown",
   "id": "238d6d40-b448-459a-a7c1-b6be3bf5b259",
   "metadata": {},
   "source": [
    "Supongamos que **x** es una variable que representa la probabilidad de que llueva, donde si dicha probabilidad es mayor a 60%, se debe informar al usuario de que debe tomar el paraguas, y en caso contrario no hacer nada."
   ]
  },
  {
   "cell_type": "code",
   "execution_count": 1,
   "id": "4e1f7091-ffcc-4464-9b3c-8f1c328ef66c",
   "metadata": {},
   "outputs": [
    {
     "name": "stdout",
     "output_type": "stream",
     "text": [
      "Debe tomar el paraguas\n"
     ]
    }
   ],
   "source": [
    "x = 0.7\n",
    "if x > 0.6:\n",
    "    print(\"Debe tomar el paraguas\")"
   ]
  },
  {
   "cell_type": "markdown",
   "id": "c3e2c461-7c5d-4e50-8917-36c3953ec8da",
   "metadata": {},
   "source": [
    "#### Sentencia else"
   ]
  },
  {
   "cell_type": "markdown",
   "id": "fc7ed954-cc63-4c1a-b3a2-ff9b17bf398b",
   "metadata": {},
   "source": [
    "A la sentencia **if** se le puede añadir opcionalmente una sentencia **else**. Esta sentencia contiene el código a ejecutar en caso de que no se cumpla la condición de la sentencia if. Esta estructura se expresa del siguiente modo:"
   ]
  },
  {
   "cell_type": "raw",
   "id": "35a62d31-e105-44c3-a13f-a9cd31bc0f34",
   "metadata": {},
   "source": [
    "if condicion:\n",
    "    # ejecutar un código\n",
    "else:\n",
    "    # ejecutar un código distinto"
   ]
  },
  {
   "cell_type": "markdown",
   "id": "4d560621-9058-4391-8cc6-4f1e9c419903",
   "metadata": {},
   "source": [
    "Continuando con el **ejemplo anterior**"
   ]
  },
  {
   "cell_type": "code",
   "execution_count": 2,
   "id": "a3a08933-ea1a-46a6-b6de-b3a458943bd1",
   "metadata": {},
   "outputs": [
    {
     "name": "stdout",
     "output_type": "stream",
     "text": [
      "No es necesario que tome el paraguas\n"
     ]
    }
   ],
   "source": [
    "x = 0.14\n",
    "if x > 0.6:\n",
    "    print(\"Debe tomar el paraguas\")\n",
    "else:\n",
    "    print(\"No es necesario que tome el paraguas\")"
   ]
  },
  {
   "cell_type": "markdown",
   "id": "43be89e4-7991-43be-8c92-f935f69e5fe3",
   "metadata": {
    "tags": []
   },
   "source": [
    "#### Sentencia elif"
   ]
  },
  {
   "cell_type": "markdown",
   "id": "8b259938-2f67-4ba7-8ffa-c730218ca241",
   "metadata": {},
   "source": [
    "A una sentencia if else se pueden añadir un número indefinido de condiciones adicionales a verificar. Estas condiciones se definen mediante la sentencia elif , la cual es un abreviación de else if. Ésta se define así:"
   ]
  },
  {
   "cell_type": "raw",
   "id": "e5cb3aaf-d46f-4902-a940-19375d7066f9",
   "metadata": {},
   "source": [
    "if condicion:\n",
    "    # ejecutar un código\n",
    "elif otra_condicion:\n",
    "    # ejecutar otro código\n",
    "else:\n",
    "    # ejecutar un código distinto"
   ]
  },
  {
   "cell_type": "markdown",
   "id": "decf98e1-8dcb-43e8-a634-db1d727915de",
   "metadata": {},
   "source": [
    "Ejemplo\n",
    "Supongamos que **x** es una variable que representa la probabilidad de que llueva, donde si dicha probabilidad:\n",
    "* es mayor o igual a 80%, se debe informar al usuario de que debe tomar el paraguas.\n",
    "* si es mayor o igual a 50% y menor que 80%, se debe informar al usuario de considere llevar el paraguas.\n",
    "* si es menor a 50, se debe informar al usuario de que no es necesario llevar el paraguas."
   ]
  },
  {
   "cell_type": "code",
   "execution_count": 3,
   "id": "a0c18778-7b5b-4499-91b2-61cde649c060",
   "metadata": {},
   "outputs": [
    {
     "name": "stdout",
     "output_type": "stream",
     "text": [
      "No es necesario llevar paraguas\n"
     ]
    }
   ],
   "source": [
    "x = 0.1\n",
    "if x >= 0.8:\n",
    "    print(\"Debe llevar paraguas.\")\n",
    "elif x >= 0.5 and x <0.8:\n",
    "    print(\"Considere llevar paraguas.\")\n",
    "else:\n",
    "    print(\"No es necesario llevar paraguas\")"
   ]
  },
  {
   "cell_type": "markdown",
   "id": "5c0f2cd9-bbb3-4ad2-b1ce-19133683cc68",
   "metadata": {},
   "source": [
    "## Bucles"
   ]
  },
  {
   "cell_type": "markdown",
   "id": "c86bbb78-6127-49fe-b8fc-d04506e6e351",
   "metadata": {},
   "source": [
    "#### Bucle while"
   ]
  },
  {
   "cell_type": "markdown",
   "id": "0e970d06-a9c8-4c51-8d68-3f0789bce6f3",
   "metadata": {},
   "source": [
    "En Python tiene una palabra reservada llamada **while** que nos permite ejecutar ciclos, o bien secuencias periódicas que nos permiten ejecutar código múltiples veces.\n",
    "\n",
    "El **ciclo while** nos permite realizar múltiples iteraciones basándonos en el resultado de una expresión lógica que puede tener como resultado un valor **True** o **False**."
   ]
  },
  {
   "cell_type": "raw",
   "id": "fee53048-2f8a-4c17-b44e-5790e8ee6602",
   "metadata": {},
   "source": [
    "while condicion:\n",
    "    # bloque de codigo"
   ]
  },
  {
   "cell_type": "markdown",
   "id": "02cc8c6e-2ab5-40fa-b290-96c527bb61cd",
   "metadata": {},
   "source": [
    "**while controlado por conteo**"
   ]
  },
  {
   "cell_type": "code",
   "execution_count": 4,
   "id": "061c527d-0795-450d-8ddb-3f17991149a4",
   "metadata": {},
   "outputs": [
    {
     "name": "stdout",
     "output_type": "stream",
     "text": [
      "La suma es 15\n"
     ]
    }
   ],
   "source": [
    "numero = 0\n",
    "suma = 0\n",
    "while numero <= 5:\n",
    "    suma = numero + suma\n",
    "    numero = numero + 1\n",
    "print (\"La suma es \" + str(suma))"
   ]
  },
  {
   "cell_type": "markdown",
   "id": "886a32bf-9626-43ae-83b8-7497dd03ba4d",
   "metadata": {},
   "source": [
    "En este ejemplo tiene un contador con un valor inicial de cero, cada iteración del while manipula esta variable de manera que incremente su valor en 1, por lo que después de su primera iteración el contador tendrá un valor de 1, luego 2, y así sucesivamente.\n",
    "\n",
    "Eventualmente cuando el contador llegue a tener un valor de 10, la condición del ciclo numero <= 10 sera False, por lo que el ciclo terminará arrojando el siguiente resultado."
   ]
  },
  {
   "cell_type": "markdown",
   "id": "a3bf8f64-b4cd-479e-96a6-5eae834e9223",
   "metadata": {},
   "source": [
    "**while controlado por evento**"
   ]
  },
  {
   "cell_type": "markdown",
   "id": "45b53880-5f10-4781-9224-e8f7da91a79c",
   "metadata": {},
   "source": [
    "En este casi el evento que se dispara cuando el usuario ingresa el valor -1, causando que el bucle while se interrumpo o no se inicie."
   ]
  },
  {
   "cell_type": "code",
   "execution_count": 5,
   "id": "d4f30212-41f3-44ee-a169-df02fed60b9c",
   "metadata": {},
   "outputs": [
    {
     "name": "stdout",
     "output_type": "stream",
     "text": [
      "Introduzca la nota de un/una estudiante (-1 para salir): \n"
     ]
    },
    {
     "name": "stdin",
     "output_type": "stream",
     "text": [
      " 8\n"
     ]
    },
    {
     "name": "stdout",
     "output_type": "stream",
     "text": [
      "Introduzca la nota de un/una estudiante (-1 para salir): \n"
     ]
    },
    {
     "name": "stdin",
     "output_type": "stream",
     "text": [
      " 1\n"
     ]
    },
    {
     "name": "stdout",
     "output_type": "stream",
     "text": [
      "Introduzca la nota de un/una estudiante (-1 para salir): \n"
     ]
    },
    {
     "name": "stdin",
     "output_type": "stream",
     "text": [
      " -1\n"
     ]
    },
    {
     "name": "stdout",
     "output_type": "stream",
     "text": [
      "Promedio de notas del grado escolar es: 4.5\n"
     ]
    }
   ],
   "source": [
    "print (\"Introduzca la nota de un/una estudiante (-1 para salir): \")\n",
    "grado = int(input())\n",
    "total, contar = 0, 0\n",
    "while grado != -1:\n",
    "    total = total + grado\n",
    "    contar = contar + 1\n",
    "    print (\"Introduzca la nota de un/una estudiante (-1 para salir): \")\n",
    "    grado = int(input())\n",
    "promedio = total / contar\n",
    "print (\"Promedio de notas del grado escolar es: \" + str(promedio))"
   ]
  },
  {
   "cell_type": "markdown",
   "id": "cf85a2d5-ad0f-4e23-a436-73a764df85bb",
   "metadata": {},
   "source": [
    "#### Bucle for"
   ]
  },
  {
   "cell_type": "markdown",
   "id": "942645b2-a317-4f73-8a66-263ffc254779",
   "metadata": {},
   "source": [
    "En Python existen muchos objetos como por ejemplo las cadenas de texto (strings), las listas, los diccionarios, y las tuplas que son «iterables». Esto significa que podemos iterar sobre sus elementos: cada uno de los caracteres de una cadena de texto, cada uno de los elemento de una lista, etc. Esta operación se realiza con un bloque de código llamado **bucle for** que indica las operaciones a realizar en cada iteración."
   ]
  },
  {
   "cell_type": "markdown",
   "id": "f9f43c45-058d-497c-8512-3ebda87000c2",
   "metadata": {},
   "source": [
    "En lenguajes como C, C++ y Java entre otros, los bucles for se realizan mediante una variable de control y constan de tres partes:\n",
    "\n",
    "* Inicialización: es donde se asigna el valor inicial a la variable de control.\n",
    "* Condición de terminación: es una expresión booleana en relación a la variable de control que determina al final de cada iteración si se termina el bucle.\n",
    "* Iteración: determina el cambio que se realiza a la variable de control al final de cada iteración.\n",
    "\n",
    "Este tipo de bucles se expresa de la siguiente forma:"
   ]
  },
  {
   "cell_type": "raw",
   "id": "c29d14ff-2621-44d5-9f93-dc242d2f6e11",
   "metadata": {},
   "source": [
    "// Código C++\n",
    "for (int i=0; i<10; i++) {\n",
    "    // Hacer algo\n",
    "}"
   ]
  },
  {
   "cell_type": "markdown",
   "id": "7de4c545-9745-4a5e-854f-0fa1abe617de",
   "metadata": {},
   "source": [
    "**En Python**, en cambio, no se especifica ninguna variable de control para realizar **bucles for**. En lugar de ello se itera sobre una colección de objetos."
   ]
  },
  {
   "cell_type": "raw",
   "id": "38dc06e5-1b49-4898-aa7e-f71cab65f2b2",
   "metadata": {},
   "source": [
    "# Python\n",
    "for elemento in iterable:\n",
    "    # Hacer algo con el elemento"
   ]
  },
  {
   "cell_type": "markdown",
   "id": "c203fac8-9657-4791-994e-771a3b8c5379",
   "metadata": {},
   "source": [
    "En este caso, en cada nueva iteración el «elemento» toma el valor del siguiente elemento del objeto «iterable». Además como ocurre con las sentencias if, se requiere el uso de los dos puntos (:) al final de la sentencia y el cuerpo del bucle se tiene que indentar."
   ]
  },
  {
   "cell_type": "code",
   "execution_count": 6,
   "id": "aaff93d3-7e91-493b-87c4-6c28597c2ee9",
   "metadata": {},
   "outputs": [
    {
     "name": "stdout",
     "output_type": "stream",
     "text": [
      "1\n",
      "2\n",
      "3\n"
     ]
    }
   ],
   "source": [
    "# Iterar una lista\n",
    "mi_lista = [1, 2, 3]\n",
    "\n",
    "for n in mi_lista:\n",
    "    print(n)"
   ]
  },
  {
   "cell_type": "markdown",
   "id": "13c936d4-4960-4dec-843d-19fecba86450",
   "metadata": {},
   "source": [
    "**Iterar un diccionario**"
   ]
  },
  {
   "cell_type": "code",
   "execution_count": 7,
   "id": "3e7843ad-8b19-446f-b818-2d890717bb24",
   "metadata": {},
   "outputs": [
    {
     "name": "stdout",
     "output_type": "stream",
     "text": [
      "uno\n",
      "dos\n",
      "tres\n"
     ]
    }
   ],
   "source": [
    "mi_diccionario = {'uno':1, 'dos':2, 'tres':3}\n",
    "for c in mi_diccionario:\n",
    "    print(c)"
   ]
  },
  {
   "cell_type": "code",
   "execution_count": 8,
   "id": "0197ca84-ede0-419c-bfbf-ce8e55fb3ff4",
   "metadata": {},
   "outputs": [
    {
     "name": "stdout",
     "output_type": "stream",
     "text": [
      "1\n",
      "2\n",
      "3\n"
     ]
    }
   ],
   "source": [
    "mi_diccionario = {'uno':1, 'dos':2, 'tres':3}\n",
    "for c in mi_diccionario:\n",
    "    print(mi_diccionario[c])"
   ]
  },
  {
   "cell_type": "code",
   "execution_count": 9,
   "id": "52878cdc-0323-4994-bba2-3a69ea74fda7",
   "metadata": {},
   "outputs": [
    {
     "name": "stdout",
     "output_type": "stream",
     "text": [
      "1\n",
      "2\n",
      "3\n"
     ]
    }
   ],
   "source": [
    "mi_diccionario = {'uno':1, 'dos':2, 'tres':3}\n",
    "for v in mi_diccionario.values():\n",
    "    print(v)"
   ]
  },
  {
   "cell_type": "code",
   "execution_count": 10,
   "id": "347b56b6-7e41-4a7c-92c1-517a62c288f1",
   "metadata": {},
   "outputs": [
    {
     "name": "stdout",
     "output_type": "stream",
     "text": [
      "key: uno , value: 1\n",
      "key: dos , value: 2\n",
      "key: tres , value: 3\n"
     ]
    }
   ],
   "source": [
    "mi_diccionario = {'uno':1, 'dos':2, 'tres':3}\n",
    "for c, v in mi_diccionario.items():\n",
    "    print('key:', c, ', value:', v)"
   ]
  },
  {
   "cell_type": "markdown",
   "id": "6666f400-3f20-43cf-8bd5-726f3037d07b",
   "metadata": {},
   "source": [
    "**Funcion range**"
   ]
  },
  {
   "cell_type": "markdown",
   "id": "4536d682-c729-4d0f-abab-f10b59a19ff2",
   "metadata": {},
   "source": [
    "La función range() es una función integrada en Python que crea una secuencia ordenada de enteros que podemos utilizar para crear iteraciones similares a las que hemos visto para otros lenguajes de programación. Por ello la función **range()** acepta tres números enteros de los cuales dos son opcionales.\n",
    "\n",
    "* **Inicio**: es el valor inicial de la secuencia (0 si no se especifica).\n",
    "* **Fin**: es el valor final de la secuencia, el cual no se incluye en el resultado.\n",
    "* **Paso**: indica el incremento entre elementos de la secuencia (1 si no se especifica)."
   ]
  },
  {
   "cell_type": "raw",
   "id": "409387ae-be5a-4138-a38c-0fe98109c277",
   "metadata": {},
   "source": [
    "range(inicio, fin, paso)"
   ]
  },
  {
   "cell_type": "markdown",
   "id": "89951070-c3a9-41d1-8075-257f810ee395",
   "metadata": {},
   "source": [
    "La función **range()** retorna objetos de tipo range los cuales podemos convertir en una lista o tupla."
   ]
  },
  {
   "cell_type": "code",
   "execution_count": 11,
   "id": "39d0fa7c-1e8b-4c16-ba1f-9e4dcffcbfd8",
   "metadata": {},
   "outputs": [
    {
     "data": {
      "text/plain": [
       "range"
      ]
     },
     "execution_count": 11,
     "metadata": {},
     "output_type": "execute_result"
    }
   ],
   "source": [
    "r = range(1,10,2)\n",
    "type(r)"
   ]
  },
  {
   "cell_type": "code",
   "execution_count": 12,
   "id": "751a5203-0b4e-4782-b8a6-ad22b495fc54",
   "metadata": {},
   "outputs": [
    {
     "data": {
      "text/plain": [
       "[1, 3, 5, 7, 9]"
      ]
     },
     "execution_count": 12,
     "metadata": {},
     "output_type": "execute_result"
    }
   ],
   "source": [
    "list(r)"
   ]
  },
  {
   "cell_type": "markdown",
   "id": "e467f820-0637-4e83-b469-13d797a649f7",
   "metadata": {},
   "source": [
    "Como los objetos de tipo range son iterables, también podemos usar esta función para iterar en un bucle for."
   ]
  },
  {
   "cell_type": "code",
   "execution_count": 13,
   "id": "19abb474-5613-4ba1-9261-9fdb48baaf38",
   "metadata": {},
   "outputs": [
    {
     "name": "stdout",
     "output_type": "stream",
     "text": [
      "0\n",
      "1\n",
      "2\n",
      "3\n",
      "4\n",
      "5\n",
      "6\n",
      "7\n",
      "8\n",
      "9\n"
     ]
    }
   ],
   "source": [
    "for i in range(10):\n",
    "    print(i)"
   ]
  },
  {
   "cell_type": "markdown",
   "id": "0287dfb4-ee70-4910-a49e-b1cb0de45636",
   "metadata": {},
   "source": [
    "**Sentencias break y continue**"
   ]
  },
  {
   "cell_type": "markdown",
   "id": "472d8140-adc7-42f9-ae1e-1b58057c799a",
   "metadata": {},
   "source": [
    "Las sentencias **break** y **continue** modifican el flujo normal de un bucle for. En concreto break interrumpe completamente el bucle, procediendo a la instrucción que viene después del bucle."
   ]
  },
  {
   "cell_type": "code",
   "execution_count": 14,
   "id": "6b2c07c3-eebc-45cb-a861-150c323c28aa",
   "metadata": {},
   "outputs": [
    {
     "name": "stdout",
     "output_type": "stream",
     "text": [
      "0\n",
      "1\n",
      "2\n",
      "3\n",
      "4\n"
     ]
    }
   ],
   "source": [
    "for i in range(10):\n",
    "    if i > 4:\n",
    "        break\n",
    "    print(i)"
   ]
  },
  {
   "cell_type": "code",
   "execution_count": 15,
   "id": "7614c7b1-2504-4ad1-afba-c5ade3378645",
   "metadata": {},
   "outputs": [
    {
     "name": "stdout",
     "output_type": "stream",
     "text": [
      "1\n",
      "3\n",
      "5\n",
      "7\n",
      "9\n"
     ]
    }
   ],
   "source": [
    "for i in range(10):\n",
    "    if i % 2 == 0:\n",
    "        continue\n",
    "    print(i)"
   ]
  },
  {
   "cell_type": "code",
   "execution_count": null,
   "id": "66e41ce9-b818-455d-b2c4-0e8e95cfe60d",
   "metadata": {},
   "outputs": [],
   "source": []
  }
 ],
 "metadata": {
  "kernelspec": {
   "display_name": "Python 3 (ipykernel)",
   "language": "python",
   "name": "python3"
  },
  "language_info": {
   "codemirror_mode": {
    "name": "ipython",
    "version": 3
   },
   "file_extension": ".py",
   "mimetype": "text/x-python",
   "name": "python",
   "nbconvert_exporter": "python",
   "pygments_lexer": "ipython3",
   "version": "3.9.6"
  }
 },
 "nbformat": 4,
 "nbformat_minor": 5
}
