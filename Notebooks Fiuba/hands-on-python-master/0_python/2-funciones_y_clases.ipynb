{
 "cells": [
  {
   "cell_type": "markdown",
   "id": "275e4d8b-617a-449e-b1ac-128aab2afce9",
   "metadata": {},
   "source": [
    "# Funciones"
   ]
  },
  {
   "cell_type": "markdown",
   "id": "1267214c-d2f9-4590-85d0-7c8d9cb8da6e",
   "metadata": {
    "tags": []
   },
   "source": [
    "#### ¿Qué es una función?"
   ]
  },
  {
   "cell_type": "markdown",
   "id": "bfb683bd-a2f9-4dfb-9d76-b53a61abe06c",
   "metadata": {},
   "source": [
    "Las funciones en Python, y en cualquier lenguaje de programación, son estructuras esenciales de código. Una función es un grupo de instrucciones que constituyen \n",
    "una unidad lógica del programa y resuelven un problema muy concreto. Las funciones solo se ejecutan cuando se llaman.\n",
    "\n",
    "El principal objetivo de las funciones son:\n",
    "* Dividir y organizar el código en partes más sencillas.\n",
    "* Encapsular el código que se repite a lo largo de un programa para ser reutilizado."
   ]
  },
  {
   "cell_type": "markdown",
   "id": "001b4b44-870e-44a6-9557-726a1c84de77",
   "metadata": {},
   "source": [
    "#### ¿Cómo definir una función?"
   ]
  },
  {
   "cell_type": "markdown",
   "id": "622fcdd0-b3a4-4e7d-b604-943f003760a2",
   "metadata": {},
   "source": [
    "Para definir una función en Python se utiliza la palabra reservada **def**. A continuación viene el nombre o identificador de la función que es el que se utiliza para invocarla. Después del nombre hay que incluir los paréntesis y una lista opcional de parámetros. Por último, la cabecera o definición de la función termina con dos puntos.\n",
    "\n",
    "Tras los dos puntos se incluye el cuerpo de la función (con un sangrado mayor, generalmente cuatro espacios) que no es más que el conjunto de instrucciones que se encapsulan en dicha función y que le dan significado.\n",
    "\n",
    "En último lugar y de manera opcional, se añade la instrucción con la palabra reservada **return** para devolver un resultado."
   ]
  },
  {
   "cell_type": "raw",
   "id": "9a9f23f4-79df-46c2-a025-27ff04af92d3",
   "metadata": {},
   "source": [
    "def nombre_funcion(parametros):\n",
    "    # declaraciones\n",
    "    ...\n",
    "    ...\n",
    "    return valor"
   ]
  },
  {
   "cell_type": "markdown",
   "id": "2693d3d0-23f3-483e-8838-61df5fdfe5b0",
   "metadata": {},
   "source": [
    "#### ¿Cómo llamar a una función?"
   ]
  },
  {
   "cell_type": "markdown",
   "id": "bbfa917c-b8a6-41a0-a445-8fe0e8b52b12",
   "metadata": {},
   "source": [
    "Para usar o invocar a una función, simplemente hay que escribir su nombre como si de una instrucción más se tratara. Eso sí, pasando los argumentos necesarios según los parámetros que defina la función.\n",
    "\n",
    "**Veámoslo con un ejemplo**: Vamos a crear una función que retorne el resultado de calcular el sinc de x."
   ]
  },
  {
   "cell_type": "code",
   "execution_count": 1,
   "id": "d03f8bb5-90d2-4ff7-b4c5-d7f2d7ddf064",
   "metadata": {},
   "outputs": [],
   "source": [
    "import math"
   ]
  },
  {
   "cell_type": "code",
   "execution_count": 2,
   "id": "6c9b8227-dd9e-412e-9061-beb3ef6c401b",
   "metadata": {},
   "outputs": [],
   "source": [
    "def sinc(x):\n",
    "    return math.sin(x) / x"
   ]
  },
  {
   "cell_type": "code",
   "execution_count": 3,
   "id": "a4a279f6-4c84-4e1c-a9e7-761d0b071e2d",
   "metadata": {},
   "outputs": [
    {
     "data": {
      "text/plain": [
       "0.8414709848078965"
      ]
     },
     "execution_count": 3,
     "metadata": {},
     "output_type": "execute_result"
    }
   ],
   "source": [
    "sinc(1)"
   ]
  },
  {
   "cell_type": "markdown",
   "id": "ed8ba9f4-b4a7-454c-b07f-1e6fbe8d0bb3",
   "metadata": {},
   "source": [
    "**Otro ejemplo**: crear una función que retorne si un valor es par o impar"
   ]
  },
  {
   "cell_type": "code",
   "execution_count": 4,
   "id": "8142e8be-d263-4e91-a13c-70bf82ea47ae",
   "metadata": {},
   "outputs": [],
   "source": [
    "def es_par(n):\n",
    "    if n % 2 == 0:\n",
    "        return True\n",
    "    else:\n",
    "        return False"
   ]
  },
  {
   "cell_type": "code",
   "execution_count": 5,
   "id": "bce34bd2-cf21-4d9e-8c71-bce65e525fcc",
   "metadata": {},
   "outputs": [
    {
     "data": {
      "text/plain": [
       "True"
      ]
     },
     "execution_count": 5,
     "metadata": {},
     "output_type": "execute_result"
    }
   ],
   "source": [
    "es_par(2)"
   ]
  },
  {
   "cell_type": "code",
   "execution_count": 6,
   "id": "cc93b13f-18ca-4f2a-84a6-3290c8a18506",
   "metadata": {},
   "outputs": [
    {
     "data": {
      "text/plain": [
       "False"
      ]
     },
     "execution_count": 6,
     "metadata": {},
     "output_type": "execute_result"
    }
   ],
   "source": [
    "es_par(5)"
   ]
  },
  {
   "cell_type": "markdown",
   "id": "88b7c9d2-e7cd-439c-a7f1-d7e078229017",
   "metadata": {},
   "source": [
    "#### En Python, una función siempre devuelve un valor"
   ]
  },
  {
   "cell_type": "markdown",
   "id": "2acfb88d-8729-42c6-a4ef-a7f93b5821bc",
   "metadata": {},
   "source": [
    "Python, a diferencia de otros lenguajes de programación, no tiene procedimientos. Un procedimiento sería como una función pero que no devuelve ningún valor.\n",
    "\n",
    "¿Por qué no tiene procedimientos si hemos vistos ejemplos de funciones que no retornan ningún valor? Porque Python, internamente, devuelve por defecto el valor None cuando en una función no aparece la sentencia return o esta no devuelve nada."
   ]
  },
  {
   "cell_type": "code",
   "execution_count": 7,
   "id": "ac912d58-abb7-4adc-9e0f-2bbdd07bb647",
   "metadata": {},
   "outputs": [],
   "source": [
    "def saludar():\n",
    "    print(\"Hola. Esta es una inteligencia artificial muy avanzada.\")"
   ]
  },
  {
   "cell_type": "code",
   "execution_count": 8,
   "id": "d2fd2b5e-6f3f-4026-93fd-ec516f3977b3",
   "metadata": {},
   "outputs": [
    {
     "name": "stdout",
     "output_type": "stream",
     "text": [
      "Hola. Esta es una inteligencia artificial muy avanzada.\n",
      "None\n"
     ]
    }
   ],
   "source": [
    "print(saludar())"
   ]
  },
  {
   "cell_type": "markdown",
   "id": "c3fd481e-b8b6-40bd-96f3-4dc8c860c3d2",
   "metadata": {},
   "source": [
    "Como puedes ver en el ejemplo anterior, el print que envuelve a la función **saludar()** muestra None."
   ]
  },
  {
   "cell_type": "markdown",
   "id": "3698a45f-d763-408c-9d63-1fafb650768a",
   "metadata": {
    "tags": []
   },
   "source": [
    "#### Parámetros de una función"
   ]
  },
  {
   "cell_type": "markdown",
   "id": "6b086be9-a3f1-4403-8dac-77651b6d7e7f",
   "metadata": {},
   "source": [
    "Tal y como te he indicado, una función puede definir, opcionalmente, una secuencia de parámetros con los que invocarla. ¿Cómo se asignan en Python los valores a los parámetros? ¿Se puede modificar el valor de una variable dentro de una función?\n",
    "\n",
    "Antes de contestar a estas dos preguntas, tenemos que conocer los conceptos de programación **paso por valor** y **paso por referencia**."
   ]
  },
  {
   "cell_type": "markdown",
   "id": "6635e02c-b434-4c73-b6e8-5114012739e1",
   "metadata": {},
   "source": [
    "* **Paso por valor**: Un lenguaje de programación que utiliza paso por valor de los argumentos, lo que realmente hace es copiar el valor de las variables en los respectivos parámetros. Cualquier modificación del valor del parámetro, no afecta a la variable externa correspondiente.\n",
    "* **Paso por referencia**: Un lenguaje de programación que utiliza paso por referencia, lo que realmente hace es copiar en los parámetros la dirección de memoria de las variables que se usan como argumento. Esto implica que realmente hagan referencia al mismo objeto/elemento y cualquier modificación del valor en el parámetro afectará a la variable externa correspondiente."
   ]
  },
  {
   "cell_type": "markdown",
   "id": "58798840-21e1-465d-9792-dd723cc873ff",
   "metadata": {},
   "source": [
    "Entonces, ¿cómo se pasan los argumentos en Python, por valor o por referencia? Lo que ocurre en Python realmente es que se pasa por valor la referencia del objeto 😱 ¿Qué implicaciones tiene esto? Básicamente que si el tipo que se pasa como argumento es inmutable, cualquier modificación en el valor del parámetro no afectará a la variable externa pero, si es mutable (como una lista o diccionario), sí se verá afectado por las modificaciones."
   ]
  },
  {
   "cell_type": "markdown",
   "id": "19c47dbe-e3a5-4e79-ac0d-b1c0d26863d7",
   "metadata": {
    "tags": []
   },
   "source": [
    "#### Ámbito y ciclo de vida de las variables"
   ]
  },
  {
   "cell_type": "markdown",
   "id": "ff3b0ff2-a2fd-4d82-bcc4-6406a04dde73",
   "metadata": {},
   "source": [
    "En cualquier lenguaje de programación de alto nivel, toda variable está definida dentro de un ámbito. Esto es, los sitios en los que la variable tiene sentido y dónde se puede utilizar.\n",
    "\n",
    "Los parámetros y variables definidos dentro de una función tienen un ámbito local, local a la propia función. Por tanto, estos parámetros y variables no pueden ser utilizados fuera de la función porque no serían reconocidos.\n",
    "\n",
    "El ciclo de vida de una variable determina el tiempo en que una variable permanece en memoria. Una variable dentro de una función existe en memoria durante el tiempo en que está ejecutándose dicha función. Una vez que termina su ejecución, sus variables y parámetros desaparecen de memoria y, por tanto, no pueden ser referenciados."
   ]
  },
  {
   "cell_type": "code",
   "execution_count": 9,
   "id": "c55d91b2-45a4-460b-aa19-e3eeb302ff07",
   "metadata": {},
   "outputs": [],
   "source": [
    "def imprimir_valores():\n",
    "    x = 5\n",
    "    z = 11\n",
    "    print(\"x:\", x)\n",
    "    print(\"z:\", z)"
   ]
  },
  {
   "cell_type": "code",
   "execution_count": 10,
   "id": "8b3e92de-f0f7-4b39-85ef-3029f5a4fd55",
   "metadata": {},
   "outputs": [
    {
     "name": "stdout",
     "output_type": "stream",
     "text": [
      "x: 5\n",
      "z: 11\n"
     ]
    }
   ],
   "source": [
    "imprimir_valores()"
   ]
  },
  {
   "cell_type": "code",
   "execution_count": 11,
   "id": "bbf975f5-c687-45d9-b2c1-520003d8367f",
   "metadata": {},
   "outputs": [
    {
     "ename": "NameError",
     "evalue": "name 'x' is not defined",
     "output_type": "error",
     "traceback": [
      "\u001b[0;31m---------------------------------------------------------------------------\u001b[0m",
      "\u001b[0;31mNameError\u001b[0m                                 Traceback (most recent call last)",
      "\u001b[0;32m/var/folders/5p/l30m88v51q9b0q19jz_zwv3w0000gn/T/ipykernel_45851/32546335.py\u001b[0m in \u001b[0;36m<module>\u001b[0;34m\u001b[0m\n\u001b[0;32m----> 1\u001b[0;31m \u001b[0mx\u001b[0m\u001b[0;34m\u001b[0m\u001b[0;34m\u001b[0m\u001b[0m\n\u001b[0m",
      "\u001b[0;31mNameError\u001b[0m: name 'x' is not defined"
     ]
    }
   ],
   "source": [
    "x"
   ]
  },
  {
   "cell_type": "code",
   "execution_count": 12,
   "id": "34d5db1e-6e1b-45a3-a716-f3ea48457439",
   "metadata": {},
   "outputs": [
    {
     "name": "stdout",
     "output_type": "stream",
     "text": [
      "x: 5\n",
      "z: 11\n"
     ]
    }
   ],
   "source": [
    "x = 10\n",
    "\n",
    "imprimir_valores()"
   ]
  },
  {
   "cell_type": "markdown",
   "id": "ca0be5a3-8b34-4f80-8379-92ad0b3e75b3",
   "metadata": {
    "tags": []
   },
   "source": [
    "# Clases y Objetos"
   ]
  },
  {
   "cell_type": "markdown",
   "id": "fa9a14cf-d065-4f43-843d-c603a4670f5d",
   "metadata": {},
   "source": [
    "**Objetos**\n",
    "\n",
    "Python también permite la programación orientada a objetos, que es un paradigma de programación en la que los datos y las operaciones que pueden realizarse con esos datos se agrupan en unidades lógicas llamadas objetos.\n",
    "\n",
    "Los objetos suelen representar conceptos del dominio del programa, como un estudiante, un coche, un teléfono, etc. Los datos que describen las características del objeto se llaman atributos y son la parte estática del objeto, mientras que las operaciones que puede realizar el objeto se llaman métodos y son la parte dinámica del objeto.\n",
    "\n",
    "La programación orientada a objetos permite simplificar la estructura y la lógica de los grandes programas en los que intervienen muchos objetos que interactúan entre si."
   ]
  },
  {
   "cell_type": "markdown",
   "id": "5847dfde-0bf6-40e2-9a94-ba96486d5b38",
   "metadata": {},
   "source": [
    "Ejemplo. Una tarjeta de crédito puede representarse como un objeto:\n",
    "\n",
    "* Atributos: Número de la tarjeta, titular, balance, fecha de caducidad, pin, entidad emisora, estado (activa o no), etc.\n",
    "* Métodos: Activar, pagar, renovar, anular."
   ]
  },
  {
   "cell_type": "markdown",
   "id": "441c6449-f279-4932-ba75-3f1f8cbe533d",
   "metadata": {},
   "source": [
    "<img src=\"images/tarjeta-credito.svg\" alt=\"drawing\" width=\"400\"/>"
   ]
  },
  {
   "cell_type": "markdown",
   "id": "6c947894-a1c2-4c4e-b2e4-9c31c9ed9d19",
   "metadata": {},
   "source": [
    "**La programación orientada a objetos se basa en los siguientes principios:**\n",
    "\n",
    "* **Encapsulación**: Agrupar datos (atributos) y procedimientos (métodos) en unidades lógicas (objetos) y evitar maninupar los atributos accediendo directamente a ellos, usando, en su lugar, métodos para acceder a ellos.\n",
    "* **Abstracción**: Ocultar al usuario de la clase los detalles de implementación de los métodos. Es decir, el usuario necesita saber qué hace un método y con qué parámetros tiene que invocarlo (interfaz), pero no necesita saber cómo lo hace.\n",
    "* **Herencia**: Evitar la duplicación de código en clases con comportamientos similares, definiendo los métodos comunes en una clase madre y los métodos particulares en clases hijas.\n",
    "* **Polimorfismo**: Redefinir los métodos de la clase madre en las clases hijas cuando se requiera un comportamiento distinto. Así, un mismo método puede realizar operaciones distintas dependiendo del objeto sobre el que se aplique."
   ]
  },
  {
   "cell_type": "markdown",
   "id": "d5840e7b-f32c-4053-8621-c15aeca32922",
   "metadata": {},
   "source": [
    "**Clases**\n",
    "\n",
    "Los objetos con los mismos atributos y métodos se agrupan clases. Las clases definen los atributos y los métodos, y por tanto, la semántica o comportamiento que tienen los objetos que pertenecen a esa clase. Se puede pensar en una clase como en un molde a partir del cuál se pueden crear objetos.\n",
    "\n",
    "Para declarar una clase se utiliza la palabra clave class seguida del nombre de la clase y dos puntos, de acuerdo a la siguiente sintaxis:"
   ]
  },
  {
   "cell_type": "raw",
   "id": "27b225cf-f776-4671-b32d-f0c1b6fac0f9",
   "metadata": {},
   "source": [
    "class <nombre-clase>:\n",
    "     <atributos>\n",
    "     <métodos>"
   ]
  },
  {
   "cell_type": "markdown",
   "id": "17fbef09-1e03-4123-a05c-2320d083950f",
   "metadata": {},
   "source": [
    "Los atributos se definen igual que las variables mientras que los métodos se definen igual que las funciones."
   ]
  },
  {
   "cell_type": "markdown",
   "id": "00506a51-4c9f-4c5c-9e9f-6a4fd75553a4",
   "metadata": {},
   "source": [
    "#### Ejemplo"
   ]
  },
  {
   "cell_type": "code",
   "execution_count": 13,
   "id": "89636cd5-cbe1-49e1-979f-f9ffff9c809e",
   "metadata": {},
   "outputs": [],
   "source": [
    "class MLP:\n",
    "    \n",
    "    cantidad_capas = 3\n",
    "    cantidad_neuronas = [3, 2, 1]\n",
    "    \n",
    "    def fit(self):\n",
    "        print(f\"Entrenando el MLP de {self.cantidad_capas} capas y {self.cantidad_neuronas} neuronas por capa respectiva...\")\n",
    "        \n",
    "    def predict(self, features):\n",
    "        print(f\"Haciendo un predict de {features}\")"
   ]
  },
  {
   "cell_type": "code",
   "execution_count": 14,
   "id": "88ac1fdf-3e03-412f-a06d-d528365cde6a",
   "metadata": {},
   "outputs": [],
   "source": [
    "my_mlp = MLP()"
   ]
  },
  {
   "cell_type": "code",
   "execution_count": 15,
   "id": "c8fc7a6f-fa42-41b0-b752-fbc55f223693",
   "metadata": {},
   "outputs": [
    {
     "name": "stdout",
     "output_type": "stream",
     "text": [
      "Entrenando el MLP de 3 capas y [3, 2, 1] neuronas por capa respectiva...\n"
     ]
    }
   ],
   "source": [
    "my_mlp.fit()"
   ]
  },
  {
   "cell_type": "code",
   "execution_count": 16,
   "id": "e1b349b8-be5d-4f4d-bb39-99da9298d173",
   "metadata": {},
   "outputs": [
    {
     "name": "stdout",
     "output_type": "stream",
     "text": [
      "Haciendo un predict de [0.4, 0.1, 0.76]\n"
     ]
    }
   ],
   "source": [
    "my_mlp.predict([0.4, 0.1, 0.76])"
   ]
  },
  {
   "cell_type": "markdown",
   "id": "a96a03b8-55ad-44d0-8744-345aae356467",
   "metadata": {},
   "source": [
    "#### El método __init__"
   ]
  },
  {
   "cell_type": "markdown",
   "id": "9a8501e2-da37-44e4-8dfb-4d3ed0931460",
   "metadata": {},
   "source": [
    "En la definición de una clase suele haber un método llamado **\\__init__** que se conoce como inicializador. Este método es un método especial que se llama cada vez que se instancia una clase y sirve para inicializar el objeto que se crea. Este método crea los atributos que deben tener todos los objetos de la clase y por tanto contiene los parámetros necesarios para su creación, pero no devuelve nada. Se invoca cada vez que se instancia un objeto de esa clase.\n",
    "\n"
   ]
  },
  {
   "cell_type": "code",
   "execution_count": 17,
   "id": "ae08b3d5-a2bc-4b5c-a69f-b95e63f93489",
   "metadata": {},
   "outputs": [],
   "source": [
    "class MLP:\n",
    "    \n",
    "    def __init__(self, n_capas, n_neuronas):  # inicializador\n",
    "        self.n_capas = n_capas                # creacion del atributo n_capas\n",
    "        self.n_neuronas = n_neuronas          # creacion del atributo n_neuronas\n",
    "    \n",
    "    def fit(self):\n",
    "        print(f\"Entrenando el MLP de {self.n_capas} capas y {self.n_neuronas} neuronas por capa respectiva...\")\n",
    "        \n",
    "    def predict(self, features):\n",
    "        print(f\"Haciendo un predict de {features}\")"
   ]
  },
  {
   "cell_type": "code",
   "execution_count": 18,
   "id": "0db56c93-e864-456c-be00-92d1aefce68d",
   "metadata": {},
   "outputs": [],
   "source": [
    "my_mlp = MLP(n_capas=3, n_neuronas=[3,2,1])"
   ]
  },
  {
   "cell_type": "code",
   "execution_count": 19,
   "id": "04d6db3d-2a58-4607-b47e-1e86a0453251",
   "metadata": {},
   "outputs": [
    {
     "name": "stdout",
     "output_type": "stream",
     "text": [
      "Entrenando el MLP de 3 capas y [3, 2, 1] neuronas por capa respectiva...\n"
     ]
    }
   ],
   "source": [
    "my_mlp.fit()"
   ]
  },
  {
   "cell_type": "code",
   "execution_count": 20,
   "id": "def52428-c5c1-4ace-8637-95fc4a52947f",
   "metadata": {},
   "outputs": [
    {
     "name": "stdout",
     "output_type": "stream",
     "text": [
      "Haciendo un predict de [0.2, 0.1, 0.5]\n"
     ]
    }
   ],
   "source": [
    "my_mlp.predict([0.2, 0.1, 0.5])"
   ]
  },
  {
   "cell_type": "markdown",
   "id": "048952a6-88c9-4f61-810a-aecfca7dc01b",
   "metadata": {},
   "source": [
    "#### Atributos de la instancia vs Atributos de la clase"
   ]
  },
  {
   "cell_type": "markdown",
   "id": "85361cbb-1445-4397-86ff-e10163a0883e",
   "metadata": {},
   "source": [
    "Los atributos que se crean dentro del método __init__ se conocen como atributos del objeto, mientras que los que se crean fuera de él se conocen como atributos de la clase. Mientras que los primeros son propios de cada objeto y por tanto pueden tomar valores distintos, los valores de los atributos de la clase son los mismos para cualquier objeto de la clase.\n",
    "\n",
    "En general, no deben usarse atributos de clase, excepto para almacenar valores constantes."
   ]
  },
  {
   "cell_type": "code",
   "execution_count": 21,
   "id": "4bca2497-e8fd-47c3-9b26-01b0e8951170",
   "metadata": {},
   "outputs": [],
   "source": [
    "class Circulo:\n",
    "    pi = 3.14159                     # Atributo de clase\n",
    "    \n",
    "    def __init__(self, radio):\n",
    "        self.radio = radio           # Atributo de instancia\n",
    "    \n",
    "    def area(self):\n",
    "        return self.pi * self.radio ** 2"
   ]
  },
  {
   "cell_type": "code",
   "execution_count": 22,
   "id": "52adfbf0-ad56-4866-80c7-3253d8bb8f4a",
   "metadata": {},
   "outputs": [
    {
     "name": "stdout",
     "output_type": "stream",
     "text": [
      "12.56636\n",
      "28.27431\n",
      "3.14159\n"
     ]
    }
   ],
   "source": [
    "c1 = Circulo(2)\n",
    "\n",
    "c2 = Circulo(3)\n",
    "\n",
    "print(c1.area())\n",
    "\n",
    "print(c2.area())\n",
    "\n",
    "print(c1.pi)"
   ]
  },
  {
   "cell_type": "markdown",
   "id": "792137e4-605d-490a-a48e-a621d92c80a4",
   "metadata": {},
   "source": [
    "### Herencia"
   ]
  },
  {
   "cell_type": "markdown",
   "id": "619da2ce-2c5a-4f96-93fa-2887ab886afe",
   "metadata": {},
   "source": [
    "Una de las características más potentes de la programación orientada a objetos es la herencia, que permite definir una especialización de una clase añadiendo nuevos atributos o métodos. La nueva clase se conoce como clase hija y hereda los atributos y métodos de la clase original que se conoce como clase madre.\n",
    "\n",
    "Para crear un clase a partir de otra existente se utiliza la misma sintaxis que para definir una clase, pero poniendo detrás del nombre de la clase entre paréntesis los nombres de las clases madre de las que hereda."
   ]
  },
  {
   "cell_type": "code",
   "execution_count": 23,
   "id": "164fddd4-8e81-4874-b9e3-66e28c61d79c",
   "metadata": {},
   "outputs": [],
   "source": [
    "# Creamos la clase Rectangulo\n",
    "class Rectangulo:\n",
    "\n",
    "    def __init__(self, base, altura):\n",
    "        self.base = base\n",
    "        self.altura = altura\n",
    "\n",
    "    def area(self):\n",
    "        return self.base * self.altura\n",
    "\n",
    "\n",
    "# La clase Cuadrado extiende de Rectangulo, esto significa\n",
    "# que todas las propiedades y métodos de Rectangulo\n",
    "# las heredara Cuadrado.\n",
    "class Cuadrado(Rectangulo):\n",
    "\n",
    "    # Inicia una instacia de Cuadrado, pero las propiedades\n",
    "    # de Rectangulo las inicializa con super().__init__(params)\n",
    "    def __init__(self, lado):\n",
    "        super().__init__(lado, lado)"
   ]
  },
  {
   "cell_type": "code",
   "execution_count": 24,
   "id": "a3fc88b7-4608-436c-8323-438ced0d194b",
   "metadata": {},
   "outputs": [
    {
     "name": "stdout",
     "output_type": "stream",
     "text": [
      "12\n",
      "25\n"
     ]
    }
   ],
   "source": [
    "rectangulo = Rectangulo(base=3, altura=4)\n",
    "print(rectangulo.area())\n",
    "\n",
    "cuadrado = Cuadrado(lado=5)\n",
    "print(cuadrado.area())"
   ]
  },
  {
   "cell_type": "markdown",
   "id": "5093412b-d24b-4647-985d-5cbf1a8f1677",
   "metadata": {},
   "source": [
    "### Otro ejemplo"
   ]
  },
  {
   "cell_type": "code",
   "execution_count": 25,
   "id": "5b81930f-511d-4068-9320-50ed5956881b",
   "metadata": {},
   "outputs": [],
   "source": [
    "class Vehiculo():\n",
    "\n",
    "    def __init__(self, color, ruedas):\n",
    "        self.color = color\n",
    "        self.ruedas = ruedas\n",
    "\n",
    "    def __str__(self):\n",
    "        return \"Color {}, {} ruedas\".format(self.color, self.ruedas)\n",
    "    \n",
    "    \n",
    "class Coche(Vehiculo):\n",
    "\n",
    "    def __init__(self, color, ruedas, velocidad, cilindrada):\n",
    "        Vehiculo.__init__(self, color, ruedas)\n",
    "        self.velocidad = velocidad\n",
    "        self.cilindrada = cilindrada\n",
    "\n",
    "    def __str__(self):\n",
    "        return Vehiculo.__str__(self) + \", {} km/h, {} cc\".format(self.velocidad, self.cilindrada)"
   ]
  },
  {
   "cell_type": "code",
   "execution_count": 26,
   "id": "292ceb1d-66e6-44a9-a9bd-4712267acf2e",
   "metadata": {},
   "outputs": [
    {
     "name": "stdout",
     "output_type": "stream",
     "text": [
      "Color azul, 4 ruedas, 150 km/h, 1200 cc\n"
     ]
    }
   ],
   "source": [
    "c = Coche(\"azul\", 4, 150, 1200)\n",
    "print(c)"
   ]
  }
 ],
 "metadata": {
  "kernelspec": {
   "display_name": "Python 3 (ipykernel)",
   "language": "python",
   "name": "python3"
  },
  "language_info": {
   "codemirror_mode": {
    "name": "ipython",
    "version": 3
   },
   "file_extension": ".py",
   "mimetype": "text/x-python",
   "name": "python",
   "nbconvert_exporter": "python",
   "pygments_lexer": "ipython3",
   "version": "3.9.6"
  }
 },
 "nbformat": 4,
 "nbformat_minor": 5
}
