{
 "cells": [
  {
   "cell_type": "markdown",
   "id": "c822d6c9-622d-4f09-9482-a154ab7b21a2",
   "metadata": {},
   "source": [
    "# Broadcasting"
   ]
  },
  {
   "cell_type": "markdown",
   "id": "3f204ae5-965e-4f3e-b37d-6158cf0e8e67",
   "metadata": {},
   "source": [
    "https://docs.scipy.org/doc/numpy-1.13.0/user/basics.broadcasting.html"
   ]
  },
  {
   "cell_type": "markdown",
   "id": "4f206244-93ae-435f-a867-bc0283b2513d",
   "metadata": {},
   "source": [
    "El concepto de broadcasting se usa para entender como NumPy realiza las operaciones entre arreglos (vectores, matrices, tensores) de diferente tamaño. Sujeto a ciertas restricciones, el arreglo más pequeño es “difundido” (¡?) a través del arreglo más grande, para que de esta forma sean compatibles en tamaño."
   ]
  },
  {
   "cell_type": "markdown",
   "id": "b9e1c455-28b3-4c78-a9fa-d3b5c241fdad",
   "metadata": {},
   "source": [
    "El broadcasting muchas veces conduce a una implementación más eficiente de los algoritmos ya que proporciona un medio para la vectorización de operaciones de modo que los bucles se realicen en C y no en Python. Sin embargo pueden existir situaciones en que utilizar broadcasting sea ineficiente, debido a un uso ineficiente de la memoria."
   ]
  },
  {
   "cell_type": "code",
   "execution_count": 1,
   "id": "b7d36dfc-9a0d-4a07-a825-004ce359183c",
   "metadata": {},
   "outputs": [
    {
     "name": "stdout",
     "output_type": "stream",
     "text": [
      "[[6 8 3]\n",
      " [9 4 4]\n",
      " [6 6 3]]\n"
     ]
    }
   ],
   "source": [
    "import numpy as np\n",
    "\n",
    "M = np.array([[1, 6, 2],\n",
    "              [4, 2, 3],\n",
    "              [1, 4, 2]])\n",
    "\n",
    "v = np.array([5, 2, 1])\n",
    "\n",
    "print(M + v)"
   ]
  },
  {
   "cell_type": "markdown",
   "id": "1ee29ef3-91b7-4ada-9a69-96b149141b2b",
   "metadata": {
    "tags": []
   },
   "source": [
    "### Reglas generales de broadcasting"
   ]
  },
  {
   "cell_type": "markdown",
   "id": "a11d2c26-cc7c-49c3-ab39-2ffadab9543a",
   "metadata": {},
   "source": [
    "Cuando se opera en dos matrices, NumPy compara sus formas por elementos. Comienza con las dimensiones finales y avanza. Dos dimensiones son compatibles cuando:\n",
    "\n",
    "* 1. Son iguales, o\n",
    "* 2. Uno de ellos es 1"
   ]
  },
  {
   "cell_type": "markdown",
   "id": "be1b8109-7390-443e-bbe8-df440f27993a",
   "metadata": {},
   "source": [
    "Si no se cumplen estas condiciones, se lanza una excepción, lo que indica que las matrices tienen formas incompatibles. El tamaño de la matriz resultante es el tamaño máximo a lo largo de cada dimensión de las matrices de entrada. `ValueError: frames are not aligned`"
   ]
  },
  {
   "cell_type": "code",
   "execution_count": null,
   "id": "b6d86cbc-8a0d-4a4c-91b0-d44c3df9ee5c",
   "metadata": {},
   "outputs": [],
   "source": []
  }
 ],
 "metadata": {
  "kernelspec": {
   "display_name": "Python 3 (ipykernel)",
   "language": "python",
   "name": "python3"
  },
  "language_info": {
   "codemirror_mode": {
    "name": "ipython",
    "version": 3
   },
   "file_extension": ".py",
   "mimetype": "text/x-python",
   "name": "python",
   "nbconvert_exporter": "python",
   "pygments_lexer": "ipython3",
   "version": "3.9.6"
  }
 },
 "nbformat": 4,
 "nbformat_minor": 5
}
