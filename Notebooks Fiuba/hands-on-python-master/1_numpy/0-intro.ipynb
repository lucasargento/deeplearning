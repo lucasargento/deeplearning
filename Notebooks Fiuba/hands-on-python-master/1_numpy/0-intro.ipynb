{
 "cells": [
  {
   "cell_type": "markdown",
   "id": "f139a567-b20e-445a-ab7b-c9ce0eaaa528",
   "metadata": {},
   "source": [
    "# ¿Qué es NumPy?"
   ]
  },
  {
   "cell_type": "markdown",
   "id": "988383ca-1872-4146-8747-8408259687aa",
   "metadata": {},
   "source": [
    "NumPy es una biblioteca de Python que proporciona un objeto de matriz multidimensional, varios objetos derivados (como matrices) y una variedad de funciones para operaciones  en matrices, que incluyen manipulación matemática, lógica, de formas, clasificación, selección, álgebra lineal, operaciones estadísticas, simulación, entre otras."
   ]
  },
  {
   "cell_type": "markdown",
   "id": "0f9ce0d6-0137-41c8-b5cb-59e455d52951",
   "metadata": {
    "tags": []
   },
   "source": [
    "#### A tener en cuenta:"
   ]
  },
  {
   "cell_type": "markdown",
   "id": "a3fac0f7-eede-4a80-9bcd-92462c7d64d7",
   "metadata": {},
   "source": [
    "* Las matrices NumPy tienen un tamaño fijo en el momento de la creación, a diferencia de las listas de Python (que pueden crecer dinámicamente). Cambiar el tamaño de un ndarray creará una nueva matriz y eliminará la original.\n",
    "* Todos los elementos de una matriz NumPy deben ser del mismo tipo de datos y, por lo tanto, tendrán el mismo tamaño en la memoria. La excepción: uno puede tener matrices de objetos (Python, incluido NumPy), lo que permite matrices de elementos de diferentes tamaños.\n",
    "* NumPy es rápido: La vectorización describe la ausencia de cualquier bucle explícito, indexación, etc., en el código; (código C optimizado y precompilado)."
   ]
  },
  {
   "cell_type": "markdown",
   "id": "740251cb-b9e6-47c3-ab05-7ec2509e29cc",
   "metadata": {},
   "source": [
    "## Fundamentos"
   ]
  },
  {
   "cell_type": "markdown",
   "id": "2a0055f7-f776-4532-91c5-c540c8e12759",
   "metadata": {},
   "source": [
    "El objeto principal de NumPy es la matriz multidimensional homogénea. Es una tabla de elementos (generalmente números), todos del mismo tipo, indexados por una tupla de enteros no negativos.\n",
    "\n",
    "Las **dimensiones** de NumPy se denominan ejes (**axes**):\n",
    "Por ejemplo, las coordenadas de un punto en el espacio 3D [1, 2, 1]tienen un eje. Ese eje tiene 3 elementos, por lo que decimos que tiene una longitud de 3."
   ]
  },
  {
   "cell_type": "markdown",
   "id": "fb8fd0f9-240c-4578-9d6c-1de6f5de8696",
   "metadata": {
    "tags": []
   },
   "source": [
    "#### Creación de matrices"
   ]
  },
  {
   "cell_type": "code",
   "execution_count": 1,
   "id": "d00e9f72-35b8-45f0-aa63-fc592a4b683a",
   "metadata": {},
   "outputs": [],
   "source": [
    "import numpy as np"
   ]
  },
  {
   "cell_type": "code",
   "execution_count": 2,
   "id": "418cf470-7d97-4c97-9172-de54da07ecfc",
   "metadata": {},
   "outputs": [],
   "source": [
    "a = np.array([2, 3, 4])"
   ]
  },
  {
   "cell_type": "code",
   "execution_count": 3,
   "id": "d0fcad83-cc67-459b-b6e3-62b5f9c25430",
   "metadata": {},
   "outputs": [
    {
     "data": {
      "text/plain": [
       "array([2, 3, 4])"
      ]
     },
     "execution_count": 3,
     "metadata": {},
     "output_type": "execute_result"
    }
   ],
   "source": [
    "a"
   ]
  },
  {
   "cell_type": "code",
   "execution_count": 4,
   "id": "8a7d4264-a156-4a3b-80e7-375047e6f0bb",
   "metadata": {},
   "outputs": [
    {
     "data": {
      "text/plain": [
       "dtype('int64')"
      ]
     },
     "execution_count": 4,
     "metadata": {},
     "output_type": "execute_result"
    }
   ],
   "source": [
    "a.dtype"
   ]
  },
  {
   "cell_type": "code",
   "execution_count": 5,
   "id": "d26b852c-6806-4c86-8ad5-01a8cd6734e8",
   "metadata": {},
   "outputs": [],
   "source": [
    "b = np.array([1.2, 3.5, 5.1])"
   ]
  },
  {
   "cell_type": "code",
   "execution_count": 6,
   "id": "dfa105c0-8359-4038-b861-7f1f771a4870",
   "metadata": {},
   "outputs": [
    {
     "data": {
      "text/plain": [
       "dtype('float64')"
      ]
     },
     "execution_count": 6,
     "metadata": {},
     "output_type": "execute_result"
    }
   ],
   "source": [
    "b.dtype"
   ]
  },
  {
   "cell_type": "markdown",
   "id": "acfba8e4-b534-40be-a6e1-ea0e7e857e76",
   "metadata": {},
   "source": [
    "El **tipo de matriz** también se puede especificar explícitamente en el momento de la creación:"
   ]
  },
  {
   "cell_type": "code",
   "execution_count": 7,
   "id": "0884e931-f07f-4eb9-8e72-d722782c08e7",
   "metadata": {},
   "outputs": [
    {
     "name": "stderr",
     "output_type": "stream",
     "text": [
      "/var/folders/5p/l30m88v51q9b0q19jz_zwv3w0000gn/T/ipykernel_45880/3290579596.py:1: DeprecationWarning: `np.int` is a deprecated alias for the builtin `int`. To silence this warning, use `int` by itself. Doing this will not modify any behavior and is safe. When replacing `np.int`, you may wish to use e.g. `np.int64` or `np.int32` to specify the precision. If you wish to review your current use, check the release note link for additional information.\n",
      "Deprecated in NumPy 1.20; for more details and guidance: https://numpy.org/devdocs/release/1.20.0-notes.html#deprecations\n",
      "  c = np.array([(1.5, 2, 3), (4, 5, 6)], dtype=np.int)\n"
     ]
    }
   ],
   "source": [
    "c = np.array([(1.5, 2, 3), (4, 5, 6)], dtype=np.int)"
   ]
  },
  {
   "cell_type": "code",
   "execution_count": 8,
   "id": "1b2228bd-9a5a-4576-82fa-333c7915cf82",
   "metadata": {},
   "outputs": [
    {
     "data": {
      "text/plain": [
       "array([[1, 2, 3],\n",
       "       [4, 5, 6]])"
      ]
     },
     "execution_count": 8,
     "metadata": {},
     "output_type": "execute_result"
    }
   ],
   "source": [
    "c"
   ]
  },
  {
   "cell_type": "code",
   "execution_count": 9,
   "id": "8bec0ec7-c53b-4462-a0fc-1029d261ae8f",
   "metadata": {},
   "outputs": [
    {
     "data": {
      "text/plain": [
       "(2, 3)"
      ]
     },
     "execution_count": 9,
     "metadata": {},
     "output_type": "execute_result"
    }
   ],
   "source": [
    "c.shape"
   ]
  },
  {
   "cell_type": "markdown",
   "id": "b551eedc-b9f6-4d0a-b14e-db13b6fdee56",
   "metadata": {},
   "source": [
    "También se pueden crear matrices de ceros o unos, incluso valores aleatorios"
   ]
  },
  {
   "cell_type": "markdown",
   "id": "1352e7ac-2c31-4907-9818-27b6b60308e4",
   "metadata": {},
   "source": [
    "La función **zeros** crea una matriz llena de ceros, la función **ones** crea una matriz llena de unos y la función **empty** crea una matriz cuyo contenido inicial es aleatorio y depende del estado de la memoria. De forma predeterminada, el dtype de la matriz creada es float64, pero se puede especificar mediante el argumento de la palabra clave **dtype**."
   ]
  },
  {
   "cell_type": "code",
   "execution_count": 10,
   "id": "bde38de9-02e7-469b-9d22-1708334f4bad",
   "metadata": {},
   "outputs": [
    {
     "data": {
      "text/plain": [
       "array([[0., 0., 0., 0.],\n",
       "       [0., 0., 0., 0.],\n",
       "       [0., 0., 0., 0.]])"
      ]
     },
     "execution_count": 10,
     "metadata": {},
     "output_type": "execute_result"
    }
   ],
   "source": [
    "np.zeros((3, 4))"
   ]
  },
  {
   "cell_type": "code",
   "execution_count": 11,
   "id": "ce976872-f02a-44fd-aba2-96dc0fa98cc4",
   "metadata": {},
   "outputs": [
    {
     "data": {
      "text/plain": [
       "array([[[1, 1, 1, 1],\n",
       "        [1, 1, 1, 1],\n",
       "        [1, 1, 1, 1]],\n",
       "\n",
       "       [[1, 1, 1, 1],\n",
       "        [1, 1, 1, 1],\n",
       "        [1, 1, 1, 1]]], dtype=int16)"
      ]
     },
     "execution_count": 11,
     "metadata": {},
     "output_type": "execute_result"
    }
   ],
   "source": [
    "np.ones((2, 3, 4), dtype=np.int16)"
   ]
  },
  {
   "cell_type": "code",
   "execution_count": 12,
   "id": "94a4b08c-8285-40c3-9543-764e4fdce902",
   "metadata": {},
   "outputs": [
    {
     "data": {
      "text/plain": [
       "array([[2.31584178e+077, 2.31584178e+077, 1.48219694e-323],\n",
       "       [0.00000000e+000, 0.00000000e+000, 4.17201348e-309]])"
      ]
     },
     "execution_count": 12,
     "metadata": {},
     "output_type": "execute_result"
    }
   ],
   "source": [
    "np.empty((2, 3))"
   ]
  },
  {
   "cell_type": "markdown",
   "id": "acb19a3e-f212-4a45-bca2-3b0aa385c284",
   "metadata": {},
   "source": [
    "Para crear secuencias de números, NumPy proporciona la función **arange** que es análoga a la de Python incorporada range, pero devuelve una matriz."
   ]
  },
  {
   "cell_type": "code",
   "execution_count": 13,
   "id": "17c08590-a76d-4752-89f1-3792ecd44efa",
   "metadata": {},
   "outputs": [
    {
     "data": {
      "text/plain": [
       "array([10, 15, 20, 25])"
      ]
     },
     "execution_count": 13,
     "metadata": {},
     "output_type": "execute_result"
    }
   ],
   "source": [
    "np.arange(10, 30, 5)"
   ]
  },
  {
   "cell_type": "code",
   "execution_count": 14,
   "id": "879fa5af-92c0-49e6-9266-fb8986e5059a",
   "metadata": {},
   "outputs": [
    {
     "data": {
      "text/plain": [
       "array([0. , 0.3, 0.6, 0.9, 1.2, 1.5, 1.8])"
      ]
     },
     "execution_count": 14,
     "metadata": {},
     "output_type": "execute_result"
    }
   ],
   "source": [
    "np.arange(0, 2, 0.3)"
   ]
  },
  {
   "cell_type": "markdown",
   "id": "5471ed01-fe6d-44ae-b33d-3a2e0ac1da49",
   "metadata": {},
   "source": [
    "Otra función para generar secuencias, es la función **linspace** que recibe como argumento la cantidad de elementos que queremos, en lugar del paso:"
   ]
  },
  {
   "cell_type": "code",
   "execution_count": 15,
   "id": "c3cff910-ebd0-488d-bcc9-e36c84f3d69c",
   "metadata": {},
   "outputs": [
    {
     "data": {
      "text/plain": [
       "array([0.  , 0.25, 0.5 , 0.75, 1.  , 1.25, 1.5 , 1.75, 2.  ])"
      ]
     },
     "execution_count": 15,
     "metadata": {},
     "output_type": "execute_result"
    }
   ],
   "source": [
    "np.linspace(0, 2, 9)"
   ]
  },
  {
   "cell_type": "markdown",
   "id": "13af1f94-4eb4-4fd2-88cd-75b65d1e85d0",
   "metadata": {},
   "source": [
    "Para generar arrays y matrices con valores aleatorios podemos utilizar la función **random**"
   ]
  },
  {
   "cell_type": "code",
   "execution_count": 16,
   "id": "adf74978-fdbf-485f-9a1d-80cccfc67ba4",
   "metadata": {},
   "outputs": [],
   "source": [
    "x1 = np.random.randint(10, size=6)  # arreglo de una dimension\n",
    "x2 = np.random.randint(10, size=(3, 4))  # arreglo de 2 dimensiones\n",
    "x3 = np.random.randint(10, size=(3, 4, 5))  # arreglo de 3 dimensiones"
   ]
  },
  {
   "cell_type": "code",
   "execution_count": 17,
   "id": "a058368b-a9ab-4a4c-b34c-8d1efd7aa9e9",
   "metadata": {},
   "outputs": [
    {
     "data": {
      "text/plain": [
       "1"
      ]
     },
     "execution_count": 17,
     "metadata": {},
     "output_type": "execute_result"
    }
   ],
   "source": [
    "x1.ndim"
   ]
  },
  {
   "cell_type": "code",
   "execution_count": 18,
   "id": "94a13943-9c75-4ef9-b4fd-7788e0c668dd",
   "metadata": {},
   "outputs": [
    {
     "data": {
      "text/plain": [
       "(3, 4)"
      ]
     },
     "execution_count": 18,
     "metadata": {},
     "output_type": "execute_result"
    }
   ],
   "source": [
    "x2.shape"
   ]
  },
  {
   "cell_type": "code",
   "execution_count": 19,
   "id": "913f3d2d-96dc-4d8a-a2f1-7295ec4ddf5b",
   "metadata": {},
   "outputs": [
    {
     "data": {
      "text/plain": [
       "60"
      ]
     },
     "execution_count": 19,
     "metadata": {},
     "output_type": "execute_result"
    }
   ],
   "source": [
    "x3.size"
   ]
  },
  {
   "cell_type": "markdown",
   "id": "042171b9-cfa2-4b50-aea6-a90c1e772c0f",
   "metadata": {},
   "source": [
    "## Operaciones básicas"
   ]
  },
  {
   "cell_type": "markdown",
   "id": "a9dcc8c6-c6db-4cb8-9aa9-e673fcc743ce",
   "metadata": {},
   "source": [
    "Los operadores aritméticos en matrices se aplican por elementos . Se crea una nueva matriz y se llena con el resultado."
   ]
  },
  {
   "cell_type": "code",
   "execution_count": 20,
   "id": "ef449837-d86f-4a1c-b7fa-d08e025b5db8",
   "metadata": {},
   "outputs": [],
   "source": [
    "a = np.array([20, 30, 40, 50])\n",
    "b = np.arange(4)"
   ]
  },
  {
   "cell_type": "code",
   "execution_count": 21,
   "id": "eeb7639e-d7a3-4cbc-b5a9-c1afa9a7a744",
   "metadata": {},
   "outputs": [
    {
     "data": {
      "text/plain": [
       "array([20, 30, 40, 50])"
      ]
     },
     "execution_count": 21,
     "metadata": {},
     "output_type": "execute_result"
    }
   ],
   "source": [
    "a"
   ]
  },
  {
   "cell_type": "code",
   "execution_count": 22,
   "id": "0ad2507c-e636-45a2-8c13-b6e682c6f8f2",
   "metadata": {},
   "outputs": [
    {
     "data": {
      "text/plain": [
       "array([0, 1, 2, 3])"
      ]
     },
     "execution_count": 22,
     "metadata": {},
     "output_type": "execute_result"
    }
   ],
   "source": [
    "b"
   ]
  },
  {
   "cell_type": "markdown",
   "id": "903887d4-a2dd-4871-ba4c-ca88bfa567ed",
   "metadata": {},
   "source": [
    "#### Suma, resta, multiplicacion y división elemento a elemento"
   ]
  },
  {
   "cell_type": "code",
   "execution_count": 23,
   "id": "49059b15-ad31-45dd-afb6-6fd4446b4dba",
   "metadata": {},
   "outputs": [
    {
     "data": {
      "text/plain": [
       "array([20, 31, 42, 53])"
      ]
     },
     "execution_count": 23,
     "metadata": {},
     "output_type": "execute_result"
    }
   ],
   "source": [
    "a + b"
   ]
  },
  {
   "cell_type": "code",
   "execution_count": 24,
   "id": "bb9467af-44b7-483c-bae0-ca0ad497fa3f",
   "metadata": {},
   "outputs": [
    {
     "data": {
      "text/plain": [
       "array([20, 29, 38, 47])"
      ]
     },
     "execution_count": 24,
     "metadata": {},
     "output_type": "execute_result"
    }
   ],
   "source": [
    "a - b"
   ]
  },
  {
   "cell_type": "code",
   "execution_count": 25,
   "id": "c616c631-61af-46ad-aaed-47a24667a784",
   "metadata": {},
   "outputs": [
    {
     "data": {
      "text/plain": [
       "array([  0,  30,  80, 150])"
      ]
     },
     "execution_count": 25,
     "metadata": {},
     "output_type": "execute_result"
    }
   ],
   "source": [
    "a * b"
   ]
  },
  {
   "cell_type": "code",
   "execution_count": 26,
   "id": "f5391b32-fc08-45ac-b173-d6b801be62f4",
   "metadata": {},
   "outputs": [
    {
     "name": "stderr",
     "output_type": "stream",
     "text": [
      "/var/folders/5p/l30m88v51q9b0q19jz_zwv3w0000gn/T/ipykernel_45880/1286629031.py:1: RuntimeWarning: divide by zero encountered in true_divide\n",
      "  a / b\n"
     ]
    },
    {
     "data": {
      "text/plain": [
       "array([        inf, 30.        , 20.        , 16.66666667])"
      ]
     },
     "execution_count": 26,
     "metadata": {},
     "output_type": "execute_result"
    }
   ],
   "source": [
    "a / b"
   ]
  },
  {
   "cell_type": "markdown",
   "id": "7187532d-3e82-4015-8e23-d10edcd6dce0",
   "metadata": {},
   "source": [
    "## Funciones útiles"
   ]
  },
  {
   "cell_type": "markdown",
   "id": "6977b2ac-c1f1-4b54-ad83-a2d3cc98f83a",
   "metadata": {},
   "source": [
    "#### Funciones trigonométricas"
   ]
  },
  {
   "cell_type": "code",
   "execution_count": 27,
   "id": "2920779c-1049-4d90-9f6d-4b91553e7eec",
   "metadata": {},
   "outputs": [],
   "source": [
    "# definimos el vector de angulos theta\n",
    "theta = np.linspace(0, np.pi, 3)"
   ]
  },
  {
   "cell_type": "code",
   "execution_count": 28,
   "id": "98a8a54c-5396-437f-8a24-008b79374c48",
   "metadata": {},
   "outputs": [
    {
     "data": {
      "text/plain": [
       "array([0.        , 1.57079633, 3.14159265])"
      ]
     },
     "execution_count": 28,
     "metadata": {},
     "output_type": "execute_result"
    }
   ],
   "source": [
    "theta"
   ]
  },
  {
   "cell_type": "code",
   "execution_count": 29,
   "id": "3e4f79f6-0de1-442a-b9c7-0e11c143cdd5",
   "metadata": {},
   "outputs": [
    {
     "name": "stdout",
     "output_type": "stream",
     "text": [
      "sin(theta) =  [0.0000000e+00 1.0000000e+00 1.2246468e-16]\n",
      "cos(theta) =  [ 1.000000e+00  6.123234e-17 -1.000000e+00]\n",
      "tan(theta) =  [ 0.00000000e+00  1.63312394e+16 -1.22464680e-16]\n"
     ]
    }
   ],
   "source": [
    "print(\"sin(theta) = \", np.sin(theta))\n",
    "print(\"cos(theta) = \", np.cos(theta))\n",
    "print(\"tan(theta) = \", np.tan(theta))"
   ]
  },
  {
   "cell_type": "markdown",
   "id": "8c930315-5558-4134-ae94-26b1edb1893f",
   "metadata": {},
   "source": [
    "#### Exponentes y logaritmos"
   ]
  },
  {
   "cell_type": "code",
   "execution_count": 30,
   "id": "ab767dd6-9b8c-4951-bae7-020ce88e17ee",
   "metadata": {},
   "outputs": [
    {
     "name": "stdout",
     "output_type": "stream",
     "text": [
      "x    = [1, 2, 3]\n",
      "e^x  = [ 2.71828183  7.3890561  20.08553692]\n",
      "2^x  = [2. 4. 8.]\n",
      "3^x  = [ 3  9 27]\n"
     ]
    }
   ],
   "source": [
    "x = [1, 2, 3]\n",
    "print(\"x    =\", x)\n",
    "print(\"e^x  =\", np.exp(x))\n",
    "print(\"2^x  =\", np.exp2(x))\n",
    "print(\"3^x  =\", np.power(3, x))"
   ]
  },
  {
   "cell_type": "markdown",
   "id": "32d5e8bb-c849-4df2-b8ea-971a1e9e1ec5",
   "metadata": {},
   "source": [
    "#### Producto escalar de vectores"
   ]
  },
  {
   "cell_type": "markdown",
   "id": "907f62a8-8522-4700-b29a-c83b6b7d306e",
   "metadata": {},
   "source": [
    "Sean **a** y **b**, dos vectores de *n* componentes. Entonces el producto escalar de **a** y **b** denotado por **a . b** está dado por:\n",
    "\n",
    "**a.b** = a<sub>1</sub>b<sub>1</sub> + a<sub>2</sub>b<sub>2</sub> + ... + a<sub>n</sub>b<sub>n</sub>"
   ]
  },
  {
   "cell_type": "code",
   "execution_count": 31,
   "id": "bb06f7b2-38f3-427a-8549-3ce59e9baeb5",
   "metadata": {},
   "outputs": [
    {
     "name": "stdout",
     "output_type": "stream",
     "text": [
      "-32\n"
     ]
    }
   ],
   "source": [
    "v1 = np.array([1, 5, -2, 7, 3])\n",
    "v2 = np.array([3, 1, 1, -5, -1])\n",
    "\n",
    "print(np.dot(v1, v2))"
   ]
  },
  {
   "cell_type": "markdown",
   "id": "13b80727-6331-40bd-a69b-91742d798078",
   "metadata": {},
   "source": [
    "#### Suma de matrices"
   ]
  },
  {
   "cell_type": "markdown",
   "id": "995a6f92-b533-476a-8bf9-7554ae2220e7",
   "metadata": {},
   "source": [
    "Sean A y B dos matrices de tamaño m x n. Entonces la suma de A y B es una matriz de m x n dada por:\n",
    "\n",
    "A + B = (a<sub>ij</sub> + b<sub>ij</sub>)"
   ]
  },
  {
   "cell_type": "markdown",
   "id": "3281d520-8988-4fe8-a524-fa364cac77c9",
   "metadata": {},
   "source": [
    "#### Producto de matrices"
   ]
  },
  {
   "cell_type": "markdown",
   "id": "f1df9fa7-172f-4368-b16d-46489afbcbec",
   "metadata": {},
   "source": [
    "Sea A una matriz de m x n, y sea B una matriz de n x p. Entonces el producto de A y B es una matriz C de tamaño m x p donde:\n",
    "\n",
    "**c<sub>ij</sub>** = (renglon i de A) . (columna j de B)\n",
    "\n",
    "Nota: Se debe observar que dos matrices solo se pueden multiplicar si el número de columnas de la primera matriz es igual al número de filas de la segunda."
   ]
  },
  {
   "cell_type": "code",
   "execution_count": 32,
   "id": "6203328a-f38e-4a5c-91b0-93cab6c1dd62",
   "metadata": {},
   "outputs": [
    {
     "name": "stdout",
     "output_type": "stream",
     "text": [
      "[[84 26]\n",
      " [36 20]]\n"
     ]
    }
   ],
   "source": [
    "A = np.array([[5, 4, 7],\n",
    "              [3, 6, 1]])\n",
    "B = np.array([[1, 0],\n",
    "              [4, 3],\n",
    "              [9, 2]])\n",
    "\n",
    "print(np.matmul(A, B)) #También se puede usar la función dot"
   ]
  },
  {
   "cell_type": "markdown",
   "id": "6c52813a-3541-4503-8c33-931602d161ac",
   "metadata": {},
   "source": [
    "#### Tensores"
   ]
  },
  {
   "cell_type": "markdown",
   "id": "50a3c99e-8806-4e3b-bc9e-6f50956f0250",
   "metadata": {},
   "source": [
    "Existen diversos casos en los cuales se precisan mas de dos ejes para almacenar valores. En el caso general, una matriz con un número regular de ejes se lo conoce como tensor. Por ejemplo, cuando almacenamos los valores de los píxeles de una imagen a color necesitamos una matriz con tres ejes (uno para cada canal de color: R, G y B)."
   ]
  },
  {
   "cell_type": "code",
   "execution_count": 33,
   "id": "4359da59-092c-4544-9429-949457fa01ea",
   "metadata": {},
   "outputs": [
    {
     "data": {
      "image/png": "[encoded data removed]",
      "text/plain": [
       "<Figure size 432x288 with 1 Axes>"
      ]
     },
     "metadata": {
      "needs_background": "light"
     },
     "output_type": "display_data"
    }
   ],
   "source": [
    "# Libería para visualizar la imagen\n",
    "import matplotlib.pyplot as plt\n",
    "\n",
    "# Fijamos la semilla del generador de valores aleatorios\n",
    "np.random.seed(123)\n",
    "\n",
    "# 256 indica que se crean valores entre 0 y 255\n",
    "A = np.random.randint(256, size=(10,10,3))\n",
    "\n",
    "# Visualizamos el tensor A\n",
    "plt.imshow(A);"
   ]
  },
  {
   "cell_type": "code",
   "execution_count": null,
   "id": "11b7b026-518e-4b80-8009-5147c29b7956",
   "metadata": {},
   "outputs": [],
   "source": []
  },
  {
   "cell_type": "code",
   "execution_count": null,
   "id": "83b2703c-0164-44ab-a967-59cd4a26dc54",
   "metadata": {},
   "outputs": [],
   "source": []
  }
 ],
 "metadata": {
  "kernelspec": {
   "display_name": "Python 3 (ipykernel)",
   "language": "python",
   "name": "python3"
  },
  "language_info": {
   "codemirror_mode": {
    "name": "ipython",
    "version": 3
   },
   "file_extension": ".py",
   "mimetype": "text/x-python",
   "name": "python",
   "nbconvert_exporter": "python",
   "pygments_lexer": "ipython3",
   "version": "3.9.6"
  }
 },
 "nbformat": 4,
 "nbformat_minor": 5
}
