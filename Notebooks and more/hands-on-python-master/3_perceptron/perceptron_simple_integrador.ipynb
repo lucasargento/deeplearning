{
 "cells": [
  {
   "cell_type": "markdown",
   "id": "3ce72d3f-925c-4216-9600-1907b6b95baf",
   "metadata": {
    "tags": []
   },
   "source": [
    "# Perceptrón simple: modelo lineal"
   ]
  },
  {
   "cell_type": "markdown",
   "id": "2f88e9a9-4c0b-4b7f-9944-502e1e894171",
   "metadata": {},
   "source": [
    "<img src=\"images/book_neural_networks.jpeg\" alt=\"drawing\" width=\"200\"/>"
   ]
  },
  {
   "cell_type": "markdown",
   "id": "e266c7b4-459a-43d8-89a4-ec4ef3091eff",
   "metadata": {},
   "source": [
    "### Neurona biológica"
   ]
  },
  {
   "cell_type": "markdown",
   "id": "b678e4e2-f0b4-4dd9-aa40-e50d961ad283",
   "metadata": {},
   "source": [
    "* Corteza cerebral: 10^11 neuronas\n",
    "* Neurona biológica: soma, dendritas, axón\n",
    "* Fisiología de la neurona:\n",
    "    * Sinapsis, neurotransmisores\n",
    "    * Despolarización, comportamiento todo/nada\n",
    "    * Propagación del impulso\n",
    "    * Refuerzo de las sinapsis -> aprendizaje"
   ]
  },
  {
   "cell_type": "markdown",
   "id": "a998b1fb-8a9b-43c3-81ab-800e5300d335",
   "metadata": {},
   "source": [
    "<img src=\"images/neurona.png\" alt=\"drawing\" width=\"600\"/>"
   ]
  },
  {
   "cell_type": "markdown",
   "id": "2c5ef5a2-bd0f-47ac-8563-df9f835ea4fc",
   "metadata": {},
   "source": [
    "* Las **dendritas**, que son la vía de entrada de las señales que se combinan en el cuerpo de la neurona. De alguna manera la neurona elabora una señal de salida a partir de ellas. \n",
    "* El **axón**, que es el camino de salida de la señal generada por la neurona. \n",
    "* Las **sinapsis**, que son las unidades funcionales y estructurales elementales que median entre las interacciones de las neuronas. En las terminaciones de las sinapsis se encuentran unas vesículas que contienen unas sustancias químicas llamadas **neurotransmisores**, que ayudan a la propagación de las señales electroquímicas de una neurona a otra.\n",
    "* La neurona es estimulada o excitada a través de sus entradas y cuando se alcanza un cierto umbral, la neurona se activa, pasando una señal hacia el axón."
   ]
  },
  {
   "cell_type": "markdown",
   "id": "4488ddad-607c-4e1c-8a79-a537c0cc5abb",
   "metadata": {},
   "source": [
    "### Modelo simplificado"
   ]
  },
  {
   "cell_type": "markdown",
   "id": "26b3efe7-11af-4b83-b1cc-a348cb081bd1",
   "metadata": {},
   "source": [
    "El perceptrón ocupa un lugar especial en el desarrollo histórico de las redes neuronales: fue la primera red neuronal descrita algorítmicamente. \n",
    "Propuesto por Rosenblatt (1962), un psicólogo, que inspiró a ingenieros, físicos y matemáticos por igual a dedicar su esfuerzo de investigación a diferentes aspectos de las redes neuronales en las décadas de 1960 y 1970."
   ]
  },
  {
   "cell_type": "markdown",
   "id": "6a9a0f40-19ad-4d6b-9e47-4421f7d4a2b6",
   "metadata": {},
   "source": [
    "* Modelo unidimensional.\n",
    "* Este modelo neuronal básico consiste en una combinación lineal de entradas (**x**) con pesos sinápticos (**w**) seguido de una función de activación.\n",
    "* La función de activación \"verifica\" si la ponderación de entradas supera un determinado umbral.\n",
    "* Todas las entradas llegan de forma simultánea."
   ]
  },
  {
   "cell_type": "markdown",
   "id": "81ed423b-a57f-41b9-8b0a-5bdd5f32d510",
   "metadata": {},
   "source": [
    "### Características de la neurona"
   ]
  },
  {
   "cell_type": "markdown",
   "id": "95595522-5be9-45bc-9217-1b0f0a40c72c",
   "metadata": {},
   "source": [
    "* Alta NO linealidad.\n",
    "* Alto paralelismo.\n",
    "* Aprenden a partir de los datos.\n",
    "* Generalización y adaptabilidad.\n",
    "* Robustez."
   ]
  },
  {
   "cell_type": "markdown",
   "id": "64b300b0-dbbc-4466-9871-321dd10e0e34",
   "metadata": {},
   "source": [
    "**Función que mapea un vector de entrada a un valor de salida binario**"
   ]
  },
  {
   "cell_type": "markdown",
   "id": "a2a75c42-6752-484f-a70d-eeb04a258719",
   "metadata": {},
   "source": [
    "<img src=\"images/funcion_perceptron.png\" alt=\"drawing\" width=\"300\"/>"
   ]
  },
  {
   "cell_type": "markdown",
   "id": "9a2a5b8f-310c-4928-8097-5497e9d98813",
   "metadata": {},
   "source": [
    "- Donde *w* es un vector de pesos reales y *w . x* es el producto escalar. *u* es el umbral que representa el grado de inhibición de la neurona. Es un término constante que no depende del valor que tome la entrada.\n",
    "- Espacialmente, el umbral (bias) altera la posición (aunque no la orientación) del límite de decisión. "
   ]
  },
  {
   "cell_type": "markdown",
   "id": "e28ffe68-fa28-4eb1-9a67-7da49ec72fc1",
   "metadata": {},
   "source": [
    "<img src=\"images/perceptron.jpeg\" alt=\"drawing\" width=\"600\"/>"
   ]
  },
  {
   "cell_type": "markdown",
   "id": "a22811da-fe1e-4ece-a73a-4dc5d551277f",
   "metadata": {},
   "source": [
    "- El algoritmo de aprendizaje del perceptrón no termina si el conjunto de aprendizaje no es linealmente separable .\n",
    "- Si los vectores no son linealmente separables, el aprendizaje nunca llegará a un punto en el que todos los vectores se clasifiquen correctamente. El ejemplo más famoso de la incapacidad del perceptrón para resolver problemas con vectores linealmente no separables es el problema o exclusivo booleano"
   ]
  },
  {
   "cell_type": "markdown",
   "id": "a980b94c-2730-477d-9672-1ffa37eee07c",
   "metadata": {},
   "source": [
    "<img src=\"images/problema.png\" alt=\"drawing\" width=\"600\"/>"
   ]
  },
  {
   "cell_type": "markdown",
   "id": "df4ebaf2-4120-4c88-88c3-c6700781cad4",
   "metadata": {},
   "source": [
    "### Aprendizaje"
   ]
  },
  {
   "cell_type": "markdown",
   "id": "2b408ad0-a972-426c-b87f-09f1c67ba2fd",
   "metadata": {},
   "source": [
    "El perceptrón hace uso del aprendizaje Hebbiano, es decir implica que los pesos sean ajustados de manera que cada uno de ellos represente la mejor relación entre ellos posibles (teniendo en cuenta las entradas y salida deseada).\n",
    "\n",
    "∆w<sub>i</sub> , proporcional al producto de una entrada x<sub>i</sub> y de una salida y<sub>i</sub> de la neurona.\n",
    "\n",
    "Es decir, ∆w<sub>i</sub> = εx<sub>i</sub>y<sub>i</sub> donde a 0 < ε < 1 se le llama tasa de aprendizaje"
   ]
  },
  {
   "cell_type": "raw",
   "id": "ac14444d-6083-4b04-93e8-552a758353d3",
   "metadata": {},
   "source": [
    "1. Inicialización al azar\n",
    "\n",
    "2. Para cada ejemplo de datos de entrenamiento x[n] | y[n]\n",
    "    * Activación:\n",
    "        z = V(np.dot(pesos_sinapticos, x) + b) donde V es la funcion de activación utilizada\n",
    "        \n",
    "    * Calcular error\n",
    "        error = y - z\n",
    "        \n",
    "    * Actualización del vector de pesos sinápticos\n",
    "        w(t+1) = w(t) + ε * error * x               # ε es la tasa de aprendizaje\n",
    "        b(t+1) = b(t) + ε * error\n",
    "        \n",
    "3. Volver a 2 hasta satisfacer algún criterio de fin."
   ]
  },
  {
   "cell_type": "markdown",
   "id": "db6c2f76-f469-422d-8179-ceca1ee4181d",
   "metadata": {
    "tags": []
   },
   "source": [
    "### Ejercicio"
   ]
  },
  {
   "cell_type": "markdown",
   "id": "db8b310e-2e8f-4a88-8b0e-f38a9124aa90",
   "metadata": {},
   "source": [
    "Implementar el algoritmo del Perceptron simple en una clase que mínimamente conste de un método para entrenamiento y un método para realizar predicciones a partir de entradas dadas\n"
   ]
  },
  {
   "cell_type": "code",
   "execution_count": null,
   "id": "d333d540-18a1-4238-ab03-dd3dea9eef35",
   "metadata": {},
   "outputs": [],
   "source": [
    "class Perceptron:\n",
    "    \n",
    "    def __init__(self):\n",
    "        pass\n",
    "    \n",
    "    def train(self):\n",
    "        pass\n",
    "    \n",
    "    def predict(self):\n",
    "        pass"
   ]
  },
  {
   "cell_type": "markdown",
   "id": "b4043a96-4b88-4ac0-aa87-efd25b3b9166",
   "metadata": {},
   "source": [
    "**Ejercicio 1:**\n",
    "\n",
    "Entrenar un perceptron simple para intentar resolver los problemas AND, OR y XOR. ¿Qué conclusiones puede sacar? ¿De qué depende el resultado? ¿Funciona para todos los casos? ¿Por qué?"
   ]
  },
  {
   "cell_type": "raw",
   "id": "c31f9909-58fd-421a-82e5-a1a3af577cdc",
   "metadata": {},
   "source": [
    "# AND\n",
    "X_train = np.array([[0,0],[0,1],[1,0],[1,1]])\n",
    "y_train = np.array([[0, 0, 0, 1]]).T\n",
    "\n",
    "# OR\n",
    "X_train = np.array([[0,0],[0,1],[1,0],[1,1]])\n",
    "y_train = np.array([[0, 1, 1, 1]]).T\n",
    "\n",
    "# XOR\n",
    "X_train = np.array([[0,0],[0,1],[1,0],[1,1]])\n",
    "y_train = np.array([[0, 1, 1, 0]]).T"
   ]
  },
  {
   "cell_type": "markdown",
   "id": "0340b47c-2ff8-4ce6-ab56-d13e79efbeff",
   "metadata": {},
   "source": [
    "**Ejercicio 2:**\n",
    "\n",
    "Agregue métodos a la clase Perceptron que permita visualizar la tasa de error por época de entrenamiento y otro que permita visualizar la recta de separación entre clases que se va ajustando durante el entrenamiento."
   ]
  },
  {
   "cell_type": "markdown",
   "id": "d4e47742-7603-4a90-84bb-423d449188aa",
   "metadata": {},
   "source": [
    "Si denotamos por x<sub>1</sub> y x<sub>2</sub> a las dos neuronas de entrada, la operación efectuada por el perceptrón simple consiste en:"
   ]
  },
  {
   "cell_type": "markdown",
   "id": "f99d15c9-3371-48ac-88e5-344b829439b9",
   "metadata": {},
   "source": [
    "<img src=\"images/ecuacion1.png\" alt=\"drawing\" width=\"300\"/>"
   ]
  },
  {
   "cell_type": "markdown",
   "id": "0e7ff8e4-933d-4902-9f4e-ddfbbb1b2e53",
   "metadata": {},
   "source": [
    "Si consideramos x<sub>1</sub> y x<sub>2</sub> situadas sobre los ejes de abcisas y ordenadas respectivamente, la condición"
   ]
  },
  {
   "cell_type": "markdown",
   "id": "af8996d0-91ff-4782-8908-96b184713e9b",
   "metadata": {},
   "source": [
    "<img src=\"images/ecuacion2.png\" alt=\"drawing\" width=\"200\"/>"
   ]
  },
  {
   "cell_type": "markdown",
   "id": "5811459d-fc9a-4bbf-b8e6-3bc3a03f41d4",
   "metadata": {},
   "source": [
    "Esto representa una recta que define la región de decisión determinada por el perceptrón\n",
    "simple. Es por ello que dicho perceptrón simple representa un discriminador lineal,\n",
    "al implementar una condición lineal que separa dos regiones en el espacio que representan dos clases diferentes de patrones."
   ]
  },
  {
   "cell_type": "markdown",
   "id": "12ad2c1d-b767-433e-be40-2861f97dda63",
   "metadata": {},
   "source": [
    "Por tanto, el perceptrón simple presenta grandes limitaciones, ya que tan solo es capaz\n",
    "de representar funciones linealmente separables."
   ]
  },
  {
   "cell_type": "markdown",
   "id": "9157232f-756b-4244-a8d1-176dc21b8ac2",
   "metadata": {},
   "source": [
    "<img src=\"images/region_decision.png\" alt=\"drawing\" width=\"400\"/>"
   ]
  }
 ],
 "metadata": {
  "kernelspec": {
   "display_name": "Python 3 (ipykernel)",
   "language": "python",
   "name": "python3"
  },
  "language_info": {
   "codemirror_mode": {
    "name": "ipython",
    "version": 3
   },
   "file_extension": ".py",
   "mimetype": "text/x-python",
   "name": "python",
   "nbconvert_exporter": "python",
   "pygments_lexer": "ipython3",
   "version": "3.9.6"
  }
 },
 "nbformat": 4,
 "nbformat_minor": 5
}
