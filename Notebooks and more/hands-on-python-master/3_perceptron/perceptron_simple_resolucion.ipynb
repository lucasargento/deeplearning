{
 "cells": [
  {
   "cell_type": "markdown",
   "id": "f78bbedc-695b-4a67-ab56-2522c3c95141",
   "metadata": {},
   "source": [
    "## Perceptrón simple - Resolución"
   ]
  },
  {
   "cell_type": "markdown",
   "id": "d96f73f7-919a-49fb-8e06-ac030c375da6",
   "metadata": {},
   "source": [
    "### Función de activación"
   ]
  },
  {
   "cell_type": "code",
   "execution_count": 1,
   "id": "de82645f-d375-4a86-86c6-a9696effdfad",
   "metadata": {},
   "outputs": [],
   "source": [
    "import numpy as np\n",
    "import matplotlib.pyplot as plt\n",
    "%matplotlib inline\n",
    "\n",
    "from IPython import display"
   ]
  },
  {
   "cell_type": "code",
   "execution_count": 2,
   "id": "8bae92b2-5841-496b-9efe-e450fc66cd57",
   "metadata": {},
   "outputs": [],
   "source": [
    "def binary_step(z):\n",
    "    return 1 if z>= 0 else 0"
   ]
  },
  {
   "cell_type": "code",
   "execution_count": 3,
   "id": "9af7efd0-6a66-4f82-a18c-8b9cdf06ac43",
   "metadata": {},
   "outputs": [
    {
     "data": {
      "image/png": "[encoded data removed]",
      "text/plain": [
       "<Figure size 432x288 with 1 Axes>"
      ]
     },
     "metadata": {
      "needs_background": "light"
     },
     "output_type": "display_data"
    }
   ],
   "source": [
    "x = np.arange(-1, 1, 0.01)\n",
    "y = np.vectorize(binary_step)(x)\n",
    "plt.plot(x, y)\n",
    "plt.title('Step binary')\n",
    "plt.xlabel('Input')\n",
    "plt.ylabel('Output');"
   ]
  },
  {
   "cell_type": "markdown",
   "id": "c5c987f2-bc92-40d3-bb9e-d24d2dd60811",
   "metadata": {},
   "source": [
    "### Inicialización de pesos sinapticos"
   ]
  },
  {
   "cell_type": "code",
   "execution_count": 4,
   "id": "bc9ddf3e-23ec-45f8-93f0-07205d983b77",
   "metadata": {},
   "outputs": [],
   "source": [
    "def inicializar_pesos(in_features):\n",
    "    weights = np.random.rand(in_features)\n",
    "    bias = np.random.rand(1).item()\n",
    "    return weights, bias"
   ]
  },
  {
   "cell_type": "code",
   "execution_count": 5,
   "id": "14f8ed21-c04b-4d1c-97d4-5bfb2fccaf8e",
   "metadata": {},
   "outputs": [],
   "source": [
    "in_features = 2\n",
    "w, b = inicializar_pesos(2)\n",
    "assert w.shape[0] == in_features, 'Error'"
   ]
  },
  {
   "cell_type": "code",
   "execution_count": 6,
   "id": "14216d76-82b7-4238-84d9-10dc7e464089",
   "metadata": {},
   "outputs": [
    {
     "data": {
      "text/plain": [
       "array([0.30650836, 0.62633551])"
      ]
     },
     "execution_count": 6,
     "metadata": {},
     "output_type": "execute_result"
    }
   ],
   "source": [
    "w"
   ]
  },
  {
   "cell_type": "code",
   "execution_count": 7,
   "id": "80596413-daa5-49ec-8c75-5615045c2e91",
   "metadata": {},
   "outputs": [
    {
     "data": {
      "text/plain": [
       "0.5813297574938379"
      ]
     },
     "execution_count": 7,
     "metadata": {},
     "output_type": "execute_result"
    }
   ],
   "source": [
    "b"
   ]
  },
  {
   "cell_type": "markdown",
   "id": "6be89e16-b9c6-4e08-aee9-04f4721e90f2",
   "metadata": {},
   "source": [
    "### Perceptron en una clase"
   ]
  },
  {
   "cell_type": "code",
   "execution_count": 8,
   "id": "a1d2fc0d-5764-4669-a5ed-a7098f7b49ec",
   "metadata": {},
   "outputs": [],
   "source": [
    "# Plot areas de decision\n",
    "\n",
    "def eq_plot(w1, w2, b):\n",
    "    plt.scatter(X_train[:,0], X_train[:,1], c = y_train)\n",
    "    x = np.arange(-0.5, 1.75, 0.25)\n",
    "    y = (-(b / w2) / (b / w1))*x + (-b / w2)\n",
    "    plt.plot(x, y)\n",
    "    plt.xlim([-0.5,1.50])\n",
    "    plt.ylim([-0.5,1.50])\n",
    "    plt.fill_between(x=x,y1=y-200,y2=y+0.01,alpha=.2,color='red')\n",
    "    plt.fill_between(x=x,y1=y+200,y2=y+0.01,alpha=.2,color='yellow')\n",
    "    plt.pause(0.05)\n",
    "    #plt.clf()\n",
    "    plt.show()"
   ]
  },
  {
   "cell_type": "code",
   "execution_count": 9,
   "id": "28b18305-d405-4d76-9cca-56f1a52d865d",
   "metadata": {},
   "outputs": [],
   "source": [
    "class Perceptron:\n",
    "    \n",
    "    def __init__(self, n_caracteristicas: int, n_epocas: int, tasa_aprendizaje: float):\n",
    "        self.n_caracteristicas = n_caracteristicas\n",
    "        self.n_epocas = n_epocas\n",
    "        self.tasa_aprendizaje = tasa_aprendizaje\n",
    "        \n",
    "    def __inicializar_pesos(self):\n",
    "        self.weights = np.random.rand(self.n_caracteristicas)\n",
    "        self.bias = np.random.rand(1).item()\n",
    "    \n",
    "    def __propagacion_adelante(self, x):\n",
    "        z = binary_step(np.dot(self.weights.T, x) + self.bias)\n",
    "        return z\n",
    "    \n",
    "    def __propagacion_atras(self, x, y):\n",
    "        z = self.__propagacion_adelante(x)\n",
    "        error = y - z\n",
    "        return error\n",
    "    \n",
    "    def train(self, X_train, y_train):\n",
    "        self.__inicializar_pesos()\n",
    "        for idx in range(self.n_epocas):\n",
    "            print(f\"Epoca {idx+1}/{self.n_epocas}\")\n",
    "            for x, y in zip(X_train, y_train):\n",
    "                \n",
    "                error = self.__propagacion_atras(x, y)\n",
    "                \n",
    "                # actualizacion de pesos sinapticos\n",
    "                self.weights = self.weights + self.tasa_aprendizaje * error * x.T\n",
    "                self.bias = self.bias + self.tasa_aprendizaje * error\n",
    "      \n",
    "                display.clear_output(wait=True)  # comentar para ver el grafico epoca a epoca\n",
    "                display.display(eq_plot(self.weights[0].item(), self.weights[1].item(), self.bias.item()))\n",
    "\n",
    "            print(\"----------------------\\n\")\n",
    "        \n",
    "    def predict(self, x):\n",
    "        return self.__propagacion_adelante(x)\n",
    "    \n",
    "    def tasa_error(self, X_eval, y_eval):\n",
    "        tasa_error = 0\n",
    "        for x, y in zip(X_eval, y_eval):\n",
    "            prediction = self.__propagacion_adelante(x)\n",
    "            if prediction != y:\n",
    "                tasa_error += 1\n",
    "        tasa_error = tasa_error / len(y_eval)\n",
    "        return tasa_error"
   ]
  },
  {
   "cell_type": "markdown",
   "id": "65959aa2-a63f-43d9-9d2f-06a8650b24ca",
   "metadata": {},
   "source": [
    "### Data"
   ]
  },
  {
   "cell_type": "code",
   "execution_count": 10,
   "id": "9244af84-eff2-44df-aba8-06a9439f4ee4",
   "metadata": {},
   "outputs": [],
   "source": [
    "X_train = np.array([[0,0],[0,1],[1,0],[1,1]])\n",
    "y_train = np.array([[0, 0, 0, 1]]).T"
   ]
  },
  {
   "cell_type": "code",
   "execution_count": 11,
   "id": "09bbd2c4-218c-4884-a143-5574aeb767ef",
   "metadata": {},
   "outputs": [],
   "source": [
    "P = Perceptron(n_caracteristicas=X_train.shape[1], n_epocas=1, tasa_aprendizaje=1)"
   ]
  },
  {
   "cell_type": "code",
   "execution_count": 12,
   "id": "e8216116-d6fd-439b-8e4a-71dbec55e143",
   "metadata": {},
   "outputs": [
    {
     "data": {
      "image/png": "[encoded data removed]",
      "text/plain": [
       "<Figure size 432x288 with 1 Axes>"
      ]
     },
     "metadata": {
      "needs_background": "light"
     },
     "output_type": "display_data"
    },
    {
     "data": {
      "text/plain": [
       "None"
      ]
     },
     "metadata": {},
     "output_type": "display_data"
    },
    {
     "name": "stdout",
     "output_type": "stream",
     "text": [
      "----------------------\n",
      "\n"
     ]
    }
   ],
   "source": [
    "P.train(X_train, y_train)"
   ]
  },
  {
   "cell_type": "code",
   "execution_count": 13,
   "id": "344a4696-4793-4ddf-a946-9d6d7d197066",
   "metadata": {},
   "outputs": [
    {
     "data": {
      "text/plain": [
       "1"
      ]
     },
     "execution_count": 13,
     "metadata": {},
     "output_type": "execute_result"
    }
   ],
   "source": [
    "P.predict(X_train[3])"
   ]
  },
  {
   "cell_type": "code",
   "execution_count": 14,
   "id": "a3e88a10-1179-4594-b189-fe1d1fb4dc19",
   "metadata": {},
   "outputs": [
    {
     "name": "stdout",
     "output_type": "stream",
     "text": [
      "Tasa de error:  0.5\n"
     ]
    }
   ],
   "source": [
    "print(\"Tasa de error: \", P.tasa_error(X_train, y_train))"
   ]
  }
 ],
 "metadata": {
  "kernelspec": {
   "display_name": "Python 3 (ipykernel)",
   "language": "python",
   "name": "python3"
  },
  "language_info": {
   "codemirror_mode": {
    "name": "ipython",
    "version": 3
   },
   "file_extension": ".py",
   "mimetype": "text/x-python",
   "name": "python",
   "nbconvert_exporter": "python",
   "pygments_lexer": "ipython3",
   "version": "3.9.10"
  }
 },
 "nbformat": 4,
 "nbformat_minor": 5
}
