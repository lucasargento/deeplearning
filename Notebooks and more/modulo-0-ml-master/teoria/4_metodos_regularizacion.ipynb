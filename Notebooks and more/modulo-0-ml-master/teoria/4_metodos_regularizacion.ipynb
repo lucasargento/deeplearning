{
 "cells": [
  {
   "cell_type": "markdown",
   "id": "b4848939-9cca-4a82-bc60-5a99db6f2581",
   "metadata": {},
   "source": [
    "# Métodos para mejorar el aprendizaje de nuestra red"
   ]
  },
  {
   "cell_type": "markdown",
   "id": "453c6b56-0da1-4fa1-8249-b8a3f3c465b7",
   "metadata": {},
   "source": [
    "<img src=\"images/mejora_aprendizaje_red.png\" alt=\"Drawing\" style=\"width: 700px;\"/>"
   ]
  },
  {
   "cell_type": "markdown",
   "id": "f0b95a7a-0d8c-43a8-89e2-a5e9ffff533b",
   "metadata": {},
   "source": [
    "# 1. Haciendo foco en la data que tenemos"
   ]
  },
  {
   "cell_type": "markdown",
   "id": "a1ed8f66-4dd1-4667-9baa-a725e1625475",
   "metadata": {},
   "source": [
    "### 1.1 - Recolectar mas datos"
   ]
  },
  {
   "cell_type": "markdown",
   "id": "cf470641-b144-4b09-890c-a0d028195328",
   "metadata": {},
   "source": [
    "<img src=\"images/more_data.png\" alt=\"Drawing\" style=\"width: 700px;\"/>"
   ]
  },
  {
   "cell_type": "markdown",
   "id": "5f147809-37c6-418a-8660-2b06a508083b",
   "metadata": {},
   "source": [
    "### 1.2 - Data augmentation"
   ]
  },
  {
   "cell_type": "markdown",
   "id": "f0e8e992-b200-4f40-88cf-aa63fc12b27b",
   "metadata": {},
   "source": [
    "<img src=\"images/data_augmentation.png\" alt=\"Drawing\" style=\"width: 700px;\"/>"
   ]
  },
  {
   "cell_type": "code",
   "execution_count": 49,
   "id": "5292da4d-1e4b-415f-902f-7667e63175bb",
   "metadata": {},
   "outputs": [],
   "source": [
    "import matplotlib.pyplot as plt\n",
    "%matplotlib inline\n",
    "\n",
    "from torchvision import datasets\n",
    "import torchvision\n",
    "import random\n",
    "from torch.utils.data import DataLoader\n",
    "import torch.nn.functional as F\n",
    "import torch\n",
    "import PIL"
   ]
  },
  {
   "cell_type": "code",
   "execution_count": 50,
   "id": "1c42e8de-4d5d-4b0c-b29e-5a3e5d5e0f21",
   "metadata": {},
   "outputs": [],
   "source": [
    "RANDOM_SEED = 123\n",
    "BATCH_SIZE = 64\n",
    "NUM_EPOCHS = 50\n",
    "\n",
    "\n",
    "training_transforms = torchvision.transforms.Compose([\n",
    "    torchvision.transforms.Resize(size=(32, 32)),\n",
    "    torchvision.transforms.RandomCrop(size=(28, 28)),\n",
    "    torchvision.transforms.RandomRotation(degrees=45, interpolation=PIL.Image.BILINEAR),\n",
    "    torchvision.transforms.ToTensor(),\n",
    "    torchvision.transforms.Normalize(mean=(0.5,), std=(0.5,)),\n",
    "])\n",
    "\n",
    "test_transforms = torchvision.transforms.Compose([\n",
    "    torchvision.transforms.ToTensor(),\n",
    "    torchvision.transforms.Resize(size=(32, 32)),\n",
    "    torchvision.transforms.CenterCrop(size=(28, 28)),\n",
    "    torchvision.transforms.Normalize(mean=(0.5,), std=(0.5,)),\n",
    "])\n",
    "\n",
    "# https://pytorch.org/docs/stable/torchvision/transforms.html\n",
    "\n",
    "train_dataset = datasets.FashionMNIST(root='data', \n",
    "                               train=True, \n",
    "                               transform=training_transforms,\n",
    "                               download=True)\n",
    "\n",
    "test_dataset = datasets.FashionMNIST(root='data', \n",
    "                              train=False, \n",
    "                              transform=test_transforms)\n",
    "\n",
    "\n",
    "train_loader = DataLoader(dataset=train_dataset, \n",
    "                          batch_size=BATCH_SIZE, \n",
    "                          shuffle=True)\n",
    "\n",
    "test_loader = DataLoader(dataset=test_dataset, \n",
    "                         batch_size=BATCH_SIZE, \n",
    "                         shuffle=False)"
   ]
  },
  {
   "cell_type": "code",
   "execution_count": 51,
   "id": "525ef8fa-253c-428c-a4a5-bad162ce069d",
   "metadata": {},
   "outputs": [
    {
     "name": "stdout",
     "output_type": "stream",
     "text": [
      "Image batch dimensions: torch.Size([128, 1, 28, 28])\n",
      "Image label dimensions: torch.Size([128])\n"
     ]
    },
    {
     "data": {
      "image/png": "[encoded data removed]",
      "text/plain": [
       "<Figure size 432x288 with 5 Axes>"
      ]
     },
     "metadata": {
      "needs_background": "light"
     },
     "output_type": "display_data"
    }
   ],
   "source": [
    "random.seed(123)\n",
    "torch.manual_seed(123)\n",
    "\n",
    "\n",
    "for images, labels in train_loader:  \n",
    "    print('Image batch dimensions:', images.shape)\n",
    "    print('Image label dimensions:', labels.shape)\n",
    "    break\n",
    "    \n",
    "fig, ax = plt.subplots(1, 5)\n",
    "for i in range(5):\n",
    "    ax[i].imshow(images[i].view(28, 28).numpy(), cmap='binary')\n",
    "    \n",
    "plt.tight_layout()"
   ]
  },
  {
   "cell_type": "code",
   "execution_count": 52,
   "id": "b04a4212-fdc2-4589-af5a-81d2e3a92469",
   "metadata": {},
   "outputs": [
    {
     "data": {
      "text/plain": [
       "Dataset FashionMNIST\n",
       "    Number of datapoints: 60000\n",
       "    Root location: data\n",
       "    Split: Train\n",
       "    StandardTransform\n",
       "Transform: Compose(\n",
       "               Resize(size=(32, 32), interpolation=bilinear, max_size=None, antialias=None)\n",
       "               RandomCrop(size=(28, 28), padding=None)\n",
       "               RandomRotation(degrees=[-45.0, 45.0], interpolation=bilinear, expand=False, fill=0)\n",
       "               ToTensor()\n",
       "               Normalize(mean=(0.5,), std=(0.5,))\n",
       "           )"
      ]
     },
     "execution_count": 52,
     "metadata": {},
     "output_type": "execute_result"
    }
   ],
   "source": [
    "train_dataset"
   ]
  },
  {
   "cell_type": "code",
   "execution_count": 40,
   "id": "837db59a-3340-4a21-a42d-a730848acc39",
   "metadata": {},
   "outputs": [
    {
     "name": "stdout",
     "output_type": "stream",
     "text": [
      "Image batch dimensions: torch.Size([128, 1, 28, 28])\n",
      "Image label dimensions: torch.Size([128])\n"
     ]
    },
    {
     "data": {
      "image/png": "[encoded data removed]",
      "text/plain": [
       "<Figure size 432x288 with 5 Axes>"
      ]
     },
     "metadata": {
      "needs_background": "light"
     },
     "output_type": "display_data"
    }
   ],
   "source": [
    "# comparar sin data augmentation\n",
    "\n",
    "train_dataset = datasets.FashionMNIST(root='data', \n",
    "                               train=True, \n",
    "                               transform=torchvision.transforms.ToTensor(),\n",
    "                               download=True)\n",
    "\n",
    "train_loader = DataLoader(dataset=train_dataset, \n",
    "                          batch_size=BATCH_SIZE, \n",
    "                          shuffle=True)\n",
    "\n",
    "torch.manual_seed(0)\n",
    "for images, labels in train_loader:  \n",
    "    print('Image batch dimensions:', images.shape)\n",
    "    print('Image label dimensions:', labels.shape)\n",
    "    break\n",
    "    \n",
    "fig, ax = plt.subplots(1, 5)\n",
    "for i in range(5):\n",
    "    ax[i].imshow(images[i].view(28, 28).numpy(), cmap='binary')\n",
    "    \n",
    "plt.tight_layout()"
   ]
  },
  {
   "cell_type": "markdown",
   "id": "87c7b2ab-08f2-4621-809b-98e946e6e4ec",
   "metadata": {},
   "source": [
    "# 2. Foco en la complejidad del modelo"
   ]
  },
  {
   "cell_type": "markdown",
   "id": "78116585-e32d-410d-a134-87eabeae360e",
   "metadata": {},
   "source": [
    "<img src=\"images/complejidad_model.png\" alt=\"Drawing\" style=\"width: 500px;\"/>"
   ]
  },
  {
   "cell_type": "markdown",
   "id": "3253e003-b0d6-4a69-8bcf-92b5d30d0ddd",
   "metadata": {},
   "source": [
    "# 3. Early stopping"
   ]
  },
  {
   "cell_type": "markdown",
   "id": "bcc3786e-20ef-4bdc-85a5-776f1b4210fc",
   "metadata": {},
   "source": [
    "### Punto 1: Split de dataset"
   ]
  },
  {
   "cell_type": "markdown",
   "id": "d9ffce90-29ec-493d-a398-412612fc80e4",
   "metadata": {},
   "source": [
    "<img src=\"images/data_split.png\" alt=\"Drawing\" style=\"width: 600px;\"/>"
   ]
  },
  {
   "cell_type": "markdown",
   "id": "3c73f081-39e9-4fac-b6a5-d8d1dff2a0a3",
   "metadata": {},
   "source": [
    "- Usar dataset de validación para tuning de hiperparámetros.\n",
    "- Usar dataset de test para validar la generalización del modelo (una vez entrenado el modelo)."
   ]
  },
  {
   "cell_type": "markdown",
   "id": "6902f4c1-0965-483e-80e2-938cd54f8100",
   "metadata": {},
   "source": [
    "### Punto 2: Early stop"
   ]
  },
  {
   "cell_type": "markdown",
   "id": "185fb07b-7614-422b-b5e2-da4e348089f9",
   "metadata": {},
   "source": [
    "<img src=\"images/early_stop.jpeg\" alt=\"Drawing\" style=\"width: 700px;\"/>"
   ]
  },
  {
   "cell_type": "markdown",
   "id": "552063b0-bc94-4343-9721-1a1d6df4988e",
   "metadata": {},
   "source": [
    "**Ver notebook early stop**"
   ]
  },
  {
   "cell_type": "markdown",
   "id": "f32f9c26-28b6-435f-8d74-4a2e25764d16",
   "metadata": {
    "tags": []
   },
   "source": [
    "# 4. Dropout"
   ]
  },
  {
   "cell_type": "markdown",
   "id": "fe497d3b-0bf6-4429-9a12-abd743ec0fef",
   "metadata": {},
   "source": [
    "* Desactivar aleatoriamente ciertas (probabilidad) neuronas.\n",
    "* Solo se desactivan durante el entrenamiento.\n",
    "* Dependen de una probabilidad p"
   ]
  },
  {
   "cell_type": "markdown",
   "id": "448437a5-7fce-492f-ae53-f1d1c2055137",
   "metadata": {},
   "source": [
    "<img src=\"images/dropout.png\" alt=\"Drawing\" style=\"width: 700px;\"/>"
   ]
  },
  {
   "cell_type": "raw",
   "id": "969a5025-a36f-48fb-bfa8-6ad5085eec49",
   "metadata": {},
   "source": [
    "torch.nn.Dropout(p: float = 0.5, inplace: bool = False)"
   ]
  },
  {
   "cell_type": "markdown",
   "id": "7392438e-6d02-440e-98e5-13f8b1dddbc4",
   "metadata": {
    "tags": []
   },
   "source": [
    "### Implementacion: Ejercicio de TP"
   ]
  },
  {
   "cell_type": "markdown",
   "id": "95e4341f-8ef4-4352-a661-3942d1832ef6",
   "metadata": {},
   "source": [
    "# L1 y L2"
   ]
  },
  {
   "cell_type": "markdown",
   "id": "91a7021c-69e7-435f-9782-8a31019cdb0f",
   "metadata": {},
   "source": [
    "* Imponer penalidades sobre los parámetros"
   ]
  },
  {
   "cell_type": "markdown",
   "id": "dc2c394b-90bc-455b-bc45-0f09a91433d3",
   "metadata": {},
   "source": [
    "* **L1:** agregar suma de todos los valores absolutos de los pesos multiplicados por una constante, a la funcion de coste."
   ]
  },
  {
   "cell_type": "markdown",
   "id": "bf0c5914-2844-4a59-a5b6-4143a7d97ba0",
   "metadata": {},
   "source": [
    "<img src=\"images/l1_reg.png\" alt=\"Drawing\" style=\"width: 400px;\"/>"
   ]
  },
  {
   "cell_type": "markdown",
   "id": "11266bbb-89c4-4835-b0e9-942e33d76430",
   "metadata": {},
   "source": [
    "* **L2:** ahora sumamos la suma de las normas al cuadrado de los pesos lo multiplicamos por una constante. Util para aprender mas complejidad."
   ]
  },
  {
   "cell_type": "markdown",
   "id": "dda43dd3-7afa-4455-95d1-f2e140fe6958",
   "metadata": {},
   "source": [
    "<img src=\"images/l2_regula.png\" alt=\"Drawing\" style=\"width: 400px;\"/>"
   ]
  },
  {
   "cell_type": "raw",
   "id": "3bb12cde-a801-4465-81fd-a41225062462",
   "metadata": {},
   "source": [
    "optimizer = torch.optim.SGD(model.parameters(), lr=0.01, weight_decay=0.1)"
   ]
  },
  {
   "cell_type": "code",
   "execution_count": null,
   "id": "ea68315c-1b7d-4257-be8e-591f951096cc",
   "metadata": {},
   "outputs": [],
   "source": []
  }
 ],
 "metadata": {
  "kernelspec": {
   "display_name": "Python 3 (ipykernel)",
   "language": "python",
   "name": "python3"
  },
  "language_info": {
   "codemirror_mode": {
    "name": "ipython",
    "version": 3
   },
   "file_extension": ".py",
   "mimetype": "text/x-python",
   "name": "python",
   "nbconvert_exporter": "python",
   "pygments_lexer": "ipython3",
   "version": "3.9.10"
  }
 },
 "nbformat": 4,
 "nbformat_minor": 5
}
