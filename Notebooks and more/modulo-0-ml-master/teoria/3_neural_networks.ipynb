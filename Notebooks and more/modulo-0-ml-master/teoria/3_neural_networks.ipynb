{
 "cells": [
  {
   "cell_type": "markdown",
   "id": "6caef219-235c-4507-b3d7-bbaf39b6864a",
   "metadata": {},
   "source": [
    "# Redes neuronales"
   ]
  },
  {
   "cell_type": "markdown",
   "id": "059226c6-e1f1-46ce-afcd-aacba4694809",
   "metadata": {},
   "source": [
    "#### Red neuronal de 2 capas"
   ]
  },
  {
   "cell_type": "markdown",
   "id": "a6d4c314-11a7-4ed0-9611-f97cf36d2862",
   "metadata": {},
   "source": [
    "<img src=\"images/neural_networks.jpeg\" alt=\"Drawing\" style=\"width: 500px;\"/>"
   ]
  },
  {
   "cell_type": "markdown",
   "id": "1605e549-5062-4b73-8d0c-05eb7614bf15",
   "metadata": {},
   "source": [
    "El descenso de gradiente se puede utilizar para encontrar el mejor $W$ y $b$. El enfoque es básicamente el mismo como vimos anteriomente."
   ]
  },
  {
   "cell_type": "markdown",
   "id": "59f262e3-602e-4823-b871-5929b64a7bc8",
   "metadata": {},
   "source": [
    "**Paso 0: Elegir función de activación**\n"
   ]
  },
  {
   "cell_type": "markdown",
   "id": "332d2afb-d3c9-43e8-ac9f-3ace1655877a",
   "metadata": {},
   "source": [
    "<img src=\"images/activation_functions.png\" alt=\"Drawing\" style=\"width: 800px;\"/>"
   ]
  },
  {
   "cell_type": "markdown",
   "id": "409e31d1-951c-4fa2-b757-aff038094b43",
   "metadata": {},
   "source": [
    "\n",
    "- La función de activación elegida tiene gran peso en la capacidad de la red neuronal.\n",
    "- Las capas internas suelen utilizar la misma función de activación y la capa de salida suele tener una función de activación diferente y depende del tipo de problema.\n",
    "- Las funciones de activación usualmente son diferenciables (cálculo de gradientes). Hay casos donde NO (RELU)."
   ]
  },
  {
   "cell_type": "markdown",
   "id": "47793fcb-abc6-4312-82a6-daa0a8b40bb9",
   "metadata": {},
   "source": [
    "¿Por que necesitamos funciones de activacion?"
   ]
  },
  {
   "cell_type": "markdown",
   "id": "8cba35ca-f7bf-4c5c-a319-e38d7522474e",
   "metadata": {},
   "source": [
    "**Paso 1: Inicializar pesos**\n",
    "\n",
    "<img src=\"images/entrada_ponderada.png\" alt=\"Drawing\" style=\"width: 150px;\"/>\n",
    "\n",
    "\n",
    "* Inicializar pesos $W$ con valores aleatorios distintos de cero. $b$ > 0"
   ]
  },
  {
   "cell_type": "markdown",
   "id": "d1d2c796-bfed-46db-a78a-aec252f9c187",
   "metadata": {},
   "source": [
    "**Paso 2: Propagación hacia adelante**\n",
    "\n",
    "<img src=\"images/forward_propagation.png\" alt=\"Drawing\" style=\"width: 170px;\"/>\n"
   ]
  },
  {
   "cell_type": "markdown",
   "id": "9b51345e-c123-47a6-9f2a-638faa5a1dd2",
   "metadata": {},
   "source": [
    "**Paso 3: Calcular costo**\n"
   ]
  },
  {
   "cell_type": "markdown",
   "id": "3d2d226d-1ee9-40cf-8ab7-fb3792bfe46b",
   "metadata": {},
   "source": [
    "<img src=\"images/cross_entropy.png\" alt=\"Drawing\" style=\"width: 600px;\"/>"
   ]
  },
  {
   "cell_type": "markdown",
   "id": "ab96e280-81c2-4043-a31c-f436e44be9be",
   "metadata": {},
   "source": [
    "\n",
    "* La función de costo a utilizar depende del problema a resolver, pero suponiendo un problema de clasificación binaria, podemos utilizar la función de entropia cruzada.\n",
    "\n",
    "Llamemos $J$ a nuestra función de costo.\n",
    "\n",
    "<img src=\"images/bce.png\" alt=\"Drawing\" style=\"width: 400px;\"/>\n"
   ]
  },
  {
   "cell_type": "markdown",
   "id": "42177b7e-9eee-4dd8-9cbb-48cb900baf94",
   "metadata": {},
   "source": [
    "**Paso 4: Propagación hacia atrás**\n",
    "\n",
    "La retropropagación comienza tomando la derivada parcial de la función de costo\n",
    "\n",
    "Última capa:\n",
    "\n",
    "<img src=\"images/retro_2.png\" alt=\"Drawing\" style=\"width: 230px;\"/>\n",
    "\n",
    "\n",
    "Primera capa:\n",
    "\n",
    "<img src=\"images/retro_1.png\" alt=\"Drawing\" style=\"width: 250px;\"/>\n",
    "\n",
    "\n",
    "Esto se puede generalizar a N capas"
   ]
  },
  {
   "cell_type": "markdown",
   "id": "8ea4c742-905d-424d-999f-5151d2b91803",
   "metadata": {},
   "source": [
    "**Paso 5: Actualización de pesos**\n",
    "\n",
    "<img src=\"images/act_pesos.png\" alt=\"Drawing\" style=\"width: 230px;\"/>"
   ]
  },
  {
   "cell_type": "markdown",
   "id": "c3b5af47-8d05-4475-b56f-1017cbf6d546",
   "metadata": {
    "tags": []
   },
   "source": [
    "# Redes neuronales con PyTorch"
   ]
  },
  {
   "cell_type": "markdown",
   "id": "a3292a59-702e-4b40-a5b4-c28e7d1d3e41",
   "metadata": {},
   "source": [
    "Las redes de aprendizaje profundo tienden a ser masivas con docenas o cientos de capas, de ahí proviene el término \"profundo\". \n",
    "Construir redes neuronales desde cero es bastante engorroso y difícil.\n",
    "PyTorch tiene un módulo nn que proporciona una buena forma de construir de forma eficiente grandes redes neuronales."
   ]
  },
  {
   "cell_type": "markdown",
   "id": "9a2c8bd2-27ab-45e0-baf2-ea0f007d0dc4",
   "metadata": {},
   "source": [
    "## XOR "
   ]
  },
  {
   "cell_type": "code",
   "execution_count": null,
   "id": "80168c2b-61e8-4fb1-bde7-b5f364e44dfb",
   "metadata": {},
   "outputs": [],
   "source": [
    "import torch\n",
    "import torch.nn.functional as F\n",
    "import pandas as pd\n",
    "import time\n",
    "import matplotlib.pyplot as plt\n",
    "%matplotlib inline"
   ]
  },
  {
   "cell_type": "code",
   "execution_count": null,
   "id": "9d44cc16-9dc7-4e6d-8440-cd38939e31a4",
   "metadata": {},
   "outputs": [],
   "source": [
    "df = pd.read_csv('xor.csv')\n",
    "X = df[['x1', 'x2']].values\n",
    "y = df['class label'].values"
   ]
  },
  {
   "cell_type": "code",
   "execution_count": null,
   "id": "e0afea0c-6acf-46c2-bc4d-6a9c43c1cb8d",
   "metadata": {},
   "outputs": [],
   "source": [
    "RANDOM_SEED = 124\n",
    "DEVICE = ('cuda:0' if torch.cuda.is_available() else 'cpu')"
   ]
  },
  {
   "cell_type": "code",
   "execution_count": null,
   "id": "bc97a58b-2f7f-40ae-8702-9f9a21b8fd59",
   "metadata": {},
   "outputs": [],
   "source": [
    "plt.scatter(X[y==0, 0], X[y==0, 1], marker='o')\n",
    "plt.scatter(X[y==1, 0], X[y==1, 1], marker='s')\n",
    "\n",
    "plt.tight_layout()\n",
    "#plt.savefig('xor.pdf')\n",
    "plt.show()"
   ]
  },
  {
   "cell_type": "code",
   "execution_count": null,
   "id": "dfb2508a-8112-47c8-8852-2ec5a121cf8e",
   "metadata": {},
   "outputs": [],
   "source": [
    "class MLPLinear(torch.nn.Module):\n",
    "\n",
    "    def __init__(self, num_features, num_hidden_1, num_classes):\n",
    "        super(MLPLinear, self).__init__()\n",
    "        \n",
    "        self.num_classes = num_classes\n",
    "        \n",
    "        self.linear_1 = torch.nn.Linear(num_features, num_hidden_1)\n",
    "        self.linear_out = torch.nn.Linear(num_hidden_1, num_classes)\n",
    "        \n",
    "    def forward(self, x):\n",
    "        \n",
    "        out = self.linear_1(x)\n",
    "        \n",
    "        output = self.linear_out(out)\n",
    "        prob = F.softmax(output, dim=1)\n",
    "        return output, prob"
   ]
  },
  {
   "cell_type": "code",
   "execution_count": null,
   "id": "6847ac5a-5a26-47b1-8bbe-2d8ec847855e",
   "metadata": {},
   "outputs": [],
   "source": [
    "torch.manual_seed(RANDOM_SEED)\n",
    "\n",
    "model1 = MLPLinear(num_features=2,\n",
    "                   num_hidden_1=50,\n",
    "                   num_classes=2)\n",
    "\n",
    "model1 = model1.to(DEVICE)\n",
    "\n",
    "optimizer = torch.optim.SGD(model1.parameters(), lr=0.1)"
   ]
  },
  {
   "cell_type": "code",
   "execution_count": null,
   "id": "429edd26-0105-4219-a963-d74455908039",
   "metadata": {},
   "outputs": [],
   "source": [
    "start_time = time.time()\n",
    "minibatch_cost = []\n",
    "\n",
    "NUM_EPOCHS = 25\n",
    "\n",
    "features = torch.tensor(X, dtype=torch.float).to(DEVICE)\n",
    "targets = torch.tensor(y, dtype=torch.long).to(DEVICE)\n",
    "\n",
    "for epoch in range(NUM_EPOCHS):\n",
    "\n",
    "    logits, probas = model1(features)\n",
    "\n",
    "    cost = F.cross_entropy(logits, targets)\n",
    "    optimizer.zero_grad()\n",
    "\n",
    "    cost.backward()\n",
    "    minibatch_cost.append(cost)\n",
    "\n",
    "    optimizer.step()\n",
    "\n",
    "    ### LOGGING\n",
    "\n",
    "    print (f'Epoca: {epoch+1:03d}/{NUM_EPOCHS:03d} | Coste: {cost:.4f}')\n",
    "\n",
    "    \n",
    "print('Tiempo de entrenamiento total: %.2f min' % ((time.time() - start_time)/60))"
   ]
  },
  {
   "cell_type": "code",
   "execution_count": null,
   "id": "ad298847-b685-4aa3-8549-6264ab98a68d",
   "metadata": {},
   "outputs": [],
   "source": [
    "from matplotlib.colors import ListedColormap\n",
    "import numpy as np\n",
    "\n",
    "\n",
    "def plot_decision_regions(X, y, classifier, resolution=0.02):\n",
    "\n",
    "    markers = ('s', 'x', 'o', '^', 'v')\n",
    "    colors = ('red', 'blue', 'lightgreen', 'gray', 'cyan')\n",
    "    cmap = ListedColormap(colors[:len(np.unique(y))])\n",
    "\n",
    "    x1_min, x1_max = X[:, 0].min() - 1, X[:, 0].max() + 1\n",
    "    x2_min, x2_max = X[:, 1].min() - 1, X[:, 1].max() + 1\n",
    "    xx1, xx2 = np.meshgrid(np.arange(x1_min, x1_max, resolution),\n",
    "                           np.arange(x2_min, x2_max, resolution))\n",
    "    tensor = torch.tensor(np.array([xx1.ravel(), xx2.ravel()]).T).float()\n",
    "    logits, probas = classifier.forward(tensor)\n",
    "    Z = np.argmax(probas.detach().numpy(), axis=1)\n",
    "\n",
    "    Z = Z.reshape(xx1.shape)\n",
    "    plt.contourf(xx1, xx2, Z, alpha=0.4, cmap=cmap)\n",
    "    plt.xlim(xx1.min(), xx1.max())\n",
    "    plt.ylim(xx2.min(), xx2.max())\n",
    "\n",
    "    for idx, cl in enumerate(np.unique(y)):\n",
    "        plt.scatter(x=X[y == cl, 0], y=X[y == cl, 1],\n",
    "                    alpha=0.8, color=cmap(idx),\n",
    "                    edgecolor='black',\n",
    "                    marker=markers[idx], \n",
    "                    label=cl)"
   ]
  },
  {
   "cell_type": "code",
   "execution_count": null,
   "id": "c95b7b19-d0ed-489f-8745-4d6817b18d8f",
   "metadata": {},
   "outputs": [],
   "source": [
    "plot_decision_regions(features, targets, classifier=model1)\n",
    "\n",
    "plt.tight_layout()\n",
    "\n",
    "plt.show()"
   ]
  },
  {
   "cell_type": "markdown",
   "id": "8a4329ae-aae6-4be4-89d2-c72c441a434b",
   "metadata": {},
   "source": [
    "### Cambiando la funcion de activacion"
   ]
  },
  {
   "cell_type": "code",
   "execution_count": null,
   "id": "9a04ea56-0666-42b2-8837-886a1667cb18",
   "metadata": {},
   "outputs": [],
   "source": [
    "class MLPReLU(torch.nn.Module):\n",
    "\n",
    "    def __init__(self, num_features, num_hidden_1, num_classes):\n",
    "        super(MLPReLU, self).__init__()\n",
    "        \n",
    "        self.num_classes = num_classes\n",
    "        \n",
    "        self.linear_1 = torch.nn.Linear(num_features, num_hidden_1)\n",
    "        self.linear_2 = torch.nn.Linear(num_hidden_1, num_classes)\n",
    "        self.linear_out\n",
    "        \n",
    "        \n",
    "    def forward(self, x):\n",
    "        \n",
    "        out = self.linear_1(x)\n",
    "        out = F.relu(out)\n",
    "        \n",
    "        out = self.linear_2()\n",
    "        \n",
    "        output = self.linear_out(out)\n",
    "        prob = F.softmax(output, dim=1)\n",
    "        return output, prob"
   ]
  },
  {
   "cell_type": "code",
   "execution_count": null,
   "id": "9cf50909-fb2f-476d-be51-b6e1b5529153",
   "metadata": {},
   "outputs": [],
   "source": [
    "torch.manual_seed(RANDOM_SEED)\n",
    "\n",
    "model2 = MLPReLU(num_features=2,\n",
    "                num_hidden_1=50,\n",
    "                num_classes=2)\n",
    "\n",
    "model2 = model2.to(DEVICE)\n",
    "\n",
    "optimizer = torch.optim.SGD(model2.parameters(), lr=0.1)"
   ]
  },
  {
   "cell_type": "code",
   "execution_count": null,
   "id": "3c1ec862-95fa-43d8-9d6f-aab385038318",
   "metadata": {},
   "outputs": [],
   "source": [
    "start_time = time.time()\n",
    "minibatch_cost = []\n",
    "\n",
    "NUM_EPOCHS = 25\n",
    "\n",
    "features = torch.tensor(X, dtype=torch.float).to(DEVICE)\n",
    "targets = torch.tensor(y, dtype=torch.long).to(DEVICE)\n",
    "\n",
    "for epoch in range(NUM_EPOCHS):\n",
    "\n",
    "    logits, probas = model2(features)\n",
    "\n",
    "    cost = F.cross_entropy(logits, targets)\n",
    "    optimizer.zero_grad()\n",
    "\n",
    "    cost.backward()\n",
    "    minibatch_cost.append(cost)\n",
    "\n",
    "    optimizer.step()\n",
    "\n",
    "\n",
    "    print (f'Epoca: {epoch+1:03d}/{NUM_EPOCHS:03d} | Coste: {cost:.4f}')\n",
    "\n",
    "    \n",
    "print('Tiempo total de entrenamiento: %.2f min' % ((time.time() - start_time)/60))"
   ]
  },
  {
   "cell_type": "code",
   "execution_count": null,
   "id": "3c1dea26-4fac-4707-845b-96e671529585",
   "metadata": {},
   "outputs": [],
   "source": [
    "plot_decision_regions(features, targets, classifier=model2)\n",
    "\n",
    "plt.tight_layout()\n",
    "plt.show()"
   ]
  },
  {
   "cell_type": "markdown",
   "id": "ec0ced97",
   "metadata": {},
   "source": [
    "### Imagenes: Obtener dataset"
   ]
  },
  {
   "cell_type": "code",
   "execution_count": null,
   "id": "83954399",
   "metadata": {},
   "outputs": [],
   "source": [
    "import torch\n",
    "import numpy as np\n",
    "import torchvision.transforms as transforms\n",
    "from torchvision import datasets"
   ]
  },
  {
   "cell_type": "code",
   "execution_count": null,
   "id": "d89f1fc0",
   "metadata": {},
   "outputs": [],
   "source": [
    "batch_size = 10\n",
    "\n",
    "# el proceso principal es el encargado de cargar cada batch \n",
    "# cuidado: mas workers incrementa el uso de memoria\n",
    "num_workers = 0  \n",
    "\n",
    "# convertir datos a formato torch tensor\n",
    "transform = transforms.ToTensor()\n",
    "\n",
    "# dataset de entrenamiento\n",
    "train_data = datasets.MNIST(\n",
    "    root='data', train=True, download=True, transform=transform\n",
    ")\n",
    "\n",
    "# dataset de test\n",
    "test_data = datasets.MNIST(\n",
    "    root='data', train=False, download=True, transform=transform\n",
    ")\n",
    "\n",
    "\n",
    "# dataloaders\n",
    "train_loader = torch.utils.data.DataLoader(\n",
    "    train_data, batch_size=batch_size, num_workers=num_workers\n",
    ")\n",
    "\n",
    "test_loader = torch.utils.data.DataLoader(\n",
    "    test_data, batch_size=batch_size, num_workers=num_workers\n",
    ")"
   ]
  },
  {
   "cell_type": "markdown",
   "id": "7125844f",
   "metadata": {},
   "source": [
    "## Visualizando un batch"
   ]
  },
  {
   "cell_type": "code",
   "execution_count": null,
   "id": "00df3eed",
   "metadata": {
    "scrolled": true
   },
   "outputs": [],
   "source": [
    "import matplotlib.pyplot as plt\n",
    "%matplotlib inline\n",
    "    \n",
    "# obtener un batch del dataset de entrenamiento\n",
    "dataiter = iter(train_loader)\n",
    "images, labels = dataiter.next()\n",
    "images = images.numpy()\n",
    "\n",
    "# plot de las imagenes del dataset con su etiqueta (anotación/label) en el título\n",
    "fig = plt.figure(figsize=(25, 7))\n",
    "for idx in np.arange(batch_size):\n",
    "    ax = fig.add_subplot(2, batch_size, idx+1, xticks=[], yticks=[])\n",
    "    ax.imshow(np.squeeze(images[idx]), cmap='gray')\n",
    "    ax.set_title(str(labels[idx].item()), fontsize=20)"
   ]
  },
  {
   "cell_type": "code",
   "execution_count": null,
   "id": "e1ff4e68",
   "metadata": {},
   "outputs": [],
   "source": [
    "img = np.squeeze(images[5])\n",
    "\n",
    "fig = plt.figure(figsize = (12, 12)) \n",
    "ax = fig.add_subplot(111)\n",
    "ax.imshow(img, cmap='gray')\n",
    "width, height = img.shape\n",
    "thresh = img.max()/2.5\n",
    "for x in range(width):\n",
    "    for y in range(height):\n",
    "        val = round(img[x][y],2) if img[x][y] !=0 else 0\n",
    "        ax.annotate(str(val), xy=(y,x),\n",
    "                    horizontalalignment='center',\n",
    "                    verticalalignment='center',\n",
    "                    color='white' if img[x][y]<thresh else 'black')\n"
   ]
  },
  {
   "cell_type": "markdown",
   "id": "2a7624f3",
   "metadata": {},
   "source": [
    "## Definiendo la arquitectura de la red"
   ]
  },
  {
   "cell_type": "code",
   "execution_count": null,
   "id": "0806e75d",
   "metadata": {},
   "outputs": [],
   "source": [
    "import torch.nn as nn\n",
    "import torch.nn.functional as F\n",
    "\n",
    "class Net(nn.Module):\n",
    "    def __init__(self):\n",
    "        super(Net, self).__init__()\n",
    "        self.fc1 = nn.Linear(28 * 28, 512)\n",
    "        self.fc2 = nn.Linear(512, 512)\n",
    "        self.fc3 = nn.Linear(512, 10)\n",
    "\n",
    "    def forward(self, x):\n",
    "        # flatten image input\n",
    "        x = x.view(-1, 28 * 28)\n",
    "        x = F.relu(self.fc1(x))\n",
    "        x = F.relu(self.fc2(x))\n",
    "        x = F.softmax(self.fc3(x), dim=1)\n",
    "        return x\n",
    "\n",
    "model = Net()\n",
    "print(model)"
   ]
  },
  {
   "cell_type": "code",
   "execution_count": null,
   "id": "7a22868f",
   "metadata": {},
   "outputs": [],
   "source": [
    "# especificar funcion de perdida\n",
    "criterion = nn.CrossEntropyLoss()\n",
    "\n",
    "# algoritmo de optimizacion: descenso del gradiente\n",
    "optimizer = torch.optim.SGD(model.parameters(), lr=0.01)\n"
   ]
  },
  {
   "cell_type": "code",
   "execution_count": null,
   "id": "d3068cc2",
   "metadata": {
    "scrolled": true
   },
   "outputs": [],
   "source": [
    "# cantidad de epocas a entrenar el modelo\n",
    "n_epochs = 2\n",
    "\n",
    "# habilitar modelo para training (actualizacion de gradientes)\n",
    "model.train()\n",
    "\n",
    "for epoch in range(n_epochs):\n",
    "    # para monitorear el loss \n",
    "    train_loss = 0.0\n",
    "    \n",
    "    for data, target in train_loader:\n",
    "        # borrar gradientes\n",
    "        optimizer.zero_grad()\n",
    "        \n",
    "        # propagacion hacia adelante\n",
    "        output = model(data)\n",
    "        \n",
    "        # calcular salida de funcion de perdida\n",
    "        loss = criterion(output, target)\n",
    "        \n",
    "        # propagacion hacia atras\n",
    "        loss.backward()\n",
    "        \n",
    "        # actualizacion de parametros\n",
    "        optimizer.step()\n",
    "        \n",
    "        # actualizar valor de loss\n",
    "        train_loss += loss.item()*data.size(0)\n",
    "        \n",
    "    train_loss = train_loss/len(train_loader.dataset)\n",
    "\n",
    "    print('Epoca: {} \\tTraining Loss: {:.6f}'.format(\n",
    "        epoch+1, \n",
    "        train_loss\n",
    "        ))"
   ]
  },
  {
   "cell_type": "code",
   "execution_count": null,
   "id": "60207116",
   "metadata": {},
   "outputs": [],
   "source": [
    "def view_classify(img, ps):\n",
    "    ps = ps.data.numpy().squeeze()\n",
    "\n",
    "    fig, (ax1, ax2) = plt.subplots(figsize=(6,9), ncols=2)\n",
    "    ax1.imshow(img.resize_(1, 28, 28).numpy().squeeze(), cmap='gray')\n",
    "    ax1.axis('off')\n",
    "    ax2.barh(np.arange(10), ps)\n",
    "    ax2.set_aspect(0.1)\n",
    "    ax2.set_yticks(np.arange(10))\n",
    "    ax2.set_yticklabels(np.arange(10))\n",
    "    ax2.set_title('Probabilidad')\n",
    "    ax2.set_xlim(0, 1.1)\n",
    "\n",
    "    plt.tight_layout()"
   ]
  },
  {
   "cell_type": "code",
   "execution_count": null,
   "id": "466be1ba",
   "metadata": {},
   "outputs": [],
   "source": [
    "\n",
    "dataiter = iter(train_loader)\n",
    "images, labels = dataiter.next()\n",
    "\n",
    "images.resize_(10, 1, 784)\n",
    "\n",
    "img_idx = 2\n",
    "ps = model(images[img_idx,:])\n",
    "\n",
    "img = images[img_idx]\n"
   ]
  },
  {
   "cell_type": "code",
   "execution_count": null,
   "id": "08d9ab2a-ebc2-4aea-b979-177deb84ac21",
   "metadata": {},
   "outputs": [],
   "source": [
    "ps"
   ]
  },
  {
   "cell_type": "code",
   "execution_count": null,
   "id": "846a3d46",
   "metadata": {
    "scrolled": true,
    "tags": []
   },
   "outputs": [],
   "source": [
    "view_classify(img.view(1, 28, 28), ps)"
   ]
  },
  {
   "cell_type": "code",
   "execution_count": null,
   "id": "569180fe-f828-4b56-834d-9fb5a1b48014",
   "metadata": {},
   "outputs": [],
   "source": []
  }
 ],
 "metadata": {
  "kernelspec": {
   "display_name": "Python 3 (ipykernel)",
   "language": "python",
   "name": "python3"
  },
  "language_info": {
   "codemirror_mode": {
    "name": "ipython",
    "version": 3
   },
   "file_extension": ".py",
   "mimetype": "text/x-python",
   "name": "python",
   "nbconvert_exporter": "python",
   "pygments_lexer": "ipython3",
   "version": "3.9.10"
  }
 },
 "nbformat": 4,
 "nbformat_minor": 5
}
