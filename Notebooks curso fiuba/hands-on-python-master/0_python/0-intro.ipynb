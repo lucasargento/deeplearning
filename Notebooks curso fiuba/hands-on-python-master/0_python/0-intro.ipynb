{
 "cells": [
  {
   "cell_type": "markdown",
   "id": "aa61165d-29c6-4783-8437-1931a76041d9",
   "metadata": {},
   "source": [
    "# Python"
   ]
  },
  {
   "cell_type": "markdown",
   "id": "cd90989c-e0f9-444b-902a-e8e2edc30ff4",
   "metadata": {},
   "source": [
    "## 0. Introducción"
   ]
  },
  {
   "cell_type": "markdown",
   "id": "9cb5e406-1aed-44bf-96be-55aed0d3771a",
   "metadata": {},
   "source": [
    "Es un lenguaje de programación **interpretado** creado por Guido van Rossum, lanzado en 1991.\n",
    "\n"
   ]
  },
  {
   "cell_type": "markdown",
   "id": "b2647288-50b8-4fef-9c26-bd3ccb0ee876",
   "metadata": {
    "tags": []
   },
   "source": [
    "### Características principales"
   ]
  },
  {
   "cell_type": "markdown",
   "id": "1dc41ba1-2e2f-45ee-b1a0-d6f3b8eb36b2",
   "metadata": {
    "tags": []
   },
   "source": [
    "* Multiparadigma: POO, programación imperativa y programación funcional.\n",
    "* Tipado dinámico.\n",
    "* Diseñado para que el código pueda ser leído con facilidad."
   ]
  },
  {
   "cell_type": "markdown",
   "id": "341654a9-e622-4c96-99ab-06eadb77ff02",
   "metadata": {
    "tags": []
   },
   "source": [
    "### ¿ ̶P̶o̶r̶ ̶q̶u̶é̶ ̶l̶o̶ ̶a̶d̶o̶p̶t̶a̶m̶o̶s̶ ̶e̶n̶ ̶e̶s̶t̶e̶ ̶c̶u̶r̶s̶o̶? ¿Por qué Python en ML/DL/DS?"
   ]
  },
  {
   "cell_type": "markdown",
   "id": "8430f790-6868-4fc0-aa42-7cc6bcab05d3",
   "metadata": {},
   "source": [
    "* Fácil de aprender y usar.\n",
    "* Gran número de bibliotecas y librerías.\n",
    "* Adopción por parte de empresas líderes.\n",
    "* Multiuso.\n",
    "* Enorme comunidad."
   ]
  },
  {
   "cell_type": "markdown",
   "id": "7f2185a8-8e22-40a9-aa56-b6950a21f15f",
   "metadata": {
    "tags": []
   },
   "source": [
    "## Variables"
   ]
  },
  {
   "cell_type": "markdown",
   "id": "099fb03e-e7e6-4b27-8209-575c46f44887",
   "metadata": {},
   "source": [
    "Las variables se definen de forma dinámica, lo que significa que no se tiene que especificar cuál es su tipo de antemano y puede tomar distintos valores en otro momento, incluso de un tipo diferente al que tenía previamente. Se usa el símbolo **=** para asignar valores."
   ]
  },
  {
   "cell_type": "markdown",
   "id": "75c138bf-001e-4759-b9ac-a4779966de54",
   "metadata": {},
   "source": [
    "Los nombres de variables pueden contener números y letras pero **deben comenzar por una letra**, además existen 28 palabras reservadas"
   ]
  },
  {
   "cell_type": "code",
   "execution_count": 1,
   "id": "3ef55ff0-f428-443d-9f2f-7d8f68bd7f92",
   "metadata": {},
   "outputs": [],
   "source": [
    "x = 10\n",
    "y = 22.56\n",
    "z = \"python es increible\"\n",
    "\n",
    "x = \"ahora reemplace el valor que tenia la variable previamente\""
   ]
  },
  {
   "cell_type": "code",
   "execution_count": 2,
   "id": "f6fc302d-1ca8-47b8-81a2-697fe302dc4d",
   "metadata": {},
   "outputs": [],
   "source": [
    "# esto es un comentario"
   ]
  },
  {
   "cell_type": "markdown",
   "id": "f4ffcc49-90b8-420b-ab90-b297d0c818bf",
   "metadata": {},
   "source": [
    "**Tipado dinámico y la función type**\n",
    "\n",
    "Python es un lenguaje de programación de tipado dinámico. Esto significa que a una variable le podemos reasignar distintos tipos de datos. La ventaja de esta característica es que lo convierte en un lenguaje de programación muy flexible. Por contra, hay que estar atento a qué tipo de dato tienen las distintas variables de nuestro código ya que sino podemos tener errores al ejecutar el programa. Para facilitar dicha tarea Python proporciona la función type() que nos indica el tipo de dato de la variable que deseamos evaluar."
   ]
  },
  {
   "cell_type": "code",
   "execution_count": 3,
   "id": "7a60b797-3448-4cbb-94f9-0fff4b7cee2d",
   "metadata": {},
   "outputs": [
    {
     "data": {
      "text/plain": [
       "float"
      ]
     },
     "execution_count": 3,
     "metadata": {},
     "output_type": "execute_result"
    }
   ],
   "source": [
    "mi_temperatura = 36.7\n",
    "type(mi_temperatura)"
   ]
  },
  {
   "cell_type": "code",
   "execution_count": 4,
   "id": "64df80e1-4d82-4eb2-b783-aba9d729c90e",
   "metadata": {},
   "outputs": [
    {
     "data": {
      "text/plain": [
       "int"
      ]
     },
     "execution_count": 4,
     "metadata": {},
     "output_type": "execute_result"
    }
   ],
   "source": [
    "mi_temperatura = 36\n",
    "type(mi_temperatura)"
   ]
  },
  {
   "cell_type": "markdown",
   "id": "9380a444-ee53-4229-bc17-23e57cc1d5a9",
   "metadata": {},
   "source": [
    "**Identidad de un objeto**\n",
    "\n",
    "Otro concepto en Python es la identidad de los objetos, la cual podemos obtener usando la función id(). Esta identidad es un número entero único y constante que identifica un objeto durante su tiempo de vida en memoria. Para entenderlo mejor, decimos que dos variables distintas tienen la misma identidad si apuntan al mismo objeto en memoria."
   ]
  },
  {
   "cell_type": "code",
   "execution_count": 5,
   "id": "fe5da88a-b822-4501-8b56-99e2ef49f5dc",
   "metadata": {},
   "outputs": [],
   "source": [
    "participantes = 20\n",
    "competidores = participantes"
   ]
  },
  {
   "cell_type": "code",
   "execution_count": 6,
   "id": "845a0cf1-60e0-4758-9421-55315b54cd24",
   "metadata": {},
   "outputs": [
    {
     "data": {
      "text/plain": [
       "4434004880"
      ]
     },
     "execution_count": 6,
     "metadata": {},
     "output_type": "execute_result"
    }
   ],
   "source": [
    "id(participantes)"
   ]
  },
  {
   "cell_type": "code",
   "execution_count": 7,
   "id": "d87b7a36-9f53-422b-9dcc-89bad1161dcc",
   "metadata": {},
   "outputs": [
    {
     "data": {
      "text/plain": [
       "4434004880"
      ]
     },
     "execution_count": 7,
     "metadata": {},
     "output_type": "execute_result"
    }
   ],
   "source": [
    "id(competidores)"
   ]
  },
  {
   "cell_type": "code",
   "execution_count": 8,
   "id": "9463ebd1-cdb3-4fd2-846d-7612e357e568",
   "metadata": {},
   "outputs": [
    {
     "data": {
      "text/plain": [
       "True"
      ]
     },
     "execution_count": 8,
     "metadata": {},
     "output_type": "execute_result"
    }
   ],
   "source": [
    "id(participantes) == id(competidores)"
   ]
  },
  {
   "cell_type": "code",
   "execution_count": 9,
   "id": "132d96db-08ec-4242-8523-b6acf107c559",
   "metadata": {},
   "outputs": [],
   "source": [
    "competidores = 12"
   ]
  },
  {
   "cell_type": "code",
   "execution_count": 10,
   "id": "9be59c55-6f9c-47fa-9808-c69e19a10391",
   "metadata": {},
   "outputs": [
    {
     "data": {
      "text/plain": [
       "False"
      ]
     },
     "execution_count": 10,
     "metadata": {},
     "output_type": "execute_result"
    }
   ],
   "source": [
    "id(participantes) == id(competidores)"
   ]
  },
  {
   "cell_type": "markdown",
   "id": "9f04634a-f776-4a0e-a581-ab7e75f38772",
   "metadata": {},
   "source": [
    "En el ejemplo anterior las variables participantes y competidores comparten inicialmente la misma identidad. Esto nos indica es que en memoria sólo existe una copia del objeto «20». Sin embargo al cambiar el valor de la variable competidores hacemos que esta apunte a un objeto distinto en memoria."
   ]
  },
  {
   "cell_type": "markdown",
   "id": "520617fd-6937-4ca6-b09a-eb0cf91025d9",
   "metadata": {
    "tags": []
   },
   "source": [
    "## 1. Estructuras de datos"
   ]
  },
  {
   "cell_type": "markdown",
   "id": "e57ff398-72ef-4d2f-9533-00b173df6035",
   "metadata": {},
   "source": [
    "<img src=\"images/data_structures.png\" alt=\"drawing\" width=\"800\"/>"
   ]
  },
  {
   "cell_type": "markdown",
   "id": "3997bef4-b130-4217-9153-2cb125d12f6b",
   "metadata": {
    "tags": []
   },
   "source": [
    "### Tipos de datos básicos"
   ]
  },
  {
   "cell_type": "markdown",
   "id": "d532de70-2a4f-409b-b54c-51b1cd1727cc",
   "metadata": {},
   "source": [
    "Todo en Python es un objeto y cada objeto en Python tiene un tipo de dato. Algunos de los tipos básicos incluyen:"
   ]
  },
  {
   "cell_type": "markdown",
   "id": "b553158d-0e36-4669-b21b-6e93ba7dcf7c",
   "metadata": {},
   "source": [
    "* **int** (integer; un número entero)\n",
    "    * 10\n",
    "    * -3\n",
    "* **float** (float; un número que tiene parte decimal)\n",
    "    * 7.41\n",
    "    * -0.006\n",
    "* **str** (string; una secuencia de caracteres entre comillas simples, comillas dobles, o comillas triples)\n",
    "    * 'hola a tod@s'\n",
    "    * \"hola a tod@s\"\n",
    "    * '''hola a tod@s'''\n",
    "    * \"\"\"hola a tod@s\"\"\"\n",
    "* **bool** (boolean; un valor binario que puede ser Verdadero o Falso)\n",
    "    * True\n",
    "    * False\n",
    "* **NoneType** (tipo especial que representa la ausencia de un valor)\n",
    "    * None"
   ]
  },
  {
   "cell_type": "markdown",
   "id": "e75069bb-dade-4b43-a0b6-8f3c303b11e8",
   "metadata": {
    "tags": []
   },
   "source": [
    "### 1.1. Tipos Numéricos"
   ]
  },
  {
   "cell_type": "markdown",
   "id": "4e6c27b6-bb4a-4a48-a1af-550c8396a4b3",
   "metadata": {
    "tags": []
   },
   "source": [
    "### 1.1.1. Operaciones básicas entre valores numéricos"
   ]
  },
  {
   "cell_type": "markdown",
   "id": "1a38fcc5-96ae-4e3f-98af-0ae3e296c43b",
   "metadata": {},
   "source": [
    "##### Suma"
   ]
  },
  {
   "cell_type": "code",
   "execution_count": 11,
   "id": "ab5b0932-dc0f-478d-a2df-a93961199966",
   "metadata": {},
   "outputs": [
    {
     "data": {
      "text/plain": [
       "5"
      ]
     },
     "execution_count": 11,
     "metadata": {},
     "output_type": "execute_result"
    }
   ],
   "source": [
    "a = 2\n",
    "b = 3\n",
    "\n",
    "a + b"
   ]
  },
  {
   "cell_type": "markdown",
   "id": "4d4ae661-1c4e-4c9a-91ad-452ad36c15fe",
   "metadata": {},
   "source": [
    "##### Resta"
   ]
  },
  {
   "cell_type": "code",
   "execution_count": 12,
   "id": "95f715bf-7050-4af7-9601-5015d3c990f8",
   "metadata": {},
   "outputs": [
    {
     "data": {
      "text/plain": [
       "2"
      ]
     },
     "execution_count": 12,
     "metadata": {},
     "output_type": "execute_result"
    }
   ],
   "source": [
    "a = 5\n",
    "b = 3\n",
    "\n",
    "a - b"
   ]
  },
  {
   "cell_type": "markdown",
   "id": "ba4edfbe-d0c9-4db0-ac23-5fd5093f4c0d",
   "metadata": {},
   "source": [
    "##### Multiplicación"
   ]
  },
  {
   "cell_type": "code",
   "execution_count": 13,
   "id": "30fbfda9-fa0a-4e30-832b-1f0cdfec757d",
   "metadata": {},
   "outputs": [
    {
     "data": {
      "text/plain": [
       "32"
      ]
     },
     "execution_count": 13,
     "metadata": {},
     "output_type": "execute_result"
    }
   ],
   "source": [
    "a = 4\n",
    "b = 8\n",
    "\n",
    "a * b"
   ]
  },
  {
   "cell_type": "markdown",
   "id": "40428bc7-43cc-4b7b-901e-1dbf4c424411",
   "metadata": {},
   "source": [
    "##### División"
   ]
  },
  {
   "cell_type": "code",
   "execution_count": 14,
   "id": "7c91ecac-5452-4a71-aa75-974affeb96dd",
   "metadata": {},
   "outputs": [
    {
     "data": {
      "text/plain": [
       "4.5"
      ]
     },
     "execution_count": 14,
     "metadata": {},
     "output_type": "execute_result"
    }
   ],
   "source": [
    "a = 9\n",
    "b = 2\n",
    "\n",
    "a / b"
   ]
  },
  {
   "cell_type": "markdown",
   "id": "5e749702-72dc-41f8-b822-b87ac3493383",
   "metadata": {},
   "source": [
    "El **cociente** de una división:"
   ]
  },
  {
   "cell_type": "code",
   "execution_count": 15,
   "id": "e7196907-bcba-497e-8b6c-995af50cdf2a",
   "metadata": {},
   "outputs": [
    {
     "data": {
      "text/plain": [
       "4"
      ]
     },
     "execution_count": 15,
     "metadata": {},
     "output_type": "execute_result"
    }
   ],
   "source": [
    "a // b"
   ]
  },
  {
   "cell_type": "markdown",
   "id": "7be81cfe-771d-4eee-9cab-1783012e1489",
   "metadata": {},
   "source": [
    "El **resto** de una división:"
   ]
  },
  {
   "cell_type": "code",
   "execution_count": 16,
   "id": "ee784026-be19-4c07-9b6d-f0b2b32e7c42",
   "metadata": {},
   "outputs": [
    {
     "data": {
      "text/plain": [
       "1"
      ]
     },
     "execution_count": 16,
     "metadata": {},
     "output_type": "execute_result"
    }
   ],
   "source": [
    "a % b"
   ]
  },
  {
   "cell_type": "markdown",
   "id": "73f8e250-5753-424c-a566-48fb2193c8c3",
   "metadata": {},
   "source": [
    "### 1.1.2. Otras operaciones"
   ]
  },
  {
   "cell_type": "markdown",
   "id": "09476db3-2451-41b7-816c-4b56afb04d58",
   "metadata": {},
   "source": [
    "**Mínimo** y **máximo** entre dos valores:"
   ]
  },
  {
   "cell_type": "code",
   "execution_count": 17,
   "id": "0f3eb12e-b1ba-4256-8f0d-40b6c8508314",
   "metadata": {},
   "outputs": [
    {
     "data": {
      "text/plain": [
       "1.4"
      ]
     },
     "execution_count": 17,
     "metadata": {},
     "output_type": "execute_result"
    }
   ],
   "source": [
    "min(1.4, 3)"
   ]
  },
  {
   "cell_type": "code",
   "execution_count": 18,
   "id": "4dd22ec7-b489-4fe3-b7c2-06e1eba6ed0a",
   "metadata": {},
   "outputs": [
    {
     "data": {
      "text/plain": [
       "3"
      ]
     },
     "execution_count": 18,
     "metadata": {},
     "output_type": "execute_result"
    }
   ],
   "source": [
    "max(1.4, 3)"
   ]
  },
  {
   "cell_type": "markdown",
   "id": "43cc5833-7955-43c9-a17d-ad9fef6cd3f8",
   "metadata": {},
   "source": [
    "**Valor absoluto**:"
   ]
  },
  {
   "cell_type": "code",
   "execution_count": 19,
   "id": "4bb63751-edc2-4cca-b47d-a2150ec918fe",
   "metadata": {},
   "outputs": [
    {
     "data": {
      "text/plain": [
       "5"
      ]
     },
     "execution_count": 19,
     "metadata": {},
     "output_type": "execute_result"
    }
   ],
   "source": [
    "abs(-5)"
   ]
  },
  {
   "cell_type": "markdown",
   "id": "7c901c07-d711-4259-96f3-181853ecd9b0",
   "metadata": {},
   "source": [
    "**Redondeo**:"
   ]
  },
  {
   "cell_type": "code",
   "execution_count": 20,
   "id": "ffaecff8-3b2d-48c3-a9eb-eaac9ca888ad",
   "metadata": {},
   "outputs": [
    {
     "data": {
      "text/plain": [
       "3"
      ]
     },
     "execution_count": 20,
     "metadata": {},
     "output_type": "execute_result"
    }
   ],
   "source": [
    "round(3.49)"
   ]
  },
  {
   "cell_type": "code",
   "execution_count": 21,
   "id": "6077f019-95c2-42ea-88cc-f8725097918c",
   "metadata": {},
   "outputs": [
    {
     "data": {
      "text/plain": [
       "4"
      ]
     },
     "execution_count": 21,
     "metadata": {},
     "output_type": "execute_result"
    }
   ],
   "source": [
    "round(3.5)"
   ]
  },
  {
   "cell_type": "code",
   "execution_count": 22,
   "id": "235664fb-dd0a-4bdb-9994-baff7c564f29",
   "metadata": {},
   "outputs": [],
   "source": [
    "from math import floor, ceil"
   ]
  },
  {
   "cell_type": "code",
   "execution_count": 23,
   "id": "453b043c-ef43-4811-9559-aa265028f262",
   "metadata": {},
   "outputs": [
    {
     "data": {
      "text/plain": [
       "3"
      ]
     },
     "execution_count": 23,
     "metadata": {},
     "output_type": "execute_result"
    }
   ],
   "source": [
    "floor(3.5)"
   ]
  },
  {
   "cell_type": "code",
   "execution_count": 24,
   "id": "8ade383c-239b-4cf7-aa80-e6fbc9515ca5",
   "metadata": {},
   "outputs": [
    {
     "data": {
      "text/plain": [
       "4"
      ]
     },
     "execution_count": 24,
     "metadata": {},
     "output_type": "execute_result"
    }
   ],
   "source": [
    "ceil(3.5)"
   ]
  },
  {
   "cell_type": "markdown",
   "id": "9cb540e9-0de2-4ed9-91db-d1467ba9b025",
   "metadata": {
    "tags": []
   },
   "source": [
    "## Strings"
   ]
  },
  {
   "cell_type": "markdown",
   "id": "38e94d55-5593-446f-9469-7b2a63a51804",
   "metadata": {},
   "source": [
    "Los cadenas de caracteres (o **strings**) son un tipo de datos compuestos por secuencias de caracteres que representan texto. Estas cadenas de texto son de tipo str y se delimitan mediante el uso de comillas simples o dobles."
   ]
  },
  {
   "cell_type": "code",
   "execution_count": 25,
   "id": "c63a8671-0a13-4db9-87fd-d109c38eac76",
   "metadata": {},
   "outputs": [],
   "source": [
    "cadena1 = \"esto es una cadena de caracteres\""
   ]
  },
  {
   "cell_type": "code",
   "execution_count": 26,
   "id": "e54356f4-54b7-4ef9-a6b1-92a7d3d1ca73",
   "metadata": {},
   "outputs": [],
   "source": [
    "cadena2 = 'esta es otra cadena'"
   ]
  },
  {
   "cell_type": "code",
   "execution_count": 27,
   "id": "d06e2099-39a5-43f0-9381-ba8bc8eb433b",
   "metadata": {},
   "outputs": [
    {
     "data": {
      "text/plain": [
       "str"
      ]
     },
     "execution_count": 27,
     "metadata": {},
     "output_type": "execute_result"
    }
   ],
   "source": [
    "type(cadena1)"
   ]
  },
  {
   "cell_type": "code",
   "execution_count": 28,
   "id": "984191d8-f31f-4143-a6ee-2ad29e7e087f",
   "metadata": {},
   "outputs": [],
   "source": [
    "cadena = \"Python\""
   ]
  },
  {
   "cell_type": "markdown",
   "id": "e729e26a-97b2-492a-a21c-9065479e8a9c",
   "metadata": {},
   "source": [
    "**Longitud** del string"
   ]
  },
  {
   "cell_type": "code",
   "execution_count": 29,
   "id": "6497b58f-5d8f-4b5e-93ce-70e67f03d4d0",
   "metadata": {},
   "outputs": [
    {
     "data": {
      "text/plain": [
       "6"
      ]
     },
     "execution_count": 29,
     "metadata": {},
     "output_type": "execute_result"
    }
   ],
   "source": [
    "len(cadena)"
   ]
  },
  {
   "cell_type": "markdown",
   "id": "bcb56444-8550-4e8e-8a1a-f6c593b38777",
   "metadata": {
    "tags": []
   },
   "source": [
    "### Indexación de **strings**:"
   ]
  },
  {
   "cell_type": "markdown",
   "id": "74e2a9e8-2ddb-4a18-9856-0c29416063c2",
   "metadata": {},
   "source": [
    "Cada uno de los caracteres de una cadena (incluidos los espacios) tiene asignado un **índice**. Este índice nos permite **seleccionar su carácter asociado haciendo referencia a él entre corchetes** (**[]**) en el nombre de la variable que almacena la cadena. Si consideremos el orden de izquierda a derecha, el **índice empieza en 0 para el primer carácter**, etc. También se puede considerar el orden de derecha a izquierda, en cuyo caso al último carácter le corresponde el índice -1, al penúltimo -2 y así sucesivamente. Este método es útil si por ejemplo queremos acceder a caracteres en las ultimas posiciones de una cadena con muchos caracteres de la cual no conocemos su longitud."
   ]
  },
  {
   "cell_type": "markdown",
   "id": "214d5525-8483-40b8-a228-4186f191fe66",
   "metadata": {},
   "source": [
    "<img src=\"images/indexacion_strings.png\" alt=\"drawing\" width=\"500\"/>"
   ]
  },
  {
   "cell_type": "markdown",
   "id": "77ed9b06-6051-4ea8-9137-fcac2704f137",
   "metadata": {},
   "source": [
    "Accediendo al 1er caracter"
   ]
  },
  {
   "cell_type": "code",
   "execution_count": 30,
   "id": "48078543-252f-40d1-92ba-e4b3214623d6",
   "metadata": {},
   "outputs": [
    {
     "data": {
      "text/plain": [
       "'P'"
      ]
     },
     "execution_count": 30,
     "metadata": {},
     "output_type": "execute_result"
    }
   ],
   "source": [
    "cadena[0]"
   ]
  },
  {
   "cell_type": "code",
   "execution_count": 31,
   "id": "cd984fc7-f033-4077-b0c7-93b93982156f",
   "metadata": {},
   "outputs": [
    {
     "data": {
      "text/plain": [
       "'h'"
      ]
     },
     "execution_count": 31,
     "metadata": {},
     "output_type": "execute_result"
    }
   ],
   "source": [
    "cadena[3]"
   ]
  },
  {
   "cell_type": "markdown",
   "id": "0bab1b52-cd0c-4f95-a7cd-64690d61f49a",
   "metadata": {},
   "source": [
    "**¿Qué sucede su accedemos a un índice inválido?**"
   ]
  },
  {
   "cell_type": "code",
   "execution_count": 32,
   "id": "d912296d-f709-46f1-98cb-e976e0d44e76",
   "metadata": {},
   "outputs": [
    {
     "ename": "IndexError",
     "evalue": "string index out of range",
     "output_type": "error",
     "traceback": [
      "\u001b[0;31m---------------------------------------------------------------------------\u001b[0m",
      "\u001b[0;31mIndexError\u001b[0m                                Traceback (most recent call last)",
      "\u001b[0;32m/var/folders/5p/l30m88v51q9b0q19jz_zwv3w0000gn/T/ipykernel_45858/3165857185.py\u001b[0m in \u001b[0;36m<module>\u001b[0;34m\u001b[0m\n\u001b[0;32m----> 1\u001b[0;31m \u001b[0mcadena\u001b[0m\u001b[0;34m[\u001b[0m\u001b[0;36m6\u001b[0m\u001b[0;34m]\u001b[0m\u001b[0;34m\u001b[0m\u001b[0;34m\u001b[0m\u001b[0m\n\u001b[0m",
      "\u001b[0;31mIndexError\u001b[0m: string index out of range"
     ]
    }
   ],
   "source": [
    "cadena[6]"
   ]
  },
  {
   "cell_type": "markdown",
   "id": "7c76a154-4831-498e-bc15-794e5679478d",
   "metadata": {},
   "source": [
    "### Rebanada de strings"
   ]
  },
  {
   "cell_type": "markdown",
   "id": "1199ced3-e122-42be-a3c5-25edceba422f",
   "metadata": {},
   "source": [
    "Otra operación que podemos realizar a una cadena es seleccionar solamente una parte de ella. Para ello se usa la notación **[inicio:fin:paso]** también en el nombre de la variable que almacena la cadena, donde:"
   ]
  },
  {
   "cell_type": "markdown",
   "id": "78364ffe-bb19-4139-8b5e-9ffb61e8bd83",
   "metadata": {},
   "source": [
    "* **Inicio**: es el índice del primer carácter de la porción de la cadena que queremos seleccionar.\n",
    "* **Fin**: es el índice del último carácter no incluido de la porción de la cadena que queremos seleccionar.\n",
    "* **Paso**: indica cada cuantos caracteres seleccionamos entre las posiciones de inicio y fin."
   ]
  },
  {
   "cell_type": "code",
   "execution_count": 33,
   "id": "f8e9f4f9-b661-49c9-a055-a731a1aabc27",
   "metadata": {},
   "outputs": [
    {
     "data": {
      "text/plain": [
       "'Python'"
      ]
     },
     "execution_count": 33,
     "metadata": {},
     "output_type": "execute_result"
    }
   ],
   "source": [
    "cadena"
   ]
  },
  {
   "cell_type": "code",
   "execution_count": 34,
   "id": "8606fa15-f547-47b6-ad56-c22ef472f511",
   "metadata": {},
   "outputs": [
    {
     "data": {
      "text/plain": [
       "'Pyth'"
      ]
     },
     "execution_count": 34,
     "metadata": {},
     "output_type": "execute_result"
    }
   ],
   "source": [
    "cadena[0:4]"
   ]
  },
  {
   "cell_type": "code",
   "execution_count": 35,
   "id": "00f5a86a-da15-4e0a-9538-560e1c6eac84",
   "metadata": {},
   "outputs": [
    {
     "data": {
      "text/plain": [
       "'Pto'"
      ]
     },
     "execution_count": 35,
     "metadata": {},
     "output_type": "execute_result"
    }
   ],
   "source": [
    "cadena[0:6:2]"
   ]
  },
  {
   "cell_type": "markdown",
   "id": "aed4243e-c0a3-4a7c-961a-e5133080ac6d",
   "metadata": {},
   "source": [
    "Algunas consideraciones a tener en cuenta es que si omitimos las posiciones de inicio o fin, nos referimos respectivamente a la primera y última posición de la cadena. Además omitir el paso es equivalente a indicar que el paso es 1. De este modo las selecciones anteriores también se podrían realizar del siguiente modo.\n",
    "\n"
   ]
  },
  {
   "cell_type": "code",
   "execution_count": 36,
   "id": "49923822-7634-43e9-a82b-07cd174e537f",
   "metadata": {},
   "outputs": [
    {
     "data": {
      "text/plain": [
       "'Pyth'"
      ]
     },
     "execution_count": 36,
     "metadata": {},
     "output_type": "execute_result"
    }
   ],
   "source": [
    "cadena[:4]"
   ]
  },
  {
   "cell_type": "code",
   "execution_count": 37,
   "id": "7db8aae0-9777-401a-83cd-0f7ef0e70fdc",
   "metadata": {},
   "outputs": [
    {
     "data": {
      "text/plain": [
       "'on'"
      ]
     },
     "execution_count": 37,
     "metadata": {},
     "output_type": "execute_result"
    }
   ],
   "source": [
    "cadena[4:]"
   ]
  },
  {
   "cell_type": "code",
   "execution_count": 38,
   "id": "3846ce5d-60a5-4ba9-a9be-aa95c4bd4796",
   "metadata": {},
   "outputs": [
    {
     "data": {
      "text/plain": [
       "'nohtyP'"
      ]
     },
     "execution_count": 38,
     "metadata": {},
     "output_type": "execute_result"
    }
   ],
   "source": [
    "cadena[::-1]"
   ]
  },
  {
   "cell_type": "markdown",
   "id": "82c67628-550c-4565-94ab-f629c61c9970",
   "metadata": {},
   "source": [
    "### Funciones y operaciones con strings"
   ]
  },
  {
   "cell_type": "markdown",
   "id": "062a3c51-c751-4ac3-8065-a309049741c1",
   "metadata": {},
   "source": [
    "**Concatenación**"
   ]
  },
  {
   "cell_type": "code",
   "execution_count": 39,
   "id": "6e94f50e-9d5c-4dee-a61e-67ce9d2b1c67",
   "metadata": {},
   "outputs": [
    {
     "data": {
      "text/plain": [
       "'Juana Perez'"
      ]
     },
     "execution_count": 39,
     "metadata": {},
     "output_type": "execute_result"
    }
   ],
   "source": [
    "nombre = \"Juana\"\n",
    "apellido = \"Perez\"\n",
    "\n",
    "nombre + \" \" + apellido"
   ]
  },
  {
   "cell_type": "code",
   "execution_count": 40,
   "id": "fc58edc5-0a2c-41cc-b174-d62f311a2a34",
   "metadata": {},
   "outputs": [
    {
     "data": {
      "text/plain": [
       "'jajajajaja'"
      ]
     },
     "execution_count": 40,
     "metadata": {},
     "output_type": "execute_result"
    }
   ],
   "source": [
    "risa = \"ja\"\n",
    "\n",
    "risa_larga = risa * 5\n",
    "\n",
    "risa_larga"
   ]
  },
  {
   "cell_type": "markdown",
   "id": "aeecf966-f17c-4395-b16f-0acad2e6d83a",
   "metadata": {},
   "source": [
    "**Reemplazar el caracter de un string**"
   ]
  },
  {
   "cell_type": "code",
   "execution_count": 41,
   "id": "a2739798-8c71-45d3-b731-3821ea41ec74",
   "metadata": {},
   "outputs": [],
   "source": [
    "lenguaje = 'Pithon'"
   ]
  },
  {
   "cell_type": "code",
   "execution_count": 42,
   "id": "ca788fa2-71f2-411e-aa1e-50ad0cc611d0",
   "metadata": {},
   "outputs": [
    {
     "ename": "TypeError",
     "evalue": "'str' object does not support item assignment",
     "output_type": "error",
     "traceback": [
      "\u001b[0;31m---------------------------------------------------------------------------\u001b[0m",
      "\u001b[0;31mTypeError\u001b[0m                                 Traceback (most recent call last)",
      "\u001b[0;32m/var/folders/5p/l30m88v51q9b0q19jz_zwv3w0000gn/T/ipykernel_45858/2461467970.py\u001b[0m in \u001b[0;36m<module>\u001b[0;34m\u001b[0m\n\u001b[0;32m----> 1\u001b[0;31m \u001b[0mlenguaje\u001b[0m\u001b[0;34m[\u001b[0m\u001b[0;36m1\u001b[0m\u001b[0;34m]\u001b[0m \u001b[0;34m=\u001b[0m \u001b[0;34m'y'\u001b[0m\u001b[0;34m\u001b[0m\u001b[0;34m\u001b[0m\u001b[0m\n\u001b[0m",
      "\u001b[0;31mTypeError\u001b[0m: 'str' object does not support item assignment"
     ]
    }
   ],
   "source": [
    "lenguaje[1] = 'y'"
   ]
  },
  {
   "cell_type": "markdown",
   "id": "318c64c6-e765-4cd3-96ab-3c8b407f755a",
   "metadata": {},
   "source": [
    "En Python, las cadenas de caracteres tienen la **propiedad de inmutabilidad**"
   ]
  },
  {
   "cell_type": "markdown",
   "id": "d0c88166-ae47-4aaf-84f5-fee104d12bb1",
   "metadata": {},
   "source": [
    "**¿Cómo podemos hacer?**"
   ]
  },
  {
   "cell_type": "code",
   "execution_count": 43,
   "id": "50b24203-3f54-483a-9ee5-7d51c63271f9",
   "metadata": {},
   "outputs": [
    {
     "data": {
      "text/plain": [
       "'Python'"
      ]
     },
     "execution_count": 43,
     "metadata": {},
     "output_type": "execute_result"
    }
   ],
   "source": [
    "lenguaje[0] + 'y' + lenguaje[2:]"
   ]
  },
  {
   "cell_type": "markdown",
   "id": "5402832e-4471-472d-9ac2-3ca62fade217",
   "metadata": {
    "tags": []
   },
   "source": [
    "### Algunos métodos"
   ]
  },
  {
   "cell_type": "markdown",
   "id": "c1511bbd-1573-498a-b63c-fc4d1420f6ff",
   "metadata": {},
   "source": [
    "* **x.upper()**: este método devuelve una copia de la cadena convirtiendo las letras minúsculas a mayúsculas. El hecho de que devuelva una copia significa que la variable original no se ve afectada por la operación.\n"
   ]
  },
  {
   "cell_type": "code",
   "execution_count": 44,
   "id": "503e318f-f28a-4b5a-812a-2a4bd80faa0f",
   "metadata": {},
   "outputs": [],
   "source": [
    "x = \"Había una vez, un lenguaje de programación llamado Python\""
   ]
  },
  {
   "cell_type": "code",
   "execution_count": 45,
   "id": "65ebd0ad-bafb-4d61-be2a-57ce8dba7c63",
   "metadata": {},
   "outputs": [
    {
     "data": {
      "text/plain": [
       "'HABÍA UNA VEZ, UN LENGUAJE DE PROGRAMACIÓN LLAMADO PYTHON'"
      ]
     },
     "execution_count": 45,
     "metadata": {},
     "output_type": "execute_result"
    }
   ],
   "source": [
    "x.upper()"
   ]
  },
  {
   "cell_type": "code",
   "execution_count": 46,
   "id": "8227d6d5-4bd7-4388-90c8-c50348bea9dd",
   "metadata": {},
   "outputs": [
    {
     "data": {
      "text/plain": [
       "'Había una vez, un lenguaje de programación llamado Python'"
      ]
     },
     "execution_count": 46,
     "metadata": {},
     "output_type": "execute_result"
    }
   ],
   "source": [
    "x"
   ]
  },
  {
   "cell_type": "markdown",
   "id": "b3dd0a4e-59d3-4d27-b02e-a073142e1af0",
   "metadata": {},
   "source": [
    "* **x.lower()**: devuelve una copia de la cadena convirtiendo las letras mayúsculas a minúsculas."
   ]
  },
  {
   "cell_type": "code",
   "execution_count": 47,
   "id": "2ff57d4d-29c5-4b75-a0ce-325f7cd41ce5",
   "metadata": {},
   "outputs": [],
   "source": [
    "x = \"Había una vez, un lenguaje de programación llamado PYTHON\""
   ]
  },
  {
   "cell_type": "code",
   "execution_count": 48,
   "id": "b46ad981-8e4f-4e67-acdf-dc800015d59d",
   "metadata": {},
   "outputs": [
    {
     "data": {
      "text/plain": [
       "'había una vez, un lenguaje de programación llamado python'"
      ]
     },
     "execution_count": 48,
     "metadata": {},
     "output_type": "execute_result"
    }
   ],
   "source": [
    "x.lower()"
   ]
  },
  {
   "cell_type": "markdown",
   "id": "58791cfd-4dcb-4bdc-83d2-eb7cc16c17e6",
   "metadata": {},
   "source": [
    "* **x.title()**: devuelve una copia de la cadena usando la notación de título."
   ]
  },
  {
   "cell_type": "code",
   "execution_count": 49,
   "id": "d11745dd-2b90-4fb8-b1ae-d1e0e10191d7",
   "metadata": {},
   "outputs": [],
   "source": [
    "x = \"aprendiendo python 3\""
   ]
  },
  {
   "cell_type": "code",
   "execution_count": 50,
   "id": "5a6adbba-86e5-4588-87d9-719713b61a4b",
   "metadata": {},
   "outputs": [
    {
     "data": {
      "text/plain": [
       "'Aprendiendo Python 3'"
      ]
     },
     "execution_count": 50,
     "metadata": {},
     "output_type": "execute_result"
    }
   ],
   "source": [
    "x.title()"
   ]
  },
  {
   "cell_type": "markdown",
   "id": "063788bb-9cee-42f8-92df-695d5d0495f8",
   "metadata": {},
   "source": [
    "* **x.replace(viejo, nuevo)**: devuelve una copia de la cadena a la cual se le ha cambiado la primera ocurrencia del carácter especificado en viejo por el especificado en nuevo."
   ]
  },
  {
   "cell_type": "code",
   "execution_count": 51,
   "id": "005724b1-10f1-47bd-8aa5-3f8287972306",
   "metadata": {},
   "outputs": [],
   "source": [
    "x = \"Pithon\""
   ]
  },
  {
   "cell_type": "code",
   "execution_count": 52,
   "id": "dc9182c5-3d27-4518-95bf-6951e1b92b91",
   "metadata": {},
   "outputs": [
    {
     "data": {
      "text/plain": [
       "'Python'"
      ]
     },
     "execution_count": 52,
     "metadata": {},
     "output_type": "execute_result"
    }
   ],
   "source": [
    "x.replace(\"i\", \"y\")"
   ]
  },
  {
   "cell_type": "markdown",
   "id": "082db6d6-8c1f-4b4f-9930-46cf92ae2a87",
   "metadata": {},
   "source": [
    "* **x.lstrip()**: devuelve una copia de la cadena a la cual se le han eliminado los espacios del principio."
   ]
  },
  {
   "cell_type": "code",
   "execution_count": 53,
   "id": "9b4bc173-ec6a-4274-ba73-c697d86d3f0c",
   "metadata": {},
   "outputs": [],
   "source": [
    "x = \"     Aprendiendo Python 3  \""
   ]
  },
  {
   "cell_type": "code",
   "execution_count": 54,
   "id": "c55609c1-7cfd-4c2a-a147-e2aad2ba263d",
   "metadata": {},
   "outputs": [
    {
     "data": {
      "text/plain": [
       "'Aprendiendo Python 3  '"
      ]
     },
     "execution_count": 54,
     "metadata": {},
     "output_type": "execute_result"
    }
   ],
   "source": [
    "x.lstrip()"
   ]
  },
  {
   "cell_type": "markdown",
   "id": "17582e88-0e8d-4335-8017-b860697f8d88",
   "metadata": {},
   "source": [
    "* **x.rstrip()**: se comporta igual que el anterior pero para los espacios del final."
   ]
  },
  {
   "cell_type": "code",
   "execution_count": 55,
   "id": "c52a3c9d-c965-4890-9ee1-1b3f328b9503",
   "metadata": {},
   "outputs": [
    {
     "data": {
      "text/plain": [
       "'     Aprendiendo Python 3'"
      ]
     },
     "execution_count": 55,
     "metadata": {},
     "output_type": "execute_result"
    }
   ],
   "source": [
    "x.rstrip()"
   ]
  },
  {
   "cell_type": "markdown",
   "id": "157f0202-1116-46c2-ac4b-cbe987639af6",
   "metadata": {},
   "source": [
    "## Booleanos"
   ]
  },
  {
   "cell_type": "markdown",
   "id": "0b54d6d1-00c3-4fc5-b701-4d1e9b4d4908",
   "metadata": {},
   "source": [
    "Una **variable booleana** es una variable que sólo puede tomar dos posibles valores: **True** (verdadero) o **False** (falso).\n",
    "\n",
    "En Python cualquier variable (en general, cualquier objeto) puede considerarse como una variable booleana. En general los elementos nulos o vacíos se consideran False y el resto se consideran True.\n",
    "\n",
    "Para comprobar si un elemento se considera True o False, se puede convertir a su valor booleano mediante la función bool()."
   ]
  },
  {
   "cell_type": "markdown",
   "id": "e8ae28e2-46b8-49eb-83c1-a206187975c9",
   "metadata": {},
   "source": [
    "**Operadores lógicos**"
   ]
  },
  {
   "cell_type": "markdown",
   "id": "eb238773-daa6-45e6-be4b-70e7396ea34e",
   "metadata": {},
   "source": [
    "* **and**: \"y\" lógico. Este operador da como resultado True si y sólo si sus dos operandos son **True**:"
   ]
  },
  {
   "cell_type": "code",
   "execution_count": 56,
   "id": "2a447444-1657-4ae4-ad86-ac00426b695a",
   "metadata": {},
   "outputs": [
    {
     "data": {
      "text/plain": [
       "True"
      ]
     },
     "execution_count": 56,
     "metadata": {},
     "output_type": "execute_result"
    }
   ],
   "source": [
    "True and True"
   ]
  },
  {
   "cell_type": "code",
   "execution_count": 57,
   "id": "d6b7435b-b754-488c-8bbf-51b15cb8cf5e",
   "metadata": {},
   "outputs": [
    {
     "data": {
      "text/plain": [
       "False"
      ]
     },
     "execution_count": 57,
     "metadata": {},
     "output_type": "execute_result"
    }
   ],
   "source": [
    "True and False"
   ]
  },
  {
   "cell_type": "code",
   "execution_count": 58,
   "id": "09a67b03-0b95-490b-8029-439fea5f3f87",
   "metadata": {},
   "outputs": [
    {
     "data": {
      "text/plain": [
       "False"
      ]
     },
     "execution_count": 58,
     "metadata": {},
     "output_type": "execute_result"
    }
   ],
   "source": [
    "False and True"
   ]
  },
  {
   "cell_type": "code",
   "execution_count": 59,
   "id": "e6fe3d52-b19c-45d3-9d6f-658414dc64ed",
   "metadata": {},
   "outputs": [
    {
     "data": {
      "text/plain": [
       "False"
      ]
     },
     "execution_count": 59,
     "metadata": {},
     "output_type": "execute_result"
    }
   ],
   "source": [
    "False and False"
   ]
  },
  {
   "cell_type": "markdown",
   "id": "bbdcd9a8-f34a-420f-8a20-28f268fd1f30",
   "metadata": {},
   "source": [
    "* **or**: \"o\" lógico. Este operador da como resultado True si algún operando es True:\n"
   ]
  },
  {
   "cell_type": "code",
   "execution_count": 60,
   "id": "c62517ed-ceae-4099-9b34-b6fe7e78b603",
   "metadata": {},
   "outputs": [
    {
     "data": {
      "text/plain": [
       "True"
      ]
     },
     "execution_count": 60,
     "metadata": {},
     "output_type": "execute_result"
    }
   ],
   "source": [
    "True or True"
   ]
  },
  {
   "cell_type": "code",
   "execution_count": 61,
   "id": "c9fefede-6812-4e79-8a5c-f1135a0aa804",
   "metadata": {},
   "outputs": [
    {
     "data": {
      "text/plain": [
       "True"
      ]
     },
     "execution_count": 61,
     "metadata": {},
     "output_type": "execute_result"
    }
   ],
   "source": [
    "True or False"
   ]
  },
  {
   "cell_type": "code",
   "execution_count": 62,
   "id": "57f3519f-82c8-4e1e-a6cb-f935920f0da1",
   "metadata": {},
   "outputs": [
    {
     "data": {
      "text/plain": [
       "True"
      ]
     },
     "execution_count": 62,
     "metadata": {},
     "output_type": "execute_result"
    }
   ],
   "source": [
    "False or True"
   ]
  },
  {
   "cell_type": "code",
   "execution_count": 63,
   "id": "4c96cb0b-859e-496e-b120-a44d66d58fe1",
   "metadata": {},
   "outputs": [
    {
     "data": {
      "text/plain": [
       "False"
      ]
     },
     "execution_count": 63,
     "metadata": {},
     "output_type": "execute_result"
    }
   ],
   "source": [
    "False or False"
   ]
  },
  {
   "cell_type": "markdown",
   "id": "662fc8d2-6f11-49e7-a023-26426519247c",
   "metadata": {},
   "source": [
    "* **not**: negación. Este operador da como resultado True si y sólo si su argumento es False:"
   ]
  },
  {
   "cell_type": "code",
   "execution_count": 64,
   "id": "7edb16b5-516e-4d47-8aeb-ec2c0bbba411",
   "metadata": {},
   "outputs": [
    {
     "data": {
      "text/plain": [
       "False"
      ]
     },
     "execution_count": 64,
     "metadata": {},
     "output_type": "execute_result"
    }
   ],
   "source": [
    "not True"
   ]
  },
  {
   "cell_type": "code",
   "execution_count": 65,
   "id": "62bc4d98-80e5-45a1-aac6-267fc4601669",
   "metadata": {},
   "outputs": [
    {
     "data": {
      "text/plain": [
       "True"
      ]
     },
     "execution_count": 65,
     "metadata": {},
     "output_type": "execute_result"
    }
   ],
   "source": [
    "not False"
   ]
  },
  {
   "cell_type": "markdown",
   "id": "4cc2f2fd-78f2-41b8-8f1f-32e1ceb0871c",
   "metadata": {},
   "source": [
    "**Comparaciones**"
   ]
  },
  {
   "cell_type": "code",
   "execution_count": 66,
   "id": "7c083a49-a4f7-483d-9109-12f60d6c15f4",
   "metadata": {},
   "outputs": [
    {
     "data": {
      "text/plain": [
       "True"
      ]
     },
     "execution_count": 66,
     "metadata": {},
     "output_type": "execute_result"
    }
   ],
   "source": [
    "3 > 1"
   ]
  },
  {
   "cell_type": "code",
   "execution_count": 67,
   "id": "fcf666df-63ea-4aa4-9824-68120906975d",
   "metadata": {},
   "outputs": [
    {
     "data": {
      "text/plain": [
       "False"
      ]
     },
     "execution_count": 67,
     "metadata": {},
     "output_type": "execute_result"
    }
   ],
   "source": [
    "10.01 < 10"
   ]
  },
  {
   "cell_type": "code",
   "execution_count": 68,
   "id": "d10cf9e6-9d65-44fd-bc4f-153b873cb5a6",
   "metadata": {},
   "outputs": [
    {
     "data": {
      "text/plain": [
       "False"
      ]
     },
     "execution_count": 68,
     "metadata": {},
     "output_type": "execute_result"
    }
   ],
   "source": [
    "\"a\" == \"A\""
   ]
  },
  {
   "cell_type": "code",
   "execution_count": 69,
   "id": "f22d7593-3d6a-43b0-861c-f6d7ed2a1eca",
   "metadata": {},
   "outputs": [
    {
     "data": {
      "text/plain": [
       "True"
      ]
     },
     "execution_count": 69,
     "metadata": {},
     "output_type": "execute_result"
    }
   ],
   "source": [
    "'a' < 'z'"
   ]
  },
  {
   "cell_type": "code",
   "execution_count": 70,
   "id": "6351b162-3e16-4dcc-bc05-def0343834f8",
   "metadata": {},
   "outputs": [
    {
     "data": {
      "text/plain": [
       "True"
      ]
     },
     "execution_count": 70,
     "metadata": {},
     "output_type": "execute_result"
    }
   ],
   "source": [
    "'4' != 4"
   ]
  },
  {
   "cell_type": "markdown",
   "id": "cc14a2b0-e811-4748-8e25-be2e99ef883b",
   "metadata": {
    "tags": []
   },
   "source": [
    "## Listas"
   ]
  },
  {
   "cell_type": "markdown",
   "id": "a226746e-c6db-4790-b3e0-abffe98326e1",
   "metadata": {},
   "source": [
    "Las **listas en Python** (**list**) son en esencia una colección de elementos, no necesariamente del mismo tipo. Su característica principal reside en que el orden de sus elementos se mantiene en todo momento. Las listas usan corchetes ([]) para encerrar a sus elementos, y comas (,) para separarlos. En este post vamos a ver propiedades de las listas así como algunos de sus métodos más comunes."
   ]
  },
  {
   "cell_type": "code",
   "execution_count": 71,
   "id": "c7db841d-08e9-4917-b644-8b9e6db9b05c",
   "metadata": {},
   "outputs": [],
   "source": [
    "# esto es una lista de numeros pares\n",
    "mi_lista = [2, 8, 6, 4, 12]"
   ]
  },
  {
   "cell_type": "markdown",
   "id": "63cfefa5-8dc4-4a6b-a25b-9509ec1da5ed",
   "metadata": {
    "jp-MarkdownHeadingCollapsed": true,
    "tags": []
   },
   "source": [
    "**Tipos de elementos de en una lista**"
   ]
  },
  {
   "cell_type": "code",
   "execution_count": 72,
   "id": "3faa8b6e-ad14-4985-8e8b-8498be5ea0f1",
   "metadata": {},
   "outputs": [],
   "source": [
    "lista1 = [2, \"maria\", \"dos\", False]"
   ]
  },
  {
   "cell_type": "code",
   "execution_count": 73,
   "id": "327e228a-331e-4aab-903e-a831ceac74f4",
   "metadata": {},
   "outputs": [],
   "source": [
    "lista2 = [\"uno\", \"dos\", \"tres\"]"
   ]
  },
  {
   "cell_type": "markdown",
   "id": "51af0ad6-07f6-4598-a252-b58ca07a2f42",
   "metadata": {},
   "source": [
    "**Acceder y modificar elementos de una lista**"
   ]
  },
  {
   "cell_type": "markdown",
   "id": "26560cef-c2c9-4b56-8de2-44e3ba440ba3",
   "metadata": {},
   "source": [
    "Los elementos de una lista están indexados del mismo modo que lo están los caracteres que conforman un string. Esto permite seleccionar un único elemento de una lista por la posición que ocupa en la misma. Para ello debemos especificar entre corchetes el índice del elemento teniendo en cuenta que el índice del primer elemento es 0. Además también podemos referirnos al último elemento con el índice -1, el penúltimo con el índice -2 y así sucesivamente."
   ]
  },
  {
   "cell_type": "code",
   "execution_count": 74,
   "id": "54b61288-cd4f-41f9-b807-904bb5dcad2c",
   "metadata": {},
   "outputs": [],
   "source": [
    "lista = [30, 12, 18, 27, 13, 45]"
   ]
  },
  {
   "cell_type": "markdown",
   "id": "6efff11d-ef49-454b-af0d-e148ca55739a",
   "metadata": {},
   "source": [
    "lista[1]"
   ]
  },
  {
   "cell_type": "code",
   "execution_count": 75,
   "id": "23586ee2-5c45-4af3-97de-1f40b8861668",
   "metadata": {},
   "outputs": [],
   "source": [
    "lista[3] = 25"
   ]
  },
  {
   "cell_type": "code",
   "execution_count": 76,
   "id": "2997c1cf-aedb-4761-8ef7-4c3ae543c6ef",
   "metadata": {},
   "outputs": [
    {
     "data": {
      "text/plain": [
       "[30, 12, 18, 25, 13, 45]"
      ]
     },
     "execution_count": 76,
     "metadata": {},
     "output_type": "execute_result"
    }
   ],
   "source": [
    "lista"
   ]
  },
  {
   "cell_type": "markdown",
   "id": "d8a462bf-2f3a-4675-bd32-34df9f02c3f4",
   "metadata": {},
   "source": [
    "**Seleccionar los elementos de una lista**"
   ]
  },
  {
   "cell_type": "code",
   "execution_count": 77,
   "id": "02b67185-8842-4b37-8c87-6ec4e914f631",
   "metadata": {},
   "outputs": [],
   "source": [
    "lista = [30, 12, 18, 27, 13, 45]"
   ]
  },
  {
   "cell_type": "code",
   "execution_count": 78,
   "id": "503dd0c9-ae68-4edb-80e9-53c251d015d8",
   "metadata": {},
   "outputs": [
    {
     "data": {
      "text/plain": [
       "[30, 12, 18]"
      ]
     },
     "execution_count": 78,
     "metadata": {},
     "output_type": "execute_result"
    }
   ],
   "source": [
    "lista[0:3]"
   ]
  },
  {
   "cell_type": "code",
   "execution_count": 79,
   "id": "ef260e7b-5452-453f-826d-bd42476c4fb3",
   "metadata": {},
   "outputs": [
    {
     "data": {
      "text/plain": [
       "[30, 12, 18]"
      ]
     },
     "execution_count": 79,
     "metadata": {},
     "output_type": "execute_result"
    }
   ],
   "source": [
    "lista[:3]"
   ]
  },
  {
   "cell_type": "code",
   "execution_count": 80,
   "id": "12a0d0f6-b322-41da-8c08-fd984e9541d5",
   "metadata": {},
   "outputs": [
    {
     "data": {
      "text/plain": [
       "['g', 'f', 'e', 'd', 'c', 'b', 'a']"
      ]
     },
     "execution_count": 80,
     "metadata": {},
     "output_type": "execute_result"
    }
   ],
   "source": [
    "# invertir una lista\n",
    "lista = ['a', 'b', 'c', 'd', 'e', 'f', 'g']\n",
    "lista[::-1]"
   ]
  },
  {
   "cell_type": "code",
   "execution_count": 81,
   "id": "9b01eea1-d8f6-4682-895e-bda53e270f57",
   "metadata": {},
   "outputs": [
    {
     "data": {
      "text/plain": [
       "['a', 'b', 'c', 'd', 'e', 'f', 'g']"
      ]
     },
     "execution_count": 81,
     "metadata": {},
     "output_type": "execute_result"
    }
   ],
   "source": [
    "lista"
   ]
  },
  {
   "cell_type": "markdown",
   "id": "73ceba06-c871-4b72-9d84-8994f19853e5",
   "metadata": {},
   "source": [
    "**Concatenar listas**"
   ]
  },
  {
   "cell_type": "markdown",
   "id": "febb455d-9de9-4c90-aeef-25b760fc1271",
   "metadata": {},
   "source": [
    "Dos listas pueden concatenarse en una de sola mediante el signo más (+). El resultado es una nueva lista con los elementos de las dos listas en el mismo orden de la concatenación."
   ]
  },
  {
   "cell_type": "code",
   "execution_count": 82,
   "id": "a70d3426-8926-4497-8cbc-2b3e561b8dd7",
   "metadata": {},
   "outputs": [
    {
     "data": {
      "text/plain": [
       "['uno', 'dos', 'tres', 4, 5, 6]"
      ]
     },
     "execution_count": 82,
     "metadata": {},
     "output_type": "execute_result"
    }
   ],
   "source": [
    "letras = ['uno', 'dos', 'tres']\n",
    "numeros = [4, 5, 6]\n",
    "\n",
    "letras + numeros"
   ]
  },
  {
   "cell_type": "markdown",
   "id": "f1ccb63c-7069-4c5f-ac9a-541ef9f02a87",
   "metadata": {},
   "source": [
    "**Réplica de listas**"
   ]
  },
  {
   "cell_type": "markdown",
   "id": "7349ff35-09a2-491f-afb8-60f43c5c6e5f",
   "metadata": {},
   "source": [
    "Otra operación que admiten las listas es la de réplica, que se realiza mediante el signo de multiplicación (*). Esta operación es equivalente a concatenarle a una lista sus mismos elementos un número determinado de veces."
   ]
  },
  {
   "cell_type": "code",
   "execution_count": 83,
   "id": "bb4fd3f7-1a63-4d07-ad77-8a86da616299",
   "metadata": {},
   "outputs": [
    {
     "data": {
      "text/plain": [
       "[2, 4, 6, 2, 4, 6]"
      ]
     },
     "execution_count": 83,
     "metadata": {},
     "output_type": "execute_result"
    }
   ],
   "source": [
    "lista = [2, 4, 6]\n",
    "\n",
    "lista * 2"
   ]
  },
  {
   "cell_type": "markdown",
   "id": "1796ffdf-150a-4209-b0bb-235a007eaa28",
   "metadata": {},
   "source": [
    "**Algunos métodos de las listas**"
   ]
  },
  {
   "cell_type": "markdown",
   "id": "b5bcca8c-e02a-4786-bbc0-7c1e0505ec53",
   "metadata": {},
   "source": [
    "https://docs.python.org/3/tutorial/datastructures.html#more-on-lists"
   ]
  },
  {
   "cell_type": "markdown",
   "id": "46914885-2ea2-4a03-ac98-42f575e07445",
   "metadata": {},
   "source": [
    "* **min** de la lista"
   ]
  },
  {
   "cell_type": "code",
   "execution_count": 84,
   "id": "097a8cb4-43a4-4961-87f7-aa04026dfdcb",
   "metadata": {},
   "outputs": [
    {
     "data": {
      "text/plain": [
       "0"
      ]
     },
     "execution_count": 84,
     "metadata": {},
     "output_type": "execute_result"
    }
   ],
   "source": [
    "lista = [4, 2, 0, 1, 3]\n",
    "\n",
    "min(lista)"
   ]
  },
  {
   "cell_type": "markdown",
   "id": "e24106f1-3d06-4a52-b5a0-54600a7448bf",
   "metadata": {},
   "source": [
    "* **max** de la lista"
   ]
  },
  {
   "cell_type": "code",
   "execution_count": 85,
   "id": "eee7bf70-5e42-4df7-9391-06c74909a12b",
   "metadata": {},
   "outputs": [
    {
     "data": {
      "text/plain": [
       "4"
      ]
     },
     "execution_count": 85,
     "metadata": {},
     "output_type": "execute_result"
    }
   ],
   "source": [
    "lista = [4, 2, 0, 1, 3]\n",
    "\n",
    "max(lista)"
   ]
  },
  {
   "cell_type": "markdown",
   "id": "055bc373-34f3-4344-a8f9-cd7382c105c4",
   "metadata": {},
   "source": [
    "* longitud (**len**) de lista"
   ]
  },
  {
   "cell_type": "code",
   "execution_count": 86,
   "id": "67a185a4-af7e-4a73-9f6e-34f8bfe47b92",
   "metadata": {},
   "outputs": [
    {
     "data": {
      "text/plain": [
       "5"
      ]
     },
     "execution_count": 86,
     "metadata": {},
     "output_type": "execute_result"
    }
   ],
   "source": [
    "lista = [4, 2, 0, 1, 3]\n",
    "\n",
    "len(lista)"
   ]
  },
  {
   "cell_type": "markdown",
   "id": "61d3ffe7-8e0e-486c-817b-f7a6931656fd",
   "metadata": {},
   "source": [
    "* lista.**append(x)**: añade el elemento x al final de la lista."
   ]
  },
  {
   "cell_type": "code",
   "execution_count": 87,
   "id": "5e4c4bd6-5e6b-4e01-86d3-99ee8f156a14",
   "metadata": {},
   "outputs": [
    {
     "data": {
      "text/plain": [
       "[4, 2, 0, 1, 3, 9]"
      ]
     },
     "execution_count": 87,
     "metadata": {},
     "output_type": "execute_result"
    }
   ],
   "source": [
    "lista = [4, 2, 0, 1, 3]\n",
    "\n",
    "lista.append(9)\n",
    "\n",
    "lista"
   ]
  },
  {
   "cell_type": "markdown",
   "id": "f9a748d0-e3f4-460a-a3f9-e9881824a5f6",
   "metadata": {},
   "source": [
    "* lista.**extend(iterable)**: expande la lista añadiéndole los elementos de un objeto iterable. Este método es una alternativa a la concatenación de listas."
   ]
  },
  {
   "cell_type": "code",
   "execution_count": 88,
   "id": "1108b3e2-1f62-4fa6-bbe1-dc323c6788d8",
   "metadata": {},
   "outputs": [
    {
     "data": {
      "text/plain": [
       "[4, 2, 0, 1, 3, 9, 6]"
      ]
     },
     "execution_count": 88,
     "metadata": {},
     "output_type": "execute_result"
    }
   ],
   "source": [
    "lista = [4, 2, 0, 1, 3]\n",
    "\n",
    "lista.extend([9, 6])\n",
    "\n",
    "lista"
   ]
  },
  {
   "cell_type": "markdown",
   "id": "6b18ff22-3b20-4fbd-8e16-7b2c908e3a98",
   "metadata": {},
   "source": [
    "* lista.**pop(index=-1)**: elimina y devuelve el elemento cuya posición corresponde al índice especificado. Por defecto elimina el último elemento."
   ]
  },
  {
   "cell_type": "code",
   "execution_count": 89,
   "id": "8e1ab362-c840-4197-be31-81506dbc3068",
   "metadata": {},
   "outputs": [
    {
     "data": {
      "text/plain": [
       "[4, 2, 0, 1]"
      ]
     },
     "execution_count": 89,
     "metadata": {},
     "output_type": "execute_result"
    }
   ],
   "source": [
    "lista = [4, 2, 0, 1, 3]\n",
    "\n",
    "lista.pop()\n",
    "\n",
    "lista"
   ]
  },
  {
   "cell_type": "markdown",
   "id": "baed0860-0ca7-40ed-8650-502824e9df05",
   "metadata": {},
   "source": [
    "* lista.**sort()**: ordena los elementos de la lista."
   ]
  },
  {
   "cell_type": "code",
   "execution_count": 90,
   "id": "97a1512c-227b-482c-87e3-4be5dd4033f2",
   "metadata": {},
   "outputs": [
    {
     "data": {
      "text/plain": [
       "[0, 1, 2, 3, 4]"
      ]
     },
     "execution_count": 90,
     "metadata": {},
     "output_type": "execute_result"
    }
   ],
   "source": [
    "lista = [4, 2, 0, 1, 3]\n",
    "\n",
    "lista.sort()\n",
    "\n",
    "lista"
   ]
  },
  {
   "cell_type": "markdown",
   "id": "7dbea213-16d5-45d0-a0c7-1a4800d4e173",
   "metadata": {},
   "source": [
    "* lista.**reverse()**: invierte el orden de los elementos de una lista. Este método es equivalente a aplicar lista[::-1]."
   ]
  },
  {
   "cell_type": "code",
   "execution_count": 91,
   "id": "f47f8594-6891-47c8-9341-ea394f24315b",
   "metadata": {},
   "outputs": [
    {
     "data": {
      "text/plain": [
       "[3, 1, 0, 2, 4]"
      ]
     },
     "execution_count": 91,
     "metadata": {},
     "output_type": "execute_result"
    }
   ],
   "source": [
    "lista = [4, 2, 0, 1, 3]\n",
    "\n",
    "lista.reverse()\n",
    "\n",
    "lista"
   ]
  },
  {
   "cell_type": "markdown",
   "id": "85b7be78-71e7-4f27-b945-ea3ffca4428e",
   "metadata": {},
   "source": [
    "## Tuplas"
   ]
  },
  {
   "cell_type": "markdown",
   "id": "05445e2c-9d48-43c2-80c6-daa7b130d74e",
   "metadata": {},
   "source": [
    "Una tupla es una colección de objetos ordenados que encierra sus elementos con paréntesis () y los separa con comas. Las tuplas son muy similares a las listas, y pueden almacenar objetos de tipo distinto como enteros y strings entre otros. Sin embargo, al contrario que las listas presentan la propiedad de inmutabilidad. Esto implica que los elementos de una tupla no pueden reasignarse. El siguiente ejemplo ilustra estos dos conceptos."
   ]
  },
  {
   "cell_type": "code",
   "execution_count": 92,
   "id": "e67c2eaa-49dd-441d-ba25-bc487a9dd364",
   "metadata": {},
   "outputs": [],
   "source": [
    "tupla = (2, 'hola', False)"
   ]
  },
  {
   "cell_type": "code",
   "execution_count": 93,
   "id": "4c37997c-c072-4a1c-b71d-53b138b1b235",
   "metadata": {},
   "outputs": [
    {
     "data": {
      "text/plain": [
       "tuple"
      ]
     },
     "execution_count": 93,
     "metadata": {},
     "output_type": "execute_result"
    }
   ],
   "source": [
    "type(tupla)"
   ]
  },
  {
   "cell_type": "code",
   "execution_count": 94,
   "id": "b62d1ac6-16e0-4468-966e-e753dc8131f5",
   "metadata": {},
   "outputs": [
    {
     "data": {
      "text/plain": [
       "2"
      ]
     },
     "execution_count": 94,
     "metadata": {},
     "output_type": "execute_result"
    }
   ],
   "source": [
    "tupla[0]"
   ]
  },
  {
   "cell_type": "code",
   "execution_count": 95,
   "id": "8e954bd7-2e24-449c-a634-1289c8119349",
   "metadata": {},
   "outputs": [
    {
     "ename": "TypeError",
     "evalue": "'tuple' object does not support item assignment",
     "output_type": "error",
     "traceback": [
      "\u001b[0;31m---------------------------------------------------------------------------\u001b[0m",
      "\u001b[0;31mTypeError\u001b[0m                                 Traceback (most recent call last)",
      "\u001b[0;32m/var/folders/5p/l30m88v51q9b0q19jz_zwv3w0000gn/T/ipykernel_45858/3222708890.py\u001b[0m in \u001b[0;36m<module>\u001b[0;34m\u001b[0m\n\u001b[0;32m----> 1\u001b[0;31m \u001b[0mtupla\u001b[0m\u001b[0;34m[\u001b[0m\u001b[0;36m1\u001b[0m\u001b[0;34m]\u001b[0m \u001b[0;34m=\u001b[0m \u001b[0;34m'chau'\u001b[0m\u001b[0;34m\u001b[0m\u001b[0;34m\u001b[0m\u001b[0m\n\u001b[0m",
      "\u001b[0;31mTypeError\u001b[0m: 'tuple' object does not support item assignment"
     ]
    }
   ],
   "source": [
    "tupla[1] = 'chau'"
   ]
  },
  {
   "cell_type": "markdown",
   "id": "3f8f3dfb-611f-4c12-a174-d33dcf5a0e86",
   "metadata": {},
   "source": [
    "A pesar de todas sus similitudes, existen diferentes **motivos por los cuales optar por una tupla y no una lista** en nuestro script:"
   ]
  },
  {
   "cell_type": "markdown",
   "id": "ae99e985-d950-456a-9aa7-9415157ec98b",
   "metadata": {},
   "source": [
    "* Manipular tuplas agiliza la ejecución del programa en comparación con una lista equivalente (aunque esta diferencia no sea apreciable con tamaños pequeños de listas o tuplas).\n",
    "* Cuando quieres que los datos sean constantes durante toda la ejecución del programa y no puedan modificarse accidentalmente.\n",
    "* En los diccionarios las claves tienen que ser objetos inmutables, por tanto pueden ser tuplas pero no listas."
   ]
  },
  {
   "cell_type": "markdown",
   "id": "7186619b-8263-4f4e-924b-14df0ac317ca",
   "metadata": {},
   "source": [
    "**Embalar (tuple packing) y desembalar una tupla**"
   ]
  },
  {
   "cell_type": "markdown",
   "id": "18e1d50c-d74d-4c6f-b3c0-133d3405a39f",
   "metadata": {},
   "source": [
    "Las tuplas también pueden declararse sin necesidad de usar paréntesis. Cual sea el caso, la declaración de una tupla también se le denomina «embalar» la tupla (tuple packing en inglés), ya que todos sus elementos quedan asociados a un solo objeto."
   ]
  },
  {
   "cell_type": "code",
   "execution_count": 96,
   "id": "433cec14-cf12-429c-881b-6e11b3321b5f",
   "metadata": {},
   "outputs": [
    {
     "data": {
      "text/plain": [
       "tuple"
      ]
     },
     "execution_count": 96,
     "metadata": {},
     "output_type": "execute_result"
    }
   ],
   "source": [
    "# embalar\n",
    "t = 'uno', 'dos', 'tres', 'cuatro'\n",
    "type(t)"
   ]
  },
  {
   "cell_type": "markdown",
   "id": "e85e2b6a-b61e-490a-9d4a-b892e2ed7ec5",
   "metadata": {},
   "source": [
    "En el caso tuplas con un solo elemento hay que añadir una coma para que el intérprete de Python lo considere una tupla."
   ]
  },
  {
   "cell_type": "code",
   "execution_count": 97,
   "id": "8b2c30c7-e3e9-4499-bd07-83d1424153af",
   "metadata": {},
   "outputs": [],
   "source": [
    "t = 2"
   ]
  },
  {
   "cell_type": "code",
   "execution_count": 98,
   "id": "70d10e4f-b402-4b36-b8b7-900128239e44",
   "metadata": {},
   "outputs": [
    {
     "data": {
      "text/plain": [
       "int"
      ]
     },
     "execution_count": 98,
     "metadata": {},
     "output_type": "execute_result"
    }
   ],
   "source": [
    "type(t)"
   ]
  },
  {
   "cell_type": "code",
   "execution_count": 99,
   "id": "88e81a17-9b80-4775-86a0-8103a9dc2f29",
   "metadata": {},
   "outputs": [],
   "source": [
    "t = 2,"
   ]
  },
  {
   "cell_type": "code",
   "execution_count": 100,
   "id": "e06c36f6-163f-476b-8fab-6a779a925d6f",
   "metadata": {},
   "outputs": [
    {
     "data": {
      "text/plain": [
       "tuple"
      ]
     },
     "execution_count": 100,
     "metadata": {},
     "output_type": "execute_result"
    }
   ],
   "source": [
    "type(t)"
   ]
  },
  {
   "cell_type": "code",
   "execution_count": 101,
   "id": "17a0debd-264f-4dc0-8425-745123d2cbb7",
   "metadata": {},
   "outputs": [],
   "source": [
    "# desembalar\n",
    "t = ('uno', 'dos', 'tres', 'cuatro')\n",
    "a, b, c, d = t"
   ]
  },
  {
   "cell_type": "code",
   "execution_count": 102,
   "id": "267a4a27-50fe-4248-a4bc-44ac8c25f397",
   "metadata": {},
   "outputs": [
    {
     "data": {
      "text/plain": [
       "'dos'"
      ]
     },
     "execution_count": 102,
     "metadata": {},
     "output_type": "execute_result"
    }
   ],
   "source": [
    "b"
   ]
  },
  {
   "cell_type": "code",
   "execution_count": 103,
   "id": "6ccc5574-b027-4288-b997-87499ea118c5",
   "metadata": {},
   "outputs": [
    {
     "data": {
      "text/plain": [
       "'uno'"
      ]
     },
     "execution_count": 103,
     "metadata": {},
     "output_type": "execute_result"
    }
   ],
   "source": [
    "cabeza, *cola = ('uno', 'dos', 'tres', 'cuatro')\n",
    "\n",
    "cabeza"
   ]
  },
  {
   "cell_type": "code",
   "execution_count": 104,
   "id": "3f39600b-f692-4db0-85fc-5d3086f95f36",
   "metadata": {},
   "outputs": [
    {
     "data": {
      "text/plain": [
       "['dos', 'tres', 'cuatro']"
      ]
     },
     "execution_count": 104,
     "metadata": {},
     "output_type": "execute_result"
    }
   ],
   "source": [
    "cola"
   ]
  },
  {
   "cell_type": "markdown",
   "id": "0035e691-f318-45d5-8893-c335c66171ff",
   "metadata": {
    "tags": []
   },
   "source": [
    "#### Métodos de las tuplas"
   ]
  },
  {
   "cell_type": "markdown",
   "id": "0108da78-f824-449b-9590-707527ee2945",
   "metadata": {},
   "source": [
    "Las tuplas sólo disponen de dos métodos que son los siguientes:"
   ]
  },
  {
   "cell_type": "markdown",
   "id": "eff12fcb-8338-4e13-bfdc-ad2d9cdbc71e",
   "metadata": {},
   "source": [
    "* t.**count(x)**: cuenta el número de veces que el elemento x está en la tupla t."
   ]
  },
  {
   "cell_type": "code",
   "execution_count": 105,
   "id": "e4a7db6e-3b32-4d32-8324-27fc684f0e48",
   "metadata": {},
   "outputs": [
    {
     "data": {
      "text/plain": [
       "2"
      ]
     },
     "execution_count": 105,
     "metadata": {},
     "output_type": "execute_result"
    }
   ],
   "source": [
    "t = (1, 1, 2, 3)\n",
    "t.count(1)"
   ]
  },
  {
   "cell_type": "markdown",
   "id": "7a9973ca-12ea-4ec1-8a29-48c438e5008f",
   "metadata": {},
   "source": [
    "* t.**index(x)**: retorna el índice más pequeño del elemento x en la tupla t."
   ]
  },
  {
   "cell_type": "code",
   "execution_count": 106,
   "id": "387e970c-44f9-4f93-b2a3-299012d2f77b",
   "metadata": {},
   "outputs": [
    {
     "data": {
      "text/plain": [
       "0"
      ]
     },
     "execution_count": 106,
     "metadata": {},
     "output_type": "execute_result"
    }
   ],
   "source": [
    "t = (1, 1, 2, 3)\n",
    "t.index(1)"
   ]
  },
  {
   "cell_type": "markdown",
   "id": "2a1ac23c-d4c6-4846-a7d9-76e754112b58",
   "metadata": {},
   "source": [
    "**Conversión entre listas y tuplas**"
   ]
  },
  {
   "cell_type": "markdown",
   "id": "54820e08-251b-43e1-aeb6-2c55b364df73",
   "metadata": {},
   "source": [
    "La conversión entre estos dos tipos de objetos es muy sencilla. Si queremos convertir una lista en una tupla tenemos que usar declarar la tupla pasándole la lista en el constructor.\n",
    "\n",
    "El paso inverso es equivalente, pero pasándole la tupla al constructor de la lista."
   ]
  },
  {
   "cell_type": "code",
   "execution_count": 107,
   "id": "869213a7-959e-4930-80c6-08ff0814900e",
   "metadata": {},
   "outputs": [
    {
     "data": {
      "text/plain": [
       "(1, 2, 3, 4)"
      ]
     },
     "execution_count": 107,
     "metadata": {},
     "output_type": "execute_result"
    }
   ],
   "source": [
    "l = [1,2,3,4]\n",
    "t = tuple(l)\n",
    "t"
   ]
  },
  {
   "cell_type": "code",
   "execution_count": 108,
   "id": "074e6ab9-3228-4b66-954f-9f79f6d4cb75",
   "metadata": {},
   "outputs": [
    {
     "data": {
      "text/plain": [
       "[1, 2, 3, 4]"
      ]
     },
     "execution_count": 108,
     "metadata": {},
     "output_type": "execute_result"
    }
   ],
   "source": [
    "t = (1,2,3,4)\n",
    "l = list(t)\n",
    "l"
   ]
  },
  {
   "cell_type": "markdown",
   "id": "42dc9049-c9db-4856-a920-c4e021ed5e65",
   "metadata": {},
   "source": [
    "## Conjuntos (sets)"
   ]
  },
  {
   "cell_type": "markdown",
   "id": "68e880a3-ce67-4018-8a15-b090f083b896",
   "metadata": {},
   "source": [
    "Un **set**, también llamado conjunto, es una colección de elementos desordenados que no admite duplicados. Se trata, por tanto, de una estructura de datos equivalente a los conjuntos en matemáticas. Además, como sucede con los elementos de las listas o las claves de los diccionarios, los elementos de un set no necesariamente han de ser del mismo tipo. En este post vamos a ver a fondo cómo utilizar los sets en Python."
   ]
  },
  {
   "cell_type": "markdown",
   "id": "4fbbd9d6-7e51-4b2b-bb2c-0050690371c2",
   "metadata": {},
   "source": [
    "**Creación de sets**\n",
    "\n",
    "En Python los sets se pueden crear de dos formas distintas. Por un lado, usando llaves ({}) y separando sus elementos con comas (,) como se muestra a continuación:"
   ]
  },
  {
   "cell_type": "code",
   "execution_count": 109,
   "id": "193cdc1f-3ccd-4f7c-b0a5-99decded9497",
   "metadata": {},
   "outputs": [],
   "source": [
    "numeros = {\"uno\", 2, 3.1415}"
   ]
  },
  {
   "cell_type": "markdown",
   "id": "ae33324f-b5bd-45d6-bb73-ca41a9202390",
   "metadata": {},
   "source": [
    "Alternativamente, podemos usar el constructor set al que le tenemos que pasar una lista con los elementos del set:"
   ]
  },
  {
   "cell_type": "markdown",
   "id": "39ee02d4-f418-4afa-8ae4-c787d0505724",
   "metadata": {},
   "source": [
    "Para crear un set vacío, es decir sin elementos, sólo podemos hacerlo mediante el constructor ya que si lo hacemos con las llaves Python lo interpreta como un diccionario."
   ]
  },
  {
   "cell_type": "code",
   "execution_count": 110,
   "id": "a0726752-0104-470b-a194-b3ef2157c548",
   "metadata": {},
   "outputs": [
    {
     "data": {
      "text/plain": [
       "set"
      ]
     },
     "execution_count": 110,
     "metadata": {},
     "output_type": "execute_result"
    }
   ],
   "source": [
    "numeros = set()\n",
    "type(numeros)"
   ]
  },
  {
   "cell_type": "code",
   "execution_count": 111,
   "id": "00133797-50e9-4bdd-9ed5-383a15a95658",
   "metadata": {},
   "outputs": [
    {
     "data": {
      "text/plain": [
       "dict"
      ]
     },
     "execution_count": 111,
     "metadata": {},
     "output_type": "execute_result"
    }
   ],
   "source": [
    "numeros = {}\n",
    "type(numeros)"
   ]
  },
  {
   "cell_type": "markdown",
   "id": "10d7fee5-8ee5-44bc-b713-cd4e1a43e069",
   "metadata": {},
   "source": [
    "Al principio del post hemos dicho que los sets no admiten elementos duplicados. Efectivamente, si intentamos añadir elementos duplicados a un set Python los ignora."
   ]
  },
  {
   "cell_type": "code",
   "execution_count": 112,
   "id": "27ed62d1-970b-41c3-ad4c-7f601a8d2f5e",
   "metadata": {},
   "outputs": [
    {
     "data": {
      "text/plain": [
       "{2, 3.1415, 'uno'}"
      ]
     },
     "execution_count": 112,
     "metadata": {},
     "output_type": "execute_result"
    }
   ],
   "source": [
    "numeros = {\"uno\", 2, 3.1415, \"uno\", 2, 3.1415}\n",
    "numeros"
   ]
  },
  {
   "cell_type": "markdown",
   "id": "07060806-ee43-45f6-b1f0-0721b718aaaf",
   "metadata": {
    "jp-MarkdownHeadingCollapsed": true,
    "tags": []
   },
   "source": [
    "**Acceder a los elementos de un set**"
   ]
  },
  {
   "cell_type": "markdown",
   "id": "e75f9cac-239d-4753-9b9b-9d1b9c44065d",
   "metadata": {},
   "source": [
    "En Python solemos usar los corchetes ([]) para acceder a los elementos de una estructura de datos. Por ejemplo, en las listas indicamos el índice (o posición) que ocupa el elemento en la lista. Sin embargo, los sets son colecciones de elementos desordenados que no están indexados. Por tanto, si intentamos acceder a sus elementos como lo haríamos en una lista obtenemos un error de tipo TypeError."
   ]
  },
  {
   "cell_type": "code",
   "execution_count": 113,
   "id": "658e24d5-e579-489c-b002-03d58e3c3bbe",
   "metadata": {},
   "outputs": [
    {
     "ename": "TypeError",
     "evalue": "'set' object is not subscriptable",
     "output_type": "error",
     "traceback": [
      "\u001b[0;31m---------------------------------------------------------------------------\u001b[0m",
      "\u001b[0;31mTypeError\u001b[0m                                 Traceback (most recent call last)",
      "\u001b[0;32m/var/folders/5p/l30m88v51q9b0q19jz_zwv3w0000gn/T/ipykernel_45858/527204835.py\u001b[0m in \u001b[0;36m<module>\u001b[0;34m\u001b[0m\n\u001b[1;32m      1\u001b[0m \u001b[0mnumeros\u001b[0m \u001b[0;34m=\u001b[0m \u001b[0;34m{\u001b[0m\u001b[0;34m\"uno\"\u001b[0m\u001b[0;34m,\u001b[0m \u001b[0;36m2\u001b[0m\u001b[0;34m,\u001b[0m \u001b[0;36m3.1415\u001b[0m\u001b[0;34m,\u001b[0m \u001b[0;34m\"uno\"\u001b[0m\u001b[0;34m,\u001b[0m \u001b[0;36m2\u001b[0m\u001b[0;34m,\u001b[0m \u001b[0;36m3.1415\u001b[0m\u001b[0;34m}\u001b[0m\u001b[0;34m\u001b[0m\u001b[0;34m\u001b[0m\u001b[0m\n\u001b[0;32m----> 2\u001b[0;31m \u001b[0mnumeros\u001b[0m\u001b[0;34m[\u001b[0m\u001b[0;36m0\u001b[0m\u001b[0;34m]\u001b[0m\u001b[0;34m\u001b[0m\u001b[0;34m\u001b[0m\u001b[0m\n\u001b[0m",
      "\u001b[0;31mTypeError\u001b[0m: 'set' object is not subscriptable"
     ]
    }
   ],
   "source": [
    "numeros = {\"uno\", 2, 3.1415, \"uno\", 2, 3.1415}\n",
    "numeros[0]"
   ]
  },
  {
   "cell_type": "code",
   "execution_count": 114,
   "id": "6237db3e-3c20-44a8-ba4c-1ba396ac8adf",
   "metadata": {},
   "outputs": [
    {
     "name": "stdout",
     "output_type": "stream",
     "text": [
      "uno\n",
      "2\n",
      "3.1415\n"
     ]
    }
   ],
   "source": [
    "# En su lugar, para acceder a los elementos de un set tenemos que recurrir a un bucle for.\n",
    "for elemento in numeros:\n",
    "    print(elemento)"
   ]
  },
  {
   "cell_type": "markdown",
   "id": "db8fcc2b-2e0d-4606-a2eb-767ea37bce21",
   "metadata": {},
   "source": [
    "O podemos comprobar si un elemento pertenece a un conjunto mediante la palabra clave **in**"
   ]
  },
  {
   "cell_type": "code",
   "execution_count": 115,
   "id": "38fdedd5-a0d9-4db7-9cc4-d7f81e8abe1f",
   "metadata": {},
   "outputs": [
    {
     "data": {
      "text/plain": [
       "True"
      ]
     },
     "execution_count": 115,
     "metadata": {},
     "output_type": "execute_result"
    }
   ],
   "source": [
    "'uno' in numeros"
   ]
  },
  {
   "cell_type": "code",
   "execution_count": 116,
   "id": "21e1447b-f4a1-4214-858a-95dba5ba0969",
   "metadata": {},
   "outputs": [
    {
     "data": {
      "text/plain": [
       "False"
      ]
     },
     "execution_count": 116,
     "metadata": {},
     "output_type": "execute_result"
    }
   ],
   "source": [
    "'dos' in numeros"
   ]
  },
  {
   "cell_type": "markdown",
   "id": "cb09c5c0-a460-4b8a-b3f8-b5333289209e",
   "metadata": {},
   "source": [
    "**Añadir y eliminar elementos a un set**\n",
    "\n",
    "Para añadir un nuevo elemento a un set tenemos el método add(). Sin embargo, recordemos que los sets no admiten elementos duplicados, por tanto el método add() sólo añade el elemento si éste no se encuentra dentro del set, tal y como se muestra a continuación:"
   ]
  },
  {
   "cell_type": "code",
   "execution_count": 117,
   "id": "83e8428e-413e-4d07-bf34-11c266af96f7",
   "metadata": {},
   "outputs": [
    {
     "data": {
      "text/plain": [
       "{2, 3.1415, 'uno'}"
      ]
     },
     "execution_count": 117,
     "metadata": {},
     "output_type": "execute_result"
    }
   ],
   "source": [
    "numeros"
   ]
  },
  {
   "cell_type": "code",
   "execution_count": 118,
   "id": "61db599e-6056-4d47-86c1-aafc8627ff20",
   "metadata": {},
   "outputs": [
    {
     "data": {
      "text/plain": [
       "{2, 3.1415, 5, 'uno'}"
      ]
     },
     "execution_count": 118,
     "metadata": {},
     "output_type": "execute_result"
    }
   ],
   "source": [
    "numeros.add(5)\n",
    "numeros"
   ]
  },
  {
   "cell_type": "markdown",
   "id": "dbb4f825-03de-47a7-a540-41588031c9b2",
   "metadata": {},
   "source": [
    "Si lo deseamos, podemos añadir varios elementos de golpe con el método **update()**, el cual utiliza una lista como parámetro de entrada."
   ]
  },
  {
   "cell_type": "code",
   "execution_count": 119,
   "id": "b590e83e-41d6-484e-b572-423faf5a8fef",
   "metadata": {},
   "outputs": [
    {
     "data": {
      "text/plain": [
       "{2, 3.1415, 5, 6.283, 'uno'}"
      ]
     },
     "execution_count": 119,
     "metadata": {},
     "output_type": "execute_result"
    }
   ],
   "source": [
    "numeros.update([5, 6.283])\n",
    "numeros"
   ]
  },
  {
   "cell_type": "markdown",
   "id": "8d37ff98-264b-4008-a62a-104b843bb16a",
   "metadata": {},
   "source": [
    "Para eliminar elementos de un set existen dos métodos principales que son remove() y discard()."
   ]
  },
  {
   "cell_type": "code",
   "execution_count": 120,
   "id": "44b33ca5-c453-4cdd-8ad9-f205904e38b6",
   "metadata": {},
   "outputs": [
    {
     "data": {
      "text/plain": [
       "{2, 3.1415, 5, 6.283, 'uno'}"
      ]
     },
     "execution_count": 120,
     "metadata": {},
     "output_type": "execute_result"
    }
   ],
   "source": [
    "numeros"
   ]
  },
  {
   "cell_type": "code",
   "execution_count": 121,
   "id": "3508b968-9913-4f15-bead-2ec375c861ec",
   "metadata": {},
   "outputs": [
    {
     "data": {
      "text/plain": [
       "{2, 3.1415, 5, 'uno'}"
      ]
     },
     "execution_count": 121,
     "metadata": {},
     "output_type": "execute_result"
    }
   ],
   "source": [
    "numeros.remove(6.283)\n",
    "numeros"
   ]
  },
  {
   "cell_type": "code",
   "execution_count": 122,
   "id": "e0b74cb8-5a9f-491a-ab4e-413fd960bcab",
   "metadata": {},
   "outputs": [
    {
     "data": {
      "text/plain": [
       "{2, 3.1415, 'uno'}"
      ]
     },
     "execution_count": 122,
     "metadata": {},
     "output_type": "execute_result"
    }
   ],
   "source": [
    "numeros.discard(5)\n",
    "numeros"
   ]
  },
  {
   "cell_type": "markdown",
   "id": "7419871c-d78c-4f7d-bf47-b945e5afa9a4",
   "metadata": {},
   "source": [
    "La diferencia entre estos dos métodos radica en que el método **remove()** lanza un error de tipo KeyError si el elemento que intentamos eliminar no se encuentra el set. Por el contrario, el método **discard()** no hace nada si intentamos eliminar un elemento que no pertenece al set."
   ]
  },
  {
   "cell_type": "markdown",
   "id": "e6c2adcf-d171-4c59-bcb5-876ec5cd6ea5",
   "metadata": {},
   "source": [
    "Pero los métodos **remove()** y **discard()** no son los únicos que nos permiten eliminar elementos de un set. En ciertos casos nos puede interesar eliminar un elemento aleatorio de un set. Para ello existe el método **pop()**, el cual retorna el elemento extraído del set."
   ]
  },
  {
   "cell_type": "code",
   "execution_count": 123,
   "id": "03cf7ea4-39e1-415d-a06b-4ea037b78bc9",
   "metadata": {},
   "outputs": [
    {
     "data": {
      "text/plain": [
       "{2, 3.1415, 'uno'}"
      ]
     },
     "execution_count": 123,
     "metadata": {},
     "output_type": "execute_result"
    }
   ],
   "source": [
    "numeros"
   ]
  },
  {
   "cell_type": "code",
   "execution_count": 124,
   "id": "419d11df-aa28-4dc7-95f4-79b69c46f3d9",
   "metadata": {},
   "outputs": [
    {
     "data": {
      "text/plain": [
       "2"
      ]
     },
     "execution_count": 124,
     "metadata": {},
     "output_type": "execute_result"
    }
   ],
   "source": [
    "numeros.pop()"
   ]
  },
  {
   "cell_type": "markdown",
   "id": "70ab9ac9-e215-4db3-8b05-9e887ce5fd8f",
   "metadata": {},
   "source": [
    "**Operaciones entre conjuntos**"
   ]
  },
  {
   "cell_type": "markdown",
   "id": "2fbbc96f-faca-4f30-acff-a57ba91c5302",
   "metadata": {},
   "source": [
    "Donde podemos sacar mayor partido a los sets es cuando aplicamos las operaciones que vamos a ver a continuación. Para ello vamos a utilizar los siguientes sets como ejemplos."
   ]
  },
  {
   "cell_type": "code",
   "execution_count": 125,
   "id": "0e237f13-1fe4-4ceb-a597-a4bdbc7c5007",
   "metadata": {},
   "outputs": [],
   "source": [
    "impares = {1, 3, 5, 7, 9}\n",
    "primos = {2, 3, 5, 7}"
   ]
  },
  {
   "cell_type": "markdown",
   "id": "79e6e030-2bd6-4d3b-a5ef-79e577291140",
   "metadata": {},
   "source": [
    "<img src=\"images/operaciones-con-sets.png\" alt=\"drawing\" width=\"400\"/>"
   ]
  },
  {
   "cell_type": "markdown",
   "id": "605469e2-5cd7-448d-85bd-ee4a5df582ff",
   "metadata": {},
   "source": [
    "**Unión**\n",
    "\n",
    "La unión dos conjuntos retorna un conjunto que contiene todos los elementos pertenecientes a alguno de los dos conjuntos. En Python esta operación se puede realizar mediante la barra vertical (|) o el método union()."
   ]
  },
  {
   "cell_type": "code",
   "execution_count": 126,
   "id": "9ad9e2c8-2a2a-4007-b4af-350f4b35e223",
   "metadata": {},
   "outputs": [
    {
     "data": {
      "text/plain": [
       "{1, 2, 3, 5, 7, 9}"
      ]
     },
     "execution_count": 126,
     "metadata": {},
     "output_type": "execute_result"
    }
   ],
   "source": [
    "impares | primos"
   ]
  },
  {
   "cell_type": "code",
   "execution_count": 127,
   "id": "75fa46b7-8d1d-448b-8885-287ca0c28cea",
   "metadata": {},
   "outputs": [
    {
     "data": {
      "text/plain": [
       "{1, 2, 3, 5, 7, 9}"
      ]
     },
     "execution_count": 127,
     "metadata": {},
     "output_type": "execute_result"
    }
   ],
   "source": [
    "impares.union(primos)"
   ]
  },
  {
   "cell_type": "markdown",
   "id": "148ffbeb-5d83-457e-8bbd-6f7a69c3bd82",
   "metadata": {},
   "source": [
    "**Intersección**\n",
    "\n",
    "La intersección de dos conjuntos es un conjunto que contiene los elementos que pertenecen a ambos conjuntos. En Python se realiza con el símbolo ampersand (&) o el método intersection()."
   ]
  },
  {
   "cell_type": "code",
   "execution_count": 128,
   "id": "63128e28-19ef-487d-8825-016bee31821e",
   "metadata": {},
   "outputs": [
    {
     "data": {
      "text/plain": [
       "{3, 5, 7}"
      ]
     },
     "execution_count": 128,
     "metadata": {},
     "output_type": "execute_result"
    }
   ],
   "source": [
    "impares & primos"
   ]
  },
  {
   "cell_type": "code",
   "execution_count": 129,
   "id": "d12dadd3-0194-436c-aabc-aea34c15a539",
   "metadata": {},
   "outputs": [
    {
     "data": {
      "text/plain": [
       "{3, 5, 7}"
      ]
     },
     "execution_count": 129,
     "metadata": {},
     "output_type": "execute_result"
    }
   ],
   "source": [
    "impares.intersection(primos)"
   ]
  },
  {
   "cell_type": "markdown",
   "id": "540e793b-6ede-43c1-9fbb-5f9eb9211f26",
   "metadata": {},
   "source": [
    "**Diferencia**\n",
    "\n",
    "La diferencia entre un conjunto A y un conjunto B es el resultado de eliminar del conjunto A cualquier elemento presente en B. Por tanto, el orden en el que se realiza la operación es significativo tal y como es muestra en el siguiente ejemplo. En Python podemos calcular la diferencia entre dos conjuntos mediante el signo menos (-) o el método difference()."
   ]
  },
  {
   "cell_type": "code",
   "execution_count": 130,
   "id": "d0f67209-1e13-41e8-9c91-953d682d0595",
   "metadata": {},
   "outputs": [
    {
     "data": {
      "text/plain": [
       "{1, 9}"
      ]
     },
     "execution_count": 130,
     "metadata": {},
     "output_type": "execute_result"
    }
   ],
   "source": [
    "impares - primos"
   ]
  },
  {
   "cell_type": "code",
   "execution_count": 131,
   "id": "778ecc83-ad93-45ee-9d0f-e84a579743dd",
   "metadata": {},
   "outputs": [
    {
     "data": {
      "text/plain": [
       "{1, 9}"
      ]
     },
     "execution_count": 131,
     "metadata": {},
     "output_type": "execute_result"
    }
   ],
   "source": [
    "impares.difference(primos)"
   ]
  },
  {
   "cell_type": "code",
   "execution_count": 132,
   "id": "4104e0b9-67ef-429b-9366-3dbf7a4dad6c",
   "metadata": {},
   "outputs": [
    {
     "data": {
      "text/plain": [
       "{2}"
      ]
     },
     "execution_count": 132,
     "metadata": {},
     "output_type": "execute_result"
    }
   ],
   "source": [
    "primos.difference(impares)"
   ]
  },
  {
   "cell_type": "markdown",
   "id": "ac2545fe-b2af-42cf-9bcc-2357faae7e42",
   "metadata": {},
   "source": [
    "**Diferencia simétrica**\n",
    "\n",
    "La diferencia simétrica entre dos conjuntos comprende todos los elementos que pertenecen a uno de los dos conjuntos, pero no a ambos a la vez. Esta operación se puede realizar en Python mediante el acento circunflejo (^) o el método symmetric_difference()."
   ]
  },
  {
   "cell_type": "code",
   "execution_count": 133,
   "id": "3094239c-0788-4336-b746-55bf3059e9da",
   "metadata": {},
   "outputs": [
    {
     "data": {
      "text/plain": [
       "{1, 2, 9}"
      ]
     },
     "execution_count": 133,
     "metadata": {},
     "output_type": "execute_result"
    }
   ],
   "source": [
    "impares ^ primos"
   ]
  },
  {
   "cell_type": "code",
   "execution_count": 134,
   "id": "49bad304-a6dc-4c30-8897-c094f6fb9e79",
   "metadata": {},
   "outputs": [
    {
     "data": {
      "text/plain": [
       "{1, 2, 9}"
      ]
     },
     "execution_count": 134,
     "metadata": {},
     "output_type": "execute_result"
    }
   ],
   "source": [
    "impares.symmetric_difference(primos)"
   ]
  },
  {
   "cell_type": "markdown",
   "id": "c4c6a72a-4b73-445e-bdc0-f4b906aeecaa",
   "metadata": {},
   "source": [
    "## Diccionarios"
   ]
  },
  {
   "cell_type": "markdown",
   "id": "de5d5f67-8458-42de-85c7-41d821ebb127",
   "metadata": {},
   "source": [
    "Los **diccionarios (dict) almacenan pares de objetos clave-valor (key-value)**. En contraste con las listas, los diccionarios no garantizan que se mantenga el orden en que sus objetos han sido almacenados. Además, en un diccionario el acceso a un objeto se realiza indicando la clave de ese objeto. Este es otro elemento diferenciador entre diccionarios y listas, donde el acceso a los objetos se realiza indicando la posición que ocupan. Los diccionarios utilizan llaves ({}) para encerrar a sus elementos, y dos puntos (:) para indicar las claves y sus valores asociados."
   ]
  },
  {
   "cell_type": "code",
   "execution_count": 135,
   "id": "684732ab-d788-4a32-892a-682fe1288380",
   "metadata": {},
   "outputs": [],
   "source": [
    "my_dict = {\"nombre\": \"filomena\", \"edad\": 31}"
   ]
  },
  {
   "cell_type": "code",
   "execution_count": 136,
   "id": "4912f611-10e5-45ed-a54a-d493de7b2fcc",
   "metadata": {},
   "outputs": [
    {
     "data": {
      "text/plain": [
       "dict"
      ]
     },
     "execution_count": 136,
     "metadata": {},
     "output_type": "execute_result"
    }
   ],
   "source": [
    "type(my_dict)"
   ]
  },
  {
   "cell_type": "markdown",
   "id": "85ad267e-17e1-4721-937c-5c30c4f9beb6",
   "metadata": {},
   "source": [
    "#### Tipos de clave-valor permitidos"
   ]
  },
  {
   "cell_type": "markdown",
   "id": "4b266f97-ca2f-4821-86db-1cd514677d17",
   "metadata": {},
   "source": [
    "Los diccionarios pueden tratar con prácticamente cualquier tipo de dato y existen muy pocas restricciones en cuanto a las claves y valores que se pueden utilizar. Estas restricciones son las siguientes:"
   ]
  },
  {
   "cell_type": "markdown",
   "id": "979e3914-86a9-4c53-97b5-ca9f970ccedf",
   "metadata": {},
   "source": [
    "* **Clave**: no puede haber claves duplicadas y éstas tienen que ser objetos inmutables.\n",
    "* **Valor**: no existe ninguna restricción en cuanto a los tipos de datos."
   ]
  },
  {
   "cell_type": "markdown",
   "id": "7536d596-8724-4906-ab80-451af2c98d74",
   "metadata": {},
   "source": [
    "En el siguiente ejemplo vemos un diccionario con claves de distinto tipo: string, número entero, número en coma flotante, e incluso booleano. Así mismo el valor que se toma para las claves repetidas es el último que se ha definido. Es por ello que el valor asociado a la clave «2» es False."
   ]
  },
  {
   "cell_type": "code",
   "execution_count": 137,
   "id": "0a27bd59-24b0-4b36-99e6-d9c70c9e8390",
   "metadata": {},
   "outputs": [],
   "source": [
    "my_dict = {'clave1':'valor1', 2:2.5, 3.1:3, True:['a','b','c'], 2:False} "
   ]
  },
  {
   "cell_type": "code",
   "execution_count": 138,
   "id": "871072b5-d89b-493d-ba13-4ddf9b3c222b",
   "metadata": {},
   "outputs": [
    {
     "data": {
      "text/plain": [
       "{'clave1': 'valor1', 2: False, 3.1: 3, True: ['a', 'b', 'c']}"
      ]
     },
     "execution_count": 138,
     "metadata": {},
     "output_type": "execute_result"
    }
   ],
   "source": [
    "my_dict"
   ]
  },
  {
   "cell_type": "markdown",
   "id": "bcadc8f3-3e9e-44a6-8836-d7b77a1c1298",
   "metadata": {
    "tags": []
   },
   "source": [
    "#### Acceder y modificar valores de un diccionario"
   ]
  },
  {
   "cell_type": "markdown",
   "id": "f60c46a8-80d6-42f9-b7dc-c7a7cf1c2c44",
   "metadata": {},
   "source": [
    "Para acceder a un objeto determinado de un diccionario tenemos que indicar entre corchetes el nombre de su clave. De modo muy similar podemos modificar el valor de una clave asignándole un nuevo valor mediante el signo igual (=). Además, también podemos añadir un nuevo par clave-valor indicando simplemente el nombre de la clave a añadir. \n",
    "\n",
    "Estas operaciones se ilustran en el siguiente bloque de código donde: \n",
    "\n",
    "* **a)** accedemos al precio de las manzanas.\n",
    "* **b)** modificamos el precio de las manzanas.\n",
    "* **c)** añadimos el precio del agua al diccionario de precios."
   ]
  },
  {
   "cell_type": "code",
   "execution_count": 139,
   "id": "0e181640-b8dd-4fdc-b52d-605d5ec8b572",
   "metadata": {},
   "outputs": [],
   "source": [
    "precios = {'naranjas':1.6, 'peras':3.45, 'manzanas':0.99}"
   ]
  },
  {
   "cell_type": "code",
   "execution_count": 140,
   "id": "487a961e-9b20-4b27-96a9-ab768a718e08",
   "metadata": {},
   "outputs": [
    {
     "data": {
      "text/plain": [
       "3.45"
      ]
     },
     "execution_count": 140,
     "metadata": {},
     "output_type": "execute_result"
    }
   ],
   "source": [
    "precios['peras']"
   ]
  },
  {
   "cell_type": "code",
   "execution_count": 141,
   "id": "31495730-3b25-4bb7-b38c-7258696e6338",
   "metadata": {},
   "outputs": [],
   "source": [
    "precios['peras'] = 1.65"
   ]
  },
  {
   "cell_type": "code",
   "execution_count": 142,
   "id": "dc71ca8d-52a2-45d0-8b6f-03f896c02af0",
   "metadata": {},
   "outputs": [
    {
     "data": {
      "text/plain": [
       "{'naranjas': 1.6, 'peras': 1.65, 'manzanas': 0.99}"
      ]
     },
     "execution_count": 142,
     "metadata": {},
     "output_type": "execute_result"
    }
   ],
   "source": [
    "precios"
   ]
  },
  {
   "cell_type": "code",
   "execution_count": 143,
   "id": "1e7db5bd-0e1b-416e-9fcb-cddf3015ca76",
   "metadata": {},
   "outputs": [],
   "source": [
    "precios['kiwi'] = 6.15"
   ]
  },
  {
   "cell_type": "code",
   "execution_count": 144,
   "id": "1779c9fc-1d98-4f84-aa1e-cbb7eddf4eb3",
   "metadata": {},
   "outputs": [
    {
     "data": {
      "text/plain": [
       "{'naranjas': 1.6, 'peras': 1.65, 'manzanas': 0.99, 'kiwi': 6.15}"
      ]
     },
     "execution_count": 144,
     "metadata": {},
     "output_type": "execute_result"
    }
   ],
   "source": [
    "precios"
   ]
  },
  {
   "cell_type": "markdown",
   "id": "5b78185a-4f21-4456-b9de-ca33cd9a16d6",
   "metadata": {},
   "source": [
    "#### Métodos de los diccionarios"
   ]
  },
  {
   "cell_type": "markdown",
   "id": "56022821-810c-444e-9b8c-329326fac89d",
   "metadata": {},
   "source": [
    "* d.**keys()**: devuelve una lista que contiene las llaves del diccionario."
   ]
  },
  {
   "cell_type": "code",
   "execution_count": 145,
   "id": "130f0cfe-d8fa-4029-8e0e-96e21e3fcc24",
   "metadata": {},
   "outputs": [
    {
     "data": {
      "text/plain": [
       "dict_keys(['Argentina', 'Francia', 'España'])"
      ]
     },
     "execution_count": 145,
     "metadata": {},
     "output_type": "execute_result"
    }
   ],
   "source": [
    "capitales = {'Argentina':'Buenos Aires', 'Francia':'Paris', 'España':'Madrid'}\n",
    "capitales.keys()"
   ]
  },
  {
   "cell_type": "code",
   "execution_count": 146,
   "id": "33d8afdd-a46f-4ee8-a615-68d6bbb27af6",
   "metadata": {},
   "outputs": [
    {
     "data": {
      "text/plain": [
       "['Argentina', 'Francia', 'España']"
      ]
     },
     "execution_count": 146,
     "metadata": {},
     "output_type": "execute_result"
    }
   ],
   "source": [
    "list(capitales.keys())"
   ]
  },
  {
   "cell_type": "markdown",
   "id": "29e43ae6-9c4f-4880-9050-b30f469a8ca8",
   "metadata": {},
   "source": [
    "* d.**values()**: devuelve una lista que contiene los valores del diccionario."
   ]
  },
  {
   "cell_type": "code",
   "execution_count": 147,
   "id": "53764744-772a-45e0-81bc-4ace2644f2fb",
   "metadata": {},
   "outputs": [
    {
     "data": {
      "text/plain": [
       "['Buenos Aires', 'Paris', 'Madrid']"
      ]
     },
     "execution_count": 147,
     "metadata": {},
     "output_type": "execute_result"
    }
   ],
   "source": [
    "capitales = {'Argentina':'Buenos Aires', 'Francia':'Paris', 'España':'Madrid'}\n",
    "list(capitales.values())"
   ]
  },
  {
   "cell_type": "markdown",
   "id": "a958bfca-b9e4-40c2-87ae-da9908b4863c",
   "metadata": {},
   "source": [
    "* d.**items()**: devuelve una lista de tuplas con los pares clave-valor del diccionario."
   ]
  },
  {
   "cell_type": "code",
   "execution_count": 148,
   "id": "aa8074b1-cc97-42f0-ac0c-eb837fef1a59",
   "metadata": {},
   "outputs": [
    {
     "data": {
      "text/plain": [
       "[('Argentina', 'Buenos Aires'), ('Francia', 'Paris'), ('España', 'Madrid')]"
      ]
     },
     "execution_count": 148,
     "metadata": {},
     "output_type": "execute_result"
    }
   ],
   "source": [
    "capitales = {'Argentina':'Buenos Aires', 'Francia':'Paris', 'España':'Madrid'}\n",
    "list(capitales.items())"
   ]
  },
  {
   "cell_type": "markdown",
   "id": "53b68123-6b9c-4c5f-8aaf-3ff3064e1121",
   "metadata": {},
   "source": [
    "* d.**clear()**: elimina todos los elementos del diccionario."
   ]
  },
  {
   "cell_type": "code",
   "execution_count": 149,
   "id": "001d957a-c845-4d20-96cd-c5b00758cb9b",
   "metadata": {},
   "outputs": [
    {
     "data": {
      "text/plain": [
       "{}"
      ]
     },
     "execution_count": 149,
     "metadata": {},
     "output_type": "execute_result"
    }
   ],
   "source": [
    "capitales = {'Argentina':'Buenos Aires', 'Francia':'Paris', 'España':'Madrid'}\n",
    "capitales.clear()\n",
    "\n",
    "capitales"
   ]
  },
  {
   "cell_type": "markdown",
   "id": "081b6d8c-1ddc-4a63-b9ec-76af328ca324",
   "metadata": {},
   "source": [
    "* d.**get(clave, valor_por_defecto)**: devuelve el valor de la clave indicada en caso que ésta exista. En caso contrario devuelve el valor por defecto."
   ]
  },
  {
   "cell_type": "code",
   "execution_count": 150,
   "id": "0ec1a2b0-7a10-4617-886e-436e2c3c1736",
   "metadata": {},
   "outputs": [
    {
     "data": {
      "text/plain": [
       "'Capital no encontrada'"
      ]
     },
     "execution_count": 150,
     "metadata": {},
     "output_type": "execute_result"
    }
   ],
   "source": [
    "capitales = {'Argentina':'Buenos Aires', 'Francia':'Paris', 'España':'Madrid'}\n",
    "\n",
    "capitales.get('Italia', 'Capital no encontrada')"
   ]
  },
  {
   "cell_type": "markdown",
   "id": "5b7d1577-d376-4534-add0-d1d59108f786",
   "metadata": {},
   "source": [
    "* d.**pop(clave, valor_por_defecto)**: elimina la clave indicada y devuelve su valor. En caso que el diccionario no contenga la clave especificada, retorna el valor por defecto."
   ]
  },
  {
   "cell_type": "code",
   "execution_count": 151,
   "id": "4eab70a2-3115-4316-b674-c7f03b525336",
   "metadata": {},
   "outputs": [
    {
     "data": {
      "text/plain": [
       "'Buenos Aires'"
      ]
     },
     "execution_count": 151,
     "metadata": {},
     "output_type": "execute_result"
    }
   ],
   "source": [
    "capitales = {'Argentina':'Buenos Aires', 'Francia':'Paris', 'España':'Madrid'}\n",
    "\n",
    "capitales.pop('Argentina')"
   ]
  },
  {
   "cell_type": "code",
   "execution_count": 152,
   "id": "5f6c4493-b42c-4981-be83-d9e01bad94cc",
   "metadata": {},
   "outputs": [
    {
     "data": {
      "text/plain": [
       "{'Francia': 'Paris', 'España': 'Madrid'}"
      ]
     },
     "execution_count": 152,
     "metadata": {},
     "output_type": "execute_result"
    }
   ],
   "source": [
    "capitales"
   ]
  }
 ],
 "metadata": {
  "kernelspec": {
   "display_name": "Python 3 (ipykernel)",
   "language": "python",
   "name": "python3"
  },
  "language_info": {
   "codemirror_mode": {
    "name": "ipython",
    "version": 3
   },
   "file_extension": ".py",
   "mimetype": "text/x-python",
   "name": "python",
   "nbconvert_exporter": "python",
   "pygments_lexer": "ipython3",
   "version": "3.9.6"
  }
 },
 "nbformat": 4,
 "nbformat_minor": 5
}
