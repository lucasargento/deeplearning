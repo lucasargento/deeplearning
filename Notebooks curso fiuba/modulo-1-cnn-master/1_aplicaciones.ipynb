{
 "cells": [
  {
   "cell_type": "markdown",
   "id": "25202a08-0d64-4eb6-ab7c-cd34772f67d2",
   "metadata": {},
   "source": [
    "# Aplicaciones de visión por computadora"
   ]
  },
  {
   "cell_type": "markdown",
   "id": "80d40842-3aa7-46f0-97eb-30d2df90dc33",
   "metadata": {
    "tags": []
   },
   "source": [
    "## 1. Vehículos autónomos"
   ]
  },
  {
   "cell_type": "markdown",
   "id": "4d060907-a29e-46d7-b416-9f927efe6e00",
   "metadata": {},
   "source": [
    "<img src=\"images/alvinn_architecture.png\" alt=\"Drawing\" style=\"width: 400px;\"/>\n",
    "\n",
    "1989 - Dean Pomerlau\n",
    "Velocidad limitada a 3.5 mph ~ 5.6 kmh\n",
    "\n",
    "Fuente: https://medium.com/@olivercameron/meet-alvin-the-self-driving-car-from-1989-f0e40492a354"
   ]
  },
  {
   "cell_type": "markdown",
   "id": "c2df9a44-5392-4f16-8953-377d1a2be00d",
   "metadata": {},
   "source": [
    "### Uso de LIDAR"
   ]
  },
  {
   "cell_type": "markdown",
   "id": "8391b5b9-e3aa-4b0b-855b-096172c9d60a",
   "metadata": {},
   "source": [
    "<img src=\"images/lidar.jpeg\" alt=\"Drawing\" style=\"width: 400px;\"/>\n"
   ]
  },
  {
   "cell_type": "markdown",
   "id": "82955482-d3e8-48d9-ab3d-d2f944771c91",
   "metadata": {
    "tags": []
   },
   "source": [
    "### Nvidia y su CNN"
   ]
  },
  {
   "cell_type": "markdown",
   "id": "dcb052ae-ad85-485a-a32e-5a17ad53da22",
   "metadata": {},
   "source": [
    "<img src=\"images/end_to_end_cnn_sdc.png\" alt=\"Drawing\" style=\"width: 600px;\"/>\n",
    "\n",
    "Fuente: https://images.nvidia.com/content/tegra/automotive/images/2016/solutions/pdf/end-to-end-dl-using-px.pdf\n",
    "\n"
   ]
  },
  {
   "cell_type": "markdown",
   "id": "065bcee0-5587-45ba-b31c-e20a41b6d922",
   "metadata": {},
   "source": [
    "### Tesla Autopilot"
   ]
  },
  {
   "cell_type": "markdown",
   "id": "293c85fa-d5f1-411d-8c00-2464e4ac0399",
   "metadata": {},
   "source": [
    "![SegmentLocal](images/autopilot.gif \"segment\")\n",
    "\n",
    "Fuente: https://www.tesla.com/AI"
   ]
  },
  {
   "cell_type": "markdown",
   "id": "c3528391-9c67-4e0d-be59-24e08faca576",
   "metadata": {},
   "source": [
    "### comma.ai - Open Pilot"
   ]
  },
  {
   "cell_type": "markdown",
   "id": "98b9aa21-c796-42eb-b1e0-8be97676c03f",
   "metadata": {},
   "source": [
    "<img src=\"images/openpilot.jpeg\" alt=\"Drawing\" style=\"width: 600px;\"/>\n",
    "\n",
    "Fuente: https://comma.ai/"
   ]
  },
  {
   "cell_type": "markdown",
   "id": "f8859159-50d9-46e5-9e86-f3d48ddd3dc7",
   "metadata": {},
   "source": [
    "## 2. Salud"
   ]
  },
  {
   "cell_type": "markdown",
   "id": "0898d0d5-1da8-42e1-ba81-b053465000a4",
   "metadata": {},
   "source": [
    "Predicción de cáncer de mama con hasta 5 años de anticipación."
   ]
  },
  {
   "cell_type": "markdown",
   "id": "df59bead-24ec-4e80-ad0b-6ef34429b4c9",
   "metadata": {},
   "source": [
    "<img src=\"images/breast_cancer_ai.png\" alt=\"Drawing\" style=\"width: 600px;\"/>\n",
    "\n",
    "Fuente: https://news.mit.edu/2019/using-ai-predict-breast-cancer-and-personalize-care-0507"
   ]
  },
  {
   "cell_type": "markdown",
   "id": "b874f07b-dfeb-47f8-aef6-bce1a1b1ad5e",
   "metadata": {
    "tags": []
   },
   "source": [
    "## 3. Comercio electrónico"
   ]
  },
  {
   "cell_type": "markdown",
   "id": "edcf77c3-5383-41fa-b3a7-293c6e122016",
   "metadata": {},
   "source": [
    "<img src=\"images/comercioelec.png\" alt=\"Drawing\" style=\"width: 600px;\"/>\n"
   ]
  },
  {
   "cell_type": "markdown",
   "id": "7339a202-8c79-4491-9295-d753a62095cc",
   "metadata": {},
   "source": [
    "## 4. Seguridad y planificación urbana"
   ]
  },
  {
   "cell_type": "markdown",
   "id": "c5ff551c-7fae-4dcc-ac88-7ad4dcb96e8e",
   "metadata": {},
   "source": [
    "![SegmentLocal](images/traffic_count.gif \"segment\")\n"
   ]
  },
  {
   "cell_type": "markdown",
   "id": "0b1b9ca8-aa8a-4de5-922a-f69c97d35e8e",
   "metadata": {},
   "source": [
    "## 5. Muchas otras"
   ]
  },
  {
   "cell_type": "markdown",
   "id": "86be2be9-3a48-4945-96fa-ac9b7cf23162",
   "metadata": {},
   "source": [
    "* Agricultura\n",
    "* Gestión de desastres naturales\n",
    "* etc, etc"
   ]
  },
  {
   "cell_type": "markdown",
   "id": "588a7cd2-1ff8-4e73-93d8-14c0f9fc0e64",
   "metadata": {},
   "source": [
    "![SegmentLocal](images/count_plants.png \"segment\")\n"
   ]
  },
  {
   "cell_type": "code",
   "execution_count": null,
   "id": "3fe1539f-c93e-4bf7-afff-785bd269349a",
   "metadata": {},
   "outputs": [],
   "source": []
  }
 ],
 "metadata": {
  "kernelspec": {
   "display_name": "Python 3 (ipykernel)",
   "language": "python",
   "name": "python3"
  },
  "language_info": {
   "codemirror_mode": {
    "name": "ipython",
    "version": 3
   },
   "file_extension": ".py",
   "mimetype": "text/x-python",
   "name": "python",
   "nbconvert_exporter": "python",
   "pygments_lexer": "ipython3",
   "version": "3.9.10"
  }
 },
 "nbformat": 4,
 "nbformat_minor": 5
}
