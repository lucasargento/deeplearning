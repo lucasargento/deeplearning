{
 "cells": [
  {
   "cell_type": "markdown",
   "id": "4YTm1FxYWRBH",
   "metadata": {
    "id": "4YTm1FxYWRBH"
   },
   "source": [
    "## TF-IDF\n",
    "\n",
    "\\begin{equation}\n",
    "w_{i,j} = \\text{tf}_{i,j} \\log\\left(\\frac{N}{\\text{df}_i}\\right)\n",
    "\\end{equation}\n",
    "\n",
    "$i$ palabra o n-grama <br>\n",
    "$j$ documento <br>\n",
    "$\\text{tf}_{i,j}$ cantidad de ocurrencias de $i$ en $j$ <br>\n",
    "$\\text{df}_i$ cantidad de documentos con contienen $i$ <br>\n",
    "$N$ cantidad total de documentos\n"
   ]
  },
  {
   "cell_type": "code",
   "execution_count": 1,
   "id": "clh6PANz9UHt",
   "metadata": {
    "colab": {
     "base_uri": "https://localhost:8080/"
    },
    "id": "clh6PANz9UHt",
    "outputId": "dee870f6-40cb-4415-cec7-24136a935bcb"
   },
   "outputs": [
    {
     "name": "stdout",
     "output_type": "stream",
     "text": [
      "Mounted at /content/drive\n"
     ]
    }
   ],
   "source": [
    "# from google.colab import drive\n",
    "# drive.mount('/content/drive')"
   ]
  },
  {
   "cell_type": "code",
   "execution_count": 2,
   "id": "441a9fdf",
   "metadata": {
    "id": "441a9fdf"
   },
   "outputs": [],
   "source": [
    "import pandas as pd\n",
    "from ast import literal_eval\n",
    "from sklearn.feature_extraction.text import TfidfVectorizer\n",
    "from sklearn.feature_selection import chi2\n",
    "import numpy as np\n",
    "import matplotlib.pyplot as plt"
   ]
  },
  {
   "cell_type": "code",
   "execution_count": 3,
   "id": "08dd864d",
   "metadata": {
    "id": "08dd864d"
   },
   "outputs": [],
   "source": [
    "df = pd.read_csv('/content/drive/MyDrive/Colab Notebooks/data/document_type_data.csv',\n",
    "                 converters={'text': literal_eval})\n",
    "\n",
    "corpus = df['text'].to_list()\n",
    "\n",
    "corpus_text = []\n",
    "for doc in corpus:\n",
    "    text = ''\n",
    "    for word in doc:\n",
    "        text += ' ' + word\n",
    "    corpus_text.append(text)\n",
    "\n",
    "tfidf = TfidfVectorizer(sublinear_tf=True, min_df=5, norm='l2', encoding='latin-1',\n",
    "                        ngram_range=(1, 2), stop_words='english')\n",
    "features = tfidf.fit_transform(corpus_text).toarray()\n",
    "labels = df.label.astype('category').cat.codes.values"
   ]
  },
  {
   "cell_type": "code",
   "execution_count": 9,
   "id": "Gt4ciqkEMpN1",
   "metadata": {
    "colab": {
     "base_uri": "https://localhost:8080/"
    },
    "id": "Gt4ciqkEMpN1",
    "outputId": "bbe0763d-96c9-4e6c-e6c4-202463bca25e"
   },
   "outputs": [
    {
     "data": {
      "text/plain": [
       "array([[0.        , 0.        , 0.        , ..., 0.        , 0.        ,\n",
       "        0.        ],\n",
       "       [0.        , 0.        , 0.        , ..., 0.        , 0.        ,\n",
       "        0.        ],\n",
       "       [0.13350475, 0.        , 0.20275662, ..., 0.        , 0.        ,\n",
       "        0.        ],\n",
       "       ...,\n",
       "       [0.        , 0.        , 0.        , ..., 0.08669342, 0.        ,\n",
       "        0.09033558],\n",
       "       [0.        , 0.        , 0.        , ..., 0.        , 0.        ,\n",
       "        0.        ],\n",
       "       [0.        , 0.        , 0.        , ..., 0.        , 0.        ,\n",
       "        0.        ]])"
      ]
     },
     "execution_count": 9,
     "metadata": {},
     "output_type": "execute_result"
    }
   ],
   "source": [
    "features"
   ]
  },
  {
   "cell_type": "code",
   "execution_count": 5,
   "id": "ObQ8YoPKgihh",
   "metadata": {
    "colab": {
     "base_uri": "https://localhost:8080/"
    },
    "id": "ObQ8YoPKgihh",
    "outputId": "0ccbf75a-eaff-4671-a574-7f9a71e9a485"
   },
   "outputs": [
    {
     "name": "stdout",
     "output_type": "stream",
     "text": [
      " Chaikin,  Karen  n  O'  o  From:  Sent:  To:  Subject:  Chaikin,  Karen  Monday,  July  16,  2001  7:24  PM  'plomba'dogtnadcomcom'  RE:  RFP  and  Op  Plan  KC  Youth  Smoking  Prevention  hJ  Q  oe  Vi  Phil,  Thanks  for  all  of  these.  Note  that  I  cannot  open  the  marked  version  of  the  Op  Plan.  Can  you  please  re-convert  to  a  pdf  and  resend?  Thanks! \n"
     ]
    }
   ],
   "source": [
    "print(corpus_text[0])"
   ]
  },
  {
   "cell_type": "markdown",
   "id": "fe9874f9",
   "metadata": {
    "id": "fe9874f9"
   },
   "source": [
    "### Observar los unigramas y bigramas más frecuentes"
   ]
  },
  {
   "cell_type": "code",
   "execution_count": 6,
   "id": "13473966",
   "metadata": {
    "colab": {
     "base_uri": "https://localhost:8080/"
    },
    "id": "13473966",
    "outputId": "aee2c99b-b9b4-4fe1-8672-69ef430cf605"
   },
   "outputs": [
    {
     "name": "stdout",
     "output_type": "stream",
     "text": [
      "# 'email':\n",
      "  . Most correlated unigrams:\n",
      ". subject\n",
      ". sent\n",
      "  . Most correlated bigrams:\n",
      ". sent subject\n",
      ". original message\n",
      "# 'invoice':\n",
      "  . Most correlated unigrams:\n",
      ". 00\n",
      ". invoice\n",
      "  . Most correlated bigrams:\n",
      ". york ny\n",
      ". 30 days\n",
      "# 'letter':\n",
      "  . Most correlated unigrams:\n",
      ". sincerely\n",
      ". dear\n",
      "  . Most correlated bigrams:\n",
      ". philip morris\n",
      ". tobacco institute\n",
      "# 'resumee':\n",
      "  . Most correlated unigrams:\n",
      ". biology\n",
      ". university\n",
      "  . Most correlated bigrams:\n",
      ". assistant professor\n",
      ". university california\n"
     ]
    }
   ],
   "source": [
    "N = 2\n",
    "for label, label_id in zip(df.label.unique().tolist(), [0, 1, 2, 3]):\n",
    "    features_chi2 = chi2(features, labels == label_id)\n",
    "    indices = np.argsort(features_chi2[0])\n",
    "    feature_names = np.array(tfidf.get_feature_names())[indices]\n",
    "    unigrams = [v for v in feature_names if len(v.split(' ')) == 1]\n",
    "    bigrams = [v for v in feature_names if len(v.split(' ')) == 2]\n",
    "    print(\"# '{}':\".format(label))\n",
    "    print(\"  . Most correlated unigrams:\\n. {}\".format('\\n. '.join(unigrams[-N:])))\n",
    "    print(\"  . Most correlated bigrams:\\n. {}\".format('\\n. '.join(bigrams[-N:])))"
   ]
  },
  {
   "cell_type": "code",
   "execution_count": 7,
   "id": "141b9777",
   "metadata": {
    "id": "141b9777"
   },
   "outputs": [],
   "source": [
    "from sklearn.naive_bayes import MultinomialNB\n",
    "from sklearn.linear_model import LogisticRegression\n",
    "from sklearn.ensemble import RandomForestClassifier\n",
    "from sklearn.svm import LinearSVC\n",
    "from sklearn.model_selection import cross_val_score"
   ]
  },
  {
   "cell_type": "code",
   "execution_count": null,
   "id": "75d10173",
   "metadata": {
    "colab": {
     "base_uri": "https://localhost:8080/"
    },
    "id": "75d10173",
    "outputId": "bfb1f98b-2b9f-43aa-c8da-76c2f8c597a4"
   },
   "outputs": [
    {
     "name": "stdout",
     "output_type": "stream",
     "text": [
      "model_name\n",
      "LinearSVC                 0.98\n",
      "LogisticRegression        0.96\n",
      "MultinomialNB             0.96\n",
      "RandomForestClassifier    0.97\n",
      "Name: accuracy, dtype: float64\n"
     ]
    }
   ],
   "source": [
    "models = [\n",
    "    RandomForestClassifier(n_estimators=200, max_depth=3, random_state=0),\n",
    "    LinearSVC(),\n",
    "    MultinomialNB(),\n",
    "    LogisticRegression(random_state=0),\n",
    "]\n",
    "CV = 5\n",
    "cv_df = pd.DataFrame(index=range(CV * len(models)))\n",
    "entries = []\n",
    "for model in models:\n",
    "    model_name = model.__class__.__name__\n",
    "    accuracies = cross_val_score(model, features, labels, scoring='accuracy', cv=CV)\n",
    "    for fold_idx, accuracy in enumerate(accuracies):\n",
    "        entries.append((model_name, fold_idx, accuracy))\n",
    "cv_df = pd.DataFrame(entries, columns=['model_name', 'fold_idx', 'accuracy'])\n",
    "\n",
    "print(cv_df.groupby('model_name').accuracy.mean())"
   ]
  },
  {
   "cell_type": "markdown",
   "id": "97bdd2af",
   "metadata": {
    "id": "97bdd2af"
   },
   "source": [
    "### Elijo el modelo con mejor performance"
   ]
  },
  {
   "cell_type": "code",
   "execution_count": 12,
   "id": "c8cffc5e",
   "metadata": {
    "colab": {
     "base_uri": "https://localhost:8080/",
     "height": 334
    },
    "id": "c8cffc5e",
    "outputId": "d4ea23e9-9eec-4b16-8df1-753b6f22cfb2"
   },
   "outputs": [
    {
     "data": {
      "image/png": "[encoded data removed]",
      "text/plain": [
       "<Figure size 360x360 with 2 Axes>"
      ]
     },
     "metadata": {
      "needs_background": "light"
     },
     "output_type": "display_data"
    }
   ],
   "source": [
    "from sklearn.model_selection import train_test_split\n",
    "\n",
    "model = LinearSVC()\n",
    "X_train, X_test, y_train, y_test, indices_train, indices_test = train_test_split(\n",
    "    features, labels, df.index, test_size=0.3)\n",
    "model.fit(X_train, y_train)\n",
    "y_pred = model.predict(X_test)\n",
    "\n",
    "from sklearn.metrics import confusion_matrix\n",
    "import seaborn as sns\n",
    "\n",
    "conf_mat = confusion_matrix(y_test, y_pred)\n",
    "fig, ax = plt.subplots(figsize=(5,5))\n",
    "sns.heatmap(conf_mat, annot=True, fmt='d',\n",
    "            xticklabels=df.label.unique().tolist(), \n",
    "            yticklabels=df.label.unique().tolist())\n",
    "plt.ylabel('Actual')\n",
    "plt.xlabel('Predicted')\n",
    "plt.show()"
   ]
  },
  {
   "cell_type": "code",
   "execution_count": 11,
   "id": "V8QWksBpNGOs",
   "metadata": {
    "id": "V8QWksBpNGOs"
   },
   "outputs": [],
   "source": []
  }
 ],
 "metadata": {
  "colab": {
   "collapsed_sections": [],
   "name": "text_classifier.ipynb",
   "provenance": []
  },
  "kernelspec": {
   "display_name": "Python 3 (ipykernel)",
   "language": "python",
   "name": "python3"
  },
  "language_info": {
   "codemirror_mode": {
    "name": "ipython",
    "version": 3
   },
   "file_extension": ".py",
   "mimetype": "text/x-python",
   "name": "python",
   "nbconvert_exporter": "python",
   "pygments_lexer": "ipython3",
   "version": "3.9.10"
  }
 },
 "nbformat": 4,
 "nbformat_minor": 5
}
