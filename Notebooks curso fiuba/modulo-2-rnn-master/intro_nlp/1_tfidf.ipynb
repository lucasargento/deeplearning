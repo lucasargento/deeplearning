{
 "cells": [
  {
   "cell_type": "markdown",
   "id": "f84561f3-1d00-49d5-a2d8-def30d239f5c",
   "metadata": {},
   "source": [
    "# TF-IDF"
   ]
  },
  {
   "cell_type": "markdown",
   "id": "a91322af-b027-4cca-b0e3-08370314f45a",
   "metadata": {},
   "source": [
    "\\begin{equation}\n",
    "w_{i,j} = \\text{tf}_{i,j} \\log\\left(\\frac{N}{\\text{df}_i}\\right)\n",
    "\\end{equation}\n",
    "\n",
    "$i$ palabra o n-grama <br>\n",
    "$j$ documento <br>\n",
    "$\\text{tf}_{i,j}$ cantidad de ocurrencias de $i$ en $j$ <br>\n",
    "$\\text{df}_i$ cantidad de documentos con contienen $i$ <br>\n",
    "$N$ cantidad total de documentos"
   ]
  },
  {
   "cell_type": "markdown",
   "id": "6f17d96f-9f62-4d03-848a-6196328981dd",
   "metadata": {},
   "source": [
    "### TF (Term Frequency)"
   ]
  },
  {
   "cell_type": "markdown",
   "id": "6647f74e-84fd-4b8f-938e-00e051de0fb9",
   "metadata": {},
   "source": [
    "Cantidad de veces que aparece una palabra en un documento dividido el total de palabras del documento."
   ]
  },
  {
   "cell_type": "markdown",
   "id": "f97a1838-0fd2-4e4d-a34e-128dd5fea4d8",
   "metadata": {},
   "source": [
    "<img src=\"images/tf.png\" alt=\"drawing\" width=\"200\"/>"
   ]
  },
  {
   "cell_type": "code",
   "execution_count": 140,
   "id": "e56afd05-6cc2-4c72-9067-ba6cb69a439b",
   "metadata": {},
   "outputs": [],
   "source": [
    "documento_1 = \"el perro quiere correr en el campo.\"\n",
    "\n",
    "documento_2 = \"hay un bombero en el techo.\""
   ]
  },
  {
   "cell_type": "code",
   "execution_count": 142,
   "id": "b1a0d2fc-172a-4d09-bd7d-e7cf81185511",
   "metadata": {},
   "outputs": [],
   "source": [
    "bow_1 = documento_1.split(' ')\n",
    "\n",
    "bow_2 = documento_2.split(' ')"
   ]
  },
  {
   "cell_type": "code",
   "execution_count": 144,
   "id": "241ce871-f1c8-49d3-b937-85bb50f67753",
   "metadata": {},
   "outputs": [
    {
     "data": {
      "text/plain": [
       "['hay', 'un', 'bombero', 'en', 'el', 'techo.']"
      ]
     },
     "execution_count": 144,
     "metadata": {},
     "output_type": "execute_result"
    }
   ],
   "source": [
    "bow_2"
   ]
  },
  {
   "cell_type": "code",
   "execution_count": 145,
   "id": "b0e2b4bc-aa55-4e68-b112-c7da491b683c",
   "metadata": {},
   "outputs": [],
   "source": [
    "palabras_unicas = set(bow_1).union(set(bow_2))\n"
   ]
  },
  {
   "cell_type": "code",
   "execution_count": 146,
   "id": "894076ae-1aac-41d4-986e-ad0a484ddc95",
   "metadata": {},
   "outputs": [
    {
     "data": {
      "text/plain": [
       "{'bombero',\n",
       " 'campo.',\n",
       " 'correr',\n",
       " 'el',\n",
       " 'en',\n",
       " 'hay',\n",
       " 'perro',\n",
       " 'quiere',\n",
       " 'techo.',\n",
       " 'un'}"
      ]
     },
     "execution_count": 146,
     "metadata": {},
     "output_type": "execute_result"
    }
   ],
   "source": [
    "palabras_unicas"
   ]
  },
  {
   "cell_type": "code",
   "execution_count": 5,
   "id": "c678a2b2-44a3-48ec-b3b9-807a27452ff7",
   "metadata": {},
   "outputs": [],
   "source": [
    "num_palabras_1 = dict.fromkeys(palabras_unicas, 0)\n",
    "for word in bow_1:\n",
    "    num_palabras_1[word] += 1\n",
    "    \n",
    "num_palabras_2 = dict.fromkeys(palabras_unicas, 0)\n",
    "for word in bow_2:\n",
    "    num_palabras_2[word] += 1"
   ]
  },
  {
   "cell_type": "code",
   "execution_count": 6,
   "id": "1ff8d4ad-27ab-4ceb-a597-a26b8984d674",
   "metadata": {},
   "outputs": [
    {
     "data": {
      "text/plain": [
       "{'el': 2,\n",
       " 'un': 0,\n",
       " 'correr': 1,\n",
       " 'bombero': 0,\n",
       " 'techo.': 0,\n",
       " 'perro': 1,\n",
       " 'campo.': 1,\n",
       " 'en': 1,\n",
       " 'hay': 0,\n",
       " 'quiere': 1}"
      ]
     },
     "execution_count": 6,
     "metadata": {},
     "output_type": "execute_result"
    }
   ],
   "source": [
    "num_palabras_1"
   ]
  },
  {
   "cell_type": "code",
   "execution_count": 7,
   "id": "601b6403-e994-42ca-9297-900f7547a450",
   "metadata": {},
   "outputs": [],
   "source": [
    "def calcular_tf(palabra, documento):\n",
    "    tf_dict = {}\n",
    "    n_documento = len(documento)\n",
    "    for word, count in palabra.items():\n",
    "        tf_dict[word] = count / float(n_documento)\n",
    "    return tf_dict"
   ]
  },
  {
   "cell_type": "code",
   "execution_count": 147,
   "id": "10536b73-2b2f-4882-9ee1-cc99ba455de7",
   "metadata": {},
   "outputs": [],
   "source": [
    "tf_1 = calcular_tf(num_palabras_1, bow_1)\n",
    "tf_2 = calcular_tf(num_palabras_2, bow_2)"
   ]
  },
  {
   "cell_type": "code",
   "execution_count": 149,
   "id": "438259a7-40e8-44b4-9f6e-fac668500593",
   "metadata": {},
   "outputs": [
    {
     "data": {
      "text/plain": [
       "'el perro quiere correr en el campo.'"
      ]
     },
     "execution_count": 149,
     "metadata": {},
     "output_type": "execute_result"
    }
   ],
   "source": [
    "documento_1"
   ]
  },
  {
   "cell_type": "code",
   "execution_count": 150,
   "id": "17c62576-4583-498c-b6ed-04be08e2e25b",
   "metadata": {},
   "outputs": [
    {
     "data": {
      "text/plain": [
       "0.2857142857142857"
      ]
     },
     "execution_count": 150,
     "metadata": {},
     "output_type": "execute_result"
    }
   ],
   "source": [
    "2 / 7"
   ]
  },
  {
   "cell_type": "code",
   "execution_count": 148,
   "id": "53268028-79b4-4767-847c-411fade52e36",
   "metadata": {},
   "outputs": [
    {
     "data": {
      "text/plain": [
       "{'el': 0.2857142857142857,\n",
       " 'un': 0.0,\n",
       " 'correr': 0.14285714285714285,\n",
       " 'bombero': 0.0,\n",
       " 'techo.': 0.0,\n",
       " 'perro': 0.14285714285714285,\n",
       " 'campo.': 0.14285714285714285,\n",
       " 'en': 0.14285714285714285,\n",
       " 'hay': 0.0,\n",
       " 'quiere': 0.14285714285714285}"
      ]
     },
     "execution_count": 148,
     "metadata": {},
     "output_type": "execute_result"
    }
   ],
   "source": [
    "tf_1"
   ]
  },
  {
   "cell_type": "markdown",
   "id": "efb21a22-4584-4bea-bbe1-fe8df2eda730",
   "metadata": {},
   "source": [
    "### IDF (Inverse Data Frequency)"
   ]
  },
  {
   "cell_type": "markdown",
   "id": "4b99d329-4ec5-4da2-ba75-0c9fcda81bec",
   "metadata": {},
   "source": [
    "El logaritmo de la cantidad de documentos dividido por el número de documentos que contienen la palabra *w*.\n",
    "\n",
    "La frecuencia de datos inversa determina el peso de las palabras \"raras\" en todos los documentos del corpus."
   ]
  },
  {
   "cell_type": "markdown",
   "id": "65da593f-8b92-429b-a81e-08654ad84950",
   "metadata": {},
   "source": [
    "<img src=\"images/idf.png\" alt=\"drawing\" width=\"200\"/>"
   ]
  },
  {
   "cell_type": "code",
   "execution_count": 151,
   "id": "82786e69-7af0-4d06-9a25-5cb018833aa7",
   "metadata": {},
   "outputs": [],
   "source": [
    "import math\n",
    "\n",
    "def calcular_idf(documentos):\n",
    "\n",
    "    N = len(documentos)\n",
    "    \n",
    "    idf_dict = dict.fromkeys(documentos[0].keys(), 0)\n",
    "    for documento in documentos:\n",
    "        for word, val in documento.items():\n",
    "            if val > 0:\n",
    "                idf_dict[word] += 1\n",
    "    \n",
    "    for word, val in idf_dict.items():\n",
    "        idf_dict[word] = math.log(N / float(val))\n",
    "    return idf_dict\n"
   ]
  },
  {
   "cell_type": "code",
   "execution_count": 152,
   "id": "f04fbd23-31d9-4649-ad76-ba4e2e352af8",
   "metadata": {},
   "outputs": [],
   "source": [
    "idf = calcular_idf([num_palabras_1, num_palabras_2])"
   ]
  },
  {
   "cell_type": "code",
   "execution_count": 153,
   "id": "08a3be6e-945a-4037-a420-91b83cddb120",
   "metadata": {},
   "outputs": [],
   "source": [
    "def calcular_tfidf(tfs, idfs):\n",
    "    tfidf = {}\n",
    "    for word, val in tfs.items():\n",
    "        tfidf[word] = val * idfs[word]\n",
    "    return tfidf"
   ]
  },
  {
   "cell_type": "code",
   "execution_count": 154,
   "id": "32aa5322-cd79-407d-980d-2309dc7756a6",
   "metadata": {},
   "outputs": [],
   "source": [
    "tfidf1 = calcular_tfidf(tf_1, idf)\n",
    "tfidf2 = calcular_tfidf(tf_2, idf)"
   ]
  },
  {
   "cell_type": "code",
   "execution_count": 155,
   "id": "b32060c3-b9a7-41ce-ad26-09d039aeaa62",
   "metadata": {},
   "outputs": [],
   "source": [
    "import pandas as pd"
   ]
  },
  {
   "cell_type": "code",
   "execution_count": 156,
   "id": "cd5e19e7-47a9-4a2a-8b90-0e40fc496ff8",
   "metadata": {},
   "outputs": [
    {
     "data": {
      "text/html": [
       "<div>\n",
       "<style scoped>\n",
       "    .dataframe tbody tr th:only-of-type {\n",
       "        vertical-align: middle;\n",
       "    }\n",
       "\n",
       "    .dataframe tbody tr th {\n",
       "        vertical-align: top;\n",
       "    }\n",
       "\n",
       "    .dataframe thead th {\n",
       "        text-align: right;\n",
       "    }\n",
       "</style>\n",
       "<table border=\"1\" class=\"dataframe\">\n",
       "  <thead>\n",
       "    <tr style=\"text-align: right;\">\n",
       "      <th></th>\n",
       "      <th>el</th>\n",
       "      <th>un</th>\n",
       "      <th>correr</th>\n",
       "      <th>bombero</th>\n",
       "      <th>techo.</th>\n",
       "      <th>perro</th>\n",
       "      <th>campo.</th>\n",
       "      <th>en</th>\n",
       "      <th>hay</th>\n",
       "      <th>quiere</th>\n",
       "    </tr>\n",
       "  </thead>\n",
       "  <tbody>\n",
       "    <tr>\n",
       "      <th>0</th>\n",
       "      <td>0.0</td>\n",
       "      <td>0.000000</td>\n",
       "      <td>0.099021</td>\n",
       "      <td>0.000000</td>\n",
       "      <td>0.000000</td>\n",
       "      <td>0.099021</td>\n",
       "      <td>0.099021</td>\n",
       "      <td>0.0</td>\n",
       "      <td>0.000000</td>\n",
       "      <td>0.099021</td>\n",
       "    </tr>\n",
       "    <tr>\n",
       "      <th>1</th>\n",
       "      <td>0.0</td>\n",
       "      <td>0.115525</td>\n",
       "      <td>0.000000</td>\n",
       "      <td>0.115525</td>\n",
       "      <td>0.115525</td>\n",
       "      <td>0.000000</td>\n",
       "      <td>0.000000</td>\n",
       "      <td>0.0</td>\n",
       "      <td>0.115525</td>\n",
       "      <td>0.000000</td>\n",
       "    </tr>\n",
       "  </tbody>\n",
       "</table>\n",
       "</div>"
      ],
      "text/plain": [
       "    el        un    correr   bombero    techo.     perro    campo.   en  \\\n",
       "0  0.0  0.000000  0.099021  0.000000  0.000000  0.099021  0.099021  0.0   \n",
       "1  0.0  0.115525  0.000000  0.115525  0.115525  0.000000  0.000000  0.0   \n",
       "\n",
       "        hay    quiere  \n",
       "0  0.000000  0.099021  \n",
       "1  0.115525  0.000000  "
      ]
     },
     "execution_count": 156,
     "metadata": {},
     "output_type": "execute_result"
    }
   ],
   "source": [
    "pd.DataFrame([tfidf1, tfidf2])"
   ]
  },
  {
   "cell_type": "code",
   "execution_count": 15,
   "id": "d97a728d-83ff-4537-a8c2-32d64e096209",
   "metadata": {},
   "outputs": [],
   "source": [
    "from sklearn.feature_extraction.text import TfidfVectorizer"
   ]
  },
  {
   "cell_type": "code",
   "execution_count": 157,
   "id": "f401b67d-87d2-4a16-abfa-9d977a8998fe",
   "metadata": {},
   "outputs": [
    {
     "data": {
      "text/plain": [
       "'el perro quiere correr en el campo.'"
      ]
     },
     "execution_count": 157,
     "metadata": {},
     "output_type": "execute_result"
    }
   ],
   "source": [
    "documento_1"
   ]
  },
  {
   "cell_type": "code",
   "execution_count": 158,
   "id": "2372a02a-a9bc-4830-b9ff-a169cdf627c1",
   "metadata": {},
   "outputs": [],
   "source": [
    "vectorizer = TfidfVectorizer()\n",
    "\n",
    "vectors = vectorizer.fit_transform([documento_1, documento_2])\n",
    "\n",
    "feature_names = vectorizer.get_feature_names()\n",
    "\n",
    "dense = vectors.todense()\n",
    "\n",
    "denselist = dense.tolist()\n",
    "\n",
    "df = pd.DataFrame(denselist, columns=feature_names)"
   ]
  },
  {
   "cell_type": "code",
   "execution_count": 159,
   "id": "0d667526-d559-4ba8-b2cc-63cd6b29e380",
   "metadata": {},
   "outputs": [
    {
     "data": {
      "text/html": [
       "<div>\n",
       "<style scoped>\n",
       "    .dataframe tbody tr th:only-of-type {\n",
       "        vertical-align: middle;\n",
       "    }\n",
       "\n",
       "    .dataframe tbody tr th {\n",
       "        vertical-align: top;\n",
       "    }\n",
       "\n",
       "    .dataframe thead th {\n",
       "        text-align: right;\n",
       "    }\n",
       "</style>\n",
       "<table border=\"1\" class=\"dataframe\">\n",
       "  <thead>\n",
       "    <tr style=\"text-align: right;\">\n",
       "      <th></th>\n",
       "      <th>bombero</th>\n",
       "      <th>campo</th>\n",
       "      <th>correr</th>\n",
       "      <th>el</th>\n",
       "      <th>en</th>\n",
       "      <th>hay</th>\n",
       "      <th>perro</th>\n",
       "      <th>quiere</th>\n",
       "      <th>techo</th>\n",
       "      <th>un</th>\n",
       "    </tr>\n",
       "  </thead>\n",
       "  <tbody>\n",
       "    <tr>\n",
       "      <th>0</th>\n",
       "      <td>0.000000</td>\n",
       "      <td>0.391294</td>\n",
       "      <td>0.391294</td>\n",
       "      <td>0.556817</td>\n",
       "      <td>0.278409</td>\n",
       "      <td>0.000000</td>\n",
       "      <td>0.391294</td>\n",
       "      <td>0.391294</td>\n",
       "      <td>0.000000</td>\n",
       "      <td>0.000000</td>\n",
       "    </tr>\n",
       "    <tr>\n",
       "      <th>1</th>\n",
       "      <td>0.446656</td>\n",
       "      <td>0.000000</td>\n",
       "      <td>0.000000</td>\n",
       "      <td>0.317800</td>\n",
       "      <td>0.317800</td>\n",
       "      <td>0.446656</td>\n",
       "      <td>0.000000</td>\n",
       "      <td>0.000000</td>\n",
       "      <td>0.446656</td>\n",
       "      <td>0.446656</td>\n",
       "    </tr>\n",
       "  </tbody>\n",
       "</table>\n",
       "</div>"
      ],
      "text/plain": [
       "    bombero     campo    correr        el        en       hay     perro  \\\n",
       "0  0.000000  0.391294  0.391294  0.556817  0.278409  0.000000  0.391294   \n",
       "1  0.446656  0.000000  0.000000  0.317800  0.317800  0.446656  0.000000   \n",
       "\n",
       "     quiere     techo        un  \n",
       "0  0.391294  0.000000  0.000000  \n",
       "1  0.000000  0.446656  0.446656  "
      ]
     },
     "execution_count": 159,
     "metadata": {},
     "output_type": "execute_result"
    }
   ],
   "source": [
    "df"
   ]
  },
  {
   "cell_type": "markdown",
   "id": "d7ac31d0-d789-4fda-95a0-ec58ee103faf",
   "metadata": {
    "tags": []
   },
   "source": [
    "## Ejemplo de clasificacion de textos utilizando TFIDF"
   ]
  },
  {
   "cell_type": "code",
   "execution_count": 160,
   "id": "4bdf3462-4410-4ffb-9896-cb82c6c07a96",
   "metadata": {},
   "outputs": [],
   "source": [
    "import pandas as pd"
   ]
  },
  {
   "cell_type": "code",
   "execution_count": 161,
   "id": "8f66f2f7-2858-4ad1-83ef-c135ada9256f",
   "metadata": {},
   "outputs": [
    {
     "name": "stderr",
     "output_type": "stream",
     "text": [
      "/Users/alejandrodebus/my_envs/dlc/lib/python3.9/site-packages/pandas/util/_decorators.py:311: ParserWarning: Falling back to the 'python' engine because the separator encoded in utf-8 is > 1 char long, and the 'c' engine does not support such separators; you can avoid this warning by specifying engine='python'.\n",
      "  return func(*args, **kwargs)\n"
     ]
    }
   ],
   "source": [
    "df = pd.read_csv('items_meli_proc.csv', sep=\"␗\")"
   ]
  },
  {
   "cell_type": "code",
   "execution_count": 162,
   "id": "e3bb1a6f-177c-4978-b840-972e3c56b3c1",
   "metadata": {},
   "outputs": [
    {
     "data": {
      "text/plain": [
       "domain_id\n",
       "MLA-CARS_AND_VANS              2500\n",
       "MLA-CELLPHONES                 2500\n",
       "MLA-CELL_BATTERIES              186\n",
       "MLA-HEADPHONES                  694\n",
       "MLA-MICROPHONES                  49\n",
       "MLA-MICROPHONE_STANDS             6\n",
       "MLA-SMART_SPEAKERS               57\n",
       "MLA-SPEAKERS                    188\n",
       "MLA-STREAMING_MEDIA_DEVICES     207\n",
       "MLA-TELEVISIONS                 787\n",
       "MLA-TV_AND_MONITOR_MOUNTS       326\n",
       "Name: domain_id, dtype: int64"
      ]
     },
     "execution_count": 162,
     "metadata": {},
     "output_type": "execute_result"
    }
   ],
   "source": [
    "df.groupby(['domain_id'])['domain_id'].count()"
   ]
  },
  {
   "cell_type": "code",
   "execution_count": 163,
   "id": "0e45264d-c897-45d8-ae7f-f252bc96fdac",
   "metadata": {},
   "outputs": [
    {
     "data": {
      "text/html": [
       "<div>\n",
       "<style scoped>\n",
       "    .dataframe tbody tr th:only-of-type {\n",
       "        vertical-align: middle;\n",
       "    }\n",
       "\n",
       "    .dataframe tbody tr th {\n",
       "        vertical-align: top;\n",
       "    }\n",
       "\n",
       "    .dataframe thead th {\n",
       "        text-align: right;\n",
       "    }\n",
       "</style>\n",
       "<table border=\"1\" class=\"dataframe\">\n",
       "  <thead>\n",
       "    <tr style=\"text-align: right;\">\n",
       "      <th></th>\n",
       "      <th>id</th>\n",
       "      <th>site_id</th>\n",
       "      <th>title</th>\n",
       "      <th>category_id</th>\n",
       "      <th>domain_id</th>\n",
       "    </tr>\n",
       "  </thead>\n",
       "  <tbody>\n",
       "    <tr>\n",
       "      <th>0</th>\n",
       "      <td>MLA918474630</td>\n",
       "      <td>MLA</td>\n",
       "      <td>samsung galaxy a32 128 gb awesome black 4 gb ram</td>\n",
       "      <td>MLA1055</td>\n",
       "      <td>MLA-CELLPHONES</td>\n",
       "    </tr>\n",
       "    <tr>\n",
       "      <th>1</th>\n",
       "      <td>MLA1137712864</td>\n",
       "      <td>MLA</td>\n",
       "      <td>samsung galaxy s20 fe 5g 128 gb cloud navy 6 g...</td>\n",
       "      <td>MLA1055</td>\n",
       "      <td>MLA-CELLPHONES</td>\n",
       "    </tr>\n",
       "    <tr>\n",
       "      <th>2</th>\n",
       "      <td>MLA1142662789</td>\n",
       "      <td>MLA</td>\n",
       "      <td>konka indus dual sim 32 gb negro 3 gb ram</td>\n",
       "      <td>MLA1055</td>\n",
       "      <td>MLA-CELLPHONES</td>\n",
       "    </tr>\n",
       "    <tr>\n",
       "      <th>3</th>\n",
       "      <td>MLA1142512620</td>\n",
       "      <td>MLA</td>\n",
       "      <td>moto g22 128 gb cosmic black 4 gb ram</td>\n",
       "      <td>MLA1055</td>\n",
       "      <td>MLA-CELLPHONES</td>\n",
       "    </tr>\n",
       "    <tr>\n",
       "      <th>4</th>\n",
       "      <td>MLA1129231005</td>\n",
       "      <td>MLA</td>\n",
       "      <td>tcl 20e 128 gb twilight blue 4 gb ram</td>\n",
       "      <td>MLA1055</td>\n",
       "      <td>MLA-CELLPHONES</td>\n",
       "    </tr>\n",
       "  </tbody>\n",
       "</table>\n",
       "</div>"
      ],
      "text/plain": [
       "              id site_id                                              title  \\\n",
       "0   MLA918474630     MLA   samsung galaxy a32 128 gb awesome black 4 gb ram   \n",
       "1  MLA1137712864     MLA  samsung galaxy s20 fe 5g 128 gb cloud navy 6 g...   \n",
       "2  MLA1142662789     MLA          konka indus dual sim 32 gb negro 3 gb ram   \n",
       "3  MLA1142512620     MLA              moto g22 128 gb cosmic black 4 gb ram   \n",
       "4  MLA1129231005     MLA              tcl 20e 128 gb twilight blue 4 gb ram   \n",
       "\n",
       "  category_id       domain_id  \n",
       "0     MLA1055  MLA-CELLPHONES  \n",
       "1     MLA1055  MLA-CELLPHONES  \n",
       "2     MLA1055  MLA-CELLPHONES  \n",
       "3     MLA1055  MLA-CELLPHONES  \n",
       "4     MLA1055  MLA-CELLPHONES  "
      ]
     },
     "execution_count": 163,
     "metadata": {},
     "output_type": "execute_result"
    }
   ],
   "source": [
    "df.head()"
   ]
  },
  {
   "cell_type": "code",
   "execution_count": 164,
   "id": "7c703cc2-fe64-4aec-b111-97b6b44dd874",
   "metadata": {},
   "outputs": [],
   "source": [
    "df = df[~df.domain_id.isin(['MLA-CELLPHONES', 'MLA-CARS_AND_VANS'])].reset_index(drop=True)"
   ]
  },
  {
   "cell_type": "code",
   "execution_count": 165,
   "id": "d83323c9-b3cd-4e58-aa9c-ce6137ffca25",
   "metadata": {},
   "outputs": [],
   "source": [
    "df = df[['title', 'domain_id']]"
   ]
  },
  {
   "cell_type": "code",
   "execution_count": 166,
   "id": "b7df0b39-1b58-4954-8942-57bd32be277f",
   "metadata": {},
   "outputs": [
    {
     "data": {
      "text/plain": [
       "array(['MLA-CELL_BATTERIES', 'MLA-TELEVISIONS', 'MLA-HEADPHONES',\n",
       "       'MLA-STREAMING_MEDIA_DEVICES', 'MLA-SPEAKERS',\n",
       "       'MLA-TV_AND_MONITOR_MOUNTS', 'MLA-SMART_SPEAKERS',\n",
       "       'MLA-MICROPHONES', 'MLA-MICROPHONE_STANDS'], dtype=object)"
      ]
     },
     "execution_count": 166,
     "metadata": {},
     "output_type": "execute_result"
    }
   ],
   "source": [
    "df.domain_id.unique()"
   ]
  },
  {
   "cell_type": "code",
   "execution_count": 167,
   "id": "8f8904cc-1fac-4511-8147-0c3c541b9183",
   "metadata": {},
   "outputs": [
    {
     "data": {
      "text/plain": [
       "9"
      ]
     },
     "execution_count": 167,
     "metadata": {},
     "output_type": "execute_result"
    }
   ],
   "source": [
    "df.domain_id.nunique()"
   ]
  },
  {
   "cell_type": "code",
   "execution_count": 168,
   "id": "25c9b1d8-ca78-4711-bf8a-1deaf9e77741",
   "metadata": {},
   "outputs": [
    {
     "data": {
      "text/plain": [
       "(2500, 2)"
      ]
     },
     "execution_count": 168,
     "metadata": {},
     "output_type": "execute_result"
    }
   ],
   "source": [
    "df.shape"
   ]
  },
  {
   "cell_type": "code",
   "execution_count": null,
   "id": "f8c53cc7-6ad7-4128-8f76-29896c25a783",
   "metadata": {},
   "outputs": [],
   "source": [
    "{\n",
    "    'MLA-CELLPHONES': 0,\n",
    "    'MLA-TELEVISION': 1\n",
    "    2\n",
    "}"
   ]
  },
  {
   "cell_type": "code",
   "execution_count": 107,
   "id": "a1defb62-0561-4ee7-bc8d-83ad01e4923c",
   "metadata": {},
   "outputs": [],
   "source": [
    "from sklearn import preprocessing"
   ]
  },
  {
   "cell_type": "code",
   "execution_count": 169,
   "id": "d845f013-4fa2-4114-a6e5-9938f839bd36",
   "metadata": {},
   "outputs": [],
   "source": [
    "le = preprocessing.LabelEncoder()"
   ]
  },
  {
   "cell_type": "code",
   "execution_count": 170,
   "id": "464b27a5-e84b-4f21-b9d7-d4f1fa20cc73",
   "metadata": {},
   "outputs": [
    {
     "data": {
      "text/plain": [
       "LabelEncoder()"
      ]
     },
     "execution_count": 170,
     "metadata": {},
     "output_type": "execute_result"
    }
   ],
   "source": [
    "le.fit(df.domain_id)"
   ]
  },
  {
   "cell_type": "code",
   "execution_count": 171,
   "id": "1b8be626-9b5b-4d92-b966-db11b8cab31e",
   "metadata": {},
   "outputs": [
    {
     "data": {
      "text/plain": [
       "array(['MLA-CELL_BATTERIES', 'MLA-HEADPHONES', 'MLA-MICROPHONES',\n",
       "       'MLA-MICROPHONE_STANDS', 'MLA-SMART_SPEAKERS', 'MLA-SPEAKERS',\n",
       "       'MLA-STREAMING_MEDIA_DEVICES', 'MLA-TELEVISIONS',\n",
       "       'MLA-TV_AND_MONITOR_MOUNTS'], dtype=object)"
      ]
     },
     "execution_count": 171,
     "metadata": {},
     "output_type": "execute_result"
    }
   ],
   "source": [
    "le.classes_"
   ]
  },
  {
   "cell_type": "code",
   "execution_count": 172,
   "id": "cecd9ceb-7592-4f7c-868f-64af666d5af6",
   "metadata": {},
   "outputs": [],
   "source": [
    "labels = le.transform(df.domain_id)"
   ]
  },
  {
   "cell_type": "code",
   "execution_count": 173,
   "id": "ed549006-dcc8-473c-851d-8507eb4118fe",
   "metadata": {},
   "outputs": [],
   "source": [
    "df['label'] = labels"
   ]
  },
  {
   "cell_type": "code",
   "execution_count": 174,
   "id": "9ae4f77a-ee74-487b-8de7-03d7d2d40533",
   "metadata": {},
   "outputs": [
    {
     "data": {
      "text/plain": [
       "array([0, 7, 1, 6, 5, 8, 4, 2, 3])"
      ]
     },
     "execution_count": 174,
     "metadata": {},
     "output_type": "execute_result"
    }
   ],
   "source": [
    "df.label.unique()"
   ]
  },
  {
   "cell_type": "code",
   "execution_count": 176,
   "id": "e7488fcd-0b99-4978-8786-11b2daa86caf",
   "metadata": {},
   "outputs": [],
   "source": [
    "vectorizer = TfidfVectorizer()"
   ]
  },
  {
   "cell_type": "code",
   "execution_count": 177,
   "id": "47b58e7e-b679-44cb-94ed-f217bcfcfe53",
   "metadata": {},
   "outputs": [
    {
     "data": {
      "text/plain": [
       "(2500, 292)"
      ]
     },
     "execution_count": 177,
     "metadata": {},
     "output_type": "execute_result"
    }
   ],
   "source": [
    "features = vectorizer.fit_transform(df.title).toarray()\n",
    "labels = df.label\n",
    "features.shape"
   ]
  },
  {
   "cell_type": "code",
   "execution_count": 178,
   "id": "c618f1e9-1419-478d-92e2-03fce6025648",
   "metadata": {},
   "outputs": [
    {
     "data": {
      "text/plain": [
       "array([[0.        , 0.56294015, 0.        , ..., 0.        , 0.        ,\n",
       "        0.        ],\n",
       "       [0.        , 0.        , 0.        , ..., 0.        , 0.        ,\n",
       "        0.        ],\n",
       "       [0.        , 0.        , 0.        , ..., 0.        , 0.        ,\n",
       "        0.        ],\n",
       "       ...,\n",
       "       [0.        , 0.        , 0.        , ..., 0.        , 0.        ,\n",
       "        0.        ],\n",
       "       [0.        , 0.        , 0.        , ..., 0.        , 0.        ,\n",
       "        0.        ],\n",
       "       [0.        , 0.        , 0.        , ..., 0.        , 0.        ,\n",
       "        0.        ]])"
      ]
     },
     "execution_count": 178,
     "metadata": {},
     "output_type": "execute_result"
    }
   ],
   "source": [
    "features"
   ]
  },
  {
   "cell_type": "code",
   "execution_count": 179,
   "id": "0aadae1b-df55-44fd-99c7-b5dda21719ec",
   "metadata": {},
   "outputs": [],
   "source": [
    "df = df.sample(len(df)).reset_index(drop=True)"
   ]
  },
  {
   "cell_type": "code",
   "execution_count": 117,
   "id": "f6c5814b-8b4a-4523-9b71-8e171bd923d7",
   "metadata": {},
   "outputs": [],
   "source": [
    "df_train = df.head(2300)"
   ]
  },
  {
   "cell_type": "code",
   "execution_count": 118,
   "id": "e53373ff-e7e8-4afe-8033-7adda9acf0a1",
   "metadata": {},
   "outputs": [],
   "source": [
    "df_test = df[2300:]"
   ]
  },
  {
   "cell_type": "code",
   "execution_count": 119,
   "id": "bacf858a-ffe1-4232-b08a-e7d240e664e1",
   "metadata": {},
   "outputs": [],
   "source": [
    "from sklearn.feature_extraction.text import TfidfTransformer\n",
    "from sklearn.naive_bayes import MultinomialNB"
   ]
  },
  {
   "cell_type": "code",
   "execution_count": 180,
   "id": "c51f8ad7-b597-47e8-8098-4c56df791795",
   "metadata": {},
   "outputs": [],
   "source": [
    "vectorizer = TfidfVectorizer()"
   ]
  },
  {
   "cell_type": "code",
   "execution_count": 181,
   "id": "6fe9440e-dc0e-4c79-8ed5-95ddfd7c5016",
   "metadata": {},
   "outputs": [
    {
     "data": {
      "text/plain": [
       "(2300, 292)"
      ]
     },
     "execution_count": 181,
     "metadata": {},
     "output_type": "execute_result"
    }
   ],
   "source": [
    "features_train = vectorizer.fit_transform(df_train.title).toarray()\n",
    "labels_train = df_train.label\n",
    "features_train.shape"
   ]
  },
  {
   "cell_type": "code",
   "execution_count": 182,
   "id": "38f95bd7-1b2d-4592-84b7-52e6ef4f0dd4",
   "metadata": {},
   "outputs": [],
   "source": [
    "from sklearn.ensemble import RandomForestClassifier"
   ]
  },
  {
   "cell_type": "code",
   "execution_count": 183,
   "id": "bdccdb08-d4c9-4647-b91a-6d8532f12fbc",
   "metadata": {},
   "outputs": [],
   "source": [
    "model = RandomForestClassifier(n_estimators=200, max_depth=3, random_state=0)"
   ]
  },
  {
   "cell_type": "code",
   "execution_count": 184,
   "id": "b8b363a8-e6d5-41e6-abb3-4d931ea49e72",
   "metadata": {},
   "outputs": [
    {
     "data": {
      "text/plain": [
       "RandomForestClassifier(max_depth=3, n_estimators=200, random_state=0)"
      ]
     },
     "execution_count": 184,
     "metadata": {},
     "output_type": "execute_result"
    }
   ],
   "source": [
    "model.fit(features_train, labels_train)"
   ]
  },
  {
   "cell_type": "code",
   "execution_count": 185,
   "id": "9dd0e0df-b066-4026-8b6a-ee8e62f05895",
   "metadata": {},
   "outputs": [
    {
     "data": {
      "text/plain": [
       "0.941304347826087"
      ]
     },
     "execution_count": 185,
     "metadata": {},
     "output_type": "execute_result"
    }
   ],
   "source": [
    "model.score(features_train, labels_train)"
   ]
  },
  {
   "cell_type": "code",
   "execution_count": 186,
   "id": "3bd1a3fc-82df-483e-b261-2ea5860a1853",
   "metadata": {},
   "outputs": [],
   "source": [
    "features_test = vectorizer.transform(df_test.title).toarray()"
   ]
  },
  {
   "cell_type": "code",
   "execution_count": 188,
   "id": "89f740aa-d96c-499d-b8ef-3c949ad7ef6a",
   "metadata": {},
   "outputs": [],
   "source": [
    "labels_test = df_test.label"
   ]
  },
  {
   "cell_type": "code",
   "execution_count": 189,
   "id": "a6d0acc4-e090-41bf-baa6-502afeda59c9",
   "metadata": {},
   "outputs": [
    {
     "data": {
      "text/plain": [
       "0.95"
      ]
     },
     "execution_count": 189,
     "metadata": {},
     "output_type": "execute_result"
    }
   ],
   "source": [
    "model.score(features_test, labels_test)"
   ]
  },
  {
   "cell_type": "code",
   "execution_count": 190,
   "id": "2cb9ecdd-ff05-45da-8c7c-25e83aba5603",
   "metadata": {},
   "outputs": [],
   "source": [
    "def predict_title(my_title):\n",
    "    tfidf_pred = vectorizer.transform([my_title])\n",
    "    clase = model.predict(tfidf_pred)\n",
    "    proba = model.predict_proba(tfidf_pred)\n",
    "    return clase, proba"
   ]
  },
  {
   "cell_type": "code",
   "execution_count": 195,
   "id": "5f698b34-7ac4-45b5-abdd-2ffa252cc92b",
   "metadata": {},
   "outputs": [
    {
     "data": {
      "text/plain": [
       "(array([1]),\n",
       " array([[0.15960914, 0.30829366, 0.02935117, 0.00395365, 0.01906278,\n",
       "         0.08710145, 0.09040525, 0.21455047, 0.08767242]]))"
      ]
     },
     "execution_count": 195,
     "metadata": {},
     "output_type": "execute_result"
    }
   ],
   "source": [
    "predict_title(\"pila aaa rayovac\")"
   ]
  },
  {
   "cell_type": "code",
   "execution_count": 135,
   "id": "89d39302-b421-48b5-9fd1-8f3512924f44",
   "metadata": {},
   "outputs": [
    {
     "data": {
      "text/plain": [
       "array([7])"
      ]
     },
     "execution_count": 135,
     "metadata": {},
     "output_type": "execute_result"
    }
   ],
   "source": []
  },
  {
   "cell_type": "code",
   "execution_count": 192,
   "id": "f565cbc3-3600-41bf-a1f3-4db06c6e7940",
   "metadata": {},
   "outputs": [
    {
     "data": {
      "text/html": [
       "<div>\n",
       "<style scoped>\n",
       "    .dataframe tbody tr th:only-of-type {\n",
       "        vertical-align: middle;\n",
       "    }\n",
       "\n",
       "    .dataframe tbody tr th {\n",
       "        vertical-align: top;\n",
       "    }\n",
       "\n",
       "    .dataframe thead th {\n",
       "        text-align: right;\n",
       "    }\n",
       "</style>\n",
       "<table border=\"1\" class=\"dataframe\">\n",
       "  <thead>\n",
       "    <tr style=\"text-align: right;\">\n",
       "      <th></th>\n",
       "      <th>title</th>\n",
       "      <th>domain_id</th>\n",
       "      <th>label</th>\n",
       "    </tr>\n",
       "  </thead>\n",
       "  <tbody>\n",
       "    <tr>\n",
       "      <th>0</th>\n",
       "      <td>xiaomi mi box s mdz 22 ab de voz 4k 8gb negro ...</td>\n",
       "      <td>MLA-STREAMING_MEDIA_DEVICES</td>\n",
       "      <td>6</td>\n",
       "    </tr>\n",
       "    <tr>\n",
       "      <th>1</th>\n",
       "      <td>parlante jbl go 2 portatil con bluetooth deep ...</td>\n",
       "      <td>MLA-SPEAKERS</td>\n",
       "      <td>5</td>\n",
       "    </tr>\n",
       "    <tr>\n",
       "      <th>2</th>\n",
       "      <td>smart tv samsung series 4 un32t4300agczb led h...</td>\n",
       "      <td>MLA-TELEVISIONS</td>\n",
       "      <td>7</td>\n",
       "    </tr>\n",
       "    <tr>\n",
       "      <th>3</th>\n",
       "      <td>smart tv philips 6900 series 43pfd6917 77 led ...</td>\n",
       "      <td>MLA-TELEVISIONS</td>\n",
       "      <td>7</td>\n",
       "    </tr>\n",
       "    <tr>\n",
       "      <th>4</th>\n",
       "      <td>pila aaa rayovac alcalina cilindrica   pack de...</td>\n",
       "      <td>MLA-CELL_BATTERIES</td>\n",
       "      <td>0</td>\n",
       "    </tr>\n",
       "    <tr>\n",
       "      <th>...</th>\n",
       "      <td>...</td>\n",
       "      <td>...</td>\n",
       "      <td>...</td>\n",
       "    </tr>\n",
       "    <tr>\n",
       "      <th>2495</th>\n",
       "      <td>smart tv tcl s65a series l40s65a led full hd 4...</td>\n",
       "      <td>MLA-TELEVISIONS</td>\n",
       "      <td>7</td>\n",
       "    </tr>\n",
       "    <tr>\n",
       "      <th>2496</th>\n",
       "      <td>roku premiere 3920 estandar 4k negro</td>\n",
       "      <td>MLA-STREAMING_MEDIA_DEVICES</td>\n",
       "      <td>6</td>\n",
       "    </tr>\n",
       "    <tr>\n",
       "      <th>2497</th>\n",
       "      <td>smart tv lg ai thinq 32lm620bpsa led hd 32 100...</td>\n",
       "      <td>MLA-TELEVISIONS</td>\n",
       "      <td>7</td>\n",
       "    </tr>\n",
       "    <tr>\n",
       "      <th>2498</th>\n",
       "      <td>smart tv bgh 32 pne040257 hd led 100 240v</td>\n",
       "      <td>MLA-TELEVISIONS</td>\n",
       "      <td>7</td>\n",
       "    </tr>\n",
       "    <tr>\n",
       "      <th>2499</th>\n",
       "      <td>soporte force l74 443 de pared para tv monitor...</td>\n",
       "      <td>MLA-TV_AND_MONITOR_MOUNTS</td>\n",
       "      <td>8</td>\n",
       "    </tr>\n",
       "  </tbody>\n",
       "</table>\n",
       "<p>2500 rows × 3 columns</p>\n",
       "</div>"
      ],
      "text/plain": [
       "                                                  title  \\\n",
       "0     xiaomi mi box s mdz 22 ab de voz 4k 8gb negro ...   \n",
       "1     parlante jbl go 2 portatil con bluetooth deep ...   \n",
       "2     smart tv samsung series 4 un32t4300agczb led h...   \n",
       "3     smart tv philips 6900 series 43pfd6917 77 led ...   \n",
       "4     pila aaa rayovac alcalina cilindrica   pack de...   \n",
       "...                                                 ...   \n",
       "2495  smart tv tcl s65a series l40s65a led full hd 4...   \n",
       "2496               roku premiere 3920 estandar 4k negro   \n",
       "2497  smart tv lg ai thinq 32lm620bpsa led hd 32 100...   \n",
       "2498          smart tv bgh 32 pne040257 hd led 100 240v   \n",
       "2499  soporte force l74 443 de pared para tv monitor...   \n",
       "\n",
       "                        domain_id  label  \n",
       "0     MLA-STREAMING_MEDIA_DEVICES      6  \n",
       "1                    MLA-SPEAKERS      5  \n",
       "2                 MLA-TELEVISIONS      7  \n",
       "3                 MLA-TELEVISIONS      7  \n",
       "4              MLA-CELL_BATTERIES      0  \n",
       "...                           ...    ...  \n",
       "2495              MLA-TELEVISIONS      7  \n",
       "2496  MLA-STREAMING_MEDIA_DEVICES      6  \n",
       "2497              MLA-TELEVISIONS      7  \n",
       "2498              MLA-TELEVISIONS      7  \n",
       "2499    MLA-TV_AND_MONITOR_MOUNTS      8  \n",
       "\n",
       "[2500 rows x 3 columns]"
      ]
     },
     "execution_count": 192,
     "metadata": {},
     "output_type": "execute_result"
    }
   ],
   "source": [
    "df[df.domain_id=='"
   ]
  },
  {
   "cell_type": "code",
   "execution_count": 129,
   "id": "c5987dbf-e0e3-4dd8-9b89-fe287b78d1b6",
   "metadata": {},
   "outputs": [
    {
     "data": {
      "text/plain": [
       "<AxesSubplot:>"
      ]
     },
     "execution_count": 129,
     "metadata": {},
     "output_type": "execute_result"
    },
    {
     "data": {
      "image/png": "[encoded data removed]",
      "text/plain": [
       "<Figure size 432x288 with 1 Axes>"
      ]
     },
     "metadata": {
      "needs_background": "light"
     },
     "output_type": "display_data"
    }
   ],
   "source": [
    "df.label.hist()"
   ]
  },
  {
   "cell_type": "markdown",
   "id": "1b0b204f-42b8-4c2a-8417-9241321638f1",
   "metadata": {},
   "source": [
    "## Desventajas"
   ]
  },
  {
   "cell_type": "markdown",
   "id": "f1f5de84-472f-421c-9b55-9e6daf78b46e",
   "metadata": {},
   "source": [
    "* No captura semantica\n",
    "* No tiene en cuenta posicion relativa en el texto"
   ]
  },
  {
   "cell_type": "code",
   "execution_count": null,
   "id": "c0cbb6e1-1d37-4efe-ac8a-eb8d7c053486",
   "metadata": {},
   "outputs": [],
   "source": [
    "no me gusta el vino            Neg\n",
    "me gusta el vino pero no tomo  Pos"
   ]
  }
 ],
 "metadata": {
  "kernelspec": {
   "display_name": "Python 3 (ipykernel)",
   "language": "python",
   "name": "python3"
  },
  "language_info": {
   "codemirror_mode": {
    "name": "ipython",
    "version": 3
   },
   "file_extension": ".py",
   "mimetype": "text/x-python",
   "name": "python",
   "nbconvert_exporter": "python",
   "pygments_lexer": "ipython3",
   "version": "3.9.10"
  }
 },
 "nbformat": 4,
 "nbformat_minor": 5
}
