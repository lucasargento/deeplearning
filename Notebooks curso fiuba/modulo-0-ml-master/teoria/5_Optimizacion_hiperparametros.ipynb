{
 "cells": [
  {
   "cell_type": "markdown",
   "id": "873c56a5-6531-482e-b2ac-51d490d012a4",
   "metadata": {
    "tags": []
   },
   "source": [
    "# Optimización de hiperparámetros"
   ]
  },
  {
   "cell_type": "markdown",
   "id": "351de834-ee57-4af2-91d3-0fe42a947530",
   "metadata": {},
   "source": [
    "### Diferencia parámetros e hiperparámetros de un modelo"
   ]
  },
  {
   "cell_type": "markdown",
   "id": "e5a7c499-026f-4e3a-916c-9e9d8a9a2978",
   "metadata": {},
   "source": [
    "<img src=\"images/optimizacion_hiperparametros.png\" alt=\"Drawing\" style=\"width: 700px;\"/>"
   ]
  },
  {
   "cell_type": "markdown",
   "id": "8cfac7f5-104a-4998-b52e-e35b7af6a20a",
   "metadata": {
    "tags": []
   },
   "source": [
    "### Grid search vs Random search"
   ]
  },
  {
   "cell_type": "markdown",
   "id": "86b1ef17-27d3-46ba-98b0-1d0a85a75a6a",
   "metadata": {},
   "source": [
    "- GS: Búsqueda exhaustiva sobre valores de hiperparámetros específicos.\n",
    "- RS: Utiliza combinaciones aleatorias de hiperparámetros. Esto significa que no se prueban todos los valores de los parámetros y, en su lugar, los parámetros se muestrearán con números fijos de iteraciones proporcionados por n iteraciones.\n",
    "\n",
    "\n",
    "¿Cuándo usar c/u?"
   ]
  },
  {
   "cell_type": "markdown",
   "id": "218149f6-3e5b-4358-ab02-7218074860b6",
   "metadata": {},
   "source": [
    "<img src=\"images/grid_search.png\" alt=\"Drawing\" style=\"width: 700px;\"/>"
   ]
  },
  {
   "cell_type": "code",
   "execution_count": null,
   "id": "b2a9ce19-0a3d-41c8-81b6-97d10d848cc9",
   "metadata": {},
   "outputs": [],
   "source": [
    "lr = []\n",
    "l1 = []\n",
    "l2 = []\n",
    "\n",
    "[0.1, 0.12, 0.2, 0.45, 0.48]"
   ]
  },
  {
   "cell_type": "raw",
   "id": "9198d23e-23b4-4da5-a1e0-ae6022f64ac4",
   "metadata": {},
   "source": [
    "CANTIDAD DE EXPERIMENTOS: 10\n",
    "\n",
    "+-----+------+------+-------------+---------+------------+--------------------+\n",
    "| ... |   l1 |   l2 |          lr |    loss |   accuracy | training_iteration |\n",
    "|-----+------+------+-------------+---------+------------+--------------------|\n",
    "| ... |   64 |    4 | 0.00011629  | 1.87273 |     0.244  |                  2 |\n",
    "| ... |   32 |   64 | 0.000339763 | 1.23603 |     0.567  |                  8 |\n",
    "| ... |    8 |   16 | 0.00276249  | 1.1815  |     0.5836 |                 10 |\n",
    "| ... |    4 |   64 | 0.000648721 | 1.31131 |     0.5224 |                  8 |\n",
    "| ... |   32 |   16 | 0.000340753 | 1.26454 |     0.5444 |                  8 |\n",
    "| ... |    8 |    4 | 0.000699775 | 1.99594 |     0.1983 |                  2 |\n",
    "| ... |  256 |    8 | 0.0839654   | 2.3119  |     0.0993 |                  1 |\n",
    "| ... |   16 |  128 | 0.0758154   | 2.33575 |     0.1327 |                  1 |\n",
    "| ... |   16 |    8 | 0.0763312   | 2.31129 |     0.1042 |                  4 |\n",
    "| ... |  128 |   16 | 0.000124903 | 2.26917 |     0.1945 |                  1 |\n",
    "+-----+------+------+-------------+---------+------------+--------------------+\n",
    "\n",
    "\n",
    "Best trial config: {'l1': 8, 'l2': 16, 'lr': 0.00276249}\n",
    "Best trial final validation loss: 1.181501\n",
    "Best trial final validation accuracy: 0.5836\n",
    "Best trial test set accuracy: 0.5806"
   ]
  },
  {
   "cell_type": "code",
   "execution_count": null,
   "id": "fe46e488-03c2-4a40-a83e-aabd45801c7c",
   "metadata": {},
   "outputs": [],
   "source": []
  }
 ],
 "metadata": {
  "kernelspec": {
   "display_name": "Python 3 (ipykernel)",
   "language": "python",
   "name": "python3"
  },
  "language_info": {
   "codemirror_mode": {
    "name": "ipython",
    "version": 3
   },
   "file_extension": ".py",
   "mimetype": "text/x-python",
   "name": "python",
   "nbconvert_exporter": "python",
   "pygments_lexer": "ipython3",
   "version": "3.9.10"
  }
 },
 "nbformat": 4,
 "nbformat_minor": 5
}
