{
 "cells": [
  {
   "cell_type": "markdown",
   "id": "3ce72d3f-925c-4216-9600-1907b6b95baf",
   "metadata": {
    "tags": []
   },
   "source": [
    "# Perceptrón simple: modelo lineal"
   ]
  },
  {
   "cell_type": "markdown",
   "id": "e266c7b4-459a-43d8-89a4-ec4ef3091eff",
   "metadata": {},
   "source": [
    "### Neurona biológica"
   ]
  },
  {
   "cell_type": "markdown",
   "id": "b678e4e2-f0b4-4dd9-aa40-e50d961ad283",
   "metadata": {},
   "source": [
    "* Corteza cerebral: 10^11 neuronas\n",
    "* Neurona biológica: soma, dendritas, axón\n",
    "* Fisiología de la neurona:\n",
    "    * Sinapsis, neurotransmisores\n",
    "    * Despolarización, comportamiento todo/nada\n",
    "    * Propagación del impulso\n",
    "    * Refuerzo de las sinapsis -> aprendizaje"
   ]
  },
  {
   "cell_type": "markdown",
   "id": "a998b1fb-8a9b-43c3-81ab-800e5300d335",
   "metadata": {},
   "source": [
    "<img src=\"images/neurona.png\" alt=\"drawing\" width=\"600\"/>"
   ]
  },
  {
   "cell_type": "markdown",
   "id": "2c5ef5a2-bd0f-47ac-8563-df9f835ea4fc",
   "metadata": {},
   "source": [
    "* Las **dendritas**, que son la vía de entrada de las señales que se combinan en el cuerpo de la neurona. De alguna manera la neurona elabora una señal de salida a partir de ellas. \n",
    "* El **axón**, que es el camino de salida de la señal generada por la neurona. \n",
    "* Las **sinapsis**, que son las unidades funcionales y estructurales elementales que median entre las interacciones de las neuronas. En las terminaciones de las sinapsis se encuentran unas vesículas que contienen unas sustancias químicas llamadas **neurotransmisores**, que ayudan a la propagación de las señales electroquímicas de una neurona a otra.\n",
    "* La neurona es estimulada o excitada a través de sus entradas y cuando se alcanza un cierto umbral, la neurona se activa, pasando una señal hacia el axón."
   ]
  },
  {
   "cell_type": "markdown",
   "id": "4488ddad-607c-4e1c-8a79-a537c0cc5abb",
   "metadata": {},
   "source": [
    "### Modelo simplificado"
   ]
  },
  {
   "cell_type": "markdown",
   "id": "26b3efe7-11af-4b83-b1cc-a348cb081bd1",
   "metadata": {},
   "source": [
    "El perceptrón ocupa un lugar especial en el desarrollo histórico de las redes neuronales: fue la primera red neuronal descrita algorítmicamente. \n",
    "Propuesto por Rosenblatt (1962), un psicólogo, que inspiró a ingenieros, físicos y matemáticos por igual a dedicar su esfuerzo de investigación a diferentes aspectos de las redes neuronales en las décadas de 1960 y 1970."
   ]
  },
  {
   "cell_type": "markdown",
   "id": "6a9a0f40-19ad-4d6b-9e47-4421f7d4a2b6",
   "metadata": {},
   "source": [
    "* Modelo unidimensional.\n",
    "* Este modelo neuronal básico consiste en una combinación lineal de entradas (**x**) con pesos sinápticos (**w**) seguido de una función de activación.\n",
    "* La función de activación \"verifica\" si la ponderación de entradas supera un determinado umbral.\n",
    "* Todas las entradas llegan de forma simultánea."
   ]
  },
  {
   "cell_type": "markdown",
   "id": "81ed423b-a57f-41b9-8b0a-5bdd5f32d510",
   "metadata": {},
   "source": [
    "### Características de la neurona"
   ]
  },
  {
   "cell_type": "markdown",
   "id": "95595522-5be9-45bc-9217-1b0f0a40c72c",
   "metadata": {},
   "source": [
    "* Alta NO linealidad.\n",
    "* Alto paralelismo.\n",
    "* Aprenden a partir de los datos.\n",
    "* Generalización y adaptabilidad.\n",
    "* Robustez."
   ]
  },
  {
   "cell_type": "markdown",
   "id": "64b300b0-dbbc-4466-9871-321dd10e0e34",
   "metadata": {},
   "source": [
    "**Función que mapea un vector de entrada a un valor de salida binario**"
   ]
  },
  {
   "cell_type": "markdown",
   "id": "a2a75c42-6752-484f-a70d-eeb04a258719",
   "metadata": {},
   "source": [
    "<img src=\"images/funcion_perceptron.png\" alt=\"drawing\" width=\"300\"/>"
   ]
  },
  {
   "cell_type": "markdown",
   "id": "9a2a5b8f-310c-4928-8097-5497e9d98813",
   "metadata": {},
   "source": [
    "- Donde *w* es un vector de pesos reales y *w . x* es el producto escalar. *u* es el umbral que representa el grado de inhibición de la neurona. Es un término constante que no depende del valor que tome la entrada.\n",
    "- Espacialmente, el umbral (bias) altera la posición (aunque no la orientación) del límite de decisión. "
   ]
  },
  {
   "cell_type": "markdown",
   "id": "e28ffe68-fa28-4eb1-9a67-7da49ec72fc1",
   "metadata": {},
   "source": [
    "<img src=\"images/perceptron.jpeg\" alt=\"drawing\" width=\"600\"/>"
   ]
  },
  {
   "cell_type": "markdown",
   "id": "a22811da-fe1e-4ece-a73a-4dc5d551277f",
   "metadata": {},
   "source": [
    "- El algoritmo de aprendizaje del perceptrón no termina si el conjunto de aprendizaje no es linealmente separable .\n",
    "- Si los vectores no son linealmente separables, el aprendizaje nunca llegará a un punto en el que todos los vectores se clasifiquen correctamente. El ejemplo más famoso de la incapacidad del perceptrón para resolver problemas con vectores linealmente no separables es el problema o exclusivo booleano"
   ]
  },
  {
   "cell_type": "markdown",
   "id": "a980b94c-2730-477d-9672-1ffa37eee07c",
   "metadata": {},
   "source": [
    "<img src=\"images/problema.png\" alt=\"drawing\" width=\"600\"/>"
   ]
  },
  {
   "cell_type": "markdown",
   "id": "df4ebaf2-4120-4c88-88c3-c6700781cad4",
   "metadata": {},
   "source": [
    "### Aprendizaje"
   ]
  },
  {
   "cell_type": "markdown",
   "id": "2b408ad0-a972-426c-b87f-09f1c67ba2fd",
   "metadata": {},
   "source": [
    "El perceptrón hace uso del aprendizaje Hebbiano, es decir implica que los pesos sean ajustados de manera que cada uno de ellos represente la mejor relación entre ellos posibles (teniendo en cuenta las entradas y salida deseada).\n",
    "\n",
    "∆w<sub>i</sub> , proporcional al producto de una entrada x<sub>i</sub> y de una salida y<sub>i</sub> de la neurona.\n",
    "\n",
    "Es decir, ∆w<sub>i</sub> = εx<sub>i</sub>y<sub>i</sub> donde a 0 < ε < 1 se le llama tasa de aprendizaje"
   ]
  },
  {
   "cell_type": "raw",
   "id": "ac14444d-6083-4b04-93e8-552a758353d3",
   "metadata": {},
   "source": [
    "1. Inicialización al azar\n",
    "\n",
    "2. Para cada ejemplo de datos de entrenamiento x[n] | y[n]\n",
    "    * Activación:\n",
    "        z = V(np.dot(pesos_sinapticos, x) + b) donde V es la funcion de activación utilizada\n",
    "        \n",
    "    * Calcular error\n",
    "        error = y - z\n",
    "        \n",
    "    * Actualización del vector de pesos sinápticos\n",
    "        w(t+1) = w(t) + ε * error * x               # ε es la tasa de aprendizaje\n",
    "        b(t+1) = b(t) + ε * error\n",
    "        \n",
    "3. Volver a 2 hasta satisfacer algún criterio de fin."
   ]
  },
  {
   "cell_type": "markdown",
   "id": "db6c2f76-f469-422d-8179-ceca1ee4181d",
   "metadata": {
    "tags": []
   },
   "source": [
    "### Ejercicio"
   ]
  },
  {
   "cell_type": "markdown",
   "id": "db8b310e-2e8f-4a88-8b0e-f38a9124aa90",
   "metadata": {},
   "source": [
    "Implementar el algoritmo del Perceptron simple en una clase que mínimamente conste de un método para entrenamiento y un método para realizar predicciones a partir de entradas dadas\n"
   ]
  },
  {
   "cell_type": "code",
   "execution_count": null,
   "id": "d333d540-18a1-4238-ab03-dd3dea9eef35",
   "metadata": {},
   "outputs": [],
   "source": [
    "class Perceptron:\n",
    "    \n",
    "    def __init__(self):\n",
    "        pass\n",
    "    \n",
    "    def train(self):\n",
    "        pass\n",
    "    \n",
    "    def predict(self):\n",
    "        pass"
   ]
  },
  {
   "cell_type": "markdown",
   "id": "b4043a96-4b88-4ac0-aa87-efd25b3b9166",
   "metadata": {},
   "source": [
    "**Ejercicio 1:**\n",
    "\n",
    "Entrenar un perceptron simple para intentar resolver los problemas AND, OR y XOR. ¿Qué conclusiones puede sacar? ¿De qué depende el resultado? ¿Funciona para todos los casos? ¿Por qué?"
   ]
  },
  {
   "cell_type": "raw",
   "id": "c31f9909-58fd-421a-82e5-a1a3af577cdc",
   "metadata": {},
   "source": [
    "# AND\n",
    "X_train = np.array([[0,0],[0,1],[1,0],[1,1]])\n",
    "y_train = np.array([[0, 0, 0, 1]]).T\n",
    "\n",
    "# OR\n",
    "X_train = np.array([[0,0],[0,1],[1,0],[1,1]])\n",
    "y_train = np.array([[0, 1, 1, 1]]).T\n",
    "\n",
    "# XOR\n",
    "X_train = np.array([[0,0],[0,1],[1,0],[1,1]])\n",
    "y_train = np.array([[0, 1, 1, 0]]).T"
   ]
  },
  {
   "cell_type": "markdown",
   "id": "0340b47c-2ff8-4ce6-ab56-d13e79efbeff",
   "metadata": {},
   "source": [
    "**Ejercicio 2:**\n",
    "\n",
    "Agregue métodos a la clase Perceptron que permita visualizar la tasa de error por época de entrenamiento y otro que permita visualizar la recta de separación entre clases que se va ajustando durante el entrenamiento."
   ]
  },
  {
   "cell_type": "markdown",
   "id": "d4e47742-7603-4a90-84bb-423d449188aa",
   "metadata": {},
   "source": [
    "Si denotamos por x<sub>1</sub> y x<sub>2</sub> a las dos neuronas de entrada, la operación efectuada por el perceptrón simple consiste en:"
   ]
  },
  {
   "cell_type": "markdown",
   "id": "f99d15c9-3371-48ac-88e5-344b829439b9",
   "metadata": {},
   "source": [
    "<img src=\"images/ecuacion1.png\" alt=\"drawing\" width=\"300\"/>"
   ]
  },
  {
   "cell_type": "markdown",
   "id": "0e7ff8e4-933d-4902-9f4e-ddfbbb1b2e53",
   "metadata": {},
   "source": [
    "Si consideramos x<sub>1</sub> y x<sub>2</sub> situadas sobre los ejes de abcisas y ordenadas respectivamente, la condición"
   ]
  },
  {
   "cell_type": "markdown",
   "id": "af8996d0-91ff-4782-8908-96b184713e9b",
   "metadata": {},
   "source": [
    "<img src=\"images/ecuacion2.png\" alt=\"drawing\" width=\"200\"/>"
   ]
  },
  {
   "cell_type": "markdown",
   "id": "5811459d-fc9a-4bbf-b8e6-3bc3a03f41d4",
   "metadata": {},
   "source": [
    "Esto representa una recta que define la región de decisión determinada por el perceptrón\n",
    "simple. Es por ello que dicho perceptrón simple representa un discriminador lineal,\n",
    "al implementar una condición lineal que separa dos regiones en el espacio que representan dos clases diferentes de patrones."
   ]
  },
  {
   "cell_type": "markdown",
   "id": "12ad2c1d-b767-433e-be40-2861f97dda63",
   "metadata": {},
   "source": [
    "Por tanto, el perceptrón simple presenta grandes limitaciones, ya que tan solo es capaz\n",
    "de representar funciones linealmente separables."
   ]
  },
  {
   "cell_type": "markdown",
   "id": "9157232f-756b-4244-a8d1-176dc21b8ac2",
   "metadata": {},
   "source": [
    "<img src=\"images/region_decision.png\" alt=\"drawing\" width=\"400\"/>"
   ]
  },
  {
   "cell_type": "markdown",
   "id": "640fe8e8-5ebd-4873-8f8e-99ab48cf54ac",
   "metadata": {},
   "source": [
    "### Función de activación"
   ]
  },
  {
   "cell_type": "code",
   "execution_count": null,
   "id": "7e22f1e2-3965-47b6-acca-4af030720ec9",
   "metadata": {},
   "outputs": [],
   "source": [
    "import numpy as np\n",
    "import matplotlib.pyplot as plt\n",
    "%matplotlib inline\n",
    "\n",
    "from IPython import display"
   ]
  },
  {
   "cell_type": "code",
   "execution_count": null,
   "id": "5811e614-8aee-4699-a084-fbc19209fd75",
   "metadata": {},
   "outputs": [],
   "source": [
    "def binary_step(z):\n",
    "    return 1 if z>= 0 else 0"
   ]
  },
  {
   "cell_type": "code",
   "execution_count": null,
   "id": "b3a21cd1-4c47-4ccf-a32f-7a1f90baa309",
   "metadata": {},
   "outputs": [],
   "source": [
    "x = np.arange(-1, 1, 0.01)\n",
    "y = np.vectorize(binary_step)(x)\n",
    "plt.plot(x, y)\n",
    "plt.title('Step binary')\n",
    "plt.xlabel('Input')\n",
    "plt.ylabel('Output');"
   ]
  },
  {
   "cell_type": "markdown",
   "id": "038a09d4-f4d7-4650-959b-e3adba166899",
   "metadata": {},
   "source": [
    "### Inicializar pesos"
   ]
  },
  {
   "cell_type": "code",
   "execution_count": null,
   "id": "0853f7f1-da06-40bc-9aa5-b484a29f3f8a",
   "metadata": {},
   "outputs": [],
   "source": [
    "def inicializar_pesos(in_features):\n",
    "    weights = np.random.rand(in_features)\n",
    "    bias = np.random.rand(1).item()\n",
    "    return weights, bias"
   ]
  },
  {
   "cell_type": "code",
   "execution_count": null,
   "id": "319912c1-f61b-4103-adf7-ff1c219e4e86",
   "metadata": {},
   "outputs": [],
   "source": [
    "in_features = 2\n",
    "w, b = inicializar_pesos(2)\n",
    "assert w.shape[0] == in_features, 'Error'"
   ]
  },
  {
   "cell_type": "code",
   "execution_count": null,
   "id": "791d6231-3692-489d-b886-6771235be4b4",
   "metadata": {},
   "outputs": [],
   "source": [
    "w"
   ]
  },
  {
   "cell_type": "code",
   "execution_count": null,
   "id": "feecbc96-17a6-4cde-81a9-26677b083fc5",
   "metadata": {},
   "outputs": [],
   "source": [
    "b"
   ]
  },
  {
   "cell_type": "markdown",
   "id": "98dcf417-2e02-46a1-a7e2-06a683b3af20",
   "metadata": {},
   "source": [
    "### Optimización"
   ]
  },
  {
   "cell_type": "code",
   "execution_count": null,
   "id": "5bdd8ed8-f9e1-4660-8b28-1af44e1da835",
   "metadata": {},
   "outputs": [],
   "source": [
    "def propagate(x, y, w, b):\n",
    "    \n",
    "    z = binary_step(np.dot(w.T, x) + b)\n",
    "    \n",
    "    error = y - z\n",
    "    \n",
    "    w = w+ 0.1 * error * x.T\n",
    "    b = b + 0.1 * error\n",
    "    \n",
    "    return w, b, z"
   ]
  },
  {
   "cell_type": "code",
   "execution_count": null,
   "id": "918ff4d6-0717-422a-9536-ebb612297f8c",
   "metadata": {},
   "outputs": [],
   "source": [
    "X_train = np.array([[0,0],[0,1],[1,0],[1,1]])\n",
    "y_train = np.array([[0, 0, 0, 1]]).T"
   ]
  },
  {
   "cell_type": "code",
   "execution_count": null,
   "id": "7f64684e-ca1c-4f4a-a80c-17a3c5dcec6e",
   "metadata": {
    "tags": []
   },
   "outputs": [],
   "source": [
    "for i in range(2):\n",
    "    for x, y in zip(X_train, y_train):\n",
    "        w, b, z = propagate(w, b, x, y)\n",
    "        print(\"weights: \", w)\n",
    "        print(\"bias: \", b)\n",
    "        print(\"salida: \", z)"
   ]
  },
  {
   "cell_type": "markdown",
   "id": "6d00d185-051d-4aed-8c6d-f64527713963",
   "metadata": {},
   "source": [
    "### Predict"
   ]
  },
  {
   "cell_type": "code",
   "execution_count": null,
   "id": "9d0884ca-7a46-49c9-8baa-840d0ba63a5d",
   "metadata": {},
   "outputs": [],
   "source": [
    "class Perceptron:\n",
    "    \n",
    "    tasa_error = []\n",
    "    \n",
    "    def __init__(self, in_features:int, n_epochs, learning_rate):\n",
    "        self.in_features = in_features\n",
    "        self.n_epochs = n_epochs\n",
    "        self.learning_rate = learning_rate\n",
    "        \n",
    "    def __inicializar_pesos(self):\n",
    "        self.weights = np.random.rand(self.in_features)\n",
    "        self.bias = np.random.rand(1).item()\n",
    "    \n",
    "    def __propagate(self, x, y):\n",
    "\n",
    "        z = binary_step(np.dot(self.weights.T, x) + self.bias)\n",
    "\n",
    "        error = y - z\n",
    "\n",
    "        self.weights = self.weights + self.learning_rate * error * x.T\n",
    "        self.bias = self.bias + self.learning_rate * error\n",
    "        \n",
    "        return z\n",
    "    \n",
    "    def train(self, X_train, y_train):\n",
    "        self.__inicializar_pesos()\n",
    "        for idx in range(self.n_epochs):\n",
    "            print(f\"Epoca {idx+1}/{self.n_epochs}\")\n",
    "            c_error = 0\n",
    "            for x, y in zip(X_train, y_train):\n",
    "                z = self.__propagate(x, y)\n",
    "                if z != y:\n",
    "                    c_error += 1\n",
    "                display.clear_output(wait=True)\n",
    "                display.display(eq_plot(self.weights[0].item(), self.weights[1].item(), self.bias.item()))\n",
    "                # print(\"weights: \", self.weights)\n",
    "                # print(\"bias: \", self.bias)\n",
    "                # print(\"salida: \", z)\n",
    "            error_epoca = c_error / len(X_train)\n",
    "            self.tasa_error.append(error_epoca)\n",
    "            print(f\"Error: {error_epoca}\")\n",
    "            print(\"----------------------\\n\")\n",
    "        \n",
    "    \n",
    "    def predict(self, x):\n",
    "        return binary_step(np.dot(self.weights.T, x) + self.bias)"
   ]
  },
  {
   "cell_type": "code",
   "execution_count": null,
   "id": "2407145c-b630-4d20-9006-98f98342126f",
   "metadata": {},
   "outputs": [],
   "source": [
    "P = Perceptron(in_features=2, n_epochs=5, learning_rate=0.1)"
   ]
  },
  {
   "cell_type": "code",
   "execution_count": null,
   "id": "b3a22131-5ce7-4598-b1c5-e6c24f451f1c",
   "metadata": {},
   "outputs": [],
   "source": [
    "#P.train(X_train, y_train)"
   ]
  },
  {
   "cell_type": "code",
   "execution_count": null,
   "id": "1e57452d-57f0-4dba-98a2-3c1e9fd27ff6",
   "metadata": {
    "tags": []
   },
   "outputs": [],
   "source": [
    "X_train = np.array([[0,0],[0,1],[1,0],[1,1]])\n",
    "y_train = np.array([[0, 1, 1, 0]]).T\n",
    "P.train(X_train, y_train)"
   ]
  },
  {
   "cell_type": "code",
   "execution_count": null,
   "id": "7ae3d375-80ea-4c74-b8ea-8d3db4d837e6",
   "metadata": {},
   "outputs": [],
   "source": [
    "P.predict([1,0])"
   ]
  },
  {
   "cell_type": "code",
   "execution_count": null,
   "id": "420e648c-29c5-4cd3-8fbd-b52907721ca2",
   "metadata": {},
   "outputs": [],
   "source": [
    "P.predict([1,0])"
   ]
  },
  {
   "cell_type": "code",
   "execution_count": null,
   "id": "75a36390-1790-4a26-9244-4b675f56c828",
   "metadata": {},
   "outputs": [],
   "source": [
    "P.predict([1,0])"
   ]
  },
  {
   "cell_type": "code",
   "execution_count": null,
   "id": "7b7545f4-bff4-4973-9c7b-9a8b299d7c35",
   "metadata": {},
   "outputs": [],
   "source": [
    "P.predict([1,0])"
   ]
  },
  {
   "cell_type": "code",
   "execution_count": null,
   "id": "c2f52919-5082-412d-968b-67ca12ab1a64",
   "metadata": {},
   "outputs": [],
   "source": [
    "P.weights[0].item()"
   ]
  },
  {
   "cell_type": "code",
   "execution_count": null,
   "id": "229d5943-809b-4e00-9002-fef3aa7dbbd9",
   "metadata": {},
   "outputs": [],
   "source": [
    "plt.plot(P.tasa_error)"
   ]
  },
  {
   "cell_type": "code",
   "execution_count": null,
   "id": "0692a24e-24d5-4205-a18f-4d7335883485",
   "metadata": {},
   "outputs": [],
   "source": [
    "def eq_plot(w1, w2, b):\n",
    "    plt.scatter(X_train[:,0], X_train[:,1], c = y_train)\n",
    "    x = np.arange(-0.5, 1.75, 0.25)\n",
    "    y = (-(b / w2) / (b / w1))*x + (-b / w2)\n",
    "    plt.plot(x, y)\n",
    "    plt.xlim([-0.5,1.50])\n",
    "    plt.ylim([-0.5,1.50])\n",
    "    plt.fill_between(x=x,y1=y-200,y2=y+0.01,alpha=.2,color='red')\n",
    "    plt.fill_between(x=x,y1=y+200,y2=y+0.01,alpha=.2,color='yellow')\n",
    "    plt.pause(0.05)\n",
    "    #plt.clf()\n",
    "    plt.show()"
   ]
  },
  {
   "cell_type": "code",
   "execution_count": null,
   "id": "72c1e888-70bb-418e-b300-591f66054bc6",
   "metadata": {},
   "outputs": [],
   "source": []
  }
 ],
 "metadata": {
  "kernelspec": {
   "display_name": "Python 3 (ipykernel)",
   "language": "python",
   "name": "python3"
  },
  "language_info": {
   "codemirror_mode": {
    "name": "ipython",
    "version": 3
   },
   "file_extension": ".py",
   "mimetype": "text/x-python",
   "name": "python",
   "nbconvert_exporter": "python",
   "pygments_lexer": "ipython3",
   "version": "3.9.10"
  }
 },
 "nbformat": 4,
 "nbformat_minor": 5
}
